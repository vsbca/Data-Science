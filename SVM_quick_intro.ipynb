{
  "nbformat": 4,
  "nbformat_minor": 0,
  "metadata": {
    "colab": {
      "name": "SVM_quick_intro.ipynb",
      "provenance": [],
      "authorship_tag": "ABX9TyOYMa5MJiT1UdZSm81WCujg",
      "include_colab_link": true
    },
    "kernelspec": {
      "name": "python3",
      "display_name": "Python 3"
    },
    "language_info": {
      "name": "python"
    }
  },
  "cells": [
    {
      "cell_type": "markdown",
      "metadata": {
        "id": "view-in-github",
        "colab_type": "text"
      },
      "source": [
        "<a href=\"https://colab.research.google.com/github/vsbca/Data-Science/blob/master/SVM_quick_intro.ipynb\" target=\"_parent\"><img src=\"https://colab.research.google.com/assets/colab-badge.svg\" alt=\"Open In Colab\"/></a>"
      ]
    },
    {
      "cell_type": "code",
      "metadata": {
        "colab": {
          "base_uri": "https://localhost:8080/",
          "height": 265
        },
        "id": "S8Q6snJBwdDh",
        "outputId": "3e2ebed2-8c96-4c82-dbd4-080236cb20d5"
      },
      "source": [
        "import numpy as np\n",
        "import matplotlib.pyplot as plt\n",
        "from sklearn import svm\n",
        "\n",
        "from sklearn.datasets.samples_generator import make_blobs\n",
        "\n",
        "#we create 40 separable points\n",
        "X, y = make_blobs(n_samples=40, centers=2, random_state=20)\n",
        "\n",
        "#fit the model, don't regualarize for illustration purposes\n",
        "clf = svm.SVC(kernel='linear', C=1)\n",
        "clf.fit(X,y)\n",
        "\n",
        "#display the data in graph form\n",
        "plt.scatter(X[:,0], X[:,1], c=y, s=30, cmap=plt.cm.Paired)\n",
        "plt.show()\n"
      ],
      "execution_count": 3,
      "outputs": [
        {
          "output_type": "display_data",
          "data": {
            "image/png": "[encoded data removed]",
            "text/plain": [
              "<Figure size 432x288 with 1 Axes>"
            ]
          },
          "metadata": {
            "needs_background": "light"
          }
        }
      ]
    },
    {
      "cell_type": "code",
      "metadata": {
        "id": "MZ2mVoUP0nAc"
      },
      "source": [
        "#Using to predict unknown data\n",
        "newData = [[3,4], [5,6]]\n",
        "print(clf.)"
      ],
      "execution_count": null,
      "outputs": []
    }
  ]
}