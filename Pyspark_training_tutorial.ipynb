{
  "nbformat": 4,
  "nbformat_minor": 0,
  "metadata": {
    "colab": {
      "provenance": [],
      "authorship_tag": "ABX9TyNKzAIxt2DdEj03HwF5cxYY",
      "include_colab_link": true
    },
    "kernelspec": {
      "name": "python3",
      "display_name": "Python 3"
    },
    "language_info": {
      "name": "python"
    }
  },
  "cells": [
    {
      "cell_type": "markdown",
      "metadata": {
        "id": "view-in-github",
        "colab_type": "text"
      },
      "source": [
        "<a href=\"https://colab.research.google.com/github/vsbca/Data-Science/blob/master/Pyspark_training_tutorial.ipynb\" target=\"_parent\"><img src=\"https://colab.research.google.com/assets/colab-badge.svg\" alt=\"Open In Colab\"/></a>"
      ]
    },
    {
      "cell_type": "code",
      "execution_count": 1,
      "metadata": {
        "id": "lyc-b7LZHYef"
      },
      "outputs": [],
      "source": [
        "import pandas as pd\n",
        "import random \n",
        "import numpy as np\n",
        "\n",
        "#https://github.com/MLWhiz/data_science_blogs/blob/master/sparkdf/Working%20With%20Spark.ipynb"
      ]
    },
    {
      "cell_type": "markdown",
      "source": [
        "Colab notebook, need to install pyspark"
      ],
      "metadata": {
        "id": "QEEEtZxtHxd7"
      }
    },
    {
      "cell_type": "code",
      "source": [
        "!pip install pyspark"
      ],
      "metadata": {
        "colab": {
          "base_uri": "https://localhost:8080/"
        },
        "id": "EKS1AiEhHz99",
        "outputId": "e3a3e777-0bb5-454a-b4f4-a56e9e9ea924"
      },
      "execution_count": 3,
      "outputs": [
        {
          "output_type": "stream",
          "name": "stdout",
          "text": [
            "Looking in indexes: https://pypi.org/simple, https://us-python.pkg.dev/colab-wheels/public/simple/\n",
            "Collecting pyspark\n",
            "  Downloading pyspark-3.3.1.tar.gz (281.4 MB)\n",
            "\u001b[K     |████████████████████████████████| 281.4 MB 51 kB/s \n",
            "\u001b[?25hCollecting py4j==0.10.9.5\n",
            "  Downloading py4j-0.10.9.5-py2.py3-none-any.whl (199 kB)\n",
            "\u001b[K     |████████████████████████████████| 199 kB 65.8 MB/s \n",
            "\u001b[?25hBuilding wheels for collected packages: pyspark\n",
            "  Building wheel for pyspark (setup.py) ... \u001b[?25l\u001b[?25hdone\n",
            "  Created wheel for pyspark: filename=pyspark-3.3.1-py2.py3-none-any.whl size=281845513 sha256=2d6fa23a2caaf2017a6efb64231fe389a64ba4585e39958576ecf65a17734f12\n",
            "  Stored in directory: /root/.cache/pip/wheels/42/59/f5/79a5bf931714dcd201b26025347785f087370a10a3329a899c\n",
            "Successfully built pyspark\n",
            "Installing collected packages: py4j, pyspark\n",
            "Successfully installed py4j-0.10.9.5 pyspark-3.3.1\n"
          ]
        }
      ]
    },
    {
      "cell_type": "code",
      "source": [
        "#Importing pyspark now\n",
        "import pyspark\n",
        "from pyspark.sql import SparkSession"
      ],
      "metadata": {
        "id": "BENPMEPjH78x"
      },
      "execution_count": 4,
      "outputs": []
    },
    {
      "cell_type": "code",
      "source": [],
      "metadata": {
        "id": "N2K2P4BbH77z"
      },
      "execution_count": null,
      "outputs": []
    },
    {
      "cell_type": "code",
      "source": [
        "#Create SparkSession\n",
        "spark = SparkSession.builder.master(\"local[1]\")\\\n",
        "                    .appName(\"sparktutorial\")\\\n",
        "                    .getOrCreate()"
      ],
      "metadata": {
        "id": "7b8qBOJCHn_M"
      },
      "execution_count": 5,
      "outputs": []
    },
    {
      "cell_type": "code",
      "source": [
        "!wget https://raw.githubusercontent.com/vsbca/Data-Science/master/Data/coronacases.csv -o coronacases.csv"
      ],
      "metadata": {
        "id": "HpA8VFAWJCO7"
      },
      "execution_count": 9,
      "outputs": []
    },
    {
      "cell_type": "code",
      "source": [
        "!ls -l"
      ],
      "metadata": {
        "colab": {
          "base_uri": "https://localhost:8080/"
        },
        "id": "juDgliw0JG3A",
        "outputId": "79ed579b-2fa4-463f-eb62-2031cc824750"
      },
      "execution_count": 10,
      "outputs": [
        {
          "output_type": "stream",
          "name": "stdout",
          "text": [
            "total 16\n",
            "-rw-r--r-- 1 root root  601 Nov  5 01:38 coronacases.csv\n",
            "-rw-r--r-- 1 root root 7295 Nov  5 01:38 coronacases.csv.1\n",
            "drwxr-xr-x 1 root root 4096 Nov  3 13:31 sample_data\n"
          ]
        }
      ]
    },
    {
      "cell_type": "code",
      "source": [
        "#Load the data from Git\n",
        "df = spark.read.load(\"coronacases.csv.1\", format=\"csv\", sep=\",\", inferSchema=\"true\", header=\"true\")\n"
      ],
      "metadata": {
        "id": "iGLAbKYKIBPN"
      },
      "execution_count": 11,
      "outputs": []
    },
    {
      "cell_type": "code",
      "source": [
        "df.show()"
      ],
      "metadata": {
        "colab": {
          "base_uri": "https://localhost:8080/"
        },
        "id": "urpYVgtKJNhI",
        "outputId": "ce14a243-865c-467e-bea3-91a1fe0a5081"
      },
      "execution_count": 12,
      "outputs": [
        {
          "output_type": "stream",
          "name": "stdout",
          "text": [
            "+-------+--------+---------------+-----+--------------------+---------+---------+----------+\n",
            "|case_id|province|           city|group|      infection_case|confirmed| latitude| longitude|\n",
            "+-------+--------+---------------+-----+--------------------+---------+---------+----------+\n",
            "|1000001|   Seoul|     Yongsan-gu| true|       Itaewon Clubs|       72|37.538621|126.992652|\n",
            "|1000002|   Seoul|        Guro-gu| true| Guro-gu Call Center|       98|37.508163|126.884387|\n",
            "|1000003|   Seoul|  Dongdaemun-gu| true|       Dongan Church|       20|37.592888|127.056766|\n",
            "|1000004|   Seoul|        Guro-gu| true|Manmin Central Ch...|       41|37.481059|126.894343|\n",
            "|1000005|   Seoul|   Eunpyeong-gu| true|Eunpyeong St. Mar...|       14| 37.63369|  126.9165|\n",
            "|1000006|   Seoul|   Seongdong-gu| true|    Seongdong-gu APT|       13| 37.55713|  127.0403|\n",
            "|1000007|   Seoul|      Jongno-gu| true|Jongno Community ...|       10| 37.57681|   127.006|\n",
            "|1000008|   Seoul|        Jung-gu| true|Jung-gu Fashion C...|        7|37.562405|126.984377|\n",
            "|1000009|   Seoul|from other city| true|  Shincheonji Church|        8|        -|         -|\n",
            "|1000010|   Seoul|              -|false|     overseas inflow|      321|        -|         -|\n",
            "|1000011|   Seoul|              -|false|contact with patient|       18|        -|         -|\n",
            "|1000012|   Seoul|              -|false|                 etc|       24|        -|         -|\n",
            "|1100001|   Busan|     Dongnae-gu| true|       Onchun Church|       39| 35.21628|  129.0771|\n",
            "|1100002|   Busan|from other city| true|  Shincheonji Church|       12|        -|         -|\n",
            "|1100003|   Busan|     Suyeong-gu| true|Suyeong-gu Kinder...|        5| 35.16708|  129.1124|\n",
            "|1100004|   Busan|    Haeundae-gu| true|Haeundae-gu Catho...|        6| 35.20599|  129.1256|\n",
            "|1100005|   Busan|         Jin-gu| true|      Jin-gu Academy|        4| 35.17371|  129.0633|\n",
            "|1100006|   Busan|from other city| true|Cheongdo Daenam H...|        1|        -|         -|\n",
            "|1100007|   Busan|              -|false|     overseas inflow|       25|        -|         -|\n",
            "|1100008|   Busan|              -|false|contact with patient|       18|        -|         -|\n",
            "+-------+--------+---------------+-----+--------------------+---------+---------+----------+\n",
            "only showing top 20 rows\n",
            "\n"
          ]
        }
      ]
    },
    {
      "cell_type": "code",
      "source": [
        "#Convert to Pandas\n",
        "df.limit(100).toPandas()\n"
      ],
      "metadata": {
        "colab": {
          "base_uri": "https://localhost:8080/",
          "height": 424
        },
        "id": "4VV6TbZsJYcw",
        "outputId": "b97bf247-e804-4390-d078-c59e7145f328"
      },
      "execution_count": 13,
      "outputs": [
        {
          "output_type": "execute_result",
          "data": {
            "text/plain": [
              "    case_id          province           city  group  \\\n",
              "0   1000001             Seoul     Yongsan-gu   True   \n",
              "1   1000002             Seoul        Guro-gu   True   \n",
              "2   1000003             Seoul  Dongdaemun-gu   True   \n",
              "3   1000004             Seoul        Guro-gu   True   \n",
              "4   1000005             Seoul   Eunpyeong-gu   True   \n",
              "..      ...               ...            ...    ...   \n",
              "95  6000007  Gyeongsangbuk-do     Yechun-gun   True   \n",
              "96  6000008  Gyeongsangbuk-do   Gyeongsan-si   True   \n",
              "97  6000009  Gyeongsangbuk-do   Gyeongsan-si   True   \n",
              "98  6000010  Gyeongsangbuk-do              -  False   \n",
              "99  6000011  Gyeongsangbuk-do              -  False   \n",
              "\n",
              "                           infection_case  confirmed   latitude   longitude  \n",
              "0                           Itaewon Clubs         72  37.538621  126.992652  \n",
              "1                     Guro-gu Call Center         98  37.508163  126.884387  \n",
              "2                           Dongan Church         20  37.592888  127.056766  \n",
              "3                   Manmin Central Church         41  37.481059  126.894343  \n",
              "4           Eunpyeong St. Mary's Hospital         14   37.63369    126.9165  \n",
              "..                                    ...        ...        ...         ...  \n",
              "95                             Yechun-gun         40  36.646845  128.437416  \n",
              "96             Gyeongsan Jeil Silver Town         17   35.84819    128.7621  \n",
              "97  Gyeongsan Cham Joeun Community Center         16   35.82558    128.7373  \n",
              "98                        overseas inflow         10          -           -  \n",
              "99                   contact with patient        192          -           -  \n",
              "\n",
              "[100 rows x 8 columns]"
            ],
            "text/html": [
              "\n",
              "  <div id=\"df-a0c3050c-1f3a-44f4-ba3e-0eee15456bcb\">\n",
              "    <div class=\"colab-df-container\">\n",
              "      <div>\n",
              "<style scoped>\n",
              "    .dataframe tbody tr th:only-of-type {\n",
              "        vertical-align: middle;\n",
              "    }\n",
              "\n",
              "    .dataframe tbody tr th {\n",
              "        vertical-align: top;\n",
              "    }\n",
              "\n",
              "    .dataframe thead th {\n",
              "        text-align: right;\n",
              "    }\n",
              "</style>\n",
              "<table border=\"1\" class=\"dataframe\">\n",
              "  <thead>\n",
              "    <tr style=\"text-align: right;\">\n",
              "      <th></th>\n",
              "      <th>case_id</th>\n",
              "      <th>province</th>\n",
              "      <th>city</th>\n",
              "      <th>group</th>\n",
              "      <th>infection_case</th>\n",
              "      <th>confirmed</th>\n",
              "      <th>latitude</th>\n",
              "      <th>longitude</th>\n",
              "    </tr>\n",
              "  </thead>\n",
              "  <tbody>\n",
              "    <tr>\n",
              "      <th>0</th>\n",
              "      <td>1000001</td>\n",
              "      <td>Seoul</td>\n",
              "      <td>Yongsan-gu</td>\n",
              "      <td>True</td>\n",
              "      <td>Itaewon Clubs</td>\n",
              "      <td>72</td>\n",
              "      <td>37.538621</td>\n",
              "      <td>126.992652</td>\n",
              "    </tr>\n",
              "    <tr>\n",
              "      <th>1</th>\n",
              "      <td>1000002</td>\n",
              "      <td>Seoul</td>\n",
              "      <td>Guro-gu</td>\n",
              "      <td>True</td>\n",
              "      <td>Guro-gu Call Center</td>\n",
              "      <td>98</td>\n",
              "      <td>37.508163</td>\n",
              "      <td>126.884387</td>\n",
              "    </tr>\n",
              "    <tr>\n",
              "      <th>2</th>\n",
              "      <td>1000003</td>\n",
              "      <td>Seoul</td>\n",
              "      <td>Dongdaemun-gu</td>\n",
              "      <td>True</td>\n",
              "      <td>Dongan Church</td>\n",
              "      <td>20</td>\n",
              "      <td>37.592888</td>\n",
              "      <td>127.056766</td>\n",
              "    </tr>\n",
              "    <tr>\n",
              "      <th>3</th>\n",
              "      <td>1000004</td>\n",
              "      <td>Seoul</td>\n",
              "      <td>Guro-gu</td>\n",
              "      <td>True</td>\n",
              "      <td>Manmin Central Church</td>\n",
              "      <td>41</td>\n",
              "      <td>37.481059</td>\n",
              "      <td>126.894343</td>\n",
              "    </tr>\n",
              "    <tr>\n",
              "      <th>4</th>\n",
              "      <td>1000005</td>\n",
              "      <td>Seoul</td>\n",
              "      <td>Eunpyeong-gu</td>\n",
              "      <td>True</td>\n",
              "      <td>Eunpyeong St. Mary's Hospital</td>\n",
              "      <td>14</td>\n",
              "      <td>37.63369</td>\n",
              "      <td>126.9165</td>\n",
              "    </tr>\n",
              "    <tr>\n",
              "      <th>...</th>\n",
              "      <td>...</td>\n",
              "      <td>...</td>\n",
              "      <td>...</td>\n",
              "      <td>...</td>\n",
              "      <td>...</td>\n",
              "      <td>...</td>\n",
              "      <td>...</td>\n",
              "      <td>...</td>\n",
              "    </tr>\n",
              "    <tr>\n",
              "      <th>95</th>\n",
              "      <td>6000007</td>\n",
              "      <td>Gyeongsangbuk-do</td>\n",
              "      <td>Yechun-gun</td>\n",
              "      <td>True</td>\n",
              "      <td>Yechun-gun</td>\n",
              "      <td>40</td>\n",
              "      <td>36.646845</td>\n",
              "      <td>128.437416</td>\n",
              "    </tr>\n",
              "    <tr>\n",
              "      <th>96</th>\n",
              "      <td>6000008</td>\n",
              "      <td>Gyeongsangbuk-do</td>\n",
              "      <td>Gyeongsan-si</td>\n",
              "      <td>True</td>\n",
              "      <td>Gyeongsan Jeil Silver Town</td>\n",
              "      <td>17</td>\n",
              "      <td>35.84819</td>\n",
              "      <td>128.7621</td>\n",
              "    </tr>\n",
              "    <tr>\n",
              "      <th>97</th>\n",
              "      <td>6000009</td>\n",
              "      <td>Gyeongsangbuk-do</td>\n",
              "      <td>Gyeongsan-si</td>\n",
              "      <td>True</td>\n",
              "      <td>Gyeongsan Cham Joeun Community Center</td>\n",
              "      <td>16</td>\n",
              "      <td>35.82558</td>\n",
              "      <td>128.7373</td>\n",
              "    </tr>\n",
              "    <tr>\n",
              "      <th>98</th>\n",
              "      <td>6000010</td>\n",
              "      <td>Gyeongsangbuk-do</td>\n",
              "      <td>-</td>\n",
              "      <td>False</td>\n",
              "      <td>overseas inflow</td>\n",
              "      <td>10</td>\n",
              "      <td>-</td>\n",
              "      <td>-</td>\n",
              "    </tr>\n",
              "    <tr>\n",
              "      <th>99</th>\n",
              "      <td>6000011</td>\n",
              "      <td>Gyeongsangbuk-do</td>\n",
              "      <td>-</td>\n",
              "      <td>False</td>\n",
              "      <td>contact with patient</td>\n",
              "      <td>192</td>\n",
              "      <td>-</td>\n",
              "      <td>-</td>\n",
              "    </tr>\n",
              "  </tbody>\n",
              "</table>\n",
              "<p>100 rows × 8 columns</p>\n",
              "</div>\n",
              "      <button class=\"colab-df-convert\" onclick=\"convertToInteractive('df-a0c3050c-1f3a-44f4-ba3e-0eee15456bcb')\"\n",
              "              title=\"Convert this dataframe to an interactive table.\"\n",
              "              style=\"display:none;\">\n",
              "        \n",
              "  <svg xmlns=\"http://www.w3.org/2000/svg\" height=\"24px\"viewBox=\"0 0 24 24\"\n",
              "       width=\"24px\">\n",
              "    <path d=\"M0 0h24v24H0V0z\" fill=\"none\"/>\n",
              "    <path d=\"M18.56 5.44l.94 2.06.94-2.06 2.06-.94-2.06-.94-.94-2.06-.94 2.06-2.06.94zm-11 1L8.5 8.5l.94-2.06 2.06-.94-2.06-.94L8.5 2.5l-.94 2.06-2.06.94zm10 10l.94 2.06.94-2.06 2.06-.94-2.06-.94-.94-2.06-.94 2.06-2.06.94z\"/><path d=\"M17.41 7.96l-1.37-1.37c-.4-.4-.92-.59-1.43-.59-.52 0-1.04.2-1.43.59L10.3 9.45l-7.72 7.72c-.78.78-.78 2.05 0 2.83L4 21.41c.39.39.9.59 1.41.59.51 0 1.02-.2 1.41-.59l7.78-7.78 2.81-2.81c.8-.78.8-2.07 0-2.86zM5.41 20L4 18.59l7.72-7.72 1.47 1.35L5.41 20z\"/>\n",
              "  </svg>\n",
              "      </button>\n",
              "      \n",
              "  <style>\n",
              "    .colab-df-container {\n",
              "      display:flex;\n",
              "      flex-wrap:wrap;\n",
              "      gap: 12px;\n",
              "    }\n",
              "\n",
              "    .colab-df-convert {\n",
              "      background-color: #E8F0FE;\n",
              "      border: none;\n",
              "      border-radius: 50%;\n",
              "      cursor: pointer;\n",
              "      display: none;\n",
              "      fill: #1967D2;\n",
              "      height: 32px;\n",
              "      padding: 0 0 0 0;\n",
              "      width: 32px;\n",
              "    }\n",
              "\n",
              "    .colab-df-convert:hover {\n",
              "      background-color: #E2EBFA;\n",
              "      box-shadow: 0px 1px 2px rgba(60, 64, 67, 0.3), 0px 1px 3px 1px rgba(60, 64, 67, 0.15);\n",
              "      fill: #174EA6;\n",
              "    }\n",
              "\n",
              "    [theme=dark] .colab-df-convert {\n",
              "      background-color: #3B4455;\n",
              "      fill: #D2E3FC;\n",
              "    }\n",
              "\n",
              "    [theme=dark] .colab-df-convert:hover {\n",
              "      background-color: #434B5C;\n",
              "      box-shadow: 0px 1px 3px 1px rgba(0, 0, 0, 0.15);\n",
              "      filter: drop-shadow(0px 1px 2px rgba(0, 0, 0, 0.3));\n",
              "      fill: #FFFFFF;\n",
              "    }\n",
              "  </style>\n",
              "\n",
              "      <script>\n",
              "        const buttonEl =\n",
              "          document.querySelector('#df-a0c3050c-1f3a-44f4-ba3e-0eee15456bcb button.colab-df-convert');\n",
              "        buttonEl.style.display =\n",
              "          google.colab.kernel.accessAllowed ? 'block' : 'none';\n",
              "\n",
              "        async function convertToInteractive(key) {\n",
              "          const element = document.querySelector('#df-a0c3050c-1f3a-44f4-ba3e-0eee15456bcb');\n",
              "          const dataTable =\n",
              "            await google.colab.kernel.invokeFunction('convertToInteractive',\n",
              "                                                     [key], {});\n",
              "          if (!dataTable) return;\n",
              "\n",
              "          const docLinkHtml = 'Like what you see? Visit the ' +\n",
              "            '<a target=\"_blank\" href=https://colab.research.google.com/notebooks/data_table.ipynb>data table notebook</a>'\n",
              "            + ' to learn more about interactive tables.';\n",
              "          element.innerHTML = '';\n",
              "          dataTable['output_type'] = 'display_data';\n",
              "          await google.colab.output.renderOutput(dataTable, element);\n",
              "          const docLink = document.createElement('div');\n",
              "          docLink.innerHTML = docLinkHtml;\n",
              "          element.appendChild(docLink);\n",
              "        }\n",
              "      </script>\n",
              "    </div>\n",
              "  </div>\n",
              "  "
            ]
          },
          "metadata": {},
          "execution_count": 13
        }
      ]
    },
    {
      "cell_type": "markdown",
      "source": [
        "#Change column names"
      ],
      "metadata": {
        "id": "yhGmFco3JfFc"
      }
    },
    {
      "cell_type": "code",
      "source": [
        "df = df.withColumnRenamed(\"province\", \"state\")"
      ],
      "metadata": {
        "id": "f2lAyibHJic0"
      },
      "execution_count": 14,
      "outputs": []
    },
    {
      "cell_type": "code",
      "source": [
        "df.show()"
      ],
      "metadata": {
        "colab": {
          "base_uri": "https://localhost:8080/"
        },
        "id": "nD77m_LiJ0z4",
        "outputId": "e61716c3-4f8b-4c05-f354-633422e4561d"
      },
      "execution_count": 15,
      "outputs": [
        {
          "output_type": "stream",
          "name": "stdout",
          "text": [
            "+-------+-----+---------------+-----+--------------------+---------+---------+----------+\n",
            "|case_id|state|           city|group|      infection_case|confirmed| latitude| longitude|\n",
            "+-------+-----+---------------+-----+--------------------+---------+---------+----------+\n",
            "|1000001|Seoul|     Yongsan-gu| true|       Itaewon Clubs|       72|37.538621|126.992652|\n",
            "|1000002|Seoul|        Guro-gu| true| Guro-gu Call Center|       98|37.508163|126.884387|\n",
            "|1000003|Seoul|  Dongdaemun-gu| true|       Dongan Church|       20|37.592888|127.056766|\n",
            "|1000004|Seoul|        Guro-gu| true|Manmin Central Ch...|       41|37.481059|126.894343|\n",
            "|1000005|Seoul|   Eunpyeong-gu| true|Eunpyeong St. Mar...|       14| 37.63369|  126.9165|\n",
            "|1000006|Seoul|   Seongdong-gu| true|    Seongdong-gu APT|       13| 37.55713|  127.0403|\n",
            "|1000007|Seoul|      Jongno-gu| true|Jongno Community ...|       10| 37.57681|   127.006|\n",
            "|1000008|Seoul|        Jung-gu| true|Jung-gu Fashion C...|        7|37.562405|126.984377|\n",
            "|1000009|Seoul|from other city| true|  Shincheonji Church|        8|        -|         -|\n",
            "|1000010|Seoul|              -|false|     overseas inflow|      321|        -|         -|\n",
            "|1000011|Seoul|              -|false|contact with patient|       18|        -|         -|\n",
            "|1000012|Seoul|              -|false|                 etc|       24|        -|         -|\n",
            "|1100001|Busan|     Dongnae-gu| true|       Onchun Church|       39| 35.21628|  129.0771|\n",
            "|1100002|Busan|from other city| true|  Shincheonji Church|       12|        -|         -|\n",
            "|1100003|Busan|     Suyeong-gu| true|Suyeong-gu Kinder...|        5| 35.16708|  129.1124|\n",
            "|1100004|Busan|    Haeundae-gu| true|Haeundae-gu Catho...|        6| 35.20599|  129.1256|\n",
            "|1100005|Busan|         Jin-gu| true|      Jin-gu Academy|        4| 35.17371|  129.0633|\n",
            "|1100006|Busan|from other city| true|Cheongdo Daenam H...|        1|        -|         -|\n",
            "|1100007|Busan|              -|false|     overseas inflow|       25|        -|         -|\n",
            "|1100008|Busan|              -|false|contact with patient|       18|        -|         -|\n",
            "+-------+-----+---------------+-----+--------------------+---------+---------+----------+\n",
            "only showing top 20 rows\n",
            "\n"
          ]
        }
      ]
    },
    {
      "cell_type": "code",
      "source": [
        "df = df.select('state', 'city', 'infection_case', 'confirmed')\n",
        "df.show()"
      ],
      "metadata": {
        "colab": {
          "base_uri": "https://localhost:8080/"
        },
        "id": "dBuy8GFXKGIi",
        "outputId": "ba71171a-33f8-400e-db1c-057da52c7374"
      },
      "execution_count": 16,
      "outputs": [
        {
          "output_type": "stream",
          "name": "stdout",
          "text": [
            "+-----+---------------+--------------------+---------+\n",
            "|state|           city|      infection_case|confirmed|\n",
            "+-----+---------------+--------------------+---------+\n",
            "|Seoul|     Yongsan-gu|       Itaewon Clubs|       72|\n",
            "|Seoul|        Guro-gu| Guro-gu Call Center|       98|\n",
            "|Seoul|  Dongdaemun-gu|       Dongan Church|       20|\n",
            "|Seoul|        Guro-gu|Manmin Central Ch...|       41|\n",
            "|Seoul|   Eunpyeong-gu|Eunpyeong St. Mar...|       14|\n",
            "|Seoul|   Seongdong-gu|    Seongdong-gu APT|       13|\n",
            "|Seoul|      Jongno-gu|Jongno Community ...|       10|\n",
            "|Seoul|        Jung-gu|Jung-gu Fashion C...|        7|\n",
            "|Seoul|from other city|  Shincheonji Church|        8|\n",
            "|Seoul|              -|     overseas inflow|      321|\n",
            "|Seoul|              -|contact with patient|       18|\n",
            "|Seoul|              -|                 etc|       24|\n",
            "|Busan|     Dongnae-gu|       Onchun Church|       39|\n",
            "|Busan|from other city|  Shincheonji Church|       12|\n",
            "|Busan|     Suyeong-gu|Suyeong-gu Kinder...|        5|\n",
            "|Busan|    Haeundae-gu|Haeundae-gu Catho...|        6|\n",
            "|Busan|         Jin-gu|      Jin-gu Academy|        4|\n",
            "|Busan|from other city|Cheongdo Daenam H...|        1|\n",
            "|Busan|              -|     overseas inflow|       25|\n",
            "|Busan|              -|contact with patient|       18|\n",
            "+-----+---------------+--------------------+---------+\n",
            "only showing top 20 rows\n",
            "\n"
          ]
        }
      ]
    },
    {
      "cell_type": "code",
      "source": [
        "df.sort(\"confirmed\").show()"
      ],
      "metadata": {
        "colab": {
          "base_uri": "https://localhost:8080/"
        },
        "id": "Lts7vujuKRBN",
        "outputId": "73b5c63c-7733-47bb-e883-8bf31f63d38f"
      },
      "execution_count": 17,
      "outputs": [
        {
          "output_type": "stream",
          "name": "stdout",
          "text": [
            "+-----------------+---------------+--------------------+---------+\n",
            "|            state|           city|      infection_case|confirmed|\n",
            "+-----------------+---------------+--------------------+---------+\n",
            "|          Jeju-do|              -|contact with patient|        0|\n",
            "|       Gangwon-do|              -|contact with patient|        0|\n",
            "|          Gwangju|              -|                 etc|        0|\n",
            "|            Busan|from other city|Cheongdo Daenam H...|        1|\n",
            "|          Gwangju|              -|contact with patient|        1|\n",
            "|          Jeju-do|from other city|       Itaewon Clubs|        1|\n",
            "|           Sejong|from other city|  Shincheonji Church|        1|\n",
            "|           Sejong|              -|                 etc|        1|\n",
            "|Chungcheongnam-do|              -|contact with patient|        1|\n",
            "|     Jeollabuk-do|from other city|  Shincheonji Church|        1|\n",
            "|     Jeollanam-do|from other city|  Shincheonji Church|        1|\n",
            "|          Incheon|from other city|  Shincheonji Church|        2|\n",
            "|     Jeollanam-do|       Muan-gun|Manmin Central Ch...|        2|\n",
            "|          Daejeon|from other city|  Shincheonji Church|        2|\n",
            "|     Jeollanam-do|              -|contact with patient|        2|\n",
            "|            Daegu|from other city|Cheongdo Daenam H...|        2|\n",
            "|          Daejeon|from other city|Seosan-si Laboratory|        2|\n",
            "| Gyeongsangnam-do|from other city|       Onchun Church|        2|\n",
            "|          Daejeon|         Seo-gu|Korea Forest Engi...|        3|\n",
            "|           Sejong|              -|     overseas inflow|        3|\n",
            "+-----------------+---------------+--------------------+---------+\n",
            "only showing top 20 rows\n",
            "\n"
          ]
        }
      ]
    },
    {
      "cell_type": "code",
      "source": [
        "#descending sort\n",
        "from pyspark.sql import functions as F\n",
        "df.sort(F.desc(\"confirmed\")).show()"
      ],
      "metadata": {
        "colab": {
          "base_uri": "https://localhost:8080/"
        },
        "id": "IvT2YYwPKW-v",
        "outputId": "8f096b41-1ae1-4df7-afef-f69e93445917"
      },
      "execution_count": 18,
      "outputs": [
        {
          "output_type": "stream",
          "name": "stdout",
          "text": [
            "+-----------------+---------------+--------------------+---------+\n",
            "|            state|           city|      infection_case|confirmed|\n",
            "+-----------------+---------------+--------------------+---------+\n",
            "|            Daegu|         Nam-gu|  Shincheonji Church|     4510|\n",
            "|            Daegu|              -|contact with patient|      929|\n",
            "|            Daegu|              -|                 etc|      724|\n",
            "| Gyeongsangbuk-do|from other city|  Shincheonji Church|      566|\n",
            "|            Seoul|              -|     overseas inflow|      321|\n",
            "|      Gyeonggi-do|              -|     overseas inflow|      225|\n",
            "|            Daegu|   Dalseong-gun|Second Mi-Ju Hosp...|      196|\n",
            "| Gyeongsangbuk-do|              -|contact with patient|      192|\n",
            "| Gyeongsangbuk-do|              -|                 etc|      134|\n",
            "|            Daegu|         Seo-gu|Hansarang Convale...|      128|\n",
            "| Gyeongsangbuk-do|   Cheongdo-gun|Cheongdo Daenam H...|      120|\n",
            "|Chungcheongnam-do|     Cheonan-si|gym facility in C...|      103|\n",
            "|            Daegu|   Dalseong-gun|Daesil Convalesce...|      100|\n",
            "|            Seoul|        Guro-gu| Guro-gu Call Center|       98|\n",
            "|            Seoul|     Yongsan-gu|       Itaewon Clubs|       72|\n",
            "|      Gyeonggi-do|    Seongnam-si|River of Grace Co...|       72|\n",
            "| Gyeongsangbuk-do|    Bonghwa-gun|Bonghwa Pureun Nu...|       68|\n",
            "| Gyeongsangbuk-do|   Gyeongsan-si|Gyeongsan Seorin ...|       66|\n",
            "|      Gyeonggi-do|              -|contact with patient|       57|\n",
            "|      Gyeonggi-do|   Uijeongbu-si|Uijeongbu St. Mar...|       50|\n",
            "+-----------------+---------------+--------------------+---------+\n",
            "only showing top 20 rows\n",
            "\n"
          ]
        }
      ]
    },
    {
      "cell_type": "code",
      "source": [
        "df.dtypes"
      ],
      "metadata": {
        "colab": {
          "base_uri": "https://localhost:8080/"
        },
        "id": "5L4dWIESLNQU",
        "outputId": "5d08102d-d377-4055-b978-f583ff744b1d"
      },
      "execution_count": 19,
      "outputs": [
        {
          "output_type": "execute_result",
          "data": {
            "text/plain": [
              "[('state', 'string'),\n",
              " ('city', 'string'),\n",
              " ('infection_case', 'string'),\n",
              " ('confirmed', 'int')]"
            ]
          },
          "metadata": {},
          "execution_count": 19
        }
      ]
    },
    {
      "cell_type": "code",
      "source": [],
      "metadata": {
        "id": "crQw9Bk3LNPk"
      },
      "execution_count": null,
      "outputs": []
    },
    {
      "cell_type": "markdown",
      "source": [
        "##Cast"
      ],
      "metadata": {
        "id": "JElwQzykKkNl"
      }
    },
    {
      "cell_type": "code",
      "source": [
        "from pyspark.sql.types import IntegerType, StringType, DoubleType\n",
        "df = df.withColumn('confirmed', F.col('confirmed').cast(IntegerType()))\n",
        "\n",
        "df = df.withColumn('city', F.col('city').cast(StringType()))\n",
        "df.dtypes"
      ],
      "metadata": {
        "colab": {
          "base_uri": "https://localhost:8080/"
        },
        "id": "udstLVk0Kmzn",
        "outputId": "8768715c-ca4b-4be4-f389-e1f64a58f495"
      },
      "execution_count": 20,
      "outputs": [
        {
          "output_type": "execute_result",
          "data": {
            "text/plain": [
              "[('state', 'string'),\n",
              " ('city', 'string'),\n",
              " ('infection_case', 'string'),\n",
              " ('confirmed', 'int')]"
            ]
          },
          "metadata": {},
          "execution_count": 20
        }
      ]
    },
    {
      "cell_type": "markdown",
      "source": [
        "##Filter"
      ],
      "metadata": {
        "id": "tpzmGSZCKkMp"
      }
    },
    {
      "cell_type": "code",
      "source": [
        "df.filter((df.confirmed > 10) & (df.state == \"Gyeongsangbuk-do\")).show()"
      ],
      "metadata": {
        "colab": {
          "base_uri": "https://localhost:8080/"
        },
        "id": "Q95oc3xJU9jA",
        "outputId": "7949e7fc-db23-47ca-86c4-366ae8e2b975"
      },
      "execution_count": 21,
      "outputs": [
        {
          "output_type": "stream",
          "name": "stdout",
          "text": [
            "+----------------+---------------+--------------------+---------+\n",
            "|           state|           city|      infection_case|confirmed|\n",
            "+----------------+---------------+--------------------+---------+\n",
            "|Gyeongsangbuk-do|from other city|  Shincheonji Church|      566|\n",
            "|Gyeongsangbuk-do|   Cheongdo-gun|Cheongdo Daenam H...|      120|\n",
            "|Gyeongsangbuk-do|    Bonghwa-gun|Bonghwa Pureun Nu...|       68|\n",
            "|Gyeongsangbuk-do|from other city|Pilgrimage to Israel|       49|\n",
            "|Gyeongsangbuk-do|    Chilgok-gun|       Milal Shelter|       36|\n",
            "|Gyeongsangbuk-do|   Gyeongsan-si|Gyeongsan Seorin ...|       66|\n",
            "|Gyeongsangbuk-do|     Yechun-gun|          Yechun-gun|       40|\n",
            "|Gyeongsangbuk-do|   Gyeongsan-si|Gyeongsan Jeil Si...|       17|\n",
            "|Gyeongsangbuk-do|   Gyeongsan-si|Gyeongsan Cham Jo...|       16|\n",
            "|Gyeongsangbuk-do|              -|contact with patient|      192|\n",
            "|Gyeongsangbuk-do|              -|                 etc|      134|\n",
            "+----------------+---------------+--------------------+---------+\n",
            "\n"
          ]
        }
      ]
    },
    {
      "cell_type": "markdown",
      "source": [
        "#GroupBy"
      ],
      "metadata": {
        "id": "FURjK1mlVVCn"
      }
    },
    {
      "cell_type": "code",
      "source": [
        "from pyspark.sql import functions as F\n",
        "df.groupBy(['state', 'city']).agg(F.sum(\"confirmed\"), F.max(\"confirmed\")).show()\n"
      ],
      "metadata": {
        "colab": {
          "base_uri": "https://localhost:8080/"
        },
        "id": "2rJK0QfQVYZI",
        "outputId": "4672e385-cfd6-4cfa-c72a-996b57f1ffc6"
      },
      "execution_count": 22,
      "outputs": [
        {
          "output_type": "stream",
          "name": "stdout",
          "text": [
            "+----------------+---------------+--------------+--------------+\n",
            "|           state|           city|sum(confirmed)|max(confirmed)|\n",
            "+----------------+---------------+--------------+--------------+\n",
            "|Gyeongsangnam-do|       Jinju-si|            10|            10|\n",
            "|           Seoul|        Guro-gu|           139|            98|\n",
            "|         Daejeon|              -|            27|            10|\n",
            "|    Jeollabuk-do|from other city|             1|             1|\n",
            "|Gyeongsangnam-do|Changnyeong-gun|             7|             7|\n",
            "|           Seoul|              -|           363|           321|\n",
            "|         Jeju-do|from other city|             1|             1|\n",
            "|Gyeongsangbuk-do|              -|           336|           192|\n",
            "|Gyeongsangnam-do|   Geochang-gun|            18|            10|\n",
            "|         Incheon|from other city|            22|            20|\n",
            "|           Busan|              -|            72|            29|\n",
            "|           Daegu|         Seo-gu|           128|           128|\n",
            "|           Busan|     Suyeong-gu|             5|             5|\n",
            "|     Gyeonggi-do|   Uijeongbu-si|            50|            50|\n",
            "|           Seoul|     Yongsan-gu|            72|            72|\n",
            "|           Daegu|              -|          1677|           929|\n",
            "|     Gyeonggi-do|    Seongnam-si|            94|            72|\n",
            "|Gyeongsangnam-do|from other city|            34|            32|\n",
            "|     Gyeonggi-do|       Suwon-si|            10|            10|\n",
            "|         Daejeon|from other city|             4|             2|\n",
            "+----------------+---------------+--------------+--------------+\n",
            "only showing top 20 rows\n",
            "\n"
          ]
        }
      ]
    },
    {
      "cell_type": "code",
      "source": [
        "#Change the name of the column in the GroupBy\n",
        "df.groupBy(['state', 'city']).agg(F.sum(\"confirmed\").alias(\"TotalConfirmed\"), F.max(\"confirmed\")).show()"
      ],
      "metadata": {
        "colab": {
          "base_uri": "https://localhost:8080/"
        },
        "id": "xkdhyFWIVTrK",
        "outputId": "bcb415e5-ae91-49f6-f468-1725590d6bc4"
      },
      "execution_count": 25,
      "outputs": [
        {
          "output_type": "stream",
          "name": "stdout",
          "text": [
            "+----------------+---------------+--------------+--------------+\n",
            "|           state|           city|TotalConfirmed|max(confirmed)|\n",
            "+----------------+---------------+--------------+--------------+\n",
            "|Gyeongsangnam-do|       Jinju-si|            10|            10|\n",
            "|           Seoul|        Guro-gu|           139|            98|\n",
            "|         Daejeon|              -|            27|            10|\n",
            "|    Jeollabuk-do|from other city|             1|             1|\n",
            "|Gyeongsangnam-do|Changnyeong-gun|             7|             7|\n",
            "|           Seoul|              -|           363|           321|\n",
            "|         Jeju-do|from other city|             1|             1|\n",
            "|Gyeongsangbuk-do|              -|           336|           192|\n",
            "|Gyeongsangnam-do|   Geochang-gun|            18|            10|\n",
            "|         Incheon|from other city|            22|            20|\n",
            "|           Busan|              -|            72|            29|\n",
            "|           Daegu|         Seo-gu|           128|           128|\n",
            "|           Busan|     Suyeong-gu|             5|             5|\n",
            "|     Gyeonggi-do|   Uijeongbu-si|            50|            50|\n",
            "|           Seoul|     Yongsan-gu|            72|            72|\n",
            "|           Daegu|              -|          1677|           929|\n",
            "|     Gyeonggi-do|    Seongnam-si|            94|            72|\n",
            "|Gyeongsangnam-do|from other city|            34|            32|\n",
            "|     Gyeonggi-do|       Suwon-si|            10|            10|\n",
            "|         Daejeon|from other city|             4|             2|\n",
            "+----------------+---------------+--------------+--------------+\n",
            "only showing top 20 rows\n",
            "\n"
          ]
        }
      ]
    },
    {
      "cell_type": "code",
      "source": [
        "df.groupBy([\"state\",\"city\"]).agg(\n",
        "    F.sum(\"confirmed\").alias(\"TotalConfirmed\"),\\\n",
        "    F.max(\"confirmed\").alias(\"MaxFromOneConfirmedCase\")\\\n",
        "    ).show()"
      ],
      "metadata": {
        "colab": {
          "base_uri": "https://localhost:8080/"
        },
        "id": "sQ4zcIvSc7EC",
        "outputId": "3e3c5e5f-e987-41e9-84a0-19a5f27a73a3"
      },
      "execution_count": 26,
      "outputs": [
        {
          "output_type": "stream",
          "name": "stdout",
          "text": [
            "+----------------+---------------+--------------+-----------------------+\n",
            "|           state|           city|TotalConfirmed|MaxFromOneConfirmedCase|\n",
            "+----------------+---------------+--------------+-----------------------+\n",
            "|Gyeongsangnam-do|       Jinju-si|            10|                     10|\n",
            "|           Seoul|        Guro-gu|           139|                     98|\n",
            "|         Daejeon|              -|            27|                     10|\n",
            "|    Jeollabuk-do|from other city|             1|                      1|\n",
            "|Gyeongsangnam-do|Changnyeong-gun|             7|                      7|\n",
            "|           Seoul|              -|           363|                    321|\n",
            "|         Jeju-do|from other city|             1|                      1|\n",
            "|Gyeongsangbuk-do|              -|           336|                    192|\n",
            "|Gyeongsangnam-do|   Geochang-gun|            18|                     10|\n",
            "|         Incheon|from other city|            22|                     20|\n",
            "|           Busan|              -|            72|                     29|\n",
            "|           Daegu|         Seo-gu|           128|                    128|\n",
            "|           Busan|     Suyeong-gu|             5|                      5|\n",
            "|     Gyeonggi-do|   Uijeongbu-si|            50|                     50|\n",
            "|           Seoul|     Yongsan-gu|            72|                     72|\n",
            "|           Daegu|              -|          1677|                    929|\n",
            "|     Gyeonggi-do|    Seongnam-si|            94|                     72|\n",
            "|Gyeongsangnam-do|from other city|            34|                     32|\n",
            "|     Gyeonggi-do|       Suwon-si|            10|                     10|\n",
            "|         Daejeon|from other city|             4|                      2|\n",
            "+----------------+---------------+--------------+-----------------------+\n",
            "only showing top 20 rows\n",
            "\n"
          ]
        }
      ]
    }
  ]
}