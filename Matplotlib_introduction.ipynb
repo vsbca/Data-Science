{
  "nbformat": 4,
  "nbformat_minor": 0,
  "metadata": {
    "colab": {
      "name": "Matplotlib_introduction",
      "provenance": [],
      "authorship_tag": "ABX9TyOL55p1hoI+nv+IZ72/lMs7",
      "include_colab_link": true
    },
    "kernelspec": {
      "name": "python3",
      "display_name": "Python 3"
    },
    "language_info": {
      "name": "python"
    }
  },
  "cells": [
    {
      "cell_type": "markdown",
      "metadata": {
        "id": "view-in-github",
        "colab_type": "text"
      },
      "source": [
        "<a href=\"https://colab.research.google.com/github/vsbca/Data-Science/blob/master/Matplotlib_introduction.ipynb\" target=\"_parent\"><img src=\"https://colab.research.google.com/assets/colab-badge.svg\" alt=\"Open In Colab\"/></a>"
      ]
    },
    {
      "cell_type": "code",
      "metadata": {
        "id": "nbzHJnZjE8LY"
      },
      "source": [
        "import matplotlib.pyplot as plt\n",
        "from random import choice\n",
        "%matplotlib inline"
      ],
      "execution_count": 1,
      "outputs": []
    }
  ]
}