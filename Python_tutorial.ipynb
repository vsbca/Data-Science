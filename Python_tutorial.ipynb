{
  "nbformat": 4,
  "nbformat_minor": 0,
  "metadata": {
    "colab": {
      "name": "Python_tutorial.ipynb",
      "provenance": [],
      "collapsed_sections": [],
      "authorship_tag": "ABX9TyP5PCvsC/VqDTvHI9dMf1rW",
      "include_colab_link": true
    },
    "kernelspec": {
      "name": "python3",
      "display_name": "Python 3"
    }
  },
  "cells": [
    {
      "cell_type": "markdown",
      "metadata": {
        "id": "view-in-github",
        "colab_type": "text"
      },
      "source": [
        "<a href=\"https://colab.research.google.com/github/vsbca/Data-Science/blob/master/Python_tutorial.ipynb\" target=\"_parent\"><img src=\"https://colab.research.google.com/assets/colab-badge.svg\" alt=\"Open In Colab\"/></a>"
      ]
    },
    {
      "cell_type": "markdown",
      "metadata": {
        "id": "cVbaLLxYavyY"
      },
      "source": [
        "This is Python tutorial in the Notebook\n",
        "\n",
        "1.   Python data types are INT, Floats, Booleans, Strings\n",
        "#Reference\n",
        "https://learning.oreilly.com/library/view/python-projects-for/9781484253557/html/481544_1_En_6_Chapter.xhtml\n",
        "\n"
      ]
    },
    {
      "cell_type": "code",
      "metadata": {
        "colab": {
          "base_uri": "https://localhost:8080/"
        },
        "id": "BCpBUC-Lazs9",
        "outputId": "2914c010-9549-465b-d110-6118b9e7a83e"
      },
      "source": [
        "print(2)\n",
        "type(2)"
      ],
      "execution_count": 2,
      "outputs": [
        {
          "output_type": "stream",
          "text": [
            "2\n"
          ],
          "name": "stdout"
        },
        {
          "output_type": "execute_result",
          "data": {
            "text/plain": [
              "int"
            ]
          },
          "metadata": {
            "tags": []
          },
          "execution_count": 2
        }
      ]
    },
    {
      "cell_type": "code",
      "metadata": {
        "colab": {
          "base_uri": "https://localhost:8080/"
        },
        "id": "YYxGK33ib4h9",
        "outputId": "bceaf716-86c6-48f2-f8ab-2b17f55592ec"
      },
      "source": [
        "#Output Float values\n",
        "print(2.01)\n",
        "type(2.01)"
      ],
      "execution_count": 7,
      "outputs": [
        {
          "output_type": "stream",
          "text": [
            "2.01\n"
          ],
          "name": "stdout"
        },
        {
          "output_type": "execute_result",
          "data": {
            "text/plain": [
              "float"
            ]
          },
          "metadata": {
            "tags": []
          },
          "execution_count": 7
        }
      ]
    },
    {
      "cell_type": "code",
      "metadata": {
        "colab": {
          "base_uri": "https://localhost:8080/"
        },
        "id": "vrJWoj8FcCty",
        "outputId": "e19aa7d5-5b98-4fb2-dcd5-4cc1d1bdeae9"
      },
      "source": [
        "#Print the Boolean values\n",
        "print(True)\n",
        "print(type(True))"
      ],
      "execution_count": 8,
      "outputs": [
        {
          "output_type": "stream",
          "text": [
            "True\n",
            "<class 'bool'>\n"
          ],
          "name": "stdout"
        }
      ]
    },
    {
      "cell_type": "code",
      "metadata": {
        "colab": {
          "base_uri": "https://localhost:8080/"
        },
        "id": "KpYrTtfKcJJn",
        "outputId": "4cf9e854-97ba-4437-a729-17de5b8db3f6"
      },
      "source": [
        "#Overwrite previously created variable\n",
        "name = 'John'\n",
        "print(name)\n",
        "name = \"Sam\"\n",
        "print(name)\n"
      ],
      "execution_count": 9,
      "outputs": [
        {
          "output_type": "stream",
          "text": [
            "John\n",
            "Sam\n"
          ],
          "name": "stdout"
        }
      ]
    },
    {
      "cell_type": "code",
      "metadata": {
        "colab": {
          "base_uri": "https://localhost:8080/"
        },
        "id": "9MMEAl1OcmDY",
        "outputId": "746ff2ed-a22c-4b04-8285-742356dfa92b"
      },
      "source": [
        "#String Index\n",
        "word = \"Hellow\"\n",
        "print(word[0])\n",
        "print(word[1])\n",
        "print(word[2])"
      ],
      "execution_count": 10,
      "outputs": [
        {
          "output_type": "stream",
          "text": [
            "H\n",
            "e\n",
            "l\n"
          ],
          "name": "stdout"
        }
      ]
    },
    {
      "cell_type": "code",
      "metadata": {
        "colab": {
          "base_uri": "https://localhost:8080/"
        },
        "id": "DWEWB9KLcx1n",
        "outputId": "56f23e23-2aba-4ead-a159-3eeb164d2bf4"
      },
      "source": [
        "#String slicing\n",
        "print(word[0:2])"
      ],
      "execution_count": 11,
      "outputs": [
        {
          "output_type": "stream",
          "text": [
            "He\n"
          ],
          "name": "stdout"
        }
      ]
    },
    {
      "cell_type": "code",
      "metadata": {
        "colab": {
          "base_uri": "https://localhost:8080/"
        },
        "id": "AC2YM5VHc4j3",
        "outputId": "4fe49035-40f9-414f-8624-53f1e369a58e"
      },
      "source": [
        "#.title() method\n",
        "name = \"john smith\"\n",
        "print(name.title())"
      ],
      "execution_count": 13,
      "outputs": [
        {
          "output_type": "stream",
          "text": [
            "John Smith\n"
          ],
          "name": "stdout"
        }
      ]
    },
    {
      "cell_type": "code",
      "metadata": {
        "colab": {
          "base_uri": "https://localhost:8080/"
        },
        "id": "4qMRjwarc4hQ",
        "outputId": "c96a2b91-0e45-4c7f-bb3e-3207d64c18d3"
      },
      "source": [
        "#.replace method\n",
        "words = \"Hello there!\"\n",
        "print(words.replace(\"!\", \".\"))"
      ],
      "execution_count": 14,
      "outputs": [
        {
          "output_type": "stream",
          "text": [
            "Hello there.\n"
          ],
          "name": "stdout"
        }
      ]
    },
    {
      "cell_type": "code",
      "metadata": {
        "colab": {
          "base_uri": "https://localhost:8080/"
        },
        "id": "j8uczkRcc4eY",
        "outputId": "22263007-4eb4-49d5-edb0-f667afe8d5c9"
      },
      "source": [
        "#.Strip() method would get rid of a certain character from the left or the right side of the string\n",
        "name = \" John \"\n",
        "print(name.strip())"
      ],
      "execution_count": 16,
      "outputs": [
        {
          "output_type": "stream",
          "text": [
            "John\n"
          ],
          "name": "stdout"
        }
      ]
    },
    {
      "cell_type": "markdown",
      "metadata": {
        "id": "5cRr7kKudnk4"
      },
      "source": [
        "#User Input and Conditionals"
      ]
    },
    {
      "cell_type": "code",
      "metadata": {
        "colab": {
          "base_uri": "https://localhost:8080/"
        },
        "id": "r2MChJPKc4bi",
        "outputId": "06911b97-71c5-4e71-fa62-41c79ed783f6"
      },
      "source": [
        "#converting the datatype\n",
        "num = \"9\"\n",
        "num = int(num)  #re-declaring the num to store an integer\n",
        "print(type(num))"
      ],
      "execution_count": 18,
      "outputs": [
        {
          "output_type": "stream",
          "text": [
            "<class 'int'>\n"
          ],
          "name": "stdout"
        }
      ]
    },
    {
      "cell_type": "code",
      "metadata": {
        "colab": {
          "base_uri": "https://localhost:8080/"
        },
        "id": "iwp-hMzYc4Yf",
        "outputId": "9d215187-5bb1-4bc3-cfbd-743f38d6de3d"
      },
      "source": [
        "#working on the user input to perform calculation\n",
        "ans = input(\"Type a number to add:\")\n",
        "print(type(ans))\n",
        "if type(ans) == int:\n",
        "  result = 100 + int(ans)\n",
        "  print(\"100 + {} = {}\".format(ans, result))\n",
        "else:\n",
        "  print(\"Please enter the Int value\")\n"
      ],
      "execution_count": 23,
      "outputs": [
        {
          "output_type": "stream",
          "text": [
            "Type a number to add:as\n",
            "<class 'str'>\n",
            "Please enter the Int value\n"
          ],
          "name": "stdout"
        }
      ]
    },
    {
      "cell_type": "markdown",
      "metadata": {
        "id": "5g8NBEXJet_y"
      },
      "source": [
        "#Error handling in Python"
      ]
    },
    {
      "cell_type": "code",
      "metadata": {
        "colab": {
          "base_uri": "https://localhost:8080/"
        },
        "id": "ZJyjpuXRc4VE",
        "outputId": "b97f9c0a-7000-4673-a1aa-c9791c0a3772"
      },
      "source": [
        "try:\n",
        "  ans = float(input(\"Type a number to add:\"))\n",
        "  print(\"100 + {}\".format(ans,100+ans))\n",
        "except:\n",
        "  print(\"You did not put in a valid number\")\n"
      ],
      "execution_count": 25,
      "outputs": [
        {
          "output_type": "stream",
          "text": [
            "Type a number to add:asd\n",
            "You did not put in a valid number\n"
          ],
          "name": "stdout"
        }
      ]
    },
    {
      "cell_type": "markdown",
      "metadata": {
        "id": "6bKKLXkDfcYz"
      },
      "source": [
        "#If and ELIF statements in Python"
      ]
    },
    {
      "cell_type": "code",
      "metadata": {
        "colab": {
          "base_uri": "https://localhost:8080/"
        },
        "id": "r_xJKOLZfRV-",
        "outputId": "67a0d787-cb60-4bb5-df61-b1f26ea89f86"
      },
      "source": [
        "x ,y = 5, 10\n",
        "if x > y:\n",
        "  print(\"X is greater!!\")\n",
        "elif x < y:\n",
        "  print(\"X is smaller\")\n",
        "else:\n",
        "  print(\"Both x and y are equal\")"
      ],
      "execution_count": 29,
      "outputs": [
        {
          "output_type": "stream",
          "text": [
            "X is smaller\n"
          ],
          "name": "stdout"
        }
      ]
    },
    {
      "cell_type": "markdown",
      "metadata": {
        "id": "Vger8z8kgYpd"
      },
      "source": [
        "#Setup Try/Except for the Mathematical Operation"
      ]
    },
    {
      "cell_type": "markdown",
      "metadata": {
        "id": "8fCB_mg4gYoA"
      },
      "source": [
        ""
      ]
    },
    {
      "cell_type": "code",
      "metadata": {
        "colab": {
          "base_uri": "https://localhost:8080/"
        },
        "id": "uETl1DwHfRS_",
        "outputId": "dd400142-1d06-4dd2-d937-b113458d1f11"
      },
      "source": [
        "try:\n",
        "  #step 3a: Immediately try to convert numbers input to floats\n",
        "  num1, num2 = float(num1) , float(num2)\n",
        "  #step 3b: perform operation and print result\n",
        "  if operation == \"add\":\n",
        "    result = num1 + num2\n",
        "    print(\"{} + {} = {}\".format(num1, num2, result))\n",
        "  elif operation == \"subtract\":\n",
        "    result = num1 + num2\n",
        "    print(\"{} * {} = {}\".format(num1, num2, result))\n",
        "  elif operation == \"divide\":\n",
        "    result = num1 / num2\n",
        "    print(\"{} / {} == {}\".format(num1, num2, result))\n",
        "  else:\n",
        "    #else will be hit if they didn't chose an option\n",
        "    print(\"Error:\")\n",
        "except:\n",
        "  print(\"Error, except\")\n"
      ],
      "execution_count": 31,
      "outputs": [
        {
          "output_type": "stream",
          "text": [
            "Error, except\n"
          ],
          "name": "stdout"
        }
      ]
    },
    {
      "cell_type": "markdown",
      "metadata": {
        "id": "anCLMoA92Iqs"
      },
      "source": [
        "##Python Lists"
      ]
    },
    {
      "cell_type": "markdown",
      "metadata": {
        "id": "5l6oT1ov2Iop"
      },
      "source": [
        ""
      ]
    },
    {
      "cell_type": "code",
      "metadata": {
        "colab": {
          "base_uri": "https://localhost:8080/"
        },
        "id": "Bxg2NuLi2MaP",
        "outputId": "0b3564f4-c3d5-4ae4-c834-6ca33e1b8795"
      },
      "source": [
        "nums = [5, 10, 15.3, 20]\n",
        "print(nums)"
      ],
      "execution_count": 32,
      "outputs": [
        {
          "output_type": "stream",
          "text": [
            "[5, 10, 15.3, 20]\n"
          ],
          "name": "stdout"
        }
      ]
    },
    {
      "cell_type": "code",
      "metadata": {
        "colab": {
          "base_uri": "https://localhost:8080/"
        },
        "id": "oUYm3M1IfRPw",
        "outputId": "024656ef-98af-4e7c-e522-a604d2d6f3f6"
      },
      "source": [
        "#you could assign a new value\n",
        "num = 4.3\n",
        "num = nums[2]\n",
        "print(num)"
      ],
      "execution_count": 33,
      "outputs": [
        {
          "output_type": "stream",
          "text": [
            "15.3\n"
          ],
          "name": "stdout"
        }
      ]
    },
    {
      "cell_type": "code",
      "metadata": {
        "colab": {
          "base_uri": "https://localhost:8080/"
        },
        "id": "LFZO6eS_fRMz",
        "outputId": "758b504b-f2cc-4ed7-ba67-51455a7ba59c"
      },
      "source": [
        "#List of the values\n",
        "data = [5, \"book\", [34, \"hello\", True]]\n",
        "type\n",
        "print(data)"
      ],
      "execution_count": 34,
      "outputs": [
        {
          "output_type": "stream",
          "text": [
            "[5, 'book', [34, 'hello', True]]\n"
          ],
          "name": "stdout"
        }
      ]
    },
    {
      "cell_type": "code",
      "metadata": {
        "colab": {
          "base_uri": "https://localhost:8080/"
        },
        "id": "CTNlXkUlfRJ3",
        "outputId": "7da408d0-47d5-46a3-ab2e-ecfaa31dc79c"
      },
      "source": [
        "data = [5, 10, 15, 20]\n",
        "data_copy = data[:] # a single colon copies the list\n",
        "data_c = data\n",
        "print(data_copy)\n",
        "print(data_c)\n",
        "print(data_c)"
      ],
      "execution_count": 36,
      "outputs": [
        {
          "output_type": "stream",
          "text": [
            "[5, 10, 15, 20]\n",
            "[5, 10, 15, 20]\n",
            "[5, 10, 15, 20]\n"
          ],
          "name": "stdout"
        }
      ]
    },
    {
      "cell_type": "markdown",
      "metadata": {
        "id": "-IFcdDTX3WmR"
      },
      "source": [
        "#For loop"
      ]
    },
    {
      "cell_type": "markdown",
      "metadata": {
        "id": "xBcx-_5u3WkZ"
      },
      "source": [
        ""
      ]
    },
    {
      "cell_type": "code",
      "metadata": {
        "colab": {
          "base_uri": "https://localhost:8080/"
        },
        "id": "B00t0l4v3ZLv",
        "outputId": "f22a86f6-acb0-496e-b798-c4dca89e08c7"
      },
      "source": [
        "for num in range(5):\n",
        "  print(\"Values : {}\".format(num))\n",
        "  "
      ],
      "execution_count": 37,
      "outputs": [
        {
          "output_type": "stream",
          "text": [
            "Values : 0\n",
            "Values : 1\n",
            "Values : 2\n",
            "Values : 3\n",
            "Values : 4\n"
          ],
          "name": "stdout"
        }
      ]
    },
    {
      "cell_type": "markdown",
      "metadata": {
        "id": "E9Ih8vIa3qqy"
      },
      "source": [
        "#The \"continue\" statement\n",
        "###Once a continue statement is hit, the current iteration stops and goes back to the top of the loop. Let’s see an example:\n"
      ]
    },
    {
      "cell_type": "code",
      "metadata": {
        "colab": {
          "base_uri": "https://localhost:8080/"
        },
        "id": "cVkkkJjP3nM-",
        "outputId": "1b829162-e0c0-4c6d-ef29-265a82a938f0"
      },
      "source": [
        "for num in range(5):\n",
        "  if num == 3:\n",
        "    continue\n",
        "  print(num)\n",
        "  "
      ],
      "execution_count": 38,
      "outputs": [
        {
          "output_type": "stream",
          "text": [
            "0\n",
            "1\n",
            "2\n",
            "4\n"
          ],
          "name": "stdout"
        }
      ]
    },
    {
      "cell_type": "markdown",
      "metadata": {
        "id": "MeAYvopG316X"
      },
      "source": [
        "#The \"break\" statement\n",
        "###It allows us to break out of a loop at any point in time. Let’s see an example:\n"
      ]
    },
    {
      "cell_type": "code",
      "metadata": {
        "colab": {
          "base_uri": "https://localhost:8080/"
        },
        "id": "WckFzWUv3nJf",
        "outputId": "0d764ae1-cd73-4d9c-c7f1-17edfbae9f10"
      },
      "source": [
        "for num in range(5):\n",
        "  if num == 3:\n",
        "    break\n",
        "  print(num)"
      ],
      "execution_count": 39,
      "outputs": [
        {
          "output_type": "stream",
          "text": [
            "0\n",
            "1\n",
            "2\n"
          ],
          "name": "stdout"
        }
      ]
    },
    {
      "cell_type": "markdown",
      "metadata": {
        "id": "8yQiy6B64Yl-"
      },
      "source": [
        "#The \"Pass\" statement\n",
        "### The pass statement is simply just a placeholder so that the program doesn’t break. Let’s see an example:\n"
      ]
    },
    {
      "cell_type": "code",
      "metadata": {
        "id": "Sye_yxfTfRGn"
      },
      "source": [
        "for i in range(5):\n",
        "  #Todo\n",
        "  pass"
      ],
      "execution_count": 40,
      "outputs": []
    },
    {
      "cell_type": "markdown",
      "metadata": {
        "id": "AuiJyy-a471E"
      },
      "source": [
        "#While loop\n",
        "###It is a like a for loop"
      ]
    },
    {
      "cell_type": "markdown",
      "metadata": {
        "id": "KoDHlX845e6_"
      },
      "source": [
        ""
      ]
    },
    {
      "cell_type": "code",
      "metadata": {
        "id": "wjmTGHWY5gzH"
      },
      "source": [
        ""
      ],
      "execution_count": null,
      "outputs": []
    },
    {
      "cell_type": "code",
      "metadata": {
        "colab": {
          "base_uri": "https://localhost:8080/"
        },
        "id": "gGYxA_pr5EAc",
        "outputId": "cb539af4-3202-4fbd-e884-8c56c6d80faa"
      },
      "source": [
        "health = 10\n",
        "while health > 0:\n",
        "  print(health)\n",
        "  health -= 1 #Forgetting this would make an infinite loop\n"
      ],
      "execution_count": 43,
      "outputs": [
        {
          "output_type": "stream",
          "text": [
            "10\n",
            "9\n",
            "8\n",
            "7\n",
            "6\n",
            "5\n",
            "4\n",
            "3\n",
            "2\n",
            "1\n"
          ],
          "name": "stdout"
        }
      ]
    },
    {
      "cell_type": "markdown",
      "metadata": {
        "id": "3iOAfNVI5h31"
      },
      "source": [
        "#Functions in Python\n",
        "###Functions give us the ability to make our programs much more powerful and clean while also saving us time. We’ll go over how they work on the first day, but the reason we use functions is because of the ability to write once and call repeatedly.\n",
        "![image.png](data:image/png;base64,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)"
      ]
    },
    {
      "cell_type": "code",
      "metadata": {
        "colab": {
          "base_uri": "https://localhost:8080/"
        },
        "id": "6DKVoY3S5D9t",
        "outputId": "2b25ffbd-d89c-43b5-88fc-cd0a2c60d490"
      },
      "source": [
        "#writing the first function\n",
        "def printInfo():\n",
        "  print(\"Name: John Smith\")\n",
        "  print(\"Age: 45\")\n",
        "\n",
        "printInfo()"
      ],
      "execution_count": 44,
      "outputs": [
        {
          "output_type": "stream",
          "text": [
            "Name: John Smith\n",
            "Age: 45\n"
          ],
          "name": "stdout"
        }
      ]
    },
    {
      "cell_type": "markdown",
      "metadata": {
        "id": "4gg_W0Zz6Mv9"
      },
      "source": [
        "#UDF VS. BUILT-IN\n",
        "####Without even knowing it, you’ve been using functions this whole time. Functions such as range, print, len, etc., are all known as “built-in” functions . They are included in Python because they serve a specific purpose to help build our applications. Now that we’re learning about functions, we can begin to create our own known as UDFs or “user-defined functions.”"
      ]
    },
    {
      "cell_type": "code",
      "metadata": {
        "colab": {
          "base_uri": "https://localhost:8080/"
        },
        "id": "plBGU4Zt5D6l",
        "outputId": "b817053c-8ee0-48f3-a304-f7b34b34097c"
      },
      "source": [
        "def calc():\n",
        "  x, y = 5, 10\n",
        "  print(x + y)\n",
        "\n",
        "calc()\n"
      ],
      "execution_count": 45,
      "outputs": [
        {
          "output_type": "stream",
          "text": [
            "15\n"
          ],
          "name": "stdout"
        }
      ]
    },
    {
      "cell_type": "markdown",
      "metadata": {
        "id": "sMJS2AeP6dZ8"
      },
      "source": [
        "#Passing A single Parameters"
      ]
    },
    {
      "cell_type": "code",
      "metadata": {
        "colab": {
          "base_uri": "https://localhost:8080/"
        },
        "id": "dxaE0Myf5D3f",
        "outputId": "b3bbccac-9cb0-4641-87a8-2466ec9e97df"
      },
      "source": [
        "def printName(fullname):\n",
        "  print(\"Your name is {}.\".format(fullname))\n",
        "\n",
        "printName(\"Sam\")"
      ],
      "execution_count": 48,
      "outputs": [
        {
          "output_type": "stream",
          "text": [
            "Your name is Sam.\n"
          ],
          "name": "stdout"
        }
      ]
    },
    {
      "cell_type": "markdown",
      "metadata": {
        "id": "sdJ1Ax6u6v94"
      },
      "source": [
        "#Passing Multiple Parameters into a function"
      ]
    },
    {
      "cell_type": "code",
      "metadata": {
        "colab": {
          "base_uri": "https://localhost:8080/"
        },
        "id": "eCL3uly_5D0V",
        "outputId": "028f8023-c151-4c3a-e9fd-3cdb6ac6fdda"
      },
      "source": [
        "def addNums(num1, num2):\n",
        "  result = num1 + num2\n",
        "  print(\"{} + {} = {}\".format(num1, num2, result))\n",
        "\n",
        "addNums(5, 8)"
      ],
      "execution_count": 49,
      "outputs": [
        {
          "output_type": "stream",
          "text": [
            "5 + 8 = 13\n"
          ],
          "name": "stdout"
        }
      ]
    },
    {
      "cell_type": "markdown",
      "metadata": {
        "id": "FhDQiQdO7Goy"
      },
      "source": [
        "#Passing A List"
      ]
    },
    {
      "cell_type": "code",
      "metadata": {
        "colab": {
          "base_uri": "https://localhost:8080/"
        },
        "id": "BqfW2yR37K-c",
        "outputId": "b743d180-eef2-4ae9-e2cb-aead91bbff62"
      },
      "source": [
        "numbers1 = [2,4,5,10]\n",
        "numbers2 = [1, 3, 5]\n",
        "\n",
        "def squares(nums):\n",
        "  for num in nums:\n",
        "    print(nums*2)\n",
        "\n",
        "squares(numbers1)"
      ],
      "execution_count": 50,
      "outputs": [
        {
          "output_type": "stream",
          "text": [
            "[2, 4, 5, 10, 2, 4, 5, 10]\n",
            "[2, 4, 5, 10, 2, 4, 5, 10]\n",
            "[2, 4, 5, 10, 2, 4, 5, 10]\n",
            "[2, 4, 5, 10, 2, 4, 5, 10]\n"
          ],
          "name": "stdout"
        }
      ]
    },
    {
      "cell_type": "code",
      "metadata": {
        "colab": {
          "base_uri": "https://localhost:8080/"
        },
        "id": "ZehVB1Us9lks",
        "outputId": "f27ce95b-b199-43d0-a8a1-154c0bf44f1f"
      },
      "source": [
        "def calcArea(r, pi=3.14):\n",
        "  area = pi * (r**2)\n",
        "  print(\"Area: {}\".format(area))\n",
        "\n",
        "calcArea(2)"
      ],
      "execution_count": 51,
      "outputs": [
        {
          "output_type": "stream",
          "text": [
            "Area: 12.56\n"
          ],
          "name": "stdout"
        }
      ]
    },
    {
      "cell_type": "markdown",
      "metadata": {
        "id": "nVrvkUtZ929S"
      },
      "source": [
        "#Making parameter optional\n",
        "####Sometimes you need to make functions that take optional arguments. The best example is always middle names; some people have them, and some don’t. If we wanted to write a function that would print out properly for both situations, we would need to make the middle name an optional parameter. We do this by assigning an empty string value as the default:\n"
      ]
    },
    {
      "cell_type": "code",
      "metadata": {
        "colab": {
          "base_uri": "https://localhost:8080/"
        },
        "id": "MJPi_gC4917Q",
        "outputId": "71239f3a-4b08-4381-9af3-c44560b4a638"
      },
      "source": [
        "def printName(first, last, middle=\"\"):\n",
        "  if middle:\n",
        "    print(\"{} {} {}\".format(first, middle, last))\n",
        "  else:\n",
        "    print(\"{} {}\".format(first, last))\n",
        "  \n",
        "printName(\"John\", \"Smith\")\n",
        "printName(\"John\", \"Smith\", \"Paul\")"
      ],
      "execution_count": 54,
      "outputs": [
        {
          "output_type": "stream",
          "text": [
            "John Smith\n",
            "John Paul Smith\n"
          ],
          "name": "stdout"
        }
      ]
    },
    {
      "cell_type": "markdown",
      "metadata": {
        "id": "6uu6fEpF_PKb"
      },
      "source": [
        "#NAMED PARAMETER ASSIGNMENT\n",
        "####During the function call, you can explicity assign values into parameter names. This is useful when you don’t want to mix up the order of values being passed in, as they work from left to right by default. You can use parameter names to assign values for every parameter if you choose, but it’s not necessary most of the time. Let’s check out an example:\n"
      ]
    },
    {
      "cell_type": "code",
      "metadata": {
        "colab": {
          "base_uri": "https://localhost:8080/"
        },
        "id": "muS1Tjwn_VwI",
        "outputId": "4ab147d4-bb64-4ee4-9d56-e1ccda955a19"
      },
      "source": [
        "def addNums(num1, num2):\n",
        "  print(num2)\n",
        "  print(num1)\n",
        "\n",
        "addNums(5, num2 = 2.5)\n"
      ],
      "execution_count": 55,
      "outputs": [
        {
          "output_type": "stream",
          "text": [
            "2.5\n",
            "5\n"
          ],
          "name": "stdout"
        }
      ]
    },
    {
      "cell_type": "markdown",
      "metadata": {
        "id": "t3VM28ZA_lCC"
      },
      "source": [
        "#ARGS - Variable number of Arguments\n",
        "## ####The use of  *args allows you to pass a variable number of arguments into a function. This allows you to make functions more modular. The magic isn’t the “args” keyword here though; it’s really the unary operator (*) that allows us to perform this feature. You could theoretically replace the word args with anyone, like “*data”, and it would still work. However, args is the default and general standard throughout the industry. Let’s see how we can use args in a function call:\n"
      ]
    },
    {
      "cell_type": "code",
      "metadata": {
        "colab": {
          "base_uri": "https://localhost:8080/"
        },
        "id": "1YIyi7_t_izD",
        "outputId": "17593072-7f89-4c81-9d12-b9bc2df54f7a"
      },
      "source": [
        "def outputData(name, *args):\n",
        "  print(type(args))\n",
        "  for arg in args:\n",
        "    print(arg)\n",
        "\n",
        "outputData(\"John Smith\", 5, True, \"Jess\")"
      ],
      "execution_count": 56,
      "outputs": [
        {
          "output_type": "stream",
          "text": [
            "<class 'tuple'>\n",
            "5\n",
            "True\n",
            "Jess\n"
          ],
          "name": "stdout"
        }
      ]
    },
    {
      "cell_type": "markdown",
      "metadata": {
        "id": "05kh3f8JABLp"
      },
      "source": [
        "#KWARGS - \n",
        "####Like args, kwargs allows us to take in an arbitrary number of values in a function; however, it works as a dictionary with keyword arguments instead. Keyword arguments are values passed in with keys, which allow us to access them easily within the function block. Again, the magic here is in the two unary operators (**) not the keyword of kwargs. Let’s check it out:\n"
      ]
    },
    {
      "cell_type": "code",
      "metadata": {
        "colab": {
          "base_uri": "https://localhost:8080/"
        },
        "id": "e_zChIb8AMoA",
        "outputId": "3dc875e8-ff2e-47a9-81ad-ebc6c476501f"
      },
      "source": [
        "def outputData(**kwargs):\n",
        "  print(type(kwargs))\n",
        "  print(kwargs[\"name\"])\n",
        "  print(kwargs[\"num\"])\n",
        "  print(kwargs[\"b\"])\n",
        "\n",
        "outputData(name = \"John Smith\", num=5, b=True)"
      ],
      "execution_count": 59,
      "outputs": [
        {
          "output_type": "stream",
          "text": [
            "<class 'dict'>\n",
            "John Smith\n",
            "5\n",
            "True\n"
          ],
          "name": "stdout"
        }
      ]
    },
    {
      "cell_type": "markdown",
      "metadata": {
        "id": "N7tcCi_TA1OG"
      },
      "source": [
        "#Return - Statement\n",
        "####Up to this point, we’ve been printing out the data that our functions alter, but what do you do if you need to access this information later? This is where the return statement is used. Functions can manipulate data and then send it back to where the function call occurred to save the information to be used for later. Today we’ll learn how to do that and why it’s useful.\n",
        "\n",
        "\n"
      ]
    },
    {
      "cell_type": "code",
      "metadata": {
        "colab": {
          "base_uri": "https://localhost:8080/"
        },
        "id": "8SvDE-2rBFKk",
        "outputId": "b47c2f6c-3399-4c6a-c502-c3d9a59d4b27"
      },
      "source": [
        "def returnMultiple(num1, num2):\n",
        "  a = num1\n",
        "  b = num2\n",
        "  return [a, b]\n",
        "\n",
        "returnMultiple(10,10)"
      ],
      "execution_count": 62,
      "outputs": [
        {
          "output_type": "execute_result",
          "data": {
            "text/plain": [
              "[10, 10]"
            ]
          },
          "metadata": {
            "tags": []
          },
          "execution_count": 62
        }
      ]
    },
    {
      "cell_type": "markdown",
      "metadata": {
        "id": "cUzgQB3yBeR4"
      },
      "source": [
        "#Ternary Operator\n",
        "####A ternary operator is a shorthand Python branching statement. These operators can be used to assign values into a variable, or in this case, deciding what the return from a function:\n"
      ]
    },
    {
      "cell_type": "code",
      "metadata": {
        "colab": {
          "base_uri": "https://localhost:8080/"
        },
        "id": "JuJWoQW-BpJw",
        "outputId": "f4afee0b-2376-4156-b7fa-eab4d26aa819"
      },
      "source": [
        "def searchList(aList, el):\n",
        "      return True if el in aList else False\n",
        "result = searchList( [ \"one\", 2, \"three\" ], 2)    # result = True\n",
        "print(result)"
      ],
      "execution_count": 63,
      "outputs": [
        {
          "output_type": "stream",
          "text": [
            "True\n"
          ],
          "name": "stdout"
        }
      ]
    },
    {
      "cell_type": "markdown",
      "metadata": {
        "id": "3DaOuawFB5sQ"
      },
      "source": [
        "#Type Of Scope\n",
        "###Global scope Access\n",
        "###When global attributes are defined, they're accessible to the rest of the file. However, we must keep in mind how function scope works. Even when you declare a variable accessible to the entire file, it will not be accessible within the function. Let’s see an example:\n"
      ]
    },
    {
      "cell_type": "code",
      "metadata": {
        "colab": {
          "base_uri": "https://localhost:8080/",
          "height": 300
        },
        "id": "NLZ5GCUQCPDk",
        "outputId": "70c3fdd7-2189-4856-b7bb-970493690363"
      },
      "source": [
        "number = 5\n",
        "def scopeTest():\n",
        "  number += 1 #not accessible due to the function level scope\n",
        "  \n",
        "scopeTest()\n"
      ],
      "execution_count": 65,
      "outputs": [
        {
          "output_type": "error",
          "ename": "UnboundLocalError",
          "evalue": "ignored",
          "traceback": [
            "\u001b[0;31m---------------------------------------------------------------------------\u001b[0m",
            "\u001b[0;31mUnboundLocalError\u001b[0m                         Traceback (most recent call last)",
            "\u001b[0;32m<ipython-input-65-7ba73fc3b8f8>\u001b[0m in \u001b[0;36m<module>\u001b[0;34m()\u001b[0m\n\u001b[1;32m      2\u001b[0m \u001b[0;32mdef\u001b[0m \u001b[0mscopeTest\u001b[0m\u001b[0;34m(\u001b[0m\u001b[0;34m)\u001b[0m\u001b[0;34m:\u001b[0m\u001b[0;34m\u001b[0m\u001b[0;34m\u001b[0m\u001b[0m\n\u001b[1;32m      3\u001b[0m   \u001b[0mnumber\u001b[0m \u001b[0;34m+=\u001b[0m \u001b[0;36m1\u001b[0m\u001b[0;34m\u001b[0m\u001b[0;34m\u001b[0m\u001b[0m\n\u001b[0;32m----> 4\u001b[0;31m \u001b[0mscopeTest\u001b[0m\u001b[0;34m(\u001b[0m\u001b[0;34m)\u001b[0m\u001b[0;34m\u001b[0m\u001b[0;34m\u001b[0m\u001b[0m\n\u001b[0m",
            "\u001b[0;32m<ipython-input-65-7ba73fc3b8f8>\u001b[0m in \u001b[0;36mscopeTest\u001b[0;34m()\u001b[0m\n\u001b[1;32m      1\u001b[0m \u001b[0mnumber\u001b[0m \u001b[0;34m=\u001b[0m \u001b[0;36m5\u001b[0m\u001b[0;34m\u001b[0m\u001b[0;34m\u001b[0m\u001b[0m\n\u001b[1;32m      2\u001b[0m \u001b[0;32mdef\u001b[0m \u001b[0mscopeTest\u001b[0m\u001b[0;34m(\u001b[0m\u001b[0;34m)\u001b[0m\u001b[0;34m:\u001b[0m\u001b[0;34m\u001b[0m\u001b[0;34m\u001b[0m\u001b[0m\n\u001b[0;32m----> 3\u001b[0;31m   \u001b[0mnumber\u001b[0m \u001b[0;34m+=\u001b[0m \u001b[0;36m1\u001b[0m\u001b[0;34m\u001b[0m\u001b[0;34m\u001b[0m\u001b[0m\n\u001b[0m\u001b[1;32m      4\u001b[0m \u001b[0mscopeTest\u001b[0m\u001b[0;34m(\u001b[0m\u001b[0;34m)\u001b[0m\u001b[0;34m\u001b[0m\u001b[0;34m\u001b[0m\u001b[0m\n",
            "\u001b[0;31mUnboundLocalError\u001b[0m: local variable 'number' referenced before assignment"
          ]
        }
      ]
    },
    {
      "cell_type": "markdown",
      "metadata": {
        "id": "3t6061NoCh9N"
      },
      "source": [
        "#Handling function Scope\n",
        "When dealing with variable declared in a function, you generally won't need to access it outside of the function. However, in order to access that value, best practice is to return it."
      ]
    },
    {
      "cell_type": "code",
      "metadata": {
        "colab": {
          "base_uri": "https://localhost:8080/"
        },
        "id": "fn3Fogl0Cu0x",
        "outputId": "f204979a-0449-461a-868a-bbb19206821d"
      },
      "source": [
        "def scopeTest():\n",
        "  word = \"function\"\n",
        "  return word\n",
        "\n",
        "value = scopeTest()\n",
        "print(value)"
      ],
      "execution_count": 66,
      "outputs": [
        {
          "output_type": "stream",
          "text": [
            "function\n"
          ],
          "name": "stdout"
        }
      ]
    },
    {
      "cell_type": "markdown",
      "metadata": {
        "id": "pmblpyzLDHAj"
      },
      "source": [
        "#Data Collection and Files\n",
        "There are several data stuctures in Python. We’ll cover dictionaries, sets, tuples, and frozensets."
      ]
    },
    {
      "cell_type": "markdown",
      "metadata": {
        "id": "FY8pfh1FD1jr"
      },
      "source": [
        "#Declaring A Dictionary\n",
        "####A dictionary is a collection of unordered data, which is stored in key-value pairs. What is meant by “unordered” is the way it is stored in memory. It is not accessible through an index, rather it is accessed through a key. Lists are known as ordered data collections because each item is assigned a specific location. Dictionaries work like a real-life dictionary, where the key is the word and the values are the definition. Dictionaries are useful for working with large data, mapped data, CSV files, APIs, sending or receiving data, and much more."
      ]
    },
    {
      "cell_type": "code",
      "metadata": {
        "colab": {
          "base_uri": "https://localhost:8080/"
        },
        "id": "O0JKDnfJDGRq",
        "outputId": "91c1bec3-b2a8-4d92-ceec-f24681fb99e8"
      },
      "source": [
        "#declaring a dictionary variable\n",
        "empty = {} #empty dictionary\n",
        "person = {\"name\": \"John Smith\"}\n",
        "\n",
        "customer = {\n",
        "    \"name\" : \"Morty\",\n",
        "    \"age\" : 26\n",
        "}\n",
        "print(customer)"
      ],
      "execution_count": 68,
      "outputs": [
        {
          "output_type": "stream",
          "text": [
            "{'name': 'Morty', 'age': 26}\n"
          ],
          "name": "stdout"
        }
      ]
    },
    {
      "cell_type": "markdown",
      "metadata": {
        "id": "V1hbMswhEgaR"
      },
      "source": [
        "#Using the GET Method\n",
        "####Another way of retrieving information is to use the get() method. The major difference between using this method and the previous way of accessing a value is that the get method won’t throw a key error. If the key doesn’t exist, it will simply return “None”. You may also add in a second argument in the call, in order to have the program return a more specific data type. Let’s try"
      ]
    },
    {
      "cell_type": "code",
      "metadata": {
        "colab": {
          "base_uri": "https://localhost:8080/"
        },
        "id": "zjESVuewEyJg",
        "outputId": "cdf46a74-7cdc-4170-aab4-11b806f3ee26"
      },
      "source": [
        "#using the get method to access dictionary information\n",
        "person = {\"name\": \"John\"}\n",
        "print(person.get(\"name\")) #retrieves value of name\n",
        "\n",
        "print(person.get(\"age\", \"Age is not available.\"))\n"
      ],
      "execution_count": 69,
      "outputs": [
        {
          "output_type": "stream",
          "text": [
            "John\n",
            "Age is not available.\n"
          ],
          "name": "stdout"
        }
      ]
    },
    {
      "cell_type": "markdown",
      "metadata": {
        "id": "Ns_IIaQRFOIJ"
      },
      "source": [
        "#Dictionaries with Lists\n",
        "####Dictionaries become powerful when you start working with data collections as values:\n"
      ]
    },
    {
      "cell_type": "code",
      "metadata": {
        "colab": {
          "base_uri": "https://localhost:8080/"
        },
        "id": "fW_Kx7ZdFU93",
        "outputId": "3a2b85f7-310a-484f-973e-d5b4b2b41492"
      },
      "source": [
        "#storing a list within a dictionary and accessing it\n",
        "data = {\"sports\": [ \"baseball\", \"football\", \"hockey\", \"soccer\"]}\n",
        "print(data[\"sports\"][1])"
      ],
      "execution_count": 71,
      "outputs": [
        {
          "output_type": "stream",
          "text": [
            "football\n"
          ],
          "name": "stdout"
        }
      ]
    },
    {
      "cell_type": "markdown",
      "metadata": {
        "id": "GeyDkOkeFqmC"
      },
      "source": [
        "#List With Dictionaries\n",
        "###The combination of lists within dictionries and vice-versa can become confusiing when trying to figure out how to access information. "
      ]
    },
    {
      "cell_type": "code",
      "metadata": {
        "colab": {
          "base_uri": "https://localhost:8080/"
        },
        "id": "z6bzDa0OF4fo",
        "outputId": "7d68c8bf-4e03-4639-8b02-8b73f5d914ba"
      },
      "source": [
        "data = [\"john\", \"Dennis\", {\"name\": \"Kristen\", \"Age\": 24}]\n",
        "print(data[2])\n",
        "print(\"This would bring the age\", data[2][\"Age\"])"
      ],
      "execution_count": 73,
      "outputs": [
        {
          "output_type": "stream",
          "text": [
            "{'name': 'Kristen', 'Age': 24}\n",
            "This would bring the age 24\n"
          ],
          "name": "stdout"
        }
      ]
    },
    {
      "cell_type": "markdown",
      "metadata": {
        "id": "BAMSeZPMGQ-4"
      },
      "source": [
        "#Looping Dictionary\n",
        "Dictionaries are iterable like lists. However, they have three different methods for doing so. You can iterate over both the keys and values together, only keys, or only values."
      ]
    },
    {
      "cell_type": "code",
      "metadata": {
        "colab": {
          "base_uri": "https://localhost:8080/"
        },
        "id": "M8DuZnREGY3C",
        "outputId": "4a640711-1da7-4e66-84e5-588e6ded751a"
      },
      "source": [
        "person = {\"name\": \"John\", \"age\": 26}\n",
        "for key in person.keys():\n",
        "  print(\"This is the key\", key)\n",
        "  print(person[key])"
      ],
      "execution_count": 75,
      "outputs": [
        {
          "output_type": "stream",
          "text": [
            "This is the key name\n",
            "John\n",
            "This is the key age\n",
            "26\n"
          ],
          "name": "stdout"
        }
      ]
    },
    {
      "cell_type": "code",
      "metadata": {
        "colab": {
          "base_uri": "https://localhost:8080/"
        },
        "id": "g4SlHbsvGtBk",
        "outputId": "beb0abf9-ae4d-497d-ac6f-0113a4886f42"
      },
      "source": [
        "#Looping key-value pair\n",
        "person = {\"name\": \"John\", \"age\": 26}\n",
        "for key, value in person.items():\n",
        "  print(\"{}:{}\".format(key, value))"
      ],
      "execution_count": 76,
      "outputs": [
        {
          "output_type": "stream",
          "text": [
            "name:John\n",
            "age:26\n"
          ],
          "name": "stdout"
        }
      ]
    },
    {
      "cell_type": "markdown",
      "metadata": {
        "id": "B9msvi6xG_mc"
      },
      "source": [
        "#Declaring Tuple\n",
        "####To declare a tuple, you use a comma to separate two or more items. Lists are denoted by their square brackets on the outside, whereas tuples can be declared with optional parenthesis. It’s more likely they’re declared with parenthesis as it’s easier to read. Let’s see an example:"
      ]
    },
    {
      "cell_type": "code",
      "metadata": {
        "colab": {
          "base_uri": "https://localhost:8080/",
          "height": 215
        },
        "id": "9T2MfkXrHHBl",
        "outputId": "0bcb18fa-ce48-47b4-9137-a43e4175d505"
      },
      "source": [
        "#declaring a tuple\n",
        "t1 = (\"hello\", 2, \"hello1\")\n",
        "t2 = True, 1\n",
        "\n",
        "print(type(t1), type(t2))\n",
        "t1[0] = 1"
      ],
      "execution_count": 77,
      "outputs": [
        {
          "output_type": "stream",
          "text": [
            "<class 'tuple'> <class 'tuple'>\n"
          ],
          "name": "stdout"
        },
        {
          "output_type": "error",
          "ename": "TypeError",
          "evalue": "ignored",
          "traceback": [
            "\u001b[0;31m---------------------------------------------------------------------------\u001b[0m",
            "\u001b[0;31mTypeError\u001b[0m                                 Traceback (most recent call last)",
            "\u001b[0;32m<ipython-input-77-3a3d906d894c>\u001b[0m in \u001b[0;36m<module>\u001b[0;34m()\u001b[0m\n\u001b[1;32m      4\u001b[0m \u001b[0;34m\u001b[0m\u001b[0m\n\u001b[1;32m      5\u001b[0m \u001b[0mprint\u001b[0m\u001b[0;34m(\u001b[0m\u001b[0mtype\u001b[0m\u001b[0;34m(\u001b[0m\u001b[0mt1\u001b[0m\u001b[0;34m)\u001b[0m\u001b[0;34m,\u001b[0m \u001b[0mtype\u001b[0m\u001b[0;34m(\u001b[0m\u001b[0mt2\u001b[0m\u001b[0;34m)\u001b[0m\u001b[0;34m)\u001b[0m\u001b[0;34m\u001b[0m\u001b[0;34m\u001b[0m\u001b[0m\n\u001b[0;32m----> 6\u001b[0;31m \u001b[0mt1\u001b[0m\u001b[0;34m[\u001b[0m\u001b[0;36m0\u001b[0m\u001b[0;34m]\u001b[0m \u001b[0;34m=\u001b[0m \u001b[0;36m1\u001b[0m\u001b[0;34m\u001b[0m\u001b[0;34m\u001b[0m\u001b[0m\n\u001b[0m",
            "\u001b[0;31mTypeError\u001b[0m: 'tuple' object does not support item assignment"
          ]
        }
      ]
    },
    {
      "cell_type": "markdown",
      "metadata": {
        "id": "BhG7_02nA1ME"
      },
      "source": [
        ""
      ]
    },
    {
      "cell_type": "markdown",
      "metadata": {
        "id": "GWYg95Dw7KuT"
      },
      "source": [
        ""
      ]
    },
    {
      "cell_type": "markdown",
      "metadata": {
        "id": "bq7jqYJ-7Gmo"
      },
      "source": [
        ""
      ]
    },
    {
      "cell_type": "code",
      "metadata": {
        "id": "iIDBxsHp5Dbm"
      },
      "source": [
        ""
      ],
      "execution_count": null,
      "outputs": []
    },
    {
      "cell_type": "code",
      "metadata": {
        "colab": {
          "base_uri": "https://localhost:8080/"
        },
        "id": "-5Mv_zyfazqA",
        "outputId": "70a4974a-1e5a-4b4e-fdf6-a65138434cac"
      },
      "source": [
        "#Format the string\n",
        "name = \"John\"\n",
        "print(\"Hello {}\".format(name))\n",
        "print(\"Hello {}, you are {} years old?\".format(name, 28))\n"
      ],
      "execution_count": 5,
      "outputs": [
        {
          "output_type": "stream",
          "text": [
            "Hello John\n",
            "Hello John, you are 28 years old?\n"
          ],
          "name": "stdout"
        }
      ]
    },
    {
      "cell_type": "code",
      "metadata": {
        "id": "N_d3YHNRazm2"
      },
      "source": [
        ""
      ],
      "execution_count": null,
      "outputs": []
    },
    {
      "cell_type": "code",
      "metadata": {
        "id": "J5I--s0vazgz"
      },
      "source": [
        ""
      ],
      "execution_count": null,
      "outputs": []
    }
  ]
}