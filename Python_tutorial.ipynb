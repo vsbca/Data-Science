{
  "nbformat": 4,
  "nbformat_minor": 0,
  "metadata": {
    "colab": {
      "name": "Copy of Python_tutorial.ipynb",
      "provenance": [],
      "collapsed_sections": [],
      "authorship_tag": "ABX9TyOmUEIwHXU4M7DxcldALJUn",
      "include_colab_link": true
    },
    "kernelspec": {
      "name": "python3",
      "display_name": "Python 3"
    }
  },
  "cells": [
    {
      "cell_type": "markdown",
      "metadata": {
        "id": "view-in-github",
        "colab_type": "text"
      },
      "source": [
        "<a href=\"https://colab.research.google.com/github/vsbca/Data-Science/blob/master/Python_tutorial.ipynb\" target=\"_parent\"><img src=\"https://colab.research.google.com/assets/colab-badge.svg\" alt=\"Open In Colab\"/></a>"
      ]
    },
    {
      "cell_type": "markdown",
      "metadata": {
        "id": "cVbaLLxYavyY"
      },
      "source": [
        "This is Python tutorial in the Notebook\n",
        "\n",
        "1.   Python data types are INT, Floats, Booleans, Strings\n",
        "#Reference\n",
        "https://learning.oreilly.com/library/view/python-projects-for/9781484253557/html/481544_1_En_6_Chapter.xhtml\n",
        "\n"
      ]
    },
    {
      "cell_type": "code",
      "metadata": {
        "colab": {
          "base_uri": "https://localhost:8080/"
        },
        "id": "BCpBUC-Lazs9",
        "outputId": "b94b62bc-62e2-4e33-bd99-9c040d5b4232"
      },
      "source": [
        "print(2)\n",
        "type(2)\n"
      ],
      "execution_count": 1,
      "outputs": [
        {
          "output_type": "stream",
          "text": [
            "2\n"
          ],
          "name": "stdout"
        },
        {
          "output_type": "execute_result",
          "data": {
            "text/plain": [
              "int"
            ]
          },
          "metadata": {},
          "execution_count": 1
        }
      ]
    },
    {
      "cell_type": "code",
      "metadata": {
        "id": "wQHtFf1g3s04",
        "outputId": "4dc0955d-e47d-4c8b-ac22-ea0b4115f02f",
        "colab": {
          "base_uri": "https://localhost:8080/",
          "height": 198
        }
      },
      "source": [
        "#Add two number\n",
        "#Oberserve the error, while adding a number with string\n",
        "print(7 + \"8\")"
      ],
      "execution_count": 2,
      "outputs": [
        {
          "output_type": "error",
          "ename": "TypeError",
          "evalue": "ignored",
          "traceback": [
            "\u001b[0;31m---------------------------------------------------------------------------\u001b[0m",
            "\u001b[0;31mTypeError\u001b[0m                                 Traceback (most recent call last)",
            "\u001b[0;32m<ipython-input-2-21f342cef54d>\u001b[0m in \u001b[0;36m<module>\u001b[0;34m()\u001b[0m\n\u001b[1;32m      1\u001b[0m \u001b[0;31m#Add two number\u001b[0m\u001b[0;34m\u001b[0m\u001b[0;34m\u001b[0m\u001b[0;34m\u001b[0m\u001b[0m\n\u001b[1;32m      2\u001b[0m \u001b[0;31m#Oberserve the error, while adding a number with string\u001b[0m\u001b[0;34m\u001b[0m\u001b[0;34m\u001b[0m\u001b[0;34m\u001b[0m\u001b[0m\n\u001b[0;32m----> 3\u001b[0;31m \u001b[0mprint\u001b[0m\u001b[0;34m(\u001b[0m\u001b[0;36m7\u001b[0m \u001b[0;34m+\u001b[0m \u001b[0;34m\"8\"\u001b[0m\u001b[0;34m)\u001b[0m\u001b[0;34m\u001b[0m\u001b[0;34m\u001b[0m\u001b[0m\n\u001b[0m",
            "\u001b[0;31mTypeError\u001b[0m: unsupported operand type(s) for +: 'int' and 'str'"
          ]
        }
      ]
    },
    {
      "cell_type": "markdown",
      "metadata": {
        "id": "Ei6wKreI4HQR"
      },
      "source": [
        "#Variables"
      ]
    },
    {
      "cell_type": "code",
      "metadata": {
        "id": "Yv_Ypx5k4FuQ",
        "outputId": "98541cf3-5d1e-4dfc-8ae0-3e9100402c56",
        "colab": {
          "base_uri": "https://localhost:8080/"
        }
      },
      "source": [
        "#Let's declare two variables\n",
        "length = 10\n",
        "width = 2\n",
        "area = length * width\n",
        "print(area)\n"
      ],
      "execution_count": 4,
      "outputs": [
        {
          "output_type": "stream",
          "text": [
            "20\n"
          ],
          "name": "stdout"
        }
      ]
    },
    {
      "cell_type": "markdown",
      "metadata": {
        "id": "veTGkBS949MB"
      },
      "source": [
        ""
      ]
    },
    {
      "cell_type": "code",
      "metadata": {
        "id": "KfE3qv1D4FhN"
      },
      "source": [
        ""
      ],
      "execution_count": null,
      "outputs": []
    },
    {
      "cell_type": "code",
      "metadata": {
        "id": "uvtvo-rK34Rn",
        "outputId": "f4228be8-31e1-4e55-9f87-55890198a2e7",
        "colab": {
          "base_uri": "https://localhost:8080/"
        }
      },
      "source": [
        "type(\"8\")"
      ],
      "execution_count": 3,
      "outputs": [
        {
          "output_type": "execute_result",
          "data": {
            "text/plain": [
              "str"
            ]
          },
          "metadata": {},
          "execution_count": 3
        }
      ]
    },
    {
      "cell_type": "code",
      "metadata": {
        "colab": {
          "base_uri": "https://localhost:8080/"
        },
        "id": "YYxGK33ib4h9",
        "outputId": "bceaf716-86c6-48f2-f8ab-2b17f55592ec"
      },
      "source": [
        "#Output Float values\n",
        "print(2.01)\n",
        "type(2.01)"
      ],
      "execution_count": null,
      "outputs": [
        {
          "output_type": "stream",
          "text": [
            "2.01\n"
          ],
          "name": "stdout"
        },
        {
          "output_type": "execute_result",
          "data": {
            "text/plain": [
              "float"
            ]
          },
          "metadata": {
            "tags": []
          },
          "execution_count": 7
        }
      ]
    },
    {
      "cell_type": "code",
      "metadata": {
        "colab": {
          "base_uri": "https://localhost:8080/"
        },
        "id": "vrJWoj8FcCty",
        "outputId": "e19aa7d5-5b98-4fb2-dcd5-4cc1d1bdeae9"
      },
      "source": [
        "#Print the Boolean values\n",
        "print(True)\n",
        "print(type(True))"
      ],
      "execution_count": null,
      "outputs": [
        {
          "output_type": "stream",
          "text": [
            "True\n",
            "<class 'bool'>\n"
          ],
          "name": "stdout"
        }
      ]
    },
    {
      "cell_type": "code",
      "metadata": {
        "colab": {
          "base_uri": "https://localhost:8080/"
        },
        "id": "KpYrTtfKcJJn",
        "outputId": "4cf9e854-97ba-4437-a729-17de5b8db3f6"
      },
      "source": [
        "#Overwrite previously created variable\n",
        "name = 'John'\n",
        "print(name)\n",
        "name = \"Sam\"\n",
        "print(name)\n"
      ],
      "execution_count": null,
      "outputs": [
        {
          "output_type": "stream",
          "text": [
            "John\n",
            "Sam\n"
          ],
          "name": "stdout"
        }
      ]
    },
    {
      "cell_type": "code",
      "metadata": {
        "colab": {
          "base_uri": "https://localhost:8080/"
        },
        "id": "9MMEAl1OcmDY",
        "outputId": "746ff2ed-a22c-4b04-8285-742356dfa92b"
      },
      "source": [
        "#String Index\n",
        "word = \"Hellow\"\n",
        "print(word[0])\n",
        "print(word[1])\n",
        "print(word[2])"
      ],
      "execution_count": null,
      "outputs": [
        {
          "output_type": "stream",
          "text": [
            "H\n",
            "e\n",
            "l\n"
          ],
          "name": "stdout"
        }
      ]
    },
    {
      "cell_type": "markdown",
      "metadata": {
        "id": "ewGFpoRRX9gN"
      },
      "source": [
        "**SORTED**: This function takes an iterable as an input and returns it, sorted. This function can take two additional arguments—reverse (Boolean) and key (iterable). The reverse argument allows us to get the values in reverse order, from big to"
      ]
    },
    {
      "cell_type": "code",
      "metadata": {
        "colab": {
          "base_uri": "https://localhost:8080/"
        },
        "id": "LDOEpJSyXznt",
        "outputId": "c09835a7-2b2b-498f-eaee-3e60cb2ad8ed"
      },
      "source": [
        "#The sorted function\n",
        "sorted(\"Hello There\")"
      ],
      "execution_count": null,
      "outputs": [
        {
          "output_type": "execute_result",
          "data": {
            "text/plain": [
              "[' ', 'H', 'T', 'e', 'e', 'e', 'h', 'l', 'l', 'o', 'r']"
            ]
          },
          "metadata": {},
          "execution_count": 2
        }
      ]
    },
    {
      "cell_type": "markdown",
      "metadata": {
        "id": "x8k1R51CYCZ1"
      },
      "source": [
        "**Range: **The range function generates a sequence of integers. It takes from one to three arguments, and each of those is expected to be an integer. If only one is defined, it will be treated as a right-hand limit of the range and will be not included. If two are defined—the first one will be the left-hand limit, and included in the range, while the second will take the role of the right-hand limit. If a third value is specified, it will be used as a step—the default step is equal to 1."
      ]
    },
    {
      "cell_type": "code",
      "metadata": {
        "colab": {
          "base_uri": "https://localhost:8080/"
        },
        "id": "c3xSPRrkYOhK",
        "outputId": "413bb690-5bc7-457f-e03d-2641946c34d8"
      },
      "source": [
        "list(range(3))"
      ],
      "execution_count": null,
      "outputs": [
        {
          "output_type": "execute_result",
          "data": {
            "text/plain": [
              "[0, 1, 2]"
            ]
          },
          "metadata": {},
          "execution_count": 3
        }
      ]
    },
    {
      "cell_type": "code",
      "metadata": {
        "colab": {
          "base_uri": "https://localhost:8080/"
        },
        "id": "Zpc-lQh5X4uH",
        "outputId": "9b1a9512-320b-4cd0-c358-4abb254a1ed5"
      },
      "source": [
        "list(range(1, 15, 2))"
      ],
      "execution_count": null,
      "outputs": [
        {
          "output_type": "execute_result",
          "data": {
            "text/plain": [
              "[1, 3, 5, 7, 9, 11, 13]"
            ]
          },
          "metadata": {},
          "execution_count": 4
        }
      ]
    },
    {
      "cell_type": "markdown",
      "metadata": {
        "id": "OUJdEqnuZO3K"
      },
      "source": [
        "**All and ANY:**\n",
        "all and any both take an array as their input and are logical expansions of & and | for more than two variables. Essentially, they are equal to repeating & or | for all the elements of the array. Here is an example:\n",
        "\n"
      ]
    },
    {
      "cell_type": "code",
      "metadata": {
        "colab": {
          "base_uri": "https://localhost:8080/"
        },
        "id": "lez3DWD9ZSOl",
        "outputId": "000c94d7-1c4b-4c57-a7be-26320a2588c8"
      },
      "source": [
        "all((True, False, True))"
      ],
      "execution_count": null,
      "outputs": [
        {
          "output_type": "execute_result",
          "data": {
            "text/plain": [
              "False"
            ]
          },
          "metadata": {},
          "execution_count": 6
        }
      ]
    },
    {
      "cell_type": "code",
      "metadata": {
        "colab": {
          "base_uri": "https://localhost:8080/"
        },
        "id": "hnF9WDNhZYiS",
        "outputId": "8be06cc9-a732-46e6-a1ff-81fac184768c"
      },
      "source": [
        "any((True, False, False))"
      ],
      "execution_count": null,
      "outputs": [
        {
          "output_type": "execute_result",
          "data": {
            "text/plain": [
              "True"
            ]
          },
          "metadata": {},
          "execution_count": 7
        }
      ]
    },
    {
      "cell_type": "markdown",
      "metadata": {
        "id": "VYvNKq8bZomd"
      },
      "source": [
        "In the first case, the function returns False, as there is at least one False instance in the iterable. In the second case, there is at least one True instance, so that function returns True as well."
      ]
    },
    {
      "cell_type": "markdown",
      "metadata": {
        "id": "x37pp6esZrXq"
      },
      "source": [
        "**The max, min, and sum functions**<br/>\n",
        "The max, min, and sum functions all take an array of numbers and return the maximum, minimum, or sum value as a result. Here are some examples:"
      ]
    },
    {
      "cell_type": "code",
      "metadata": {
        "colab": {
          "base_uri": "https://localhost:8080/"
        },
        "id": "8I8NF1kcZvuE",
        "outputId": "a213d4c7-1708-4adc-8131-6c58a0409b28"
      },
      "source": [
        "T=1, 2,3\n",
        "print(min(T))\n",
        "print(max(T))\n",
        "print(sum(T))\n"
      ],
      "execution_count": 1,
      "outputs": [
        {
          "output_type": "stream",
          "text": [
            "1\n",
            "3\n",
            "6\n"
          ],
          "name": "stdout"
        }
      ]
    },
    {
      "cell_type": "markdown",
      "metadata": {
        "id": "NdplY6OMZ0sr"
      },
      "source": [
        "**Lambda Function:** <br/>\n",
        "A lambda function is a small, anonymous function that take any number of arguments but only have one expression. Lambda functions return an object that is assigned to a variable or used as a part of other functions.\n",
        "\n",
        "Lambdas differ from regular function definitions in several ways. Most notably, lambda functions are restricted to a single expression, so they can’t use statements or annotations.\n",
        "\n",
        "When it comes to return values from lambdas, there is always an implicit return statement. Lambda functions evaluate the expression and automatically return a result.\n",
        "![image.png](data:image/png;base64,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)\n"
      ]
    },
    {
      "cell_type": "code",
      "metadata": {
        "colab": {
          "base_uri": "https://localhost:8080/"
        },
        "id": "uwtzOGgVZ6ca",
        "outputId": "29155a59-ef8c-4091-c494-157b7ff8ac5f"
      },
      "source": [
        "#Sort below list, based on the product value of the tuple.\n",
        "\n",
        "p = [(3,3), (4,2), (2,2), (5,2), (1,7)]\n",
        "q = sorted(p, key=lambda x: x[0]*x[1])\n",
        "print(q)"
      ],
      "execution_count": null,
      "outputs": [
        {
          "output_type": "stream",
          "text": [
            "[(2, 2), (1, 7), (4, 2), (3, 3), (5, 2)]\n"
          ],
          "name": "stdout"
        }
      ]
    },
    {
      "cell_type": "code",
      "metadata": {
        "colab": {
          "base_uri": "https://localhost:8080/"
        },
        "id": "xv9gtsY7a-UZ",
        "outputId": "b0daff13-0d4b-4eef-fa1a-162f697e36f9"
      },
      "source": [
        "#Another example of the Lambda function\n",
        "myList = [10,25,17,9,30,-5]\n",
        "#Double the value of each element\n",
        "myList2 = map(lambda n : n*2, myList)\n",
        "myList2"
      ],
      "execution_count": null,
      "outputs": [
        {
          "output_type": "execute_result",
          "data": {
            "text/plain": [
              "<map at 0x7febdab918d0>"
            ]
          },
          "metadata": {},
          "execution_count": 9
        }
      ]
    },
    {
      "cell_type": "markdown",
      "metadata": {
        "id": "JxE_mwg5sLSB"
      },
      "source": [
        "**Importing Python Module**\n"
      ]
    },
    {
      "cell_type": "code",
      "metadata": {
        "id": "t6DmLmaDsPF0"
      },
      "source": [
        "import re as regex\n",
        "my_regex = regex.compile(\"[0-9]+\", regex.I)\n"
      ],
      "execution_count": null,
      "outputs": []
    },
    {
      "cell_type": "code",
      "metadata": {
        "colab": {
          "base_uri": "https://localhost:8080/"
        },
        "id": "DWEWB9KLcx1n",
        "outputId": "56f23e23-2aba-4ead-a159-3eeb164d2bf4"
      },
      "source": [
        "#String slicing\n",
        "print(word[0:2])"
      ],
      "execution_count": null,
      "outputs": [
        {
          "output_type": "stream",
          "text": [
            "He\n"
          ],
          "name": "stdout"
        }
      ]
    },
    {
      "cell_type": "code",
      "metadata": {
        "colab": {
          "base_uri": "https://localhost:8080/"
        },
        "id": "AC2YM5VHc4j3",
        "outputId": "4fe49035-40f9-414f-8624-53f1e369a58e"
      },
      "source": [
        "#.title() method\n",
        "name = \"john smith\"\n",
        "print(name.title())"
      ],
      "execution_count": null,
      "outputs": [
        {
          "output_type": "stream",
          "text": [
            "John Smith\n"
          ],
          "name": "stdout"
        }
      ]
    },
    {
      "cell_type": "code",
      "metadata": {
        "colab": {
          "base_uri": "https://localhost:8080/"
        },
        "id": "4qMRjwarc4hQ",
        "outputId": "c96a2b91-0e45-4c7f-bb3e-3207d64c18d3"
      },
      "source": [
        "#.replace method\n",
        "words = \"Hello there!\"\n",
        "print(words.replace(\"!\", \".\"))"
      ],
      "execution_count": null,
      "outputs": [
        {
          "output_type": "stream",
          "text": [
            "Hello there.\n"
          ],
          "name": "stdout"
        }
      ]
    },
    {
      "cell_type": "code",
      "metadata": {
        "colab": {
          "base_uri": "https://localhost:8080/"
        },
        "id": "j8uczkRcc4eY",
        "outputId": "22263007-4eb4-49d5-edb0-f667afe8d5c9"
      },
      "source": [
        "#.Strip() method would get rid of a certain character from the left or the right side of the string\n",
        "name = \" John \"\n",
        "print(name.strip())"
      ],
      "execution_count": null,
      "outputs": [
        {
          "output_type": "stream",
          "text": [
            "John\n"
          ],
          "name": "stdout"
        }
      ]
    },
    {
      "cell_type": "markdown",
      "metadata": {
        "id": "5cRr7kKudnk4"
      },
      "source": [
        "#User Input and Conditionals"
      ]
    },
    {
      "cell_type": "code",
      "metadata": {
        "colab": {
          "base_uri": "https://localhost:8080/"
        },
        "id": "r2MChJPKc4bi",
        "outputId": "06911b97-71c5-4e71-fa62-41c79ed783f6"
      },
      "source": [
        "#converting the datatype\n",
        "num = \"9\"\n",
        "num = int(num)  #re-declaring the num to store an integer\n",
        "print(type(num))"
      ],
      "execution_count": null,
      "outputs": [
        {
          "output_type": "stream",
          "text": [
            "<class 'int'>\n"
          ],
          "name": "stdout"
        }
      ]
    },
    {
      "cell_type": "code",
      "metadata": {
        "colab": {
          "base_uri": "https://localhost:8080/"
        },
        "id": "iwp-hMzYc4Yf",
        "outputId": "9d215187-5bb1-4bc3-cfbd-743f38d6de3d"
      },
      "source": [
        "#working on the user input to perform calculation\n",
        "ans = input(\"Type a number to add:\")\n",
        "print(type(ans))\n",
        "if type(ans) == int:\n",
        "  result = 100 + int(ans)\n",
        "  print(\"100 + {} = {}\".format(ans, result))\n",
        "else:\n",
        "  print(\"Please enter the Int value\")\n"
      ],
      "execution_count": null,
      "outputs": [
        {
          "output_type": "stream",
          "text": [
            "Type a number to add:as\n",
            "<class 'str'>\n",
            "Please enter the Int value\n"
          ],
          "name": "stdout"
        }
      ]
    },
    {
      "cell_type": "markdown",
      "metadata": {
        "id": "5g8NBEXJet_y"
      },
      "source": [
        "#Error handling in Python"
      ]
    },
    {
      "cell_type": "code",
      "metadata": {
        "colab": {
          "base_uri": "https://localhost:8080/"
        },
        "id": "ZJyjpuXRc4VE",
        "outputId": "b97f9c0a-7000-4673-a1aa-c9791c0a3772"
      },
      "source": [
        "try:\n",
        "  ans = float(input(\"Type a number to add:\"))\n",
        "  print(\"100 + {}\".format(ans,100+ans))\n",
        "except:\n",
        "  print(\"You did not put in a valid number\")\n"
      ],
      "execution_count": null,
      "outputs": [
        {
          "output_type": "stream",
          "text": [
            "Type a number to add:asd\n",
            "You did not put in a valid number\n"
          ],
          "name": "stdout"
        }
      ]
    },
    {
      "cell_type": "markdown",
      "metadata": {
        "id": "6bKKLXkDfcYz"
      },
      "source": [
        "#If and ELIF statements in Python"
      ]
    },
    {
      "cell_type": "code",
      "metadata": {
        "colab": {
          "base_uri": "https://localhost:8080/"
        },
        "id": "r_xJKOLZfRV-",
        "outputId": "67a0d787-cb60-4bb5-df61-b1f26ea89f86"
      },
      "source": [
        "x ,y = 5, 10\n",
        "if x > y:\n",
        "  print(\"X is greater!!\")\n",
        "elif x < y:\n",
        "  print(\"X is smaller\")\n",
        "else:\n",
        "  print(\"Both x and y are equal\")"
      ],
      "execution_count": null,
      "outputs": [
        {
          "output_type": "stream",
          "text": [
            "X is smaller\n"
          ],
          "name": "stdout"
        }
      ]
    },
    {
      "cell_type": "markdown",
      "metadata": {
        "id": "Vger8z8kgYpd"
      },
      "source": [
        "#Setup Try/Except for the Mathematical Operation"
      ]
    },
    {
      "cell_type": "markdown",
      "metadata": {
        "id": "8fCB_mg4gYoA"
      },
      "source": [
        ""
      ]
    },
    {
      "cell_type": "code",
      "metadata": {
        "colab": {
          "base_uri": "https://localhost:8080/"
        },
        "id": "uETl1DwHfRS_",
        "outputId": "dd400142-1d06-4dd2-d937-b113458d1f11"
      },
      "source": [
        "try:\n",
        "  #step 3a: Immediately try to convert numbers input to floats\n",
        "  num1, num2 = float(num1) , float(num2)\n",
        "  #step 3b: perform operation and print result\n",
        "  if operation == \"add\":\n",
        "    result = num1 + num2\n",
        "    print(\"{} + {} = {}\".format(num1, num2, result))\n",
        "  elif operation == \"subtract\":\n",
        "    result = num1 + num2\n",
        "    print(\"{} * {} = {}\".format(num1, num2, result))\n",
        "  elif operation == \"divide\":\n",
        "    result = num1 / num2\n",
        "    print(\"{} / {} == {}\".format(num1, num2, result))\n",
        "  else:\n",
        "    #else will be hit if they didn't chose an option\n",
        "    print(\"Error:\")\n",
        "except:\n",
        "  print(\"Error, except\")\n"
      ],
      "execution_count": null,
      "outputs": [
        {
          "output_type": "stream",
          "text": [
            "Error, except\n"
          ],
          "name": "stdout"
        }
      ]
    },
    {
      "cell_type": "markdown",
      "metadata": {
        "id": "anCLMoA92Iqs"
      },
      "source": [
        "##Python Lists"
      ]
    },
    {
      "cell_type": "markdown",
      "metadata": {
        "id": "5l6oT1ov2Iop"
      },
      "source": [
        ""
      ]
    },
    {
      "cell_type": "code",
      "metadata": {
        "colab": {
          "base_uri": "https://localhost:8080/"
        },
        "id": "Bxg2NuLi2MaP",
        "outputId": "0b3564f4-c3d5-4ae4-c834-6ca33e1b8795"
      },
      "source": [
        "nums = [5, 10, 15.3, 20]\n",
        "print(nums)"
      ],
      "execution_count": null,
      "outputs": [
        {
          "output_type": "stream",
          "text": [
            "[5, 10, 15.3, 20]\n"
          ],
          "name": "stdout"
        }
      ]
    },
    {
      "cell_type": "code",
      "metadata": {
        "colab": {
          "base_uri": "https://localhost:8080/"
        },
        "id": "oUYm3M1IfRPw",
        "outputId": "024656ef-98af-4e7c-e522-a604d2d6f3f6"
      },
      "source": [
        "#you could assign a new value\n",
        "num = 4.3\n",
        "num = nums[2]\n",
        "print(num)"
      ],
      "execution_count": null,
      "outputs": [
        {
          "output_type": "stream",
          "text": [
            "15.3\n"
          ],
          "name": "stdout"
        }
      ]
    },
    {
      "cell_type": "code",
      "metadata": {
        "colab": {
          "base_uri": "https://localhost:8080/"
        },
        "id": "LFZO6eS_fRMz",
        "outputId": "758b504b-f2cc-4ed7-ba67-51455a7ba59c"
      },
      "source": [
        "#List of the values\n",
        "data = [5, \"book\", [34, \"hello\", True]]\n",
        "type\n",
        "print(data)"
      ],
      "execution_count": null,
      "outputs": [
        {
          "output_type": "stream",
          "text": [
            "[5, 'book', [34, 'hello', True]]\n"
          ],
          "name": "stdout"
        }
      ]
    },
    {
      "cell_type": "code",
      "metadata": {
        "colab": {
          "base_uri": "https://localhost:8080/"
        },
        "id": "CTNlXkUlfRJ3",
        "outputId": "7da408d0-47d5-46a3-ab2e-ecfaa31dc79c"
      },
      "source": [
        "data = [5, 10, 15, 20]\n",
        "data_copy = data[:] # a single colon copies the list\n",
        "data_c = data\n",
        "print(data_copy)\n",
        "print(data_c)\n",
        "print(data_c)"
      ],
      "execution_count": null,
      "outputs": [
        {
          "output_type": "stream",
          "text": [
            "[5, 10, 15, 20]\n",
            "[5, 10, 15, 20]\n",
            "[5, 10, 15, 20]\n"
          ],
          "name": "stdout"
        }
      ]
    },
    {
      "cell_type": "code",
      "metadata": {
        "id": "myhqgCqEriq-"
      },
      "source": [
        "#Changing list\n",
        "planets = ['Mercury', 'Venus', 'Earth', 'Mars', 'Jupiter', 'Saturn', 'Uranus', 'Neptune']\n"
      ],
      "execution_count": null,
      "outputs": []
    },
    {
      "cell_type": "code",
      "metadata": {
        "id": "F2d909bVrs_I",
        "colab": {
          "base_uri": "https://localhost:8080/",
          "height": 35
        },
        "outputId": "78931f9b-a297-43e5-fbb2-8a6f0a348006"
      },
      "source": [
        "#Indexing \n",
        "planets[-1]"
      ],
      "execution_count": null,
      "outputs": [
        {
          "output_type": "execute_result",
          "data": {
            "application/vnd.google.colaboratory.intrinsic+json": {
              "type": "string"
            },
            "text/plain": [
              "'Neptune'"
            ]
          },
          "metadata": {},
          "execution_count": 2
        }
      ]
    },
    {
      "cell_type": "code",
      "metadata": {
        "id": "Bb22utMbrxUM",
        "colab": {
          "base_uri": "https://localhost:8080/"
        },
        "outputId": "9b41c047-f715-4a3d-c8af-f38e87454f24"
      },
      "source": [
        "#Slicing\n",
        "planets[0:3]"
      ],
      "execution_count": null,
      "outputs": [
        {
          "output_type": "execute_result",
          "data": {
            "text/plain": [
              "['Mercury', 'Venus', 'Earth']"
            ]
          },
          "metadata": {},
          "execution_count": 3
        }
      ]
    },
    {
      "cell_type": "code",
      "metadata": {
        "id": "ZFp6nIqUr2NS",
        "colab": {
          "base_uri": "https://localhost:8080/"
        },
        "outputId": "56559733-95e1-487c-de8e-739db17cca74"
      },
      "source": [
        "planets[:3]"
      ],
      "execution_count": null,
      "outputs": [
        {
          "output_type": "execute_result",
          "data": {
            "text/plain": [
              "['Mercury', 'Venus', 'Earth']"
            ]
          },
          "metadata": {},
          "execution_count": 4
        }
      ]
    },
    {
      "cell_type": "markdown",
      "metadata": {
        "id": "-IFcdDTX3WmR"
      },
      "source": [
        "#For loop"
      ]
    },
    {
      "cell_type": "markdown",
      "metadata": {
        "id": "xBcx-_5u3WkZ"
      },
      "source": [
        ""
      ]
    },
    {
      "cell_type": "code",
      "metadata": {
        "colab": {
          "base_uri": "https://localhost:8080/"
        },
        "id": "B00t0l4v3ZLv",
        "outputId": "f22a86f6-acb0-496e-b798-c4dca89e08c7"
      },
      "source": [
        "for num in range(5):\n",
        "  print(\"Values : {}\".format(num))\n",
        "  "
      ],
      "execution_count": null,
      "outputs": [
        {
          "output_type": "stream",
          "text": [
            "Values : 0\n",
            "Values : 1\n",
            "Values : 2\n",
            "Values : 3\n",
            "Values : 4\n"
          ],
          "name": "stdout"
        }
      ]
    },
    {
      "cell_type": "markdown",
      "metadata": {
        "id": "E9Ih8vIa3qqy"
      },
      "source": [
        "#The \"continue\" statement\n",
        "###Once a continue statement is hit, the current iteration stops and goes back to the top of the loop. Let’s see an example:\n"
      ]
    },
    {
      "cell_type": "code",
      "metadata": {
        "colab": {
          "base_uri": "https://localhost:8080/"
        },
        "id": "cVkkkJjP3nM-",
        "outputId": "1b829162-e0c0-4c6d-ef29-265a82a938f0"
      },
      "source": [
        "for num in range(5):\n",
        "  if num == 3:\n",
        "    continue\n",
        "  print(num)\n",
        "  "
      ],
      "execution_count": null,
      "outputs": [
        {
          "output_type": "stream",
          "text": [
            "0\n",
            "1\n",
            "2\n",
            "4\n"
          ],
          "name": "stdout"
        }
      ]
    },
    {
      "cell_type": "markdown",
      "metadata": {
        "id": "MeAYvopG316X"
      },
      "source": [
        "#The \"break\" statement\n",
        "###It allows us to break out of a loop at any point in time. Let’s see an example:\n"
      ]
    },
    {
      "cell_type": "code",
      "metadata": {
        "colab": {
          "base_uri": "https://localhost:8080/"
        },
        "id": "WckFzWUv3nJf",
        "outputId": "0d764ae1-cd73-4d9c-c7f1-17edfbae9f10"
      },
      "source": [
        "for num in range(5):\n",
        "  if num == 3:\n",
        "    break\n",
        "  print(num)"
      ],
      "execution_count": null,
      "outputs": [
        {
          "output_type": "stream",
          "text": [
            "0\n",
            "1\n",
            "2\n"
          ],
          "name": "stdout"
        }
      ]
    },
    {
      "cell_type": "markdown",
      "metadata": {
        "id": "8yQiy6B64Yl-"
      },
      "source": [
        "#The \"Pass\" statement\n",
        "### The pass statement is simply just a placeholder so that the program doesn’t break. Let’s see an example:\n"
      ]
    },
    {
      "cell_type": "code",
      "metadata": {
        "id": "Sye_yxfTfRGn"
      },
      "source": [
        "for i in range(5):\n",
        "  #Todo\n",
        "  pass"
      ],
      "execution_count": null,
      "outputs": []
    },
    {
      "cell_type": "markdown",
      "metadata": {
        "id": "AuiJyy-a471E"
      },
      "source": [
        "#While loop\n",
        "###It is a like a for loop"
      ]
    },
    {
      "cell_type": "markdown",
      "metadata": {
        "id": "KoDHlX845e6_"
      },
      "source": [
        ""
      ]
    },
    {
      "cell_type": "code",
      "metadata": {
        "id": "wjmTGHWY5gzH"
      },
      "source": [
        ""
      ],
      "execution_count": null,
      "outputs": []
    },
    {
      "cell_type": "code",
      "metadata": {
        "colab": {
          "base_uri": "https://localhost:8080/"
        },
        "id": "gGYxA_pr5EAc",
        "outputId": "cb539af4-3202-4fbd-e884-8c56c6d80faa"
      },
      "source": [
        "health = 10\n",
        "while health > 0:\n",
        "  print(health)\n",
        "  health -= 1 #Forgetting this would make an infinite loop\n"
      ],
      "execution_count": null,
      "outputs": [
        {
          "output_type": "stream",
          "text": [
            "10\n",
            "9\n",
            "8\n",
            "7\n",
            "6\n",
            "5\n",
            "4\n",
            "3\n",
            "2\n",
            "1\n"
          ],
          "name": "stdout"
        }
      ]
    },
    {
      "cell_type": "markdown",
      "metadata": {
        "id": "3iOAfNVI5h31"
      },
      "source": [
        "#Functions in Python\n",
        "###Functions give us the ability to make our programs much more powerful and clean while also saving us time. We’ll go over how they work on the first day, but the reason we use functions is because of the ability to write once and call repeatedly.\n",
        "![image.png](data:image/png;base64,iVBORw0KGgoAAAANSUhEUgAAAwgAAADUCAYAAAA4EQTeAAAgAElEQVR4AezdB7NtVZU3/OdD9FNtd9ldpmqtNpSKhaiFDcgroFgIItkSlCw5SZAgGclZkJxzkTOScwZFcoZLloyKut76zXacZ97lTuecve/d59yxqtZeaYYx/3PMkeZca/+fZgy2p59+ujn00EObDTbYoFlhhRUmKNp0002bvfbaa+L6pJNOalZcccWJ6w8//LBZeumlm9NOO63cO/roo5tHH3104nl9cvPNNzcLLbRQ86c//Wni9rPPPlvuXXLJJeXeJpts0uyzzz4Tzx9++OHy/NVXX52497Wvfa25+uqry/Xqq6/enHDCCc39998/1/6Xv/ylPF900UWbK664YiJvp5MHH3yw1HHLLbd0elzu9Wtnm+5TTz21WX755SfKizr++Mc/Nu+9916z8MILN/Cot2WWWabZddddy602zr///e8Lja+//nqdZeL8sMMOK8/11zPPPDNxP/K9+eabE/ecdOvvdjv64bvkkks2F1544UTZv/rVr5qNNtpo4vquu+4qdGnz9ddfXzBp99Vzzz1X0vdr84knntistNJKE2VP5uRvf/tbo3y8A/u77767ZO/VvgMOOKDZdttt5+IrtOvDTttxxx1X2opXYquxcQ9v1/isscYazc9//vNI3qyzzjqNcmJba621msMPPzwumyOOOKJxL7bNN9+82WOPPeKyHHu1aa6EHS4efend5ovbXNM88MJb5ekptz3fHHbtUxP7q+/8ea5cyxxwW3P4tU/Nda/TxT333FOwef/998vjQcbAKaecMpcs6lSue3/961+b8847rzn44INL/8Z4D96vxwx5cOWVV3YsahDczj333NKO2267rWMZ7h900EGFz+t+mcw4UfD+++9fZHFdCd7fYYcdyq033nij0KGNtsnyal1unicCiUAikAiMJwL/Z36Tdc455zQ77rhjMdwZtj/4wQ8mSNpss82avffee+L65JNPbn74wx9OXDs59thjm+WWW65hhG233XZzPasvzjrrrKLUHnnkkYnbH3zwQbl3+eWXl3ttA7WTg/CNb3yjueqqq0p69VKm3bZvfvObQ3EQlN+rnW262w5CGCsU+xNPPFHaLE29MRbDqGjj/NBDD5U88nfbGEmw0eY777yzJIt6awehV3+329EPX4bPRRddNEHSvvvu22y88cYT1wxxTiHDkBPIOH/rrf81PicS/eOkX5sn6yAwDF944YW5qmHgL7LIIs0vfvGLcr9X+zhrq6222lz5e110chCMiXrjINT4XHbZZQ0MX3755bI7rw3aQRyEPffcs66ijMVeY2KuxB0uvrXPzc3Dc94tT9b4zb3N/7fvLRP7oy+/N1eOqToIg4yBtiyaq+J/XHDW1ltvvYYjaqvHe6cxw0EI2dEurxcvRFr8vPjii8/l5Hmmn3/5y182aP773//ecNzqfpnMOFFeJweBY6kOW9tBmCyvlkLyJxFIBBKBRGCsEZivDoLI9te//vXmz3/+38ggBVfPIAziIDA+lWEGghPQbRNdYywyZGOT172IIrcN1H4OAuOgntFQrsh8tKc2GKLO9jGi+71mEOTp1c423XCsZxDCUKfYOUVf/epXJ6KBQY8I4fnnn18u+xnLkSeOEUk0e7DyyiuXSLRnUW84CP36u92OfvhOxvAJZ6GO4DKsbrjhhoHaPFkHARZmDdob4y2i+L3aZzbsK1/5ylwG+5w5cxo82Wnr5CC007UdBHzKKTRLwEkWWa+3ddddtznwwAMnbplBWHPNNSeu24aoB73aNJGxy8n7f/lbs9heNzV/+3uXBK3bU3UQBhkDgzgInK2jjjpqgqp6vE/WQeiHGyeXgS7AwdGNoIbK8aa+iq09szOZcaIMDgJ66o2zaLbU1nYQJsurdbl5nggkAolAIjCeCMxXB8FSHcpuzksvlciu5Q7LLrtsMYoYL5Yc7b777hPIUYTf//73J67jhJHDSXj77bfj1j8dGYOM5q233nriGaN8ww03nLi2pGOrrbYqywYYY2G8O4/NMpFLL720XF5wwQXFwbC0hZPBCTn++OMjaSNiKE2vLRyXWuF3S9+tnW26KXIRydiiHSLFNhG/73znO8VZcA03uEb0+JhjjpnLwfjd735X2hn5o9w4WpoSm6j0FltsUS6ffPLJks+yL/j06+92O/rhu9hii83l8DGA8UxsZjI4gGYNLPuCiXbrd8vLLAuJNvVr89lnn12it8oOh/Liiy+eOI8648hB4OwGpu7jQfwdS+J6tc8yLGOD4cco5Bjst99+JUIcddRHbdHWd955p7491zn+WX/99SfuWb535plnFho5B+irt+2337756U9/Wm5pB6OxnsGzpGynnXaqsxR+R0e3MVEnvu+5t5oHX/jfMfv3vzfNkdc93Zx2x9yzLnX69vm39rmlOfCq/kuM9Dea6nHcbwxw7r773e+2q5zrGha77bZbuXf77beX2SHLul588cXm3nvvLXW+8sorE3nMsIXsmLj5j5NevCAJ3n7++edLagY8oz/K9szMq/7Dd+jaeeedCx0yTGacSK/8eibX+FlqqaUmeNmYged9995X6OnHq73GSSkgfxKBRCARSATGDoH56iCIiok4U2AMd9F9RpHlNCK77jOyRH8ZSIwVSzQYofXmWayPre+3zxmFlCfjQMTVkqTaoIplKJaAUIKUP0V4yCGHlOszzjijXDOAGQEUMuUsjV1b5LMOXATSPTSLJnbaGBEMWukY2YyMXlu3dtZ0q+snP/lJwYnRgR6GoTpEimFu33LLLYvxyViFvbJtjz32WGM9NEfI8h35OWnye9egHWWWh7GiDNF5aaO9jHJ4M8z1Z6/+Vk7dDnm74SutpUpoEsW1ZMQyD7M5aLn22mtL/1i6Jo0or3dPzGgw+tzDZ/rINkibOTscPpFUDgIHFkZ1BLkU9o8fhppou35lcHFu5cUvYYj3ap9i4M/xRa+lJbGUpa7HOdw4eNKpCx7t7YEHHihO3xJLLDHx/om08sQOEw4E3rapz3gzBs3Q6X/4mmnyTofzb3/728111103UV2/Nk0kbJrmoKufar607bXNCofd2ax13H3NOff8P0e8Ttc+f/uDD5uTbn2+WWj765rlD72zufbh19pJJq4ff/zx4rBqo2U3wee9xoA0xpAZHDwSM4IThf7jxDsB+sfsm7FmmR4ZwCEnj9RpzBlDp59+erkW3Q9Dvy6vF276SR+EgxNyyDg11vC1vsDbZnwstcMvN91005TGifqUxyHFW4IoxpTN7Is2aRs5Krhj68ar/cZJyZw/iUAikAgkAmOHwHx1EAKNWILiupMBGum6HSnnfsZ1nZcB1G0tOgU42U1ZDMIw/Cabf9D0vdo5FbrhHkbHoDR0Ssf45miJJLY3mLQNrF793akdw8QXPU899VTP2aZ2G+JaO+o+9vK6l1Q7bTBhhNq8i8CI68ZzvdqnTgZ/G8NOdU72HkPvtddeKwasvuOwejnXUqLY9CsD1+Y4KB292hRlO771wV+aV1ovH9fPR30+3TFAXsWL4W3+mArtg+LWLhsNITu9hxC81043yDUHQeBC3+O9+OhCv7zdeLXXOOlXZj5PBBKBRCARmD8IjIWDMJWmU4KUKUPM0iTXs3FbUNo5G/tunNtktqdetx603njjjXOtb4/7eVxwEDBzUC/VW3Bani1NBBKBRCARCARmrINg7bRpblPhnZZURANn+nFBaedM76eZRr8x49O23/ve98pSO5+qZBSaQchtwUZAwMVyvdkadFmwezdbnwgkAonAYAjMWAfBi7Ve+Ov16c3BIBjvVAtKO8e7F2YvdZZbeffHewT1/33Mixb75Gfs6uO0xHU4/XHtOGiaeUH7bK3j1ltvLS+uC0zUX/yare3NdiUCiUAikAh0RmDGOgidm5N3E4FEIBFIBBKBRCARSAQSgURgOgikgzAd9DJvIpAIJAKJQCKQCCQCiUAiMMsQSAdhlnVoNicRSAQSgUQgEUgEEoFEIBGYDgLpIEwHvcybCCQCiUAikAgkAolAIpAIzDIE0kGYZR2azUkEEoFEIBFIBBKBRCARSASmg0A6CNNBL/MmAolAIpAIJAKJQCKQCCQCswyBdBBmWYdmcxKBRCARSAQSgUQgEUgEEoHpIJAOwnTQy7yJQCKQCCQCiUAikAgkAonALEMgHYRZ1qHZnEQgEUgEEoFEIBFIBBKBRGA6CKSDMB30Mm8ikAgkAolAIpAIJAKJQCIwyxBIB2GWdWg2JxFIBBKBRCARSAQSgUQgEZgOAukgTAe9zJsIJAKJQCKQCCQCiUAikAjMMgTSQZhlHZrNSQQSgUQgEUgEEoFEIBFIBKaDQDoI00Ev8yYCiUAikAgkAolAIpAIJAKzDIF0EGZZh2ZzEoFEIBFIBBKBRCARSAQSgekgkA7CdNDLvIlAIpAIJAKJQCKQCCQCicAsQyAdhFnWodmcRCARSAQSgUQgEUgEEoFEYDoIpIMwHfQybyKQCCQCiUAikAgkAolAIjDLEEgHYZZ1aDYnEUgEEoFEIBFIBBKBRCARmA4C6SBMB73MmwgkAolAIpAIJAKJQCKQCMwyBNJBmGUdms1JBBKBRCARSAQSgUQgEUgEpoNAOgjTQS/zJgKJQCKQCCQCiUAikAgkArMMgXQQZlmHZnMSgZmAwN///vfmb3/7W/Phhx82f/7zn5sPPvig7H/605+a9v6Xv/yl+etf/1rSyzc/tqAXzWgJelzHju433nijefbZZ5tXX321tM2zebmhE14whW2Nl/Noh2fSOc5rGuclHllXIoDnY8zGuI2xUB+Ng0g3rDERdRuP9XhTT4xRY9C1tJ22oNGzbmk65ZvMPeVqc+yua6wmW5a8IYcc63InU1amnb8IpIMwf/HP2hOBBRKBUEjvvPNOc++99zaXXHJJc8EFFzQXXnjhXPull15anr/11lvz1ZANekOxcwYovlCiju+//35z5513NocddlhzzTXXFIdnWIbGoEyCpqeeeqq55ZZbyhGdaEB/7JEGreHIDFp+pksEZhoC+N74fO+995rXX3+9efnll5s5L730T/trr73WvPvuu0N1mtX95ptvFrnw4IMPNuQdh2DOnDnNjTfe2PzhD39o3n777Ykx2gnbGLeeOR/2FviQFeTsK6+8UjCCFXrJi8nUK602Pvfcc821115bcK7l0LDpz/JGh0A6CKPDNktOBBKBLgiEUqKoDz300GattdZqNtpoo2bLLbdsttpqq3J0vsMOOzSnn3568+KLLxalI1/sddFxb7pHZXYrg6FNWT7//PPNPffcU2hy7X4YIL///e+bs846q7n99tvLTEjbOO9WdrSl2/O4H/RF+vaREXT55Zc3G2+8cXPUUUcVJR00KgM9Zmsuu+yyZq+99moeeOCBch3lj/oY9HeqpxdW7XbmdSIwKAJ4jcF6//33F+d99913b3bddddmt912m9jdO/bYY5vHHntsSuM2aGnzNZ5+5plnylg7+uiji7Fs/F1//fXNz372s+bII48s98gPeW3tMtrX3eqKdJ3KiDztI/pgwzG46667mpNPPrn51a9+1ey9994NetHJYahlSD86lSm9vBtuuGFz9913z+UEBZ3tY9BW32+3pdN15Mvj8BFIB2H4mGaJiUAi0AcBSoAi4SAccMABRVHfcccdxfiuo3uUkwhcTMfHVL38sTmnYCk6iskxzrtdS6/+Whm5tkdZUWddngjjDTfcUJSoo+ifOuRxZKD/8Y9/nIgURj1RpjTRhngWdETddRppazoiT93+Ggf0XXTRRc0qq6xS9jPPPLNgrA3RPgaKmZpddtmlue/e+8rMh/I8r3FDh2t1Rr1RRqRzjPNIH/fkcS/2dhlRlvvyBC7OI230T7Qxj4nAZBHAQ3iQ4ywQIejACD7wwAOL7CF/7Keddlrz9NNPFz4M3ux3rMehtMG3zj1z/cQTT5SxZmbRzAE+F/D47W9/W2YQjNk6X9TZ6Z5nsSm/ThvXxo/7kb+mMfI6ei6y/8gjjzT77bdfs9JKKzXrr79+s8ceezT77LNPCdiQI/vuu29xnMiNukx1RJ1xP+pFg/bBm1wnJyOtY30eeeJeXa7zeK6OkA1RRt2ePB8+AukgDB/TLDERSAT6IBDKIByEUEIUuWe2UAKOFIMlAKKAIviRzjOKw7OHHnqoRMwpvVDCIuRPPvlkUXCi+qJaltaI6jHmQ5lSQvKIpFmiI5pmCcBtt91W8nq3wJS7+kXmN9lkk+bXv/51UYKWDsinXkt2zCLEjAfa3Eef6CRlefPNN5eomnrkU690ji+88ELzu9/9rhgqDz/8cHPrrbcWh0QUzrNYAhEY1TC7Z0kAB2HddddtfvKTnzRbb711We5EQUdbw0HYeeedy/ItS6PgybFhzMDnpptuKrQ++uij5b2KoFEZaLY0gmEhPaw4S2h1DSuOnfbCzzP0ezcDfdpqV6e6GU0whIt6tV9+dIaxULczzxOBySCAh/CaZYwi2vjRWDKe610ggkyQFr/jVbzu6JkxbHy7F8ZyjENHY8NYj7TSOzeOjTUzpeSCso1jZRlzUZaj9OozXtFmHDi6p2zjJjbtUqcxZMwpT1r0KT9ol6bThg6ykUOw5pprNscff3yZUUQjuWyMm1H4+c9/XpYsok9ZUSfao070Ks+zoMsyS+WSeWhxP56hL+SEo/xwj/zS6Qt4aJ/n6rI8TBvdkzbw79S+vDd9BNJBmD6GWUIikAhMEgGCnRKoHQTGKKEfmzSRjnKyrGennXYqy2MoGPk9l4cBysmwdMYzyoUh8Mtf/rJEx0TLt9hii2LYMxIsr1GedMqheClj7zzIY5nTtttuW5Y6/eIXvygRd87GKaecUpYGLL/88sUIR88JJ5xQHA5KjBMi+nb11VcXhUlpcmhE8rfffvtSHoXLcJf3qquuKoaHNlCiopxoFdET6USz5ULrrbdeMTA4QbBAc3uDBUPC7IDlWRyZHXfcsRgnjHi4aCflKk04CDCg7DkW2o62aDsa0ERRU+CMFE7A/vvvX2Z9LNVQ16abblpoVB8MLQtT/uabb17ot5xC/5ixCEMAHYwnjtY222xT6nS0n3jiicV4QW/wQbu9eZ0IDIKAsYLnOAj4MAxWvOVZ7HHtyLhn4FpDb+yceuqpZcbhoIMOKu9KCTAY2/KGjDK+OLdmIg455JCynOn8889vrrvuuoYMcS8cBDMV55xzTgk4hHHMWD/jjDOKDLnyyivL+DXTYakP59kYDKM45B46lX/MMceUMWnJkvHHuD/vvPOKw40u6WOL8aQ87TJrcO655xbDW5u0364usoEzhUbXcGSgq9OSLDMvxi96tY18gIm04SCQieEgyE/mkynyyf+b3/ymyGrlBqbSkenoevzxx4u8gh88ODLxPoe6chsdAukgjA7bLDkRSAS6IBBKlbJgbDLYRd4pMwYwRWOnMCgbxqTI9nbbbVcUfRj2oSg9U8bFF1884SCY4hbp924DxUvhUOAMBUY4BeVFOsqIgUzJMU4pPuVxWBi0lJT3CkTEGfuuGfnuiaKLgKMP7aLo1jNfccUVpR0iXhQ1YxkNymMUi6yrX1rKVt4w0jkDnAmK3oyFPGeffXZp+0knnVQcGZi0N1hwEBj66NNObeKIWG+t7Z7bGS61g0CBi95zWDhC2oVGClxe96JPKGx5zVIcd9xxBStlq8t9MxccC04R2u3q43TAViQQXoysI444okQwGQycH7t260tORhgN2pZbIjAVBBiRxnjMIHiBHw8ac/gw9jCOpcebHFoO7mabbVb4mnNAbuBvswEcZWPCWDR+jDuOMhl1+OGHF952zoFeY401ipwLI5os4vzjdeNeOQzpH//4x6VOAQr1H3zwwSW/IIGxKdqOPrSSRcYnGUeOcBLQxRkxZtdee+3iXMhTjx/nHAAOCdrUYTYTDcr2vN7DWYAhx0bbOBXGKONeQAR95Di5QTajLxwEDlkEGDguggqRXn60awP6zTLqDzqAvCQLtQed8IfJBhtsUAI4HDeOS26jQyAdhNFhmyUnAolAFwQoIMooHASGuYiaZT0UuJ2xzWmgfCkdioaRSdF3chD23HPPoqQpfs8pKIrIWmOKjdKh5Bj0jE/KnvFKMTL+pfNyXih+itEzSoihqlxliCpSao7uhTJVZzgIDF6KjmFNgTKkGQfqZ1DIpx4KPtYmq0Nkn0MjCkmpql+d8oYxzUCngNsbOpTLUGGYcJBE/xghjAX55WWQhNPiC1LoRBfHQZ3aa+fcKItyhrmyAyuOAPw4UdotP0NEudYyMyIYHWiXBx3ql4eRgAaOEYPK16s8V7f7DB/GAUOCg4S+MFzabc7rRKAfAngHf+Jhxj0n1XnMEFh2SN7gO+nCeMbj3/3ud4tcwOfkhjFrZu6nP/1p4VvjBP8zVo1bhrnotvFq/BhfZNuiiy5aot/43Hggy8xk4n2zAO5x0Jdbbrlm5ZVXLuOOk6IMjjpngtOgfvKDrCBTVl111SLL3Of0oJGjgZYllliizFq4TzbYQlZpJ5o5JIIqytPuTps8nmmrJUfeK0C3OuWDGxnDCTLzh2bjHr7xDoJxrZ3kqz7wTPvc4xTI530HM8DkCEzdW3LJJQtO5CpMtQ9O2k2eCPDkNjoE0kEYHbZZciKQCHRBgNKpHQTKYZ111imRJEajqB2lSAkw7iknUf1BHQRGJQNZJF70mvFJydmdi8ZZDmPqnuEbhj0nhTKTDn2Rh1K2M8wZttbtOlJkoXTVSZlzHmKpEyeC0YAWBrgyw2BxzVERiWM0U+SUNcOEEmQ0RL3qYTQri9PkWXtDR+0gqBtu4RBZOkTBU8hmQdTDgFE2g4Fit+yK8eS5+kzpixbChaOmXs4UZ8zSBzSHUaX9jC3GCceixpzS11azGepAk1kRa5QtHTDbYEbGUTpLrBhEZiUCN+3LLRGYLAIx3vCkpYEc2B/96EfFUGWskjucYOMZDxvznNuIdDP43cf7xorZMmOJbML/duPKbAM5YpwwkMkK6ZW72mqrlWAAY9p9RrxIONkUDoLgCNoY0Yxn9dkZ4cYiA5xj4Z6ZNsuljEO0ok+5xiIZYNyssMIKZUYBfTF2QlZJa6wqE30xxtrYSh/4kcPkqbFp/Gob+aRObYAH+SwogoZwEMhtbSBrOEWWaUoPo5CpyiaPtIfRr2wOAofJbKzln2jWdu0RdJFeX+Q2OgTSQRgdtllyIpAIdEEgFE/MIJhGZrQT+Ixlu6U4jFnKhsIIB4Gip9DCiKc4KGbGswi8ZxQmo5xBKpqvDIpOvYxmzzgIDHHPOAry186E9PWuPgqKQuUEOKIrynUejkY4CN5FUC5lHDRIT6mik1HM2dBuio+DIL22SiNt1Mug9kxadLQ3bVMHfMwgBH0UMRxN57uvjQwa2FDa6KCARf85BNYxW+crvXcSOjkI0lnuVDtT6mHkMJQodeUGfowm9KtT5DJmCRgolL2oroioeh1FaZXP2NCXgXG7zXmdCPRDIMYbx5czgM8Z2njLzgFgcBt/MeYY3cZlGKwhazxnvMe7TQxlswKW6ZAJZhqMA+ntDGCyjLNriYy05FUnB4EsMh6MTQZ0jB1jmmwUNef0Gw/kg+i/MYIGdEWdzrWL8212UllkQ2zOpYGBMuDCgUerZ+0dHeSNMgVvOPAMfmVI6znZR86asfXul7EfDoJ6YEvmchDIQjIYvVEXOUIGkB0w1GZtgwf8BBvUI4+85IRllIINuY0OgXQQRodtlpwIJAJdEAjFwkGwzIbBSTGE0gnFEUqSgmLMilAxqkNBSU85iZgxfk19U07hIIgyeSaNMm2eU7SM1XAQLDWKb3+byqbEIzqmDtd25cobS4woK+koLkotHATKUp0xo8AoCSUsLSNCxN57CNbVMkgocg6CshkAobBDQYviT8ZBoIjDuNYGjoXon5kZS328J0DBUr6W8jCGKGW06BdGPONBtNSMQswgWKakvxgyobhhq4/gScnDHB7Rj7WDYP218pVttsHyBHVxUhgSdtg4whAOMMgtEZgKAngH/+MzBmysXQ/ZEjxaH0W0jQfr6vGqZza8iFeNQ2OAce7aLBiHwuxaOAjKl966fMYsJyJkSzcHwcwGR9q4is0YYFxzEByVTxZa5sSJjzLVRbaQU8bY6quvXpb6kSv1pi3SGcfGn4CAqH1NtzTol065npERZnbNZpBlMA0M0Sgo4F0CQQJysZODYNaEA1E7CMrgIAgMkE0wJDvIF0uUvCsRwQZ0xTOYamduo0MgHYTRYZslJwKJQBcEQgGFg8BIphgoI8/aG0Vlzatpf4pbNIsSpVjcp6wpTIY4ZRJKlRNAcbmOcmsHwcwB5UfRm9I2bS89uqTjiHAeGNsMAWkpOAYCY57yVTbjWPraQWCcMzRMvaODs0CxUo7qY7Aw0kXktMPOaO7lIHg26AxCOAiBtXoZJqKZllqI5jGW4Og+bDlYQaP2+kKTFwXrJUa1g4BmCl4dk3EQOAwit5w6fc9RgSVaOAqeiRzCsBtPtHkkrxOBTgjgz7aDYKzi2W67ccvgbzsI5JBxYayQORxZfGvZTETPGbDqkxb/msmzdEhZYcxP1kEQlAgHwTgzI2jW1RhmJBtPHAPPjB9Gv3cQvLTcdhBgpN3Guai9jw2QedKRb2H0o195HHXjXOBAgEYgBQbknrTSSWOGhNFOPsGAg2AWQ1tDjpIlov9wi7qM7yjbcssoOxwEz+r+SgehE5eP5l46CKPBNUtNBBKBHghQUBQLRSH6ZhaB4UlZdNooojCgvfTHSfAir11ehqboE6OdMqG8KGZLASKarQwbBcN4puQZ9BSr9JYZKIsxb309o5jToC5HRgOFyXCNJQXSWE5k9iMMbUrOkgBpKW5GOGPCbIYomXX2Zg4oW/WIMEZaMw8UMIM5DGN0o5Hzo2x0Sg/DenOtbRwPxoNIHiXsvp3RwghAL0dItE8kkuOgbbeH2toAACAASURBVGhSt2Va6IetZVjSWpYknXo5ZIwdz/WJflS+Z172NONgaRVMo244mIWAOYfLMwYKI4KzxfExeyENo0X5+g39UX7d1jxPBAZFwPjBm2QDAxVfGa+MbJHz2Dnt+NQ4YZR2chCMyXAQOLbklzFnvOJ7M3PGgPIFPMgZ6/aXXnrpwtPxkrJggaV7xnQY5mbfYgbBuDJ2bMaKmQPvMTiSBWSc8c1BIFc49mSZcWd5nqVU3/nOd/7pHYQaM5iQZWSkcswMaIeIvfYz9JVrLJo9QJNghrId3ZPOO1Hyus9RgqNxGw5CBEbCiZCOPJFPfuWQgwI8HBXOBMeKPOBgSNN2EDzjjJCtuY0OgXQQRodtlpwIJAJdEKD8GH6MREqIwhBdC6O4nU36MHBF03wlhwJneDPeGbSMS0tzKFQKyixDKD33wkGgfCg/zyhICle97lNGaBENY7hakmPKn7L3HM2MCPUwqClPUXZGOwXqvQlOAyNYuWim3DznGDAq0M3BYIgzzMMIZmhQePLHbAqa7cpheFheFY5KGN81VspCm++bx0xDpItyKGCKmJJl7DMU7BQ2Gn3NidMGVzRS+pQ8DLVJP+kzDhinIQx4NMJThJDjAa+oW16zNTBngKgP5vJrs7o4JzBXNyOOIdaNH+o253ki0AsBfI/fvJvjC0EcXsY8w90Mnp1DbWwaY3iVHOCMG9/tJUYcipANovUxxjn3luAwah3N1InOO3IGyBRjBy3Gk+U2tYNgfHgnwPgXbDB2bOjhGFgyRPapz5gzdoxBTrevlHnhmgMk8EA+aqvZSw5IlFXjFLiYrSOP4oVt9DK+OQ3aQsaSJWQL2eNzpNKiH46O0sGK/NM+NKLZEiFtJRtDPsBZesub5IeRXWAAtvKrywyCeuolRmgmTz3TznQQ6h4d/nk6CMPHNEtMBBKBPghQWKGgRJYiauRet41SZKAy0CltykRELqbAlRERQIYlRUI5UqSUUyhJ5VC6njm6tstDMXFaRMFEGJXv2n1p0KcsxrzooeeMBOVQbO4rV92RXrmMZUqSgYBu5btWrufK1Tb5tCPoQrNdWdoWdckTz2q8pNNeNKDFdWzqcK0edUf0U3vcR6O2MsyjXWiBb+AqXWDEiJFXuUGjOtGoHYF5PFNGYB5tdoy+UC/MI5KLzihbGbklAlNBAA/hRTN1HGDOKOfYztDkANsZ6zGbh+9F9Bm3xlPwH/7H96L3IvYxxpRv7AgEWCaoPM4wA57jzbD3sq4xgK/JADN9HGplyI/3OeTuGWNRp2ccFvQx0NGgTcpRp2cCEpbycMzNXjDOOQjaqC1RVo2fezGeyVPGNicqZmZjVgJdMf7JCHJDWwRktJNDAwvjV1uMaTQz7LVHW0N+GuvSwVZfBO5mLox7zyO/AA960E+2otXu3KyDGQryNLfRIZAOwuiwzZITgUSgCwKUk52iq/dOiiyK6JYnFIdjGJ51mc4jb11W5KufR754FsfIH2kjXX2UxrU8cT/uxXU8r9PUz+K5Y9QZNNfPOj2XLuqr6Y78UV6UE2lqWup7zuFpjzR1GW0aou4oP553oiuetctzP3bPIm+0IY+JwGQRCL5kWHJcGfgcZLtzxq+dI8AADgPVeVxHnXiT8cvg9SzGRfCsvIxc5SnbuXodoyxpGffte8qNe8oN/nce6ZUlv3oYxwxzTgOjnSHNAfeVJTMH3lmwxAktUVa0w9G92KNd6oeDPLDSTnVF+xyDHs4ADGvcPFemI1qlQbs8sSvPM/kiv2vPo/zIjx64xLN4Lj08HXMbHQLpIIwO2yw5EUgEZhgCoTDr40xqQk13nM8k+pPWRGCUCMSY6HUctH5ldNrcZ8jGXtdVp++Wv07jvC4vjGyGsyi85VKWSnkpOWZHLDnyeVDvU4nKT8aIrmntR98gaXuVMd38gU0br7weHgLpIAwPyywpEUgEEoFEIBFIBBKBoSFQG9LhdIiqW8rnpWSzBV7y97Ix58Aaf8t+vF/EkRCxzy0RmAoC6SBMBbXMkwgkAolAIpAIJAKJwDxEgLMQToLZBEuAvCNkmZEPG/gSnDX/lu7Uy3bmIYlZ1SxCIB2EWdSZ2ZREIBFIBBKBRCARWDAQCIeBs2CmwB7r9T3LLRGYDgLpIEwHvcybCCQCiUAikAgkAolAIpAIzDIE0kGYZR2azUkEEoFEIBFIBBKBRCARSASmg0A6CNNBL/MmAolAIpAIJAKJQCKQCCQCswyBdBBmWYdmcxKBRCARSAQSgUQgEUgEEoHpIJAOwnTQy7yJwCxBoP6UXn0+S5o39s2oXyisz8ee8CQwEUgE/gmBegzX5/+UcIAbdf72uetO+wDFZpJEoC8C6SD0hSgTJAKzGwEKpv50Xpw71gppdqMw/1pX4x/Yh9Kff1RlzYlAIjBVBOrxO10Z2q2suO8YciOO061zqu3OfLMLgXQQZld/ZmsSgSkhEN/U9v3s1157rXnnnXfKX9ynkzAlOCeVCfb++Ojtt98u3zR/6623yjfME/tJwZiJE4GxQSCMdwRN11jvVVY4BOTHm2++2bz++usN+fHnP/952vWODZhJyHxDIB2E+QZ9VpwIjA8C/lTn2WefbY466qhmp512as4///zyT50UUG6jQ4Dyj39FPfvss5sddtihOf7445snn3yyfM98usbF6CjPkhOBRKAbAr2M+m55ut3vVpb75DP58fzzz5d/VCY/zjzzzObll18u/4mQ8qMbqnl/EATSQRgEpUyTCMxiBCiRd999t7nuuuuaFVdcsfnqV7/abLrpps1DDz1UjNRZ3PT53jTYc87uv//+ZoMNNmgWWmihZo011mh++9vfFgWfDtp876IkIBGYNALGdRjncZx0If/I0K0s98mH999/v7n++uubZZZZpsjuddddt/nDH/6Qs5BTBTzzTSCQDsIEFHmSCCyYCFA0lhTdcsstzaqrrtosssgizdZbb9088sgj6SCMmCVgz0H4/e9/32y22WbNV77ylWattdZqbrzxxoklXiMmIYtPBBKBISPQzaifSjXdynKfg/DBBx80t912W7Pccss1Cy+8cLPxxhsX2W2ZkefS5ZYITAWBdBCmglrmSQRmEQIUCGXyxhtvlMi1pS733HNPcRpSwYy2o2H/4YcflvcP7rzzzuaMM85obrjhhrK8y7sJqdxHi3+WngiMAgHjNsZuHKdaT6+yyGdywrtjV199dXPqqac2t99+e3kPIeXHVBHPfIFAOgiBRB4TgQUUAQqIkWqq2gvKr7zySjFYMwI1eoaAPUUOa0p+zksvlaNZhXTORo9/1pAIjAKB2imoz6dSV52/fe6anPAegheUyQ/HlB9TQTrztBFIB6GNSF4nAgsYApQMB8EyI0tdTFc//fTTZeo6jdTRMwOMLRPwYvKtt95algf4olFiP3rss4ZEYKYiQG6Hg/Dee+8V2X3zzTc3TzzxRAn2kB8pQ2Zq744H3ekgjEc/JBWJwHxDgJLxkrKpaS8n/+AHP2h233335rHHHiuOg+e5jQYB2HIOvBC+yy67lHXEW221VXEURAUp+NwSgUQgEWgjEM6BmV/LE9dZZ50iP3bcccfm0UcfnXASUn63kcvrQRFIB2FQpDJdIjBLEaBALG856aSTmkUXXbT5zGc+UxSNL2OYqk4FM7qOhy3n7Iorrmi+973vNZ/61Keab33rW80pp5wyoeBHV3uWnAgkAuOOABkRMjiOaHZueaL/PfDugQ8ckN1LL710+ciBGeF8D2Hce3e86UsHYbz7J6lLBEaOAEVDyVxyySXN8ssvXz6Vt9566zV33313/uHOiNGHveUBlnWtvfba5TOnq6yySukLMws5gzDiDsjiE4ExR4CMsNviGOfkgwDD5ZdfPvGZ0zXXXLN8ZIJcSQdhzDt3zMlLB2HMOyjJSwRGjQClY6bghRdeaC666KLmhBNOKP+J4IXlVDCjRr8py7hgfe211zbHHXdcc+mllzbPPfdcuZ8OwujxzxoSgXFGoJeD4JmliHPmzCl/bkl++A8V8iSWKNZOxTi3M2kbPwTSQRi/PkmKEoGhIxBKptuRI8BJsNSIcjE9XX/FqFu+VD6DdVUn/CInJ4AyN4vz6quvlqPZA33iWae8cS/KyGMikAjMTgSM9ZADcYzxH8/IjzfffLPIbkeyu5/8mJ1oZauGiUA6CMNEM8tKBMYUgVAklEbstZIJBeMrRnfccUfz1FNPlanrUDIUkz3yxn1l5NYbgU7Yw9LmGSwtE3j88cfLi+L+oI6j5stSgXukC/zdd8+eWyKQCMxeBELu1seQC3GP/CC7fWjCC8oCPLX8iHSOITdSdsxenhlWy9JBGBaSWU4iMMYIUAyiSpauPPjgg+UoSh3KQvT6uuuua7bYYotmtdVWa3bdddfmd7/7XfnCDqNUXjMLlJDP6OX61sE7G8YcsJdffrl54IEHCn4+YxrY+wrJfffe1/zyl79sVl555WabbbZpvCDuPiVvl57j4GtHnAflRf7BKcmUiUAiMNMQCNltCSg5EcGbcAA4BzfddFOz4YYbFvmx0047FTkdMlo6swryCkKE80B+5JYI9EIgHYRe6OSzRGCWIBBK4sQTT2w233zzxtGf6kRE+sUXX2z22Wef5stf/nLziU98onzN6LzzzivLXRijHAhr5LfddtvmwAMPLEoqjNRZAtHImkHBU8qXXXZZccDg9/DDD09g74+NfIXkm9/8ZvOxj32sWXjhhQvG/tnasi+KnnLfbbfdGp8wvOuuu4rzkA7CyLosC04ExgYBMposOP7445uNNtqoOeKII5rnn3++BG3IYHJ8//33bz7/+c83H//4x5tFFlmkvI8gkCCww4EQ/OFA7LvvvsVJIFfIpdwSgV4IpIPQC518lgjMEgQ4CAxR/2+wzDLLlGi1aBLlYadwGK4+lffJT36yWXzxxZsLLrigRKsZt9bGn3HGGc33v//9ZuONNy6zC5RPRqH6MwgFT1l7gRD2lLyvFjH8Ye+fq88666xmiSWWKM7Z17/+9eawww4rMzZmDhgHnLMf/ehHjS8cXXXVVSVv/5ozRSKQCMx0BMgPToCZAZ9ANsNoGRHZQTYL7hx66KHNF77whfKZ5G984xvlQwfkhsAOuU92C0BssMEGZRYzZo9nOjZJ/2gRSAdhtPhm6YnAWCBAyTBIb7zxxvKVIl+6EIk+7bTTyrV/4LRb5iLSdMghhxQj1qdPjz766GKUejfB9/l9ZYdRmzMIg3WtSB2FbHmRmZsLL7yw/LHRueee2xx77LEFW390dNBBBzXrr79+s+eee5YvkYj6eX7++eeXzxZyIs4888zyj8sigLklAonA7EeA/CC7LSM65phjyidNyYuTTz65yOZbbrmlPNt+++2L/DjggAOKbCdnDj/88Obqq68u75X9+te/Ll+p42xkcGf2880wWpgOwjBQzDISgTFHQKSfk2Bdu8iS9fBHHXVUs+SSSzYiTnvssUcxPK1v9Q/KolKcCN/UtuRlk002ae6///4SjRK5ivWvOYPQveNjCZAjJU8pWwsMe0b/sssu23zta18rMzL33HNP88wzz5TIoPdE/AeFf1Q2m+CdEDMInDIzCsrJ5QHdcc8nicBsQiDkhyAD+WE2V9DGbIIZX++LeT/pySefLPLDuwqCPauuumrzxS9+sfnZz35WAgzkB9lND5AfKUNmE5eMpi3pIIwG1yw1ERg7BELRiPxTNCJKiy22WHEAdt5556JkrI33EvPTTz9dIturr75686UvfanMKnhpOdauKiu3ySEAM44VI9/yraWWWqpg70/pfH3Eki9OWHzNiFPGOVtppZWKgyCKGMo98Z8c9pk6EZipCBjrsZMflg2R3ZYMWVbkvSQOAtltllKAR0DBctDPfe5zDflCpgsOcQqirJmKR9I97xBIB2HeYZ01JQJjgQAjk6HvxVfT0d5L8AdpV1xxRbPDDjs06667bnlh+corrywvxu2yyy4l4u0rRvLmNnUEKGgzAJQ4JW9Jl2Ve11xzTVlatM4665S1xpYHnHPOOeXFZC8nml3IZUVTxz1zJgKzAYGQH2S3F47J64svvnjiAwj+jd1sMAfBcqTtttuu8bEJf6SWM4+zgQPmbRvSQZi3eGdticBYIEDRiChZj+oFZRFsEWtfwvCSsqnrgw8+uESlPDfjIHqVkevpdx8MKWtLBWBrZmavvfYqswW+YiQq6EXE+BwtxyxmbqZfe5aQCCQCMxUBsoPsttzIUsVnn322LEfccsstm89+9rPlK2jkB9ktCOE52U3eCO6k/J6pPT9/6E4HYf7gnrUmAvMdAYqG0U/ZeHl5xRVXLJ/J++hHP1q+hmHq2jsJEXlK5TK8LoN9zOT4b4nNNtus+fSnP9185CMfKUp+rbXWKssFOHHSSZ/4Dw//LCkRmKkIkAN2coHsvvXWWxtLQQV2Qn54Ydm7CAILtfxIGTJTe33+0J0OwvzBPWtNBMYCAQqDk8BI9f8IZhD8D8JCCy1UlsCIUjFOcxsNApS3KJ/lAt43iBkESwe8B8I5yy0RSAQSgTYCIbu9e7D11ltPzCB4Z8x/JZgdzlnfNmp5PRkE0kGYDFqZNhGYhQhwALz45jN61sT7nwNT1P61V4Qqo06j63TYevnYy4X+h8InZn3m1KcL46Xk0dWeJScCicBMRYDsEGDw0QPywoyv/znYb7/9iuz2xaKceZypvTsedKeDMB79kFQkAvMNAYomvmzkCzpmE3xqk4GaCmb03ULJw9pMgvcRLOvisLmfztno8c8aEoFxRoAMCDkQR/TGfXLCH6Y98cQTE/LDtdmDlN/j3LPjT1s6COPfR0lhIjBSBELRUCaxx72RVpyFz4UAzEOhO88tEUgEEoFaFneTC5Em5UfyyzARSAdhmGhmWYlAIpAIJAKJQCKQCAwJgTD+FdfNQRhSVVlMIjAXAukgzAVHXiQCiUAikAgkAolAIjB1BIZp1A+zrKm3KHMuiAikg7Ag9voMbnMIyzwOtgQlcfp//0KaWCQWw+KBGSxCk/R5gEDwmaqcT2cbZlnToSPzLngIpIOw4PX5jG5xCMs8DqZ0Eqc0ipMHhs8DM1qIJvEjRyDGnIqcT2cbZlnToSPzLngIpIOw4PX5jGhxCEUvXfkagz988adRvvayoO9w8H38+isVnZSQe/DzlQvpfbJU3twTg+SBqfOAcUQe1eOPUA2ZFUfjThpfCLMbg3E+rkc09trHle6gq017v/vx3LGd13X9fJDzTmVEOfihfom4k8yulXPwkTwhx7vR2a3eTveVUfNu1FPXneeJAATSQUg+GDsECCwCkRAj4PxZ1x133NFcdNFFzbnnntucc845HfdezyKPNJ32eN7vWOet09b3e51PJU9d3nnnnVdwuO2225o5c+YUfCietrKpMfzjH/9Yvot99dVXNxdffHHJ75h7YpA8MDkeuOSSS5orr7yyueuuu8ofUZFPZJUtxlw4Bj5V+/zzzzePPvpo88gjj5Td+TjvQWen4zjTHbS16e53P547yutPx+xRTv2833nkaR/l86eH5HDwC55py+y2Ivbcjp849PSgsn2G2ueQB92ljzyOjz32WPP6668XJxcdsbfrz+tEIB2E5IGxQyCEokidb8Kfcsopzbrrrtv84Ac/aJZffvmyr7DCCk2nPZ7HsU4T93od6/TTPe9WT7vcQdJJI18c11prreaoo44qwp7yCCNFZ8LPtUjRa6+91lx22WXNzjvv3Mjz4x//eFL7mmuu2dT7ZPPPlPTTaWOdt30+2fb3yl8/m2y58yp9TaPzeVVvv3omQ1ek7VSmZ8aRPxM8+eSTG/8bYjahNubILY6BgMY+++zT+Ffs7bbbbkbs2267bdNpn2n0t+mt29R+FtfS/PznPy+787g/mWPUU+fZfvvtmz322KMEtZ588skykxsR/F7KN+Q4R/P2229v9t9//8J36623XjPZff3112/s/kjNvy4ff/zxxdnAq4PQ0ovOfDZ7EUgHYfb27YxtGcFIaBGMIuYrr7xys+iiixZDlXCrhe9kz0OAdzpOtqxB09d1dctTp3HeLd0222zTrL322s3iiy/eLLvsskXQz3nppRJlig4PxWIplpmXzTbbrDgWlMpOO+3U7LbbbpPad9999yb2yeadKemjfY5TobnOH+dTKUeeyN+mpdv9qdYzinw1jW36R1HfZMoM2vrl6ZRu1113LXzhn8Y333zzZrnllmvWWGON5rTTTivRWA55yC2R3rPOOqtZZ511SlCDo/HTn/60jFtjdxi78jrt3crulHaqNNVldatv2PfnVZ11PXE+3bbof8Et/HLcccc1r7zyykT0PmR2+xgynB68//77i9O22GKLFbmP977//e+XvVtwKe5Hujgus8wyRZd++9vfbg444IDmhRdeKLMTdYCpTUteL7gIpIOw4Pb92LaccDQVS5CKfC+55JLNL37xi2Ls+rdZQu3FF1+c9C5fr30qZfbL066vW/pB0kmj/XfffXeJSC211FIlkmTaGF6xwc9uSluUc6WVVioOx6233lryW5rEqRh0Z/AMmnampptuG+Wv9+ng0IuWXs+mU+cw884EGqfU3jlzivx44IEHmsMOO6z54Q9/2IgO+wdbs3XGnIjsPffc0/zsZz8rBuFBBx3U3HDDDWXM3nvvvU3uo8Xgvnvva+xtnON+fWyn6XVd54vzdvq471g/u/nmm5tjjjmmWW211YpzaDbg7bffnmvWN2R3HPGSpUXSHXvssc23vvWtkp88Vx5ZrpzJ7JalWmbKMVAep+Haa69t3nzzzZ60BE15XPAQSAdhwevzsW8x4WjanjG9ySablGidmQQGr4gKwSnisSDt2mxniLzxxhvNhRdeWAx/RgqHAV6xwQ82r776anPIIYc0q6yySlFQ1p3Wa2AHxS/KGzT9TEw33TbK396nikMvWno9m2p9w843rjQOSlevdGG0XX/99cXY22ijjZo//OEPE+Pq3XffbX772982K664YlmqwihjgBmfxm7u8xcD+sM+1X6YSn484d0By5cEay644ILCE/is2+YZXrNE1IyWGfQjjzyysUTJklL8RJZPdudweHfBMrkllliiLN9Vh7pySwTaCKSD0EYkr+c7AoRjOAgUsOlZSteSmV5CdVDClVHvg+abV+k60Rb3GHMUjsiPKWvvJXhhspODIJIrgind6aefXvCbaYpAu+utfV0/y/NEYF4gYKzFLIGZgpjBi7F51VVXlaDGXnvtNfGOgmedthjXyded0Bnve+2+q6/r/iRzBWf23nvvslzW8jPBrjpNu6WecUbMou+yyy7NN7/5zcYL8oJDdT3tfP2uw+mwVNfMvNkJgaSZphf6tTOfDweBdBCGg2OWMmQEREYsheEgiMYxiEVOprsRrp0ipr2E9XTrHDR/LfjjHK1xHkc4iGD+6Ec/6uggqE9ayuXggw8uDsIZZ5wxI9eaRps7HQfFNdMlAsNEgINgCQnZtOGGG044CHiU8x4OgheURXzJMs9iC17uNLYjTR7HHwH92O7D+jpawPhm2P/qV7+acBDMKtU8EWnj6Jl8scyWg3DFFVf0dSwif7cj+tBiNqN2ENzPLRFoI5AOQhuRvB4LBMJB8LUQDsJ1111X1vdOh7gQ6AQvJW+9cHzFoZewnk6dg+QNukx713TBwL1QOlHWZByEmEE488wzS1tnkiIIJQkHuDjquzYegctMOWrX/OS3mYLTuNKJD3s5CD6Dan03g9BX2Izh6O/g6Rjnyprp/Dyu/TRquvSlvqv1iX4V+a/lrHMzBsNwEDgW09mClnAQvBthiVFN73TKz7yzC4F0EGZXf86a1lCcZhCG7SCEMBfZs3b/wQcfLNO/7s/rLRQM4UyxiBb5Bje6LBuydMHnEi2tkkZ6+4LkIGjrM888U9bNMrZgoa8Ci3nZZ+psb53utdPU19Lry9in2o7IF+XV13V9eT58BAZ1EMwg1A5C9BUjzzpwy5S84Gzs44fcZhYC0Z/xjgGZ7X0UMitklBbp23QQZlbfJrX/i0A6CMkJY4lA7SB4B2EYS4wIdNE8L2r95je/aX7yk580W265ZXPnnXeWqI/n82oL5YIe7wponwiTb1Wvuuqq5cVin9nbcccdy9pTaSga+RYEB0E7GU6+COITk7CwFldfUciBxbzsLzTZbXEex0HoQLP+ZiCK2jlONYLMAJGX4RFlhaEZNA5CU6aZPAL9HARLjMwg1EuM9L2d7PE+lXFuiZI/QXznnXfKs8lTkjnmJwLGmT4V2DnhhBPKS+vW9vvKVfRppGk7CK57jVPPjPH2EqOcQZifPb7g1Z0OwoLX5zOixaNyEJRrDabPE37hC18o6zCt7ayXAcwLgCgAdfqvB1+18D4Bev7rv/6r+exnP1vOP/e5zzVf/OIXixMj4hhT1xwEn070fe1OLymjX/mUy0xdYkTxwsZn/b761a82n/rUp5qvf/3r5aU6L/zVEbp51V8wtaNN/Xbn7vXbpNF/eM8f1x1xxBGNZV/+YZVhH2XEsVd50uAdM2z+mdsnN33ly1e/5jUuveicrc+m6iDoM/9i65PNn/70p8vSSbwQM4SzFa/Z2i7j0PhntHP0fBVooYUWag488MDyOdyQ18bkODkIZJD/2vEOQi4xmq3cOZx2pYMwHByzlCEjMAoHAYnKJawJSAY4oX755ZfPFwdBlEmE3L+z/vd//3ez8MILl5ceGY8iUr5XLdL461//uvx/QRh/C4qDAB9GtE/8cZz+53/+pzgM+m9Qw3xYbMkYCIMAD5nFEA32Dkv0S6+6wqj3Pxb+BG+RRRZp/PERBf3cc89NlCFdv00aToUlaP6MC9/gE8vl5rWj24/W2fh8Kg4CHsHP/l3Zn1VxEMyI1f+hMBuxms1tCnlgLD766KNlDAru+COzm266aWKpUToIs5kLZnfb0kGY3f07Y1s3KgeBAdV2mNa89wAAIABJREFUEObXDILPy/nMHGPR7IF/SfYHOCLBnjEmrVP2vkREGSmlqSwx8hUjxizDeiZs2okHvJPhvxwsBTMbwijWfs/n5RbGAP5h1J1//vnlX6x9556j0A9X+eU1Y+C/PT7zmc80//mf/1lmgHz20DKhyRj3+tJSBn++pCwzUJxNUct5jc287IdxqGsQB4GRWC8xksd49k/MX/7yl8tnK0WdRZ8HcTDHod1Jwz8jYKwZc2Y7jz766CLLv/SlL5UZQjO4+r3tIJx99tlFB/Uap57JN4olRu0ZBLqmn/z655bnnQUBgXQQFoRenoFtJFiH/ZIyGMJBEMU1g+AfJX11ZDLG2TDgJJAZDL4mIeqEDtHFMBg8t1MSjhRG7AuCgwBj7cUHlKSXPf37rWv35/WmTv0gWujfSP23BMfOLE8s7elHU+0gWDL1f//v/y1LpywV85UuRsagxiI6wkEQjUbP/fffnw5Cv04YwnM82OsrRp0+c8rB50z6oyxyZ+211y79N6/lzhCan0W0ECAbOAmCO96XM7Z9/tayULLas3qJEQeh37sEyhyVg4CW+itG6SC0OjQvJxBIB2ECijwZJwRms4MQxqaZAYrE8qLll1++GBD1TIF09va2oDgI2s0op2AZUo7dMGljNOzr6DOG+cUXX9x897vfLYaAF6h9aYoy77eFg+DLXIyIf/mXf2n+7d/+rTiIm266afl6lb7V5n6b8WFJkRfa00Hoh9Zwn9cOQv1HaXjE0jMBh/YMgvdmTj311OYb3/hG85WvfKXMhgmADOoQDrcFWdqwETBmX3jhhbJszNheeumly8clOP3GfToIw0Y8y5sXCKSDMC9QniF1hPEVxhChZ4/787IZgzgIQVfQS9kSxpZfMLQZW86V5Zm2OI8p1phB6LfEqK5HOcqIOqIehiMDNhR+5Kkxcw998liPbLmMr/Mw8DgI1q0yJBgZdunU0y5zqg5C2/iEB5rV0cYpnrXbGunkq3mjU3u13f3APeqBgXvtOqJs7Y28QV/gXNcb2EYdyq37POpQnmf6yHNlBbbut/GNcoMG5cgrD0VvaYgX/D72sY+VF04ff/zxssyoLhdu8qEtNnVZYsRB8E7FJz/5yRJNZlBYdrL77ruXJVVwCNojb/uo/H4OQvRJfVSu9ka/tvFw3/Ogvaa/psH9KCtwjTEQz/RV1FNjE5hHG2v6nNf9FfnQGeW389V0tc/bZXeiqS67bnu7rLjWpphB6OQgtGcQ0K3fLS+ylJDxyIlgPAbOyg5ao3/QhRfQHHT1oz+wqcsNuuMY9ThG+hrzNk/U/SVPty3Krelv91kn+rVRHZ4FPVFW0Bj0SduNJyJPN/rifqSryw4+jbbXPBFYRr4opz5KY6mhjwXoY+8F+ZPKWGbUdhBcK6/b5pk2D7LEKOgKjNCuPYFnXQ861Z0zCN2Qz/s1Aukg1Ggs4OchaAgRwiUEDcFTC5l5ARMB12uJEXrQiTa0UkTWcTPWfArzxhtvLF/6Ma1vHbtpVMpFmxjhsbSn30vKdT1oIlxF/n3zWh0+T3rzzTeX5R0iyZRErVDRGLiiVZTplltuKZ86PO2004pjwFC0xMinVxkOyrT7t2TvIMTSkyhLGwb9J+X4ilH7n5TRBDftYexow0MPPVQcF/QHnr66Ak9fTbLfcccdc+GpTfagrc0b7ivPcip9YYdT1KF+a/rhefvtt5elRPrJhkaOEro4T/4fItbq1/VFHT4Fiz5T/cqEk3qUAXcGtXZazqPvlKcvTfdLp5y6XPVrm/y+b679+mfvvfcuX1T6j//4j7JUxJeErrnmmtJnyla/JVH4RXmxqSPeQTBr5KtMXjLGg8ryb6leUPfSchhWaOi0KXsQByHapB36G7YwhA/egiuatU0fuK9PlN/u16DFUbmBjf6BpyVOnO+oR3/ATZ9HHXjJGJVOG5VR7+rVH/pF/6ALrxszHGplakNNW9DVxinodJRe2eSAF0rxibLRpWzLQSxhwzPoj/LbZbpWTj8HwWdO8Qk8tVP6tdZaq8wW+igBGtRV80fQi98eeeSRCZ6HhzKi74zJNv36ILCp6e+ETdSj7ugruCgXDwRP1GMET0R/1TTX+ATO6LX8Db5wDZmIfjSi1RgJnlCn8RLjsKZfPxg36g/ZHv2mDLI9jPDoM/R1ajdao+3SqkebjAd4kz94zY5n0Ykn0K3MKL9uc5wrN/hiqaWWaj7/+c+XQID/cJEf/fUfpbnuRmPQqb5BHQRpg2/wM/5yrY11fzlXd+0gaH+dJtqUx0QgHYTkgQkECCyCRoSGcGRUEjYENwHSS6BNFDKkE8K2n4NA+KGV8WkWYP/9929E9H74wx82yy67bFkGIjLPCNtzzz3L5yUpbErKC8HW/i+++OI9v2KkzQQ8RUFx+KSkCLC1xOrwRZLvfe97zeqrr16E7kknnVSUYyi7wM1Rm0QXGQrf+c53yldszB78+7//e1lywkCkXJRpZ2T4rjblRUmixT4MB0E3UY4ULGWx8sorFwVGCTPgfavd+voNNtig4GlJjd0aW3jutttuzYUXXlgMIH2Ab9r84dp9+Imsabf/nvBZV31AwR955JEFT/V70dZXi0J5woxhr1/16WabbVYMmE6GlXsMmnXXXbcsu+FsUc7ah499WlL5ln7AVt/pQ0t7fCWKkcJorduBfjyGBo6Wf/TWPz67+vGPf7z5yEc+UgwBBr6osHJh5J0CdVLQyout7SDId9xxx5WXWZWJF9DnpWX81lbuUY4jXhrUQZCWkcZY1w8MV+NklVVWmcAD3fDA24ceemgZ94zG4Dt1Rv86BjacmX333be8bL3zzjtPOMo+37nXXnsVB8oYDGz0o+//c4QYZMYJPkQjQ4Vh5pl+wRMxxowFvBPjGI+G4RZ01fgEvfDHG+gkI/bbb7/C0/pSm41DZeNN9HP2jDczfPDvVDZaGfyw6jaDEA6C8YQPOJZ4xGeL/beJtiqnLt85er3TQs7ojy222KLQg5cFDYwFY9I4rOk3E7nHHnsUGaetsKl5ucbGuAqjmwFvzMnrS1ghO/UXuYZH9MVRRx1VAgX6C92dNvTDzJjTRhiQE4xVctfSPLMosI5xGHynDmOW0xrOIxoZyMa18Qdr7dZn6FM+WcTwhg19gbZe4yYwJrNgiiZ8qhyfjFa23TlM0U9ecVh78US0XQDAstH4mpExKt+oHQRjiAzzMQe4bLXVVqW/QjZHf+n7dBACjTz2Q2AsHASCzI55DbR6d6/T834Nmw3PQ+gY/IRlN4E/jLYG5oSrCLvvz1MQXuYl9NRf988w6uxVBkHfyUGo6SR4OTKUKYVjatdyDYaW5UOuRWp95cU5Q4WiEZmkeHs5COqBN+wpklNOOaU4AdYPq0OZUYdy1KkuRj5lxxFgYIWygp02UUgEOIMQTQxN69AtV3GtfNPTdp/3XG+99UoUDv5osg3DQVCWcmBB6WoLA0Ek/Pjjjy9Gtm96R7tExOzabXmMtlKkDDZKnQEaYzj6VR3aT0n5woc2f+1rXytfJfJCtra5B0+7iDpjnfEkL8woZo6B+hiLoo4MrsBCXc7dg61PoaIT33JgGH2WA2lftEVZ2vCJT3yi1AtrXxbSdu1AszLtzhlclv8w6PWP/CL+HAR0+2pJ9JkXl40bhj/+hEls+jBmEPAMuhiO8OOw6n90cTA4aNpU0xLlOOKltoPQ/opR0G88M6D89wcHRz36UTuiX51HP2iPl2jhpy+C95RXb2gQdWYoy+uLShwQxiSeYgzXmDs3W2aHF0PKC9+cIUaxL0Op1zP0RV5H5cuHXsYbHhUYCLlU0xV9B3u8Z+aB00NGaFvwLxzswQ+O3/72tyf+kM/MHfzxYb1p92QcBAYZeYp38D9DGF3Rt1F29JdoOv7FIwxofOlrZ15EtxQN/TU2cMHL0msj/JURDlSUH0eYkU2XXHJJGVuCJHCNMp0HLsET+JqBji/DkQ59EOWiX9n4Ga1kG142Ln3RyfiNeoL/6nFIFpCdAjHowxOcF4593e6QQdFuZXKmvOMhTzhHQZdjzRPGlbHDWTRWtTV4om67e+QGxy7kHAepE08oH79xaJSrTJiRV/p/1A6CNpGdZPZHP/rRUr/gS8izwEKfpYMQaOSxHwJj4SBQpAQCgyUGMkY24AiceB5LLaSZ7VsIHIOZcjetSji1ldWwcAjcCT8KICK+IlaUDewZy/pkXuBPCbcdBPwRfIEnGEQUKUFMQTpSJqJhvi9PKYtG+s8DzgHjwEuCDCXGDIOA0dd+B0H71EOJM4BESH2zngKl4EXARJ0obUqJQhYxE5VUBwXm5VHRyFCm0Z+cDfWFIUVBUaToolh84cIzxhIjWvSMgVfjPlUHoW0wuOYgwIYyFC0UgQqDWpRu8803L07ViSeeWP6bgaIXbUOvPNrLcMCfYRAHfzjiJ/RyEBh+0osEi1RSovBUr4iX9muvcqIPOAiMBn3FWGI86JeoA//rK3ngFf+ZwGDQB+rEFwwWswgcRGuDGfwcFA4FQ0P5jFOzGspSZs1rjB6Gjv7ZaaedimPDSVAuZyD6TLRR/4qi4mFl2NBLloWDwPBgjDIg9K+ZOvTgHYaeNjNCKX59r5y6zcru5yDIY8zqY84fIwv+eI7Tha/RbtaLMWEsMTDREDzM0TX22/Vrk/YYH2YEOLj4xgyOPoA7Q97YI0N8qtbMhbQMUoanOuBnnBir6tZ2+fWFF8Dlkx9t+BTPGOscHf8VYnyhIzYY2dGLTyx72mGHHQqf4Vd1wwKvya9eAQYzdfgrDEQ8znnRduW3sdc32sLJ4YDoD2n0F8wEAYwV+DBatQGPwQiP1LxR045uMkJ7pTfOYEhO6T9GNt5QdhsbtOsHskp/xlK+dt/BBZ+TlfLgCdjCwJ98cb4CF46rOtGiv+Qx1rWzbShrv3v4jXz1GV/txdfGIAfJuCR/zU5y2shqz/W5fiVjzZCYgcKb+kTd+k06hnq028wnXvZcu9HJoWCko6Peap6wPIuc0278hkaYkg3GgmCQOgSRjFHl4ztpLL+Kttc8EeXT0ZaO4n/YooeTXTsIw/6KkbrRRB9xssxIaxsdSJbVWOCFtoPA9nI/t0SgjcBYOAgELIFkChwzx2BjwBhcDGSDltJtC+t2g2bLNQwYBoxkysA0qqUO7o1yIyjgTklRBJYBUJTwZ8TMKyeNAu3kIGi/ZxSv6V+CmJCn4A4//PCyxpxDYwlLRKHwFaVtepvAZ5QSoAxDa/87OQgMKxFKZVLODDpLHihemDBc1cG4Q6dlCXBieCpT9JQyFXETxYFrYAtDhg3jxTQ2Y0k0XqSQcqNkpJGP4Mfz8uIJ21QcBIqql4NAOVPgFAyjmXJk9FpLzNCAJdoYuNaRM64YdxSnXXqGAeMDrbbgYfVyEES3YM7QUZf8ol6cAjNByg6DL2RAJwdB++tNfbWDwFjQX+rjiHAS1WGpg7YYR3gEvRyfcBbRhUcsC4E5XrOTSdpFscLAEiBGhXoYO+QSuvVZ9FtgHX3mqMy2gxAODz7igHCWGEn4moFMNqobHVGWthsD+qb+ilGnGQR1GivKwmtkiT8G5FwY4+1xwsli+OJf/WoGRh+EXK5xj7Kl5yyhG4b4X33hKBlHcFcfGjnVluQZt4wvsw0R3WdAMmyMMctS9JUZHBibbWEUwkZd+MeSJPgENo74AW36kSPP+ESX9tMz+h0t+pJ+UQecRdQZxNJru5kR5YfDGG2HfS8HAZ21gwA/fGKck1N4sROeykc/2jgIHBrjRXuNSY4CHom+C2zIHn2qDuMKNjCNGbFadqiDbLO0SB2CHQxj8tEYhDVcjHfluxczO8YUo5ejh0Y4xFgP2vFpOAjBE2hi6HNI8Tt61aN82JAnnAEBlpAPZKfIvbY7Z3Qr17jFS3iKXOds6Sd8hJ84qPCpZUTwhDEpD0dIuXgC7zLYjSU04QdjEW0wIgPNLkpvlxf95HIbV9fu63/9pR8EI8yQjdJBgL2+oE+MV/LM0bU265PY0JgOQqCRx34IjIWDQJAZ5KJpGNqAJkANVvdEF0V56illjI7xY3dtD2EQ13HPfVs8j3yOdZp4Hvld13vcr/M4r8vrV2aUUacL2qIc7bdrM8Ev+kkoyzuVrW6D89ja912rQ92ELIUuciIqxQhkZIViiHKijChzGEd1dHIQKH5GGIfFch4KhdIlyKWPWY7A2FEegpuRIXJF0JuGFeHqNIMgD+OcwR8RVUeKUjQQbcqM/gu8GCqMMU6F5TKMLEqYoQPPoEk+1wwYUTGKRPmiejAPPDsdYSsNRUtxitJae6rd9SYvRU/5M6T6OQiwgEnQzACiSLS1bqdzdVGijBIGBsMHprClvLXNhgbpjWkOAoUsusUZYcAwRjv1WbQbXlNxEKJvRRS9C0BBwyz6IOjSNgYy3jFboh0Mfwoev0T66DfXyrH0hvHCQfBvuAwLz2q64zz6xDWe6eQgwNMzWOBrTixa8BDnRh60oiNwlWcQB0EeBq7+ZHSTJ/hUfdEufWTXBn1O5nKGw6AVoFFf1B9tUgZ+Z2TBXN/iA04IwxKGUXYctYNc52QxGqOv1CUabDZBn8BZHripF23KE/01Y2XMqMtYw+fSBTbyaYc6RJ4Z+2YkGOYM35qn6/LhAid9Kg9nWWBG/2pr1CH/ZBwEWJhpwPfGotmoNpaBqTr0EblBtlnGxvg1Q0kWk31tXtNe8gpNZLVIP2PeLAl5FThGHfILQjDMOUDGR/CEtGhztGu3tHjeGCEnOHchq+p2oF0ehjzHVd/aY+mgsUwWqF++SI+39CEngExXh93MKj7kFOEZ6YKuoBFtovocSzykz4xn92OLevS9wAa+4eiYqRD0iqBE0CS9c3TCFe6xBJCzI1KPRyO9eiIPHJUZ8kQ/4h/8GC8pD3sGQf1oUTeMjRE6B+3wQlts0qGlfkkZLu7nlgi0ERgLB4FCNu0r2kqAEMAGLcfBVDiFw2sPwW7gEhaEpYFqd+6eZ9IZHMpQXj1IDATPDRL5CB4DK4SWtIQiZSRN5JfP7hmFSwA5twcthFxEC2qDRJnqjDLlt6MvlGi0SZ3KQZs6DHhT5BQExTHVgRwCzDH2aFMc474jmrWLAhGFpaRENwlLNGu3NPJGvjZzTecaXp0cBH2FF/ALI8EUPOOTkENT0FPXHe3RJ6JClChlQglxEPCfvNEO7WLoEuiiUhSKmYNwDgKvqEs+5/Khj3COKWwKz3S5/o70kVY6DgKF3slBqNtQn2vHsB0Exi48GPwUbs2/2mcLfNAPL5gz6BjV+gKfUI7yRnqYGEMxg8CIZDCIGOrfus+i/JL5H0qv7SCY1YryI518eJIRI/qrHQw8yzo41TG2O7UDjzPAOeHy4HNrxLVNvqDJUbul7+YgBD2djvJrK3pEJPEVR0A/4nVlO6IF3TDSJ4xmTg6HLLAKOvo5COhQrz5At/KV4VoZ9vo8aCDDzKQwouAp6h5yqm6bsmoHgQFsaY4xht+VXeMXGMon0CDooY2MSM6jdht3NY3RBrTpD7KRE2XcGzewVFbdV9opGGB5nHHOEcGndIKyldWJLvRKw/hlyDOy8bQvX2l/5FF+LwehXmJEVjHEGdUMfhFusxVo6LSpIxwEtMOHM91raYs8aKcv8CaZpi/IFhHzwCbqi/TagS9qvKONcQzcYSxAhB7jXbAkDNB2ubWDQC6Qt+gwbgP7Oo97aKj7jJwQrOAgkxNojbxBm6O20ZWWeUoPM8uQ8LDnNvnkp7vgb2bGjK0Ah3GljE5lyw9XvIwH8AKeE6FXVvCSOqRVBjxF7s2GoIUTQobR9eEgcFzp+aAvsKiPUTd+NxtAj5iRqx2fdnr1a4u2Rp8qp65HGnWbjdKPZuvYQO7nlgi0ERgLBwHjM/hiSpRydk6BWLIR0+yYGOMbbAS075ETDJYpUBoGsWcGtKiNtZTS1cLFgCcURC8pPtPd9frpELSiTWYtCAL53Xc0mNAWg1VZpjRNdTIs0KJewoeyD+eDgiE41MkoEOVQt3vSEHIifKeffnppk3aJ+jIuKTpOwlQcBMIBZoS5nQDTFoJEvQSQPQxC9+FnipXy1zbGMSFvzSjliX5RCmmUp19qIdRmsqlcw7p2EEQx0UhAXnrppRNRVssG0CJ9PxrQqb8YCwwfys5yiLaDAC/9bq28KJZoGEcpnFB1ddsZw/gXPxLAlJHIurbAHY12tISDQImGgyB/v3bAYdgOAuOFQYR/OUL9aPAcrRQ//mTwit5pN4xt0mhzOAiibzD3mUfjUjt61QMjSwrwHsOdoTeIg8A4YgAw1PB8vzooTIqS0Yk+66KNteivaAt68DvZYQYBb8QMgrS9NjTgq04Ogvue22GC92qHxUyRtsA1jBmYth0EssTzTu2N8rUBrdKpt83H6ocHw4xjzHAXpYejPPUmPxkhom85if61dtsYVa66Om3uGyPkJL7p1F9Bb+R3LR/ZRDYbL8YWY01EPjCUhqwlnyOKy7CFjba129u+lkbfa4f2WDtPZsM+aJJnUAfB+KCXwmDEy4xtZXXa3K8dBGOSwctxqvmxnVe78Sae8GIwPuZY0Cmw8Ty2aIej+3ZlS2dvY6JcNDFwlUt2GufkYc33ynNdLzGCn4g7vVmnDVriKC8diNcY+px8Y5ic0yc1/ZHH0X08QT9wjIxJqxGMs2inNMrg1JDJZIkIOsMdX7fbG9eBh7zwt2xOEMESVbYH/Rltirrk5ehwMDkI+kJ/j9pBqDHpdQ6LdBB6IZTPagTGykGwpIOQoAAsKyIYRaMoQwPRTviLyDCYTd8R5Ax5ES95GNSiB/K59tIVhWVg2A1gRq+ZCc8Yb9ZGxjIBQoHgoPgt3xD5JIDUTSDIiy5RALQyTgkOaxNN6VKsnivfuWUkBCwBYaqU4PAM7Z5TbpSPyI9pzGgTQRnlmj7l8RPS2jDoRmhR6uq2bIBhTVjBU1s4UQS9aC4Fqp2eOecUiFxop3QUnTLQhB7Gc0SBuxklg9LZKZ1+ajsIaGZYhPFC0FNa+m4QXOChDG0xG0KAtx0E5egvTkMYgaKUDFM8JS8F0G33nJIW9WXEUKh1lDPaqp5wEOoZBPijs9dGYQ3bQQgszOLBqB8NwVv6wxjhHOgPa77xqed240abpGFwaquxqm/bBme7zTCaioPAcLSkRH/ho14bGrWX8eDFV9FsY1DfoN1zm2PwxqgcBPWEjGNUinbClBFtGQ9jT98HpoM4COiOXT68zUAwZsgmEe6al411Mo5M1F8MIsvUGIPt/oJtOAj43IxIvIBbY9fGHz1kDRzxDZ7gNOov9HXaavyl4zTJZ62/oAVaIg15Sjahn/NNlsNT2+q2djo3fslk+UVtYY+nBUMCR3UN4iBYq69OctNMkDHG8RM4Ulanzf1wEPBxGKPdIsdRhnx0F8OY8ctQ5iCRE+jFu7FJ69oevAQzefVnmydgAmPjVj+b3fLuDp5ol6u8cBAY+Zx6zi293a3NQZfyBG+0GVZmo/RRL/2ifvIFz3LCtBsv4W3P1IkmZdMb3j2L9yj0oeBjJz6o72k/nchewFN4wpiAWYwJ9dj1AQxj6SU9A890EKKX8ziTEBgbB4FCZyQzzBhUri1XoLwNQoOcoOPJi2QzyAk/gttusHMW5KVIRcUZJcohPCgeg9egpsREvUzbijSJgMY6boKMMBSZdp+wJdDlJ6QZ+Zb7SE8IcU44ImYVKF31MsLNEJheNEtAIauXEUJoM0DQqC3SEz4iS2ZLKCfGk50BwOkQ9UDHZBwEwoqAFCHhcJniJqyVp2y0EniiLiJCoqYEm0gP4ece48T6fo6bPPGVBEKYcmYA6yMCulYUwxgA+lqdokEEvwgRXuD8ccBEmex1dK9fvTBBqzIiKs1BwAN4IzCThqISUWYwMhTgR/HYCf/2Hs8cGS9wo4xEVuXFn9qkjqhnnBwEhlRMnQedvfDUBmMSfzH08CilzpHFR7Vyhmc4CPrM+KWw5e+1KWMQB0G6MDiDb41JefVrr007GN2cZ+PD0gaOurHdpk9aciCWGBkHw5hBqPFWB3lHXuBLzri+Yairi8EJT3s/B0FZsFGe9NpEfpEBlsBxQDrxMf6N/uzlIIQxxHlhOOJ5jrT61NttQxd6GI76S5TceBSYgUW3TT7PyVdynQzyngnjPzDUZ8a3wI9yGalkHN6ux2i73a5jbGs/2cYQZKSHDtCmoGEyDgLdIBpufPgCVjjQndqp/HAQ9Dv5RE/h734b3M3+MeTNyghwcE5gU/eHc32nTDxBV1nGK3DFKG9jAxf4eQ/N+DArMKiDwEAW0DPG+m3oMbbwhL6FOz2lT+HSaYv+wBPkrDEpCNeWQcYTh41OM1sqGCCdCH/wRbvdce25dHQ3ftCPxiI+C/mCDrtrmLIf1GMWh4ORDkKn3st7447AWDgIluMQyoQ6ZUMpGpCcBUKD4CMkKBXGNCHGiHVOqdg5ARSqQR3Tn6L7jHTXBighRXCIjvm6AAOdwuVsiJQzdhjsor8UFoOeImWcMmgIBE6Iuglx5ROqXnwSSSUcCF+GLKeFIcuZ4GCEY2JWgkDWLundt6xI+ykSbdRWz6ShHCxxmewMAmGFFnQz4HxVQfSD0yNSxDjlqDDYQkEzOMyKmJ0J5co4Ri9jXbspzfhuP0FOyWtvrYCGwfSUWttB4LyFAmS4+EoN2jhu2ttvk4aBB3PKRxvbDgLs8YkX5ihCCpGygp1o56C79LFbPodXQ1FH34yTg0BxmhUyHvDeIHjqc31i1oFxTXEyzEXMPFNGjNtwECzbiO/A9+MZz6fqIIjUGqPq77WhUX+bedQGDiHemJcOQo138AZeIYssw2HMMMCNYQEJ45esMl4ZbgxJxg4eq41z+Lk2PhhpAhAi2fjS2HHE4zVPB8/iB3UO6iAwzMhtwRWY9+Mf45C8I0NEdMlZchIWvTbtIcPpgHAQyEh4Bb+RGwwyHKTVAAAgAElEQVRebSCrHGO5kPa221y3P84DB/LPrClDNXhaXZN1EGK506AOAnmvffpeMMo467fBnY5CLwdB3k4OAowFrQTY6AAzP9prOZljYFAf4Rd4ut/PQWCs4x98iU/1d79NGzmweEJdsCLvA/du+bXHeFVXJwcBz9DPvnrHwOc0Kr9bW+t2x3nwjDwCR2au6Uplx4b/XJPr6SAEKnmcyQiMhYMgeidiY7qYwS3q7khRR/TBwGOIilBR5CLLDHCKgMFvGpgCNDBFuqXlAFhTTdiaSqRUORGuRdXD4GT4xtIIBpIIG4PGVDanxdQk5SVKwfBglDIyKTgzERwIZRHQoZQZ5r6pzCDnvBBQPqMn8sWx0J4Q6CL5ymFYRRnKIfgIG8pzsu8gEFZ2OGiTqJJyRMbRzvhwzigkWEXiOTXo5ixxSkSMGHyxDMrMi34iXCkThm8s41DXMDdKuJOD4J7ZDoaLCD1e0Z5+SgRtaKSoCHb8pR3dHATYUFSUCWXHMGOsUYz6ddAdrpyoUCbRL+gdJweBMaKdjEx8N0h/agMnFl8zMihf44Oyjv7Az5zecBAo2FE7CJxYdET0sRdfauc4OgjwC8OHDGKgiUiKRBufZJu+4iDoO2PYuwvkSmDvCHtLPvC7MWvc+DIMeeA9J8GNmqddW17jqzsM95noIBhrZCr6Oa3kFD1Qt7Pb+JWm3gUKzFBEEAK/TNZBoB/MdKAlvkbXbXy5HzMIU3EQtL2Xg6B8OoEOMoMkSKKP8Q+5apy2cXJtySmnjAPNWHaPrsBjsSnbeMdv4SAIfE3VQbDElbwPfo562scYJ90cBDTRETGDQO5baeC9I/zejRe63ccT8KPz2+1HCweWXjVeOc2WK+UMQrvX8nomIDA2DoLIOqXEcKf8GN8i+yIcDGyDkWCzpMWgY9Az1DkXdkaK6IOdomQIipJ4udSshE+Libwx/gkKdUQaMxgMYZFQxlysWRW9YBRzVCgJ9TA8lM8wIvjRLPrI+QijnwIhEAggRrkpxnAQKCvRJ4LFzlBnfPrihHYSMASaXTmEC/rVS3HUAqkXgxHW0ioPrYQWR4EC0W5GkfYRdDDlHLjnGWxEnuCr3aKC2qhPGCccMUaLCFQoCfUNc+vkIOh/OMY7CAxBziF64dWPBs/DYYp3ECw/qJcYSQMDbWWMcRD0GUcVXuq3DKvfLl3seEN7gkZ16Jv56SCgIYxHS0MYL5wlY8BY89zeaYtn2gMHDrl1wxQvh51hXqfp5CDgtX687PlUZhDwBYd62A4CevBGvIMgQjroEiM4GosCDYwTNMZXjNyvsQ7s1KcvyBtykIEfswXknHHL2G87CFGW/iFfGPwcDLMGZkb1Md4Tbfa85mXX+JxBqE/NMAqgGOfkW72hm1whn8ZlBgFmZC/DjzPKadVHZCvZ12/8xpiNI8OS/Iw+gq2xPMgMgrFA9tNpMcbog9qBrvF0rvxhOwhoh0uUr3/pHPgIsgiYkeXGGp5oY+RaP5P5eH6QdxDCQWC0T9VBMIPAQQh+bmMV19rXawbBOMC/nERjgJxiP1h5oL01/3c7D37wHE8Yl8ZDTVvwBp3NMeIgaL/AYu0gsEXYJnXeaEscPYvxO8hXjCJfvyM+ULc+t4wwv2LUD7EF+/lYOAiMT+v8fLXHQCaADUJK0H0GPQFgUDJyKTnCygA38ER3pKfcDHhGoMHLMCFsTS2K3DD6GHuWDjFQpJHWALYUyLQh4zOMToYd5Sz6JnoswuLlYYpGfs84FpYdqQd96tQGCphSZ0wzYAkWToz65SMA7OjnhBAkDHKDV9l254xXzhMnZbIOQtRBKHTbYWD3XHpHgokhpD1mNUSkKDhH19oDa22VfhRbNwcBtviCMRvRQcq6VoLd6EFr4B2zA76T3nYQlEWpme2hEEX/GFX4ATY2WHXaAsPAVfroh/qIlnAQGH1mZjhiMO1WdtSHNyh0SghvxPsz8dxRGfqIcYe32v+D4Lm6RPv0LQNPNJHCMIZquutyo2z04xGGAz6Xl8FhxgSvRzrlqCdmEBiqZhC0oR/veN52ELRb3nqTjhHHcNevo3AQ4BVtrh0EkXiOiP7ut+GrQRyEKCfqxHfeWRLx5QwwcJzDWt+F00CuoEM+G+zJTf3D0eXwkjHGUKSTNtI7opFMZGBbSjFZB0FABk5RZrSlfQwnXH/hHYbzMJYYqZfcEujRXnwt+BJjBCY1fdLXtHomDXzaaaMNk3EQGIsw4cgxGC15pcOUXdcbZbs3KgdB2dpnNp2Tim8sfRIMomtChtZ0RR46j27UBnwx6AzCODgI2kwGGbeMYk4jPUx2hRzSzrrd0R+ONU/U46ZOE+f4mjMa/W3WhZxvOwhsll4bWvAIGT4qB4EOTQehVy/ks7FwEETwCXEvwxrIBiQhLNLhc2Km60yHi3KLKJj6Y7wx2kXAGa0ivKLbDCHOQgh5A5NSVIblPhQRh8BAj3oIR2VZVmPpkjIoGTRQ/hwUS4C830CYUqDFgH3ppSIoCQEKlRKiECyD8o4DZcCYZbygiYPgXu0gKIugMkOAPs4C49TSHTMWlLuXzXj8U3UQQvjVR6xfX7fP4UfYmUFgvDLGGaMMSjSHAh3VECr4Vi8pB+4EOoxhjiYGhr6DbwjvTjRpn/ZQjj57SEmYLm87CPJqO95jXFumYBeFZGwpI7DqVg869HlEHvFZO4974+QgcIQYkXCNF8/hgO725h76Ye6lQkYGY8PL5NaD4w+bdMqYDQ6C9miz/q8dBMrbuNTn/bapOAgwDH4iS8LwYFRbXsRYMw4YYm0HQT78TnbhdelFs0PGKttui3PjjjEo+s05mOwSo3FwELSBTBVUgY33CBi3jC39F+Oxbnf0Xcg9ThkdAEPp6035g84g0E2WgtFXjGs6RD/1GlujdBDUS4ajw5g1k0qeamsnmoL/4Bn/W2FmaaY5CMYew91sF9lPb2iDYEj0cYyFuq+d6399zrHuhpN08htbbJL4alU4vqN2EGL8OurHmsfr9rjP3mFPpINQI5PnnRAYCweBUYFhGaMGIibHyAajaDXj23SjKK6BxsDnMIj6i9DHsiHnZgcMZPntjDSCwUBlyFg/yHuP54SDQc3B4KSYESD83TfQpI3IfxjphI1nDKGaFjMMZh9E2glT69g5NdIrB/0cARGkqD8ED8WqHdrk3QqzGcpx5CRQ2MpS73Q3+HbaQsigDV2UJAMDTd4PES0V0dWeSNupnGHcUz9nML5ixEHgHLhPwBHuFD8lx2hiqDLq9WUtILUFvfiAIuS4MaoYw/ZODoI80nP0lC1i630Myy4sGdDvwQPRj+rEM/KJhDIiOXuUPZrbmMsXDoKo8PyeQYAFI9IsAKPXGIAz2tEa/a2djCyzBGbkOLzwkQ//ai9sbPJIr09m+gxCtAceZpz0F8y0nwEYhiestDn2ut/hMtkZBPmjTOMf33v5lLHJ0OHYxYuZnRwE8slSTbSaCQv5iFejT6MObeMckHe+vqLcmeggwJ4OCOeVM2WmReDHrDO9oi/gWu8wIafJZ2nNbDMgpa37EU6DOAgCS/C30z/6LF7kVpe663KDx0bpIKiTPuQ0kp1mWczKGeudeAJf4wkf0sB3k30HYX7OINT8jSfILPo/ZhnJduOBjUG3BE9EPli5h5cE7Hy8hMyDVZsn5JGebrD0mPFtfIbelocuV+dU/knZBwrIHfzZ3tStfdpAP3MA8Tld5L7nsaERLekgBCJ57IXAWDgIIrPxx2IY2tZmeoODwYbpDUKRfYLNF4qsgSbQRT6tFSTACTt7GGyMbsuVRHRicKsj6iEERehMTYuMGkh2xo13Fxh7sbzB/cjrOQFDKMR/CnAMzCaE0JUezaIwoXSiDEd0UlpoY1iKiHOKYEIwabedcJB+lJvy4adNoo1eUOY8wZ+zQAhp+6g3NHRyENCn/xj71pmL7jOwRa9hRvnhgYgAEu4MK8t38ADBLY/oKIXtHYT6j9K0S/vUIZ/lMJwIkUh5OaFwocT1L/7Sd/pGejxo5oFDJTpnFggtbcy0Y5gOArzqTX2TWWLE0GTow4YC5ZSa0WPQRju11djAp2blfBCAAcnQ8C6OyBk+Dx5Fg/HcyUGo09V01+fKGbclRviCM+8razCzZMG455xqE14gS8iMGP/R9/KGg8Bo9Q6Cce1+pKnbH+ee2RlrFL9/HPai6Ec+8pHmX//1XwsdnWYQYM/A9VlZfWv9tQAFhwZtysM3jujG0+SP2VbLtBiD+GEy7yDM7xkEmMFK2/WBpajWzJMRAkReXkajsUo2aDe+hgedgucFZvSNqL/+kSZ4WvkwG9RBIPPhKnhknKCBXFcGGtv97nq6DoIltfVXjPBX0B/lM1yNXe8gSG/WmgxDV/AEXIw/Yx1/wdBXoeblV4ym8w6Ctga+jnAgcwXvvM9DptMbgo30nDFc84RgpPazCeQxky+IGEGidvkwJuvhZZbFGKKTyGH8NQwHQTmdNm0jl71bYXZI/9KRxnb0vXzOlZEOQicU814bgbFwEBidjIiIYCDS4MPMGN8zaTC7awLMPYLbgIxBLU2kNygZipQ1g87MAGNP+nrARD3KpuCVqwxpPCPE1Rc01kK9fi6vsu3oUk6krdMpJ9rpfuzSooFQjnKUKb3ds8jX7sRhXqODEcjh8tfyZg3i/Q841NgNs952Werq5iDAgTLjhFlLS9hTiBRXCEdOo2irF9PMPmkLZSjS7R0WRhAjjdHfdhDQAgf4M+i80BffhZdHJNa38r17QgHYLWEw00LhULwMMnUyBvRpe4PjODkIlKWoOEPfbAnl5mthos/xBSeOK+NU9NHsjQgZPGDJQca3+iZ4JPjeWIgZBPhP5ytG4aTXeKoPxoxbzg2ahv2ScoxT7cMTosP6OHCDi8CAZY6UsyVpYVzKayNXpuIgRFuDJznqHDj1cxI4Kp0cBLiQHWZovTQqvXdA9J++ZAx7BlNLORnGeEAfwVH6mTaDEFhF2xlznHrtMSNCBhiXZALZYLkqLDhRjCY8zynCQxwEs9pTdRDwAdkpco3/YYkODqV+0Z/BG0G3a46N/mWQi9qTc2jotymPvuvlICjDOBUJt2SU06K/vWfnnRbjWJsdRczDMGbwkpV4bRyXGHHEjIGYTXPdCVu4CyLB11gwfvGE5XfxZS96A0+Q75ajchb1haAS+cjwJtOUX9eB5zgVZpql5ZALCLo3ageBrqKH6EB9pG7XIZODd9CYDkKgkcd+CIyFg4Bp7fVgcx734+geIeg6jp3OGY8MM8KfwuZVE5oUK0O7XY/rbvV1etbOj4Z++evnkd+xvUdb2+2KOiJvv46d6nO4UmiwYywwtBg1YfiNuv6gu5uDoH40ek7witjrW4qUAmbYchhEDSljyowCILBFgCgBDmNEkQh/ESLGW7TNEd7ajF9EkShPzoflSYwHdYUhpR6C2T27NF4iNZXMyVF2e1O+aLAlKsqjrEU2KbCgo50nrqVh1NUvKcOj3pQxmRkEhgIFa8rdMixLMihQuIlWa6Od4kGvncHAgbB0jlMZYzLod4QhZeplOH2hrPgMMQx6bZ7DnpJWH35kdLcxko6DYAaQc6MPOGtmwdDUa0Mj+mLZEOXKUGTYyVu3RT3uUbp4SDQRRgxpvMCJtOM9a5Aty6CMlWHHB4w/xhgaRZOVU/NeN1rlV7e0jEVGHB5TNyPH7KiZAXjXNLvGB2ZA8S8+NR7ghOe8d2XZA8OY04cmswzGR/Q3Q0mbayzVgefgxElHg7K8TA2noKFTezwzrhip6MBj+Ag2ncZKXYb2qNNLpsETZABa6jr///bu7Neaourj+N+htxpNTDTGC70yXnhhYkxMNA6JJA5BxTAqAsogkyAIPoqMgogIiigYAVFQkUFGERBBBoWHeZ7nQZJ+8+m8ixTt3vvsc84+59nn7F8nnequrlpV9a0e1qqpHQtLcdILa3EJhoF68o7Av72v6/mVF3VoSJCGA+/CYf1Ia5oehDIQsMPfMBHvJsal+2IoVzmxw8F7Vz4NAap5Xy2HUcfqh4Ggt4LxXsOHpENubc71LFkiWt3Lk+dab6oGDvWIlfele4Ac94NnynuCn/ehhrlWLubygI13iR5a9yWFfPjdrby0rvva8Db3BCONkS2fbb224R27pj7KQHAf6t3T+DKMV/lzT8gTo95QOmUvY9g7Svns7hX3id09oU4MdVXuqrtKo2TrmTL3xb3p26JnQvihgVDvhWF56rzkeXYN+awhRuKN2rDTEyLPev7cxwwV70XPQW3qiwx59P7OJOUiE3cUgbkwEDwMtbeZLL9pXTe/FxTF0ctdlx7l0QfOR8SLwXXyaptWdhuu4nJb/2mPR8Uvv0kyKsxaudLGkAKm5U0vgqE5PnBtvtYq/Vaul/6wB4EiZ6u8qMtS4I039hEzrMeQIC96u4+Nj54XIuWXckGZ1SpOiaNkj1LSKg08vGDdU4bQaAk0L8IQIi9tSoZ0HNd/PCwraTy4F/HwfqsykksR8NFl3FB4fEyU0TXpj9tGGQg41FZ5n2QgCCstygdjwAdST4APp6EWnh8typQFioMyKqty+qjqQWF869b2XFWe23w7xk5+tUaKJy3H9SxWnke5ZBpuUQagCdQUUPIqPfEc+0BSOOWXQuPjb8gA/pM2ecSB4UHhZtxR7BgmpQRU/OIqPY0Qng3KGGUKF4wo2c61WhuaJ18VjzxGC67ySGF3Tw2V20qvdUuGtO3uLUaNOqO86CE1dn5UntUBJUVvAS6UN8qLsta9y/iySALFTwupHgXh+GtRpWi0LOVHvnFidLtH9MxRDsfd81UecTGXH88r40QjDuWqVWYqfOu6rsHCs06BVWfu4WG5xZEOVuJ4FqTnW8Cw0wtICazn1zvD/ck4ZNi5r9u6I6s25S4DQW+MhqeqQ3E0OHgXMAQoqu5X9wpl3HOmFdp9Xc96yZUGdu4R83m8F9wjhv94XpbaxNVr7t2mPtwb0pU3HGqTDiaMHwqvoZfquozbuic8q+4rz6v3me+B+0adGUbjuzBKLh4MLO9ehl8NdWkZVl5aVxn1XGjNZ6ga2qbepDEurmvefRpbNCSoR2m7R0bF4Wd3vzCmpOeZwMoz6Z5gLDLyMVRnDAPPg29H++5p5TvG2TPoe8O4U3fqX7k8rzXEyHvTeRu/5eDYNfU5rYGAgQYm9zbungs6j/ySUxte0vY9VN8xEIpM3FEE5sJAGJWxlfi5+e0eVEogBUzLghduWdKuT3owV5LuZoqDjY+HFwulmOt8vTd1OM5AqLyoSy8/H1p59ZHQHU+51WLHINDF68XpRe3FqDx2irBeJh+IUkxG3Rf1ovZB8fHXokV58OElWxp2cw206rrmpe6jgNsomfLPn9JGidTyrUdAPOko16RN/oc9CLMyEHzgyJc3zw/lq+WJGZ5laGGvDsbl2TV1aaImhdYu7jTlxIgSgpGWRcoM/hW32EpbGgwbypl6odB45sflq+WrntwD5FN8GGoMAHmvNNrw/OQBI4oIo0Wa7jn3AT78650jrjjkteVx77nHJ90nbbp1TJbyUgbdh9hwqxdnmGcMpCE/3oWUW70+hmS5d8Vv7133uWdJGPVVCl7LssqDgWeOgU4BX0qhKxb4Ye7ewgxzbDCatMmDNBlW4tVz0+ZtGF9elV+5GI0UWI0Cyq2+MWjva4qzZ2BcvWCPoYaCaQwEz6bvEGWZ4sjocs8M789iyp987wV1UO+FYbmG5xh473i3qVv3l/IqR8tHOs7VgbQYK/WcY4EJtu4p+XafeR48t5h5xhwr1yi5+LmfPA91X45j2ZYBV/cnQ1/6GKgzacjzqM01suWPQuw+5LpHxsUhp+Ipv/sQM88/5sov7+5N9zYj2LNV77pRcvnJq2F7WvH10mk88HzjtNYGgudGGp6jYuebWO/KYqfcMRCKRtylCGwqA8FDavcQ2D00w73CLAVmka8Xw2LFXe/Nx2IpA6HyqY59JOxeiF7IXuZ2x/za+0A48l3j1vVR5WwZtPdVmw45JYtsaVXYUTKx5C+c9Cuf4oo3Lk7VwVoaCHqOKh/FtVhVGZ2vtJzKit005VTeYlSM23SLU7Ekl3z5qzxKZ6lNmLY+K660K41WBj9x5EU84St/XH6Vz4rPtZMpTNW5sNOyGOZhFJtxsirP4sjbuDy7NiyXsKNYVHlcr/KIW2Vt89seV16UveJVGvI/aau4lX/xR+VtKKPitfVW9dDmQf6FIXNcXqS9HANBeEq+IR+GpOm50VNDkW7zXnmUh8pb3U/j8tKWU3zyiqtyFVfXanNcu/AVp9IUr+LKi+vckitcyW3zVTKFdd17SljnwrV5qLy0buWj0ucu9XyQSba40hSn0mxljzpu41baxYBrl75r9kllcI0hZXim4V16MvQUMFzIWGsDQVmqjirfzuW75S6fMRBG3Q3xG0VgUxoIHohJ+ygQ8XsjgSG/N15d+zMv+6UMBLkY5rPOvQjrhV5+S7njSjUp3jTpTJJb8Yd5HReH/3IMBB8swwcMD/DxlE5tztshRlYlKgNhWObK59C/zkvm0K3ro9xh2FHnbbwhI9dqczwqj3V9kltpjIrfptHKGMYZF7eN38ap43Jb2dMcVzzuMO1x8ds4dSxuHU/jtrLb8NPmoeK3cYfHFWacW+HbvI8LW/4Vp9yK2+a7/CoMd9Tm3bQcA4GCqKVa67LhVMa0G6Kndb5VgNt0h8ej8jHKr+JVWcodhq1wQ7d4VLz2euvXHpfsNqzjNozzpbaKI960cUelWXGnSW9c/FF5GFcG/hRxPVOGKtVEaT2fenRcm5WBwOAYtQ3LMTyvOMqlZ8FQugwxKipxxxHYVAbCuELGf+MRmNZA2HglW32OlzIQpOADodVyJQaCD1q2EAiB0QSWMhAMTTGMqOYgMALEYRAYJ28CqflPDAbDUoatvKNTje88EijjgCFgFTNzkcwzMa/DcCn1PgsDwdwmw/3GGQjTsomBMC2phEMgBkLug7kkEANhdLX4IMVAGM0mviGwHgQM4Rj2IPCjfFH4RxkIhntouTXhm7KnF4HxXnMEPNfZNhYBdWb3rTKPwdKp6tXkZvMA9BrVMJ+17kGYllwZCJmkPC2xxQ4XA2Gx638uS18v3RpiZHURk/W00iz6h9QLHoeapIyNiXQUlNowEs4qHZQQKzVZiYRhwd8mTA0xstylVi9DjExS9lHLFgIh8L8E6rkxGXSnnXbqVyQytKQMBErhcBWjakUWRjwrzViO03AUE2pr6N+iv9v+l/Z8+9R7Vp2bEG5lLJPQDR8zidt71PtWDwLjcLmrGInvHe6fHXom9CAwNFazyYsJ12UgWHLaXJjce6uhunnjxkDYvHW7YUvmZeVjqnXNSiGW27PKSC2rt4gvM2W2e8GXEuLnV+MMBGENMbKso3AmRdYqMSWLYmKNeMsuGo/qo1HjoivMhr2JkvEQWAMCZaBbqco/TGoVo3EGQrvaD4XPM2kZVUtqei4NS6mVetYguxG5hgTqfWxyMkXbsDLLoho6xiCod6h3NiXckLNPfvKT/f9xKPquj9tcKwOh/oNgpTRyV7NVXqyo5Z0fA2E1NDd/3BgIm7+ON1wJvRz7IUYPP9yvaW1NbH/ftRyf1nMfY9cXbVduvQB6VvzIzlrr1gy3pCcWtdWHyUfJz3N8tLZs2dIvW4pfcaOYYGpZP38O9QFilEmjwgxd46lrTHV7rfynddu4Sx2PSm8Yp9Id+juva+WOCtP6TQpX11bjtmlNe9ymN22c1YRr05t0PC6NYZxx4cb5D+NPcz6NrHFhJvlX2sIwqrXqWg5Uz5x/R1gG1jXGg2eq/lJMsbN8pueJsmcX3xK4DAN/VLY0bA1FET/7xmFA2XZvMBD0GnknW17WuXp2XX26NyzB7H5gIPinwrQGAln+m+L/DO4XyzyX3JXcK/Ji+WqNQn6U5m/LvhNkZQuBIYEYCEMiOd/mBKr1RFeon/74OY+Wcj/O8XfiWrvcR3qRduWmWFgu0cpExrr6SZV1uikftZWBoMfAWFhh7UcffXTPi5/dmubWDcfUknw+XM75V5ihy4iofdK1CjPJHcYfd14yxl0v/3Hhyr91K0657bU6rmutW9dm4Y6S2/o5HpfOMFx7XnFav+FxheFOutaGG3c8TfxhmEnn49KZxn8odxhneL3Ohavj1m3j86cA+hGi3gPvJIa38eeeP0oWY8A/DgzXM4RIWPMVGBH+BWI3jM9QIyuIMe7rmt47u16H7PPPQF2pTyu/+Yu5OlXXzv0Pp+rTj+68t/1V2nvY8FBGoff0uM01hoD/OfgLeP38zH8ayDOsTTrL2d13VlZiFPgJn4Y397SJz5PyMi6P8d/8BGIgbP463nAlrJej1jgvtL333rvvDmUoWP1DV+5yd63t9uXGm8fw/iCr9cfwKx8bHxEfk9rws+txYDzUSkbmGhjWoOWzjIZyR/nVtfV25aX2Nu1Z57HSGLptmmt5XOkO0yj/cofXnde1Ue4w/Kgw/NpwFab1m/Z4KGtSvEpnOXEmydsW1/wp27BH7yU/XKPsMQ48c1qUtRb74/pnP/vZXikUjiGvJXg5uz+I176ceGsdtvI0yR3moQ07vDbL80pnljKXI0v6w/D+xLz99tv3vb0MSveHHgb3y6TNPaXF3z3mL/L+raA3eJdddul22223fkUsf41eardyll1v1w477NB/AzUu+Rt5/ek7PQiTamJxr8VAWNy6n9uSe3F6YWmV0wquVeaEE07oV4nwkvNyXM4uTrsvJ+68hfWit1qGnhV/KcWnWi/bCi2GPkRaufQSWHrPhLf99tvvDbsPhX3oP+58mvAVZih3nP8wrWG4Oh+Gq/O6zi2/cofX2vOljktGuW348iu3vVbHda3c8h+6rg/9nFe81h0VrvUbJ6sNU7KHfsPzNt3lHA/lDM+XI6sNO5RT522Y4XGFad1hmEnnw1D+Z/gAABjmSURBVHiUQEP3/M1Z66vnz/NmZ6jrRaB46T3w/qiW421hzGyrNDVEbKu0pbut02/Lzhg2pOe4447re48o/e4T98ukrd7h5h1YGYshwDDVQKQHoHbn4/YKU65eA8Oc/OVZj4fvw6jvx6R85driEIiBsDh1vaFKWi9HLXJ6Eoy99NGl7FbX7axcMof7rGSvhRwczEPAxYemWi/bCsbP7uVPYTHO1NjnrVu3Zg+D3AMruAc8d3bPUT1/ZRx49uqd5ZmkeJnPYwjRFVdc0c81MN8g++IxUP+UcT0Hk97Zo97f7infQIaoIUKXXXZZP8fFPBeToe2Ox+0VplzhrJylZ7kWrRj1/WjzkuPFJRADYXHrfkOUvBTd1l2LjLfyHc/ztpz8Dcu1nLjzzCB5C4F5JuA5o3gxFhgRdsfZF49B1f1KFfF6hw/vp7qvVuKuNC/z/Mwlb7MnEANh9kwjccYE6gVZ7ozFvy6u5HM3y1ZlUp7NVK7NUj8px+YlUM9e627e0qZkQwJtvbfHw3BLnbdxZ328VNq5vtgEYiAsdv2n9CEQAiEQAiEQAnNKgFFQW3tcfnFDYK0IxEBYK7KRGwIhEAIhEAIhEAKrIFC9BkTEQFgFyERdNoEYCMtGlgghEAIhEAIhEAIhsPYEYiCsPeOkMJpADITRXOIbAiEQAiEQAiEQAtuMQBkHrbvNMpOEF47AXBgI7c3fHre10foPj9twdTxNGGGH4drzcbLaMMPjcXHKf+gO4y/3fCivzpcrZ1T4ktW6o8KVX4Wr83HuNOEqzNAdyhxedz5NmFHh2nglt/Vz3G7Da+15G649Xm6YYZrTyGrTGB638dvjceGG/tOcT5K72vit7DqeJLPCcIfh2mt1PE2YlcpqZVd6k2S14UcdtzLqeBiu/IfuNOGGYYbnJXPo355PE0b4UVsrZ6XH21pupT9t/is8d1KcNlwdD8OX/9AdhmvPK2zrN+p4XLhx/kMZFa51VxJmXJyh/6TzysMwTPm37jDMSs5L3kriilPbMH75D91huPa8wrZ+o46nCVdhWneSrEnh2mt1PEoWv2xrR2AuDIS1K14kh0AIhEAIhEAIhEAIhEAILIdADITl0ErYEAiBEAiBEAiBqQlUy+/UETZBwCpzuaspUskodzWyNltcTLKtHYG5MBDqxh+6bbGH19rzNlwdt9cdj9uG4drzitP6LXU8Lk75D92l5C11fSivzpeKt9T1kjN0J8Vrw04TbpowrUzHwzjD69OGGRWulV1yWz/H7Ta81p634drjacIIP024SWHaa+1xm5f2eFKY9to0x+PkThNXmHZr47T+w+M2XHvchhvn34ZxPE24NozjcdswXJ234cuv3EnXRoWZFL691h6XHO64rQ0zPG7jDK/VeRvGcfkP3WG4Oh+GW+55yRm6y5UzDD+U1563Ycf5t2GGx9PEacO0x5NkTQrXxqtwrd+o43HhxvkPZVS41l1JmHFxhv7jzmed/rh0Wv9Ks/VbzvG4+OU/dCfJrrDThBF22nDj5Jb/0B3KHV53PgxT56PCxm82BObCQJhNUSIlBEIgBEIgBEJgWxOgvPlbb/3lt/7cyz9bCITAxiAQA2Fj1FNyGQIhEAIhEAJzT4AR8Oqrr3ZPPPFEd88993T33Xdf99xzz/V+MRDmvvqSwRB4nUAMhNdR5CAEQiAEQiAEQmAlBCj/9ldeeaU3DE455ZRujz326Pbff//uoosu6g2G1157rQ+zEvmLGqe4Kn8MrEW9C7ZNuWMgbBvuSTUEQiAEQiAENg0ByquhRE8++WR31llndR/84Ae7d7zjHd273vWubscdd+xuuummvhdBmGzTE4iBMD2rhJwtgRgIs+UZaSEQAiEQAiGwcAQo/noI7r///u6II47o3vrWt3ZvetObuje/+c29sXDBBRd0L7/8cj8vIXMSpr89YiBMzyohZ0sgBsJseUZaCIRACIRACCwEgVJeGQYvvPBC99DDD3dbt27tTj755O5973tf95a3vKU3FLbbbrvu6quv7h599NHuscce655//vnemEhvwtK3STEW0nG2EFgvAjEQ1ot00gmBEAiBEAiBTUSAwso4eOaZZ7rLL7+827JlS3fqqad2egsOOeSQ7nOf+1z3la98pTv99NO7yy67rDvuuOO6448/vrvmmmt6g0LcbCEQAvNJIAbCfNZLchUCIRACIRACc01AD4AVi+64445ur7326uccfOQjH+nnINx9993dzTff3N12223dXXfd1R177LHde97znu69731vd+CBB/a9CSY0Vwt5WsfnuqqTuQUkEANhASs9RQ6BEAiBEAiBlRAohV7r/4svvtivTnT77bd3++67bz+s6FOf+lR33nnndffee29vHLjGWDjxxBO7D3zgA/18hMMPP7wfjmRCs+FG/peQ4UYrqY3ECYG1IxADYe3YRnIIhEAIhEAIbCoCNayIYn/DDTd055xzTnf99dd3F198cXfYYYd1p512Wnfttdd2Z5xxRt+rcPDBB3dXXnlld91113XHHHNMv19xxRXdjTfe2J177rndVVdd1T377LO9kbCpQKUwIbDBCcRA2OAVmOyHQAiEQAiEwHoR0NJf/zo44IADug996EPdSSed1D3wwAPdU0891T3++OPdpZde2n30ox/t3va2t3XvfOc7u4MOOqjvRTBX4emnn+5XOjr66KO7D3/4w93uu+/e3Xnnnf0KR+tVhqQTAiGwNIEYCEszSogQCIEQCIEQCIH/X0nHkKBHHnmkNwx23nnnfkgRxZ+/noVLLrmkNxze/va39/MS9tlnn/6Pyq7bDS06++yzu1133bU76qijeuPCXIZsIRAC80MgBsL81EVyEgIhEAIhEAJzT8AwI70Ieg1MRLZ8aU04pujrEdBroBfh05/+dG8MMAr0PlQPhDi33HJLP4HZXIbMQZj7ak8GF4xADIQFq/AUNwRCIARCIARWS4CRoDfAz88YBSYt86Po8/PDNP8+MD+BcVAGRM1hEJefveKuNk+JHwIhMDsCMRBmxzKSQiAEQiAEQmBhCJRBUD0Dzu0Mhueee67vWdBT4CdqDALhKk655ec8WwiEwPwQiIEwP3WRnIRACIRACITAhiJAsW93Cr95CP+44R/dmWee2a9UZMlTvQqtMVBxFLY93lCFX4fMtmwcZwuB9SIQA2G9SCedEAiBEAiBENjkBPQU+HHannvu2b3//e/vVyqy5KkVjspA2OQIZlq8GAgzxRlhyyAQA2EZsBI0BEIgBEIgBEJgPAHDi/zj4BOf+ES/gtG73/3ubsuWLf3ypzEQxnMbdyUGwjgy8V9rAjEQ1ppw5IdACIRACITAghAw4diQoiOOOKL72Mc+1m233Xbd+eef3/kHQgyE5d8EMRCWzywxZkMgBsJsOEZKCIRACIRACCw8AUaAZUstdep/CP6i7J8JL730UgyEFdwdMRBWAC1RZkIgBsJMMEZICIRACIRACIQAhVYvAoOg/pzcLmXqerbpCcRAmJ5VQs6WQAyE2fKMtBAIgRAIgRBYWAIUWj0It956a7+C0YUXXtg99NBDb/gPwmaHM0ulfpayNjv3lG+2BGIgzJZnpIVACIRACITAwhIwxOjBBx/sjjzyyH4FI39Svuiii/r/IizKHIRZKvWzlLWwN2UKviICMRBWhC2RQiAEQiAEQiAEhgQML9q6dWu32267dVYwstSp/yFY5rRVdofxNtN5W07Hq9lmKWs1+UjcxSMQA2Hx6jwlDoEQCIEQCIE1IUChNffA0KI99tijO/TQQ7vbbrut/1Faq+yuSeJzIrQtp+PVbLOUtZp8JO7iEYiBsHh1nhKHQAiEQAiEwJoQoND6Wdqzzz7b3Xfffd3999/fvfDCC/3E5dUqy2uS4TkXGgNhzitoE2cvBsImrtwULQRCIARCIATWmwCl1lAjcw5q3kGMg5XVQgyElXFLrNUTiIGweoaREAIhEAIhEAIh0BCg2MY4aICs8DAGwgrBJdqqCcRAWDXCCAiBEAiBEAiBEAiBEAiBzUMgBsLmqcuUJARCIARCIARCIARCIARWTSAGwqoRRkAIhEAIhEAIhEAIhEAIbB4CMRA2T12mJCEQAiEQAiEQAiEQAiGwagIxEFaNMAJCIARCIARCIARCIARCYPMQiIGweeoyJQmBEAiBEAiBEAiBEAiBVROIgbBqhBEQAiEQAiEQAmtDoF3mcm1SiNR5JtDWv+NsIbBeBGIgrBfppBMCIRACIRACIRACyyAQA2EZsBJ0pgRiIMwUZ4SFQAiEQAiEwOoJ+MnYq6++2r388stv2F955ZXuv//97+s/IVt9SpEwzwRiIMxz7WzuvMVA2Nz1m9KFQAiEQAhsMAKUwhdeeKG7++67u5tuuqn75z//2e+Ob7311u7ee+/tnn322d6AWKS/FeOivLU73+xbW8b2eLOXO+Xb9gRiIGz7OkgOQiAEQiAEQuB1AhRgxsEJJ5zQ7b777t2+++7bHXDAAa/vhx56aPfzn/+8u+WWW7oXX3yxe+2117rNrjxioqy4PPTww52eFOVe6bbZea2US+KFQBGIgVAk4oZACIRACITAHBCgDN9+++0dQ+Dggw/uLr744u7aa6/t98suu6z7yU9+0hsOW7Zs6e65557upZdeen3IkbiGIBmeZKdE86uNYuycv3Ct61pdX44MYe2U9kqz5JBfeeFK27V2q7Cj0nTNTvbWrVu773//+93vf//7vgfF8CvyS14rZ5iXNkxb5jqufLUyqlxtGm2+cxwCm5lADITNXLspWwiEQAiEwIYjQCFlIBxxxBHd8ccf/3qLOQWbMfDUU091f/7zn7v99tuvO/vss7snn3yyV9ApzI8//nh311139fEp1I899lg/h6EUYErv008/3T300EO9++ijj3b33XdfL0O60njmmWf6YUz//ve/O7uwhjy5XsbF888/3z344IOd+NKQpuFP3CeeeKKXo8X/kUce6f7zn/90t912W2/MGBpVclplnL98KLfwegmqd0Se5OEvf/lL97Wvfa079thju+uuu64PpyzKVHnHRi+D9Nq8VJpcYaQlrvwLjyGjAl/lwU5e7rzzzr4MlZcyNNbrppJepVnueqWddBabQAyExa7/lD4EQiAEQmDOCFBiKadHHnlk96Mf/ahX+ks5pKBTmCnRP/jBD/r9gQce6JXdv/3tb91Pf/rT3k/vwve+972+t8Hcheeee65XpLlXXHFFd+KJJ3Z/+MMfevknnXRSP8eBEswg+PWvf90dc8wxfWs9OYwUPRcUakq0Xfpk/OIXv+hOPfXUPq+HHXZY993vfrc744wzuptvvrm75JJL+mFShx9+eHfIIYf0+fnd737X3X///b3RQrFn1OgFOeecc7qjjjqqk56dbPmkwDNYLr/88u473/lOt91223U77bRTbzz97Gc/6xV5MoRRTn7iY0Ne5YUBIj0GwNVXX90bGb/97W+74447ri/fDTfc0Bs2ruGhp6JknHzyyd3111/fG0lVD+t1y0iv0ix3vdJOOotNIAbCYtd/Sh8CIRACITBnBIYGghbtUhS5FF2t45R4vQxawxkJlGMGBcWfQq934Zvf/GYfTos4xV7r+XnnndftsMMO3W677dYr0RdddNHrE58da6GnsF966aXdhRde2FHwzYOgROs5oGTfeOON3de//vXuS1/6Um8cnHvuud0f//jHXtnecccd+/D77LNPd/TRR/dDgs4///xe4d5zzz07x3okKPZ6Bijg8snQMJyKHGUzvIqRwTDRym9o0S677NIr74wHBgE28vOvf/2rN0AYIvLCoGAAODdUy3Xh5B+fL3zhC91Xv/rV3kDQM1E9IPKsvMJIA4/TTjutlycfDLT13KrepRkDYT3JJ60YCLkHQiAEQiAEQmCOCJSBQPmn8LcGAuOAcv33v/+9O+igg7pTTjmlb2Wn/BomQ4nVmq7F3PAeyrJwlF09BMJQ/r/85S/3rfSG8uhVoKzrmRDPECEy7ORpVWcg6C1gYEjrHzf8ox/u861vfaufLC0e5dsKS1r/P/7xj/dKvvOSc8cdd/QGjZZ5Q6HIosh/4xvf6C644ILejxzhxfvxj3/cGxU1HMqkbAq8XgHlKCNDHvV6HHjggb3h4pq88NeTYYL3mWee2XMin6GhJ4JBpTdD+YXF6Itf/GL3pz/96fW8SEMcLj7rraTHQJijB3PBshIDYcEqPMUNgRAIgRCYbwJlIBiyozWbMWDIkZ3Cq5XdMBqt4xT1UvAp3FrCLYvK35AjyjSlWqs8A0EYw3z22muv7sorr+x7FbSK2xkfFGu9EZRxPQaG1lCotfDrWTDkhzGhB4FcE6YZMPJMmaXcC//5z3++730gj1zXpS28ngHzF+y//OUvuz322KOPY16BNO0mZTN+GCbmE5BrWNP+++/f/epXv+oVdnLt5BgSVBO68VJ+chgghloZbqQXghy9A7vuumt31VVX9co/GcqErR4OvReMBXMq9M4wmLATbr0NhPm+U5O7zUwgBsJmrt2ULQRCIARCYMMRoKybC6Dl/zOf+Uw/FIjiSpG27KmhMcb6G0ZEAafcajU3cdm8BS3plGWusIb8UIrLQDDER6s6BbgUe2kagkTxt7yq+N/+9rf7nXFgSA4lW49DGQjyZxgTpVt8yrP8GLJjnsA111zzBgNES7zhOuIxQijsekjIZmxIs3Zpm4TNlU9p6IFgIOgtqBZ9rfrmMPDffvvte7fNu+O99967T8cwK3IMm+LHINAbIu9lwBhSZK6D4VPCMNL0PjBOhI2BsOEep2R4hQRiIKwQXKKFQAiEQAiEwFoQoLDqLaCoUny1yP/1r3/td63+lHgt25RdSj1lWa8Bg0Cru7H5Vt8hw3wDijaluDUQhHW9DASt44Ykic/IoNxTyMnRCi8f5hMIUwYCGWedddZYA8HQJGGVx66nowwEQ3vshi0ZYqR80qPE1y5tyj/DQt7bHgSGCONA+Q1B0oOgt0WPBzmMD7seFXL0MkjfbjgT5b/mJZSBUEOsDG/CmAHmfxN6MQybkhdh1nNrDZL2eD3zkLQWk0AMhMWs95Q6BEIgBEJgTglQWPUgUNS15lPKKfC1U+qFoTByKcuUWb0MFG29CRRhw4H0Fmidbw0EBodWfEN3ykCg+FKmDcexElIp1JRzw33IMMRoWgNh5513/p8ehDIQGBaMA0OT5FfPyG9+85u+d8JcAGlypaUsys0QoOjr+aC0G/ZDHsNBWL0KDCF5JRcTu2FNykKmMgpvuJXyGEbFgMFRGgytmn9BNgOMIXb66af36TLC5GM9N3krw6Dc9Uw/aS0ugRgIi1v3KXkIhEAIhMAcEqD0a92vZU7bScqlMLYuJVevAQVZK79eBi3p5hoYHmS4j1ZzCjCFeZSBQEFmUFhRiPFgqI0x/AwPRoPhOz/84Q9fNxAoy8JN6kEYDjEqA0E8BgKlXes/g4SRYDlVE4SlSa6yyEcNJ6Loy4veDMOpzBNg5LiuNwAvDMy7IMNQJz0W/OXXECFGQw0xag0EMsyBYARZ/QhDcxkYE+Z6KDsDZVv0IJRhUO4c3rLJ0iYkEANhE1ZqihQCIRACIbBxCTAQDGcx3EfLuBbyccohf70AwlCKKbgmMFOuredPQeZnQi5DglIunJ4JQ2nanggKtHH5FHZDdsw5EM5qPxRkijcDQyu6Hg4KPUWdcl1ytNAzDCjVZFGo5dF1yjmjhUzGiLDSlA/+lP+a9+CYol7LsypjyVY+S5dWuchQLgq/1v76AzXXhGN5lJ68CMuwUB6yK3/K5FwZrbJkBSmGBQ6WXzXkSI+CfKznhl3VfbnrmX7SWlwCMRAWt+5T8hAIgRAIgTkkQBGkTGtlN8SFYjxJOXStFGit7BRlOyPDMB0KuGVFa6iOYTQ1tr8UezLsjAjXGQAUfOP5tfLLR+VFWhRycmvScsWXBiNCaztXWNek41rlp3oF+AtT5ZVvrf3iG15Eca88csUzwVnezElQLmHIoOxLs1ZyIkse9Vy4VnlQPsaAMshTm3d+yqlHQj6kUcZMlWUOb5lkKQRmTiAGwsyRRmAIhEAIhEAIhEAIhEAIbFwCMRA2bt0l5yEQAiEQAiEQAiEQAiEwcwIxEGaONAJDIARCIARCIARCIARCYOMSiIGwcesuOQ+BEAiBEAiBEAiBEAiBmROIgTBzpBEYAiEQAiEQAiEQAiEQAhuXQAyEjVt3yXkIhEAIhEAIhEAIhEAIzJxADISZI43AEAiBEAiBEAiBEAiBENi4BGIgbNy6S85DIARCIARCIARCIARCYOYEYiDMHGkEhkAIhEAIhEAIhEAIhMDGJRADYePWXXIeAiEQAiEQAiEQAiEQAjMnEANh5kgjMARCIARCIARCIARCIAQ2LoEYCBu37pLzEAiBEAiBEAiBEAiBEJg5gRgIM0cagSEQAiEQAiEQAiEQAiGwcQnEQNi4dZech0AIhEAIhEAIhEAIhMDMCcRAmDnSCAyBEAiBEAiBEAiBEAiBjUvg/wA29dK+joN4rQAAAABJRU5ErkJggg==)"
      ]
    },
    {
      "cell_type": "code",
      "metadata": {
        "colab": {
          "base_uri": "https://localhost:8080/"
        },
        "id": "6DKVoY3S5D9t",
        "outputId": "2b25ffbd-d89c-43b5-88fc-cd0a2c60d490"
      },
      "source": [
        "#writing the first function\n",
        "def printInfo():\n",
        "  print(\"Name: John Smith\")\n",
        "  print(\"Age: 45\")\n",
        "\n",
        "printInfo()"
      ],
      "execution_count": null,
      "outputs": [
        {
          "output_type": "stream",
          "text": [
            "Name: John Smith\n",
            "Age: 45\n"
          ],
          "name": "stdout"
        }
      ]
    },
    {
      "cell_type": "markdown",
      "metadata": {
        "id": "SyOeVvMV89n1"
      },
      "source": [
        "#**Function Return Value: Eample 1**\n"
      ]
    },
    {
      "cell_type": "code",
      "metadata": {
        "id": "QkkxsdGc9CoW",
        "outputId": "477d9546-b8a7-48ef-ef70-d8eb7e2d8c2e",
        "colab": {
          "base_uri": "https://localhost:8080/"
        }
      },
      "source": [
        "def area_triangle(base, height):\n",
        "  return base*height/2\n",
        "\n",
        "\n",
        "area_a = area_triangle(5,4)\n",
        "area_b = area_triangle(7, 3)\n",
        "\n",
        "#Add both the area\n",
        "sum = area_a + area_b\n",
        "print(\"The sum of both area is:\" + str(sum))"
      ],
      "execution_count": 5,
      "outputs": [
        {
          "output_type": "stream",
          "text": [
            "The sum of both area is:20.5\n"
          ],
          "name": "stdout"
        }
      ]
    },
    {
      "cell_type": "markdown",
      "metadata": {
        "id": "T7ypZz3K9kvw"
      },
      "source": [
        "**The Principles of Code reuse**"
      ]
    },
    {
      "cell_type": "code",
      "metadata": {
        "id": "Tmw4E29v9rcX",
        "outputId": "3cd5afbe-6dea-48ef-a2e7-98424b68f1b5",
        "colab": {
          "base_uri": "https://localhost:8080/"
        }
      },
      "source": [
        "def rectangle_area(width, height):\n",
        "  area = width * height\n",
        "  return area\n",
        "\n",
        "  \n",
        "width = 4\n",
        "height = 5\n",
        "print(\"The area of rectangle of width {0} and height {1} is {2}\".format(width, height, rectangle_area(4, 5)))\n"
      ],
      "execution_count": 8,
      "outputs": [
        {
          "output_type": "stream",
          "text": [
            "The area of rectangle of width 4 and height 5 is 20\n"
          ],
          "name": "stdout"
        }
      ]
    },
    {
      "cell_type": "markdown",
      "metadata": {
        "id": "VpW5t5jxJckx"
      },
      "source": [
        "**Comparison Operators** <br/>\n",
        "In Python, we can use comparison operators to compare values. When a comparison is made, Python returns a boolean result, or simply a True or False. \n",
        "\n",
        "To check if two values are the same, we can use the equality operator: == \n",
        "\n",
        "To check if two values are not the same, we can use the not equals operator: != \n",
        "\n",
        "We can also check if values are greater than or lesser than each other using > and <. If you try to compare data types that aren’t compatible, like checking if a string is greater than an integer, Python will throw a TypeError. \n",
        "\n",
        "We can make very complex comparisons by joining statements together using logical operators with our comparison operators. These logical operators are and, or, and not. When using the and operator, both sides of the statement being evaluated must be true for the whole statement to be true. When using the or operator, if either side of the comparison is true, then the whole statement is true. Lastly, the not operator simply inverts the value of the statement immediately following it. So if a statement evaluates to True, and we put the not operator in front of it, it would become False."
      ]
    },
    {
      "cell_type": "markdown",
      "metadata": {
        "id": "fKz94zHWJwwM"
      },
      "source": [
        "# **If and Else**"
      ]
    },
    {
      "cell_type": "code",
      "metadata": {
        "id": "nuDd5GM9JYWM",
        "outputId": "4f70fef7-b3b4-4c99-a139-94e2f21184e2",
        "colab": {
          "base_uri": "https://localhost:8080/"
        }
      },
      "source": [
        "#Program to check if username is bigger than 30 characters and smaller than 3. \n",
        "#Also check if the username contains special characters or not. \n",
        "\n",
        "special_char = [\"-\", \"@\", \"#\", \"%\", \"!\"]\n",
        "\n",
        "def hint_username(username):\n",
        "  flag = False\n",
        "  if len(username) < 3:\n",
        "    print(\"username is very small\")\n",
        "  elif len(username) > 30:\n",
        "    print(\"Username is very big\")\n",
        "  else:\n",
        "    #running the for loop for each character of username\n",
        "    for c in username:\n",
        "      if c in special_char:\n",
        "        print(\"Username contain special chracters!!\")\n",
        "        flag = True\n",
        "\n",
        "  if flag==False:\n",
        "    print(\"username doesn't contain special character\")\n",
        "      \n",
        "\n",
        "hint_username(\"virendra%\")"
      ],
      "execution_count": 35,
      "outputs": [
        {
          "output_type": "stream",
          "text": [
            "Username contain special chracters!!\n"
          ],
          "name": "stdout"
        }
      ]
    },
    {
      "cell_type": "markdown",
      "metadata": {
        "id": "uW6TpCBcNqto"
      },
      "source": [
        "# **#Calculate Factorial in Python**"
      ]
    },
    {
      "cell_type": "code",
      "metadata": {
        "id": "TTni0iwCNx-A",
        "outputId": "69a69364-180e-495c-b175-f4fb1059ebbe",
        "colab": {
          "base_uri": "https://localhost:8080/"
        }
      },
      "source": [
        "def factorial(num):\n",
        "  if num < 2:\n",
        "    return 1\n",
        "  else:\n",
        "    return num * factorial(num - 1)\n",
        "factorial(2)"
      ],
      "execution_count": 40,
      "outputs": [
        {
          "output_type": "execute_result",
          "data": {
            "text/plain": [
              "2"
            ]
          },
          "metadata": {},
          "execution_count": 40
        }
      ]
    },
    {
      "cell_type": "markdown",
      "metadata": {
        "id": "4gg_W0Zz6Mv9"
      },
      "source": [
        "#UDF VS. BUILT-IN\n",
        "####Without even knowing it, you’ve been using functions this whole time. Functions such as range, print, len, etc., are all known as “built-in” functions . They are included in Python because they serve a specific purpose to help build our applications. Now that we’re learning about functions, we can begin to create our own known as UDFs or “user-defined functions.”"
      ]
    },
    {
      "cell_type": "code",
      "metadata": {
        "colab": {
          "base_uri": "https://localhost:8080/"
        },
        "id": "plBGU4Zt5D6l",
        "outputId": "b817053c-8ee0-48f3-a304-f7b34b34097c"
      },
      "source": [
        "def calc():\n",
        "  x, y = 5, 10\n",
        "  print(x + y)\n",
        "\n",
        "calc()\n"
      ],
      "execution_count": null,
      "outputs": [
        {
          "output_type": "stream",
          "text": [
            "15\n"
          ],
          "name": "stdout"
        }
      ]
    },
    {
      "cell_type": "markdown",
      "metadata": {
        "id": "sMJS2AeP6dZ8"
      },
      "source": [
        "#Passing A single Parameters"
      ]
    },
    {
      "cell_type": "code",
      "metadata": {
        "colab": {
          "base_uri": "https://localhost:8080/"
        },
        "id": "dxaE0Myf5D3f",
        "outputId": "b3bbccac-9cb0-4641-87a8-2466ec9e97df"
      },
      "source": [
        "def printName(fullname):\n",
        "  print(\"Your name is {}.\".format(fullname))\n",
        "\n",
        "printName(\"Sam\")"
      ],
      "execution_count": null,
      "outputs": [
        {
          "output_type": "stream",
          "text": [
            "Your name is Sam.\n"
          ],
          "name": "stdout"
        }
      ]
    },
    {
      "cell_type": "markdown",
      "metadata": {
        "id": "sdJ1Ax6u6v94"
      },
      "source": [
        "#Passing Multiple Parameters into a function"
      ]
    },
    {
      "cell_type": "code",
      "metadata": {
        "colab": {
          "base_uri": "https://localhost:8080/"
        },
        "id": "eCL3uly_5D0V",
        "outputId": "028f8023-c151-4c3a-e9fd-3cdb6ac6fdda"
      },
      "source": [
        "def addNums(num1, num2):\n",
        "  result = num1 + num2\n",
        "  print(\"{} + {} = {}\".format(num1, num2, result))\n",
        "\n",
        "addNums(5, 8)"
      ],
      "execution_count": null,
      "outputs": [
        {
          "output_type": "stream",
          "text": [
            "5 + 8 = 13\n"
          ],
          "name": "stdout"
        }
      ]
    },
    {
      "cell_type": "markdown",
      "metadata": {
        "id": "FhDQiQdO7Goy"
      },
      "source": [
        "#Passing A List"
      ]
    },
    {
      "cell_type": "code",
      "metadata": {
        "colab": {
          "base_uri": "https://localhost:8080/"
        },
        "id": "BqfW2yR37K-c",
        "outputId": "b743d180-eef2-4ae9-e2cb-aead91bbff62"
      },
      "source": [
        "numbers1 = [2,4,5,10]\n",
        "numbers2 = [1, 3, 5]\n",
        "\n",
        "def squares(nums):\n",
        "  for num in nums:\n",
        "    print(nums*2)\n",
        "\n",
        "squares(numbers1)"
      ],
      "execution_count": null,
      "outputs": [
        {
          "output_type": "stream",
          "text": [
            "[2, 4, 5, 10, 2, 4, 5, 10]\n",
            "[2, 4, 5, 10, 2, 4, 5, 10]\n",
            "[2, 4, 5, 10, 2, 4, 5, 10]\n",
            "[2, 4, 5, 10, 2, 4, 5, 10]\n"
          ],
          "name": "stdout"
        }
      ]
    },
    {
      "cell_type": "code",
      "metadata": {
        "colab": {
          "base_uri": "https://localhost:8080/"
        },
        "id": "ZehVB1Us9lks",
        "outputId": "f27ce95b-b199-43d0-a8a1-154c0bf44f1f"
      },
      "source": [
        "def calcArea(r, pi=3.14):\n",
        "  area = pi * (r**2)\n",
        "  print(\"Area: {}\".format(area))\n",
        "\n",
        "calcArea(2)"
      ],
      "execution_count": null,
      "outputs": [
        {
          "output_type": "stream",
          "text": [
            "Area: 12.56\n"
          ],
          "name": "stdout"
        }
      ]
    },
    {
      "cell_type": "markdown",
      "metadata": {
        "id": "nVrvkUtZ929S"
      },
      "source": [
        "#Making parameter optional\n",
        "####Sometimes you need to make functions that take optional arguments. The best example is always middle names; some people have them, and some don’t. If we wanted to write a function that would print out properly for both situations, we would need to make the middle name an optional parameter. We do this by assigning an empty string value as the default:\n"
      ]
    },
    {
      "cell_type": "code",
      "metadata": {
        "colab": {
          "base_uri": "https://localhost:8080/"
        },
        "id": "MJPi_gC4917Q",
        "outputId": "71239f3a-4b08-4381-9af3-c44560b4a638"
      },
      "source": [
        "def printName(first, last, middle=\"\"):\n",
        "  if middle:\n",
        "    print(\"{} {} {}\".format(first, middle, last))\n",
        "  else:\n",
        "    print(\"{} {}\".format(first, last))\n",
        "  \n",
        "printName(\"John\", \"Smith\")\n",
        "printName(\"John\", \"Smith\", \"Paul\")"
      ],
      "execution_count": null,
      "outputs": [
        {
          "output_type": "stream",
          "text": [
            "John Smith\n",
            "John Paul Smith\n"
          ],
          "name": "stdout"
        }
      ]
    },
    {
      "cell_type": "markdown",
      "metadata": {
        "id": "6uu6fEpF_PKb"
      },
      "source": [
        "#NAMED PARAMETER ASSIGNMENT\n",
        "####During the function call, you can explicity assign values into parameter names. This is useful when you don’t want to mix up the order of values being passed in, as they work from left to right by default. You can use parameter names to assign values for every parameter if you choose, but it’s not necessary most of the time. Let’s check out an example:\n"
      ]
    },
    {
      "cell_type": "code",
      "metadata": {
        "colab": {
          "base_uri": "https://localhost:8080/"
        },
        "id": "muS1Tjwn_VwI",
        "outputId": "4ab147d4-bb64-4ee4-9d56-e1ccda955a19"
      },
      "source": [
        "def addNums(num1, num2):\n",
        "  print(num2)\n",
        "  print(num1)\n",
        "\n",
        "addNums(5, num2 = 2.5)\n"
      ],
      "execution_count": null,
      "outputs": [
        {
          "output_type": "stream",
          "text": [
            "2.5\n",
            "5\n"
          ],
          "name": "stdout"
        }
      ]
    },
    {
      "cell_type": "markdown",
      "metadata": {
        "id": "t3VM28ZA_lCC"
      },
      "source": [
        "#ARGS - Variable number of Arguments\n",
        "## ####The use of  *args allows you to pass a variable number of arguments into a function. This allows you to make functions more modular. The magic isn’t the “args” keyword here though; it’s really the unary operator (*) that allows us to perform this feature. You could theoretically replace the word args with anyone, like “*data”, and it would still work. However, args is the default and general standard throughout the industry. Let’s see how we can use args in a function call:\n"
      ]
    },
    {
      "cell_type": "code",
      "metadata": {
        "colab": {
          "base_uri": "https://localhost:8080/"
        },
        "id": "1YIyi7_t_izD",
        "outputId": "17593072-7f89-4c81-9d12-b9bc2df54f7a"
      },
      "source": [
        "def outputData(name, *args):\n",
        "  print(type(args))\n",
        "  for arg in args:\n",
        "    print(arg)\n",
        "\n",
        "outputData(\"John Smith\", 5, True, \"Jess\")"
      ],
      "execution_count": null,
      "outputs": [
        {
          "output_type": "stream",
          "text": [
            "<class 'tuple'>\n",
            "5\n",
            "True\n",
            "Jess\n"
          ],
          "name": "stdout"
        }
      ]
    },
    {
      "cell_type": "markdown",
      "metadata": {
        "id": "05kh3f8JABLp"
      },
      "source": [
        "#KWARGS - \n",
        "####Like args, kwargs allows us to take in an arbitrary number of values in a function; however, it works as a dictionary with keyword arguments instead. Keyword arguments are values passed in with keys, which allow us to access them easily within the function block. Again, the magic here is in the two unary operators (**) not the keyword of kwargs. Let’s check it out:\n"
      ]
    },
    {
      "cell_type": "code",
      "metadata": {
        "colab": {
          "base_uri": "https://localhost:8080/"
        },
        "id": "e_zChIb8AMoA",
        "outputId": "3dc875e8-ff2e-47a9-81ad-ebc6c476501f"
      },
      "source": [
        "def outputData(**kwargs):\n",
        "  print(type(kwargs))\n",
        "  print(kwargs[\"name\"])\n",
        "  print(kwargs[\"num\"])\n",
        "  print(kwargs[\"b\"])\n",
        "\n",
        "outputData(name = \"John Smith\", num=5, b=True)"
      ],
      "execution_count": null,
      "outputs": [
        {
          "output_type": "stream",
          "text": [
            "<class 'dict'>\n",
            "John Smith\n",
            "5\n",
            "True\n"
          ],
          "name": "stdout"
        }
      ]
    },
    {
      "cell_type": "markdown",
      "metadata": {
        "id": "N7tcCi_TA1OG"
      },
      "source": [
        "#Return - Statement\n",
        "####Up to this point, we’ve been printing out the data that our functions alter, but what do you do if you need to access this information later? This is where the return statement is used. Functions can manipulate data and then send it back to where the function call occurred to save the information to be used for later. Today we’ll learn how to do that and why it’s useful.\n",
        "\n",
        "\n"
      ]
    },
    {
      "cell_type": "code",
      "metadata": {
        "colab": {
          "base_uri": "https://localhost:8080/"
        },
        "id": "8SvDE-2rBFKk",
        "outputId": "b47c2f6c-3399-4c6a-c502-c3d9a59d4b27"
      },
      "source": [
        "def returnMultiple(num1, num2):\n",
        "  a = num1\n",
        "  b = num2\n",
        "  return [a, b]\n",
        "\n",
        "returnMultiple(10,10)"
      ],
      "execution_count": null,
      "outputs": [
        {
          "output_type": "execute_result",
          "data": {
            "text/plain": [
              "[10, 10]"
            ]
          },
          "metadata": {
            "tags": []
          },
          "execution_count": 62
        }
      ]
    },
    {
      "cell_type": "markdown",
      "metadata": {
        "id": "cUzgQB3yBeR4"
      },
      "source": [
        "#Ternary Operator\n",
        "####A ternary operator is a shorthand Python branching statement. These operators can be used to assign values into a variable, or in this case, deciding what the return from a function:\n"
      ]
    },
    {
      "cell_type": "code",
      "metadata": {
        "colab": {
          "base_uri": "https://localhost:8080/"
        },
        "id": "JuJWoQW-BpJw",
        "outputId": "f4afee0b-2376-4156-b7fa-eab4d26aa819"
      },
      "source": [
        "def searchList(aList, el):\n",
        "      return True if el in aList else False\n",
        "result = searchList( [ \"one\", 2, \"three\" ], 2)    # result = True\n",
        "print(result)"
      ],
      "execution_count": null,
      "outputs": [
        {
          "output_type": "stream",
          "text": [
            "True\n"
          ],
          "name": "stdout"
        }
      ]
    },
    {
      "cell_type": "markdown",
      "metadata": {
        "id": "3DaOuawFB5sQ"
      },
      "source": [
        "#Type Of Scope\n",
        "###Global scope Access\n",
        "###When global attributes are defined, they're accessible to the rest of the file. However, we must keep in mind how function scope works. Even when you declare a variable accessible to the entire file, it will not be accessible within the function. Let’s see an example:\n"
      ]
    },
    {
      "cell_type": "code",
      "metadata": {
        "colab": {
          "base_uri": "https://localhost:8080/",
          "height": 300
        },
        "id": "NLZ5GCUQCPDk",
        "outputId": "70c3fdd7-2189-4856-b7bb-970493690363"
      },
      "source": [
        "number = 5\n",
        "def scopeTest():\n",
        "  number += 1 #not accessible due to the function level scope\n",
        "  \n",
        "scopeTest()\n"
      ],
      "execution_count": null,
      "outputs": [
        {
          "output_type": "error",
          "ename": "UnboundLocalError",
          "evalue": "ignored",
          "traceback": [
            "\u001b[0;31m---------------------------------------------------------------------------\u001b[0m",
            "\u001b[0;31mUnboundLocalError\u001b[0m                         Traceback (most recent call last)",
            "\u001b[0;32m<ipython-input-65-7ba73fc3b8f8>\u001b[0m in \u001b[0;36m<module>\u001b[0;34m()\u001b[0m\n\u001b[1;32m      2\u001b[0m \u001b[0;32mdef\u001b[0m \u001b[0mscopeTest\u001b[0m\u001b[0;34m(\u001b[0m\u001b[0;34m)\u001b[0m\u001b[0;34m:\u001b[0m\u001b[0;34m\u001b[0m\u001b[0;34m\u001b[0m\u001b[0m\n\u001b[1;32m      3\u001b[0m   \u001b[0mnumber\u001b[0m \u001b[0;34m+=\u001b[0m \u001b[0;36m1\u001b[0m\u001b[0;34m\u001b[0m\u001b[0;34m\u001b[0m\u001b[0m\n\u001b[0;32m----> 4\u001b[0;31m \u001b[0mscopeTest\u001b[0m\u001b[0;34m(\u001b[0m\u001b[0;34m)\u001b[0m\u001b[0;34m\u001b[0m\u001b[0;34m\u001b[0m\u001b[0m\n\u001b[0m",
            "\u001b[0;32m<ipython-input-65-7ba73fc3b8f8>\u001b[0m in \u001b[0;36mscopeTest\u001b[0;34m()\u001b[0m\n\u001b[1;32m      1\u001b[0m \u001b[0mnumber\u001b[0m \u001b[0;34m=\u001b[0m \u001b[0;36m5\u001b[0m\u001b[0;34m\u001b[0m\u001b[0;34m\u001b[0m\u001b[0m\n\u001b[1;32m      2\u001b[0m \u001b[0;32mdef\u001b[0m \u001b[0mscopeTest\u001b[0m\u001b[0;34m(\u001b[0m\u001b[0;34m)\u001b[0m\u001b[0;34m:\u001b[0m\u001b[0;34m\u001b[0m\u001b[0;34m\u001b[0m\u001b[0m\n\u001b[0;32m----> 3\u001b[0;31m   \u001b[0mnumber\u001b[0m \u001b[0;34m+=\u001b[0m \u001b[0;36m1\u001b[0m\u001b[0;34m\u001b[0m\u001b[0;34m\u001b[0m\u001b[0m\n\u001b[0m\u001b[1;32m      4\u001b[0m \u001b[0mscopeTest\u001b[0m\u001b[0;34m(\u001b[0m\u001b[0;34m)\u001b[0m\u001b[0;34m\u001b[0m\u001b[0;34m\u001b[0m\u001b[0m\n",
            "\u001b[0;31mUnboundLocalError\u001b[0m: local variable 'number' referenced before assignment"
          ]
        }
      ]
    },
    {
      "cell_type": "markdown",
      "metadata": {
        "id": "3t6061NoCh9N"
      },
      "source": [
        "#Handling function Scope\n",
        "When dealing with variable declared in a function, you generally won't need to access it outside of the function. However, in order to access that value, best practice is to return it."
      ]
    },
    {
      "cell_type": "code",
      "metadata": {
        "colab": {
          "base_uri": "https://localhost:8080/"
        },
        "id": "fn3Fogl0Cu0x",
        "outputId": "f204979a-0449-461a-868a-bbb19206821d"
      },
      "source": [
        "def scopeTest():\n",
        "  word = \"function\"\n",
        "  return word\n",
        "\n",
        "value = scopeTest()\n",
        "print(value)"
      ],
      "execution_count": null,
      "outputs": [
        {
          "output_type": "stream",
          "text": [
            "function\n"
          ],
          "name": "stdout"
        }
      ]
    },
    {
      "cell_type": "markdown",
      "metadata": {
        "id": "pmblpyzLDHAj"
      },
      "source": [
        "#Data Collection and Files\n",
        "There are several data stuctures in Python. We’ll cover dictionaries, sets, tuples, and frozensets."
      ]
    },
    {
      "cell_type": "markdown",
      "metadata": {
        "id": "FY8pfh1FD1jr"
      },
      "source": [
        "#Declaring A Dictionary\n",
        "####A dictionary is a collection of unordered data, which is stored in key-value pairs. What is meant by “unordered” is the way it is stored in memory. It is not accessible through an index, rather it is accessed through a key. Lists are known as ordered data collections because each item is assigned a specific location. Dictionaries work like a real-life dictionary, where the key is the word and the values are the definition. Dictionaries are useful for working with large data, mapped data, CSV files, APIs, sending or receiving data, and much more."
      ]
    },
    {
      "cell_type": "code",
      "metadata": {
        "colab": {
          "base_uri": "https://localhost:8080/"
        },
        "id": "O0JKDnfJDGRq",
        "outputId": "91c1bec3-b2a8-4d92-ceec-f24681fb99e8"
      },
      "source": [
        "#declaring a dictionary variable\n",
        "empty = {} #empty dictionary\n",
        "person = {\"name\": \"John Smith\"}\n",
        "\n",
        "customer = {\n",
        "    \"name\" : \"Morty\",\n",
        "    \"age\" : 26\n",
        "}\n",
        "print(customer)"
      ],
      "execution_count": null,
      "outputs": [
        {
          "output_type": "stream",
          "text": [
            "{'name': 'Morty', 'age': 26}\n"
          ],
          "name": "stdout"
        }
      ]
    },
    {
      "cell_type": "markdown",
      "metadata": {
        "id": "V1hbMswhEgaR"
      },
      "source": [
        "#Using the GET Method\n",
        "####Another way of retrieving information is to use the get() method. The major difference between using this method and the previous way of accessing a value is that the get method won’t throw a key error. If the key doesn’t exist, it will simply return “None”. You may also add in a second argument in the call, in order to have the program return a more specific data type. Let’s try"
      ]
    },
    {
      "cell_type": "code",
      "metadata": {
        "colab": {
          "base_uri": "https://localhost:8080/"
        },
        "id": "zjESVuewEyJg",
        "outputId": "cdf46a74-7cdc-4170-aab4-11b806f3ee26"
      },
      "source": [
        "#using the get method to access dictionary information\n",
        "person = {\"name\": \"John\"}\n",
        "print(person.get(\"name\")) #retrieves value of name\n",
        "\n",
        "print(person.get(\"age\", \"Age is not available.\"))\n"
      ],
      "execution_count": null,
      "outputs": [
        {
          "output_type": "stream",
          "text": [
            "John\n",
            "Age is not available.\n"
          ],
          "name": "stdout"
        }
      ]
    },
    {
      "cell_type": "markdown",
      "metadata": {
        "id": "Ns_IIaQRFOIJ"
      },
      "source": [
        "#Dictionaries with Lists\n",
        "####Dictionaries become powerful when you start working with data collections as values:\n"
      ]
    },
    {
      "cell_type": "code",
      "metadata": {
        "colab": {
          "base_uri": "https://localhost:8080/"
        },
        "id": "fW_Kx7ZdFU93",
        "outputId": "3a2b85f7-310a-484f-973e-d5b4b2b41492"
      },
      "source": [
        "#storing a list within a dictionary and accessing it\n",
        "data = {\"sports\": [ \"baseball\", \"football\", \"hockey\", \"soccer\"]}\n",
        "print(data[\"sports\"][1])"
      ],
      "execution_count": null,
      "outputs": [
        {
          "output_type": "stream",
          "text": [
            "football\n"
          ],
          "name": "stdout"
        }
      ]
    },
    {
      "cell_type": "markdown",
      "metadata": {
        "id": "GeyDkOkeFqmC"
      },
      "source": [
        "#List With Dictionaries\n",
        "###The combination of lists within dictionries and vice-versa can become confusiing when trying to figure out how to access information. "
      ]
    },
    {
      "cell_type": "code",
      "metadata": {
        "colab": {
          "base_uri": "https://localhost:8080/"
        },
        "id": "z6bzDa0OF4fo",
        "outputId": "7d68c8bf-4e03-4639-8b02-8b73f5d914ba"
      },
      "source": [
        "data = [\"john\", \"Dennis\", {\"name\": \"Kristen\", \"Age\": 24}]\n",
        "print(data[2])\n",
        "print(\"This would bring the age\", data[2][\"Age\"])"
      ],
      "execution_count": null,
      "outputs": [
        {
          "output_type": "stream",
          "text": [
            "{'name': 'Kristen', 'Age': 24}\n",
            "This would bring the age 24\n"
          ],
          "name": "stdout"
        }
      ]
    },
    {
      "cell_type": "markdown",
      "metadata": {
        "id": "BAMSeZPMGQ-4"
      },
      "source": [
        "#Looping Dictionary\n",
        "Dictionaries are iterable like lists. However, they have three different methods for doing so. You can iterate over both the keys and values together, only keys, or only values."
      ]
    },
    {
      "cell_type": "code",
      "metadata": {
        "colab": {
          "base_uri": "https://localhost:8080/"
        },
        "id": "M8DuZnREGY3C",
        "outputId": "4a640711-1da7-4e66-84e5-588e6ded751a"
      },
      "source": [
        "person = {\"name\": \"John\", \"age\": 26}\n",
        "for key in person.keys():\n",
        "  print(\"This is the key\", key)\n",
        "  print(person[key])"
      ],
      "execution_count": null,
      "outputs": [
        {
          "output_type": "stream",
          "text": [
            "This is the key name\n",
            "John\n",
            "This is the key age\n",
            "26\n"
          ],
          "name": "stdout"
        }
      ]
    },
    {
      "cell_type": "code",
      "metadata": {
        "colab": {
          "base_uri": "https://localhost:8080/"
        },
        "id": "g4SlHbsvGtBk",
        "outputId": "beb0abf9-ae4d-497d-ac6f-0113a4886f42"
      },
      "source": [
        "#Looping key-value pair\n",
        "person = {\"name\": \"John\", \"age\": 26}\n",
        "for key, value in person.items():\n",
        "  print(\"{}:{}\".format(key, value))"
      ],
      "execution_count": null,
      "outputs": [
        {
          "output_type": "stream",
          "text": [
            "name:John\n",
            "age:26\n"
          ],
          "name": "stdout"
        }
      ]
    },
    {
      "cell_type": "markdown",
      "metadata": {
        "id": "B9msvi6xG_mc"
      },
      "source": [
        "#Declaring Tuple\n",
        "####To declare a tuple, you use a comma to separate two or more items. Lists are denoted by their square brackets on the outside, whereas tuples can be declared with optional parenthesis. It’s more likely they’re declared with parenthesis as it’s easier to read. Let’s see an example:"
      ]
    },
    {
      "cell_type": "code",
      "metadata": {
        "colab": {
          "base_uri": "https://localhost:8080/",
          "height": 215
        },
        "id": "9T2MfkXrHHBl",
        "outputId": "0bcb18fa-ce48-47b4-9137-a43e4175d505"
      },
      "source": [
        "#declaring a tuple\n",
        "t1 = (\"hello\", 2, \"hello1\")\n",
        "t2 = True, 1\n",
        "\n",
        "print(type(t1), type(t2))\n",
        "t1[0] = 1"
      ],
      "execution_count": null,
      "outputs": [
        {
          "output_type": "stream",
          "text": [
            "<class 'tuple'> <class 'tuple'>\n"
          ],
          "name": "stdout"
        },
        {
          "output_type": "error",
          "ename": "TypeError",
          "evalue": "ignored",
          "traceback": [
            "\u001b[0;31m---------------------------------------------------------------------------\u001b[0m",
            "\u001b[0;31mTypeError\u001b[0m                                 Traceback (most recent call last)",
            "\u001b[0;32m<ipython-input-77-3a3d906d894c>\u001b[0m in \u001b[0;36m<module>\u001b[0;34m()\u001b[0m\n\u001b[1;32m      4\u001b[0m \u001b[0;34m\u001b[0m\u001b[0m\n\u001b[1;32m      5\u001b[0m \u001b[0mprint\u001b[0m\u001b[0;34m(\u001b[0m\u001b[0mtype\u001b[0m\u001b[0;34m(\u001b[0m\u001b[0mt1\u001b[0m\u001b[0;34m)\u001b[0m\u001b[0;34m,\u001b[0m \u001b[0mtype\u001b[0m\u001b[0;34m(\u001b[0m\u001b[0mt2\u001b[0m\u001b[0;34m)\u001b[0m\u001b[0;34m)\u001b[0m\u001b[0;34m\u001b[0m\u001b[0;34m\u001b[0m\u001b[0m\n\u001b[0;32m----> 6\u001b[0;31m \u001b[0mt1\u001b[0m\u001b[0;34m[\u001b[0m\u001b[0;36m0\u001b[0m\u001b[0;34m]\u001b[0m \u001b[0;34m=\u001b[0m \u001b[0;36m1\u001b[0m\u001b[0;34m\u001b[0m\u001b[0;34m\u001b[0m\u001b[0m\n\u001b[0m",
            "\u001b[0;31mTypeError\u001b[0m: 'tuple' object does not support item assignment"
          ]
        }
      ]
    },
    {
      "cell_type": "markdown",
      "metadata": {
        "id": "CdFueNZhoFZ6"
      },
      "source": [
        "##WHAT ARE SETS?\n",
        "Sets share the same characteristics of lists and dictionaries. A set is a collection of information like a list; however, like a key in a dictionary, sets can only contain unique values. They are also an unordered collection. This means that they cannot be accessed by index but rather by the value itself like dictionary keys. They can be iterated through though, like how dictionary keys can be looped over. Sets are practical in situations of storing unique items.\n",
        "\n",
        "##DECLARING A SET\n",
        "There are two ways to declare a set. The first way is by using the keyword “set” followed by parenthesis and enclosing square brackets. The second way, which is more practical, looks like a dictionary being declared by using a set of curly brackets. Let’s check it out:\n"
      ]
    },
    {
      "cell_type": "code",
      "metadata": {
        "id": "MDG-HEXYoO2J",
        "colab": {
          "base_uri": "https://localhost:8080/"
        },
        "outputId": "2d4497a2-1f8e-4c75-f716-cb756142d0fc"
      },
      "source": [
        "# declaring a set\n",
        "s1 = set( [1, 2, 3, 1] )      # uses the set keyword and square brackets\n",
        "s2 = {4, 4, 5}            # uses curly brackets, like dictionary\n",
        "print( type(s1), type(s2) )\n",
        "s1.add(5)      # using the add method to add new items to a set\n",
        "s1.remove(1)   # using the remove method to get rid of the value 1\n",
        "print(s1)     # notice when printed it removed the second \"1\" at the end"
      ],
      "execution_count": null,
      "outputs": [
        {
          "output_type": "stream",
          "text": [
            "<class 'set'> <class 'set'>\n",
            "{2, 3, 5}\n"
          ],
          "name": "stdout"
        }
      ]
    },
    {
      "cell_type": "markdown",
      "metadata": {
        "id": "8O3WB7f_oWUj"
      },
      "source": [
        "#Object Oriented Programming"
      ]
    },
    {
      "cell_type": "markdown",
      "metadata": {
        "id": "WinFUIZAoJuv"
      },
      "source": [
        ""
      ]
    },
    {
      "cell_type": "code",
      "metadata": {
        "id": "pMlY-Q2En4J7",
        "colab": {
          "base_uri": "https://localhost:8080/"
        },
        "outputId": "81708fe8-5752-40d3-873e-44850334e599"
      },
      "source": [
        "#Create your first class\n",
        "class Car():\n",
        "  sound = \"beep\"\n",
        "  color = \"red\"\n",
        "\n",
        "ford = Car()\n",
        "print(ford.color)\n"
      ],
      "execution_count": null,
      "outputs": [
        {
          "output_type": "stream",
          "text": [
            "red\n"
          ],
          "name": "stdout"
        }
      ]
    },
    {
      "cell_type": "markdown",
      "metadata": {
        "id": "zQRcuCzppKU1"
      },
      "source": [
        "#Using The \"\\_\\_INIT__()\" Constructor\n",
        "###When you want to instantiate an object with specific properties, you need to use the initialization (init) method . Whenever an instance is created, the init method is called immediately. You can use this method to instantiate objects with different attribute values upon creation. This allows us to easily create class instances with personalized attributes. \n",
        "The \"self\" keyword is a reference to the current instance of the class and is used to access variables and methods associated with that instance. "
      ]
    },
    {
      "cell_type": "code",
      "metadata": {
        "id": "hnj7Mgn5oe53",
        "colab": {
          "base_uri": "https://localhost:8080/"
        },
        "outputId": "a6094178-3805-4c94-8cc5-e05c56dbb214"
      },
      "source": [
        "#Using init\n",
        "class Car():\n",
        "  def __init__(self, color):\n",
        "    self.color = color\n",
        "\n",
        "\n",
        "ford = Car(\"blue\")\n",
        "#This would print the color blue\n",
        "print(ford.color)"
      ],
      "execution_count": null,
      "outputs": [
        {
          "output_type": "stream",
          "text": [
            "blue\n"
          ],
          "name": "stdout"
        }
      ]
    },
    {
      "cell_type": "code",
      "metadata": {
        "id": "SFiz5P1Zr7eQ",
        "colab": {
          "base_uri": "https://localhost:8080/"
        },
        "outputId": "ce7a4fb8-4183-44b0-e062-4f1e165e9917"
      },
      "source": [
        "#Instantiating multiple object with Init\n",
        "class Car():\n",
        "  def __init__(self, color, year):\n",
        "    self.color = color\n",
        "    self.year = year\n",
        "\n",
        "ford = Car(\"blue\", 2014)\n",
        "subaru = Car(\"red\", 2016)\n",
        "\n",
        "print(ford.color, ford.year)\n",
        "print(subaru.color, subaru.year)"
      ],
      "execution_count": null,
      "outputs": [
        {
          "output_type": "stream",
          "text": [
            "blue 2014\n",
            "red 2016\n"
          ],
          "name": "stdout"
        }
      ]
    },
    {
      "cell_type": "markdown",
      "metadata": {
        "id": "jvORe_waurm1"
      },
      "source": [
        "#GLOBAL Attributes VS. INSTANCE Attribute\n",
        "###Without knowing it, you’ve been using both globally accessible attributes and instance accessible attributes. Global attributes can be referenced by the class directly and all its instances, whereas instance attributes (which are defined within the init method) can only be accessed by the class instances. If an attribute is declared inside of a class, but not within the init method, then it is known as a global attribute. Any attributes declared within the init method using the self keyword are instance attributes. Let’s see an example:\n"
      ]
    },
    {
      "cell_type": "code",
      "metadata": {
        "id": "YRTZbNHtu9Kd",
        "colab": {
          "base_uri": "https://localhost:8080/"
        },
        "outputId": "11bb8678-1828-4510-840f-bdb3023c6cff"
      },
      "source": [
        "class Car():\n",
        "  sound = \"beep\"\n",
        "  def __init__(self, color):\n",
        "    self.color = \"blue\"\n",
        "\n",
        "print(Car.sound)\n",
        "#print(Car.color) won't work, as color is only available to the instance of the Car class\n",
        "ford = Car(\"blue\")\n",
        "print(ford.sound, ford.color)"
      ],
      "execution_count": null,
      "outputs": [
        {
          "output_type": "stream",
          "text": [
            "beep\n",
            "beep blue\n"
          ],
          "name": "stdout"
        }
      ]
    },
    {
      "cell_type": "markdown",
      "metadata": {
        "id": "EHybZWrHvwny"
      },
      "source": [
        "#Defining AND Calling A Method\n",
        "###Defining a method is the same as defining a function; however, you simply put the code within the class indentation block. When declaring a method that you intend to access through instances, you must use the self parameter in the definition. Without the self keyword, the method can only be accessed by the class itself. In order to call a method, you use dot syntax. As methods are just functions, you must call them with parenthesis after the name of the instance.\n",
        "###Within the methods you create, you’ll often need access to attributes defined within the class. To do so, you need to use the self keyword in order to access the attribute. Remember that self is in reference to the instance accessing the class. When we create multiple instances, self is what allows the program to understand which sound attribute to return. This is true even for global attributes.\n",
        "##<b>Method Scope:</b>\n",
        "###Like global attributes, you may have methods that are accessible through the class itself rather than an instance of the class. These may also be known as static methods . They are not accessible by instances of the class. Depending on the class your building, it may help to have a method that is only accessible through the class and not the instances. Let’s see an example:\n",
        "\n"
      ]
    },
    {
      "cell_type": "code",
      "metadata": {
        "id": "hFDNehxswYfw",
        "colab": {
          "base_uri": "https://localhost:8080/"
        },
        "outputId": "355bf2b6-f73f-4a49-d0dd-8d48859d94dd"
      },
      "source": [
        "class Dog():\n",
        "  def makeSound(self):\n",
        "    print(\"bark\")\n",
        "  \n",
        "sam = Dog()\n",
        "sam.makeSound()"
      ],
      "execution_count": null,
      "outputs": [
        {
          "output_type": "stream",
          "text": [
            "bark\n"
          ],
          "name": "stdout"
        }
      ]
    },
    {
      "cell_type": "code",
      "metadata": {
        "id": "loD4Wpe1wkUF",
        "colab": {
          "base_uri": "https://localhost:8080/"
        },
        "outputId": "bae1449c-de9f-41ac-b950-1e8c431ff09a"
      },
      "source": [
        "#Accessing Class attributes in Methods\n",
        "class Dog():\n",
        "  sound = \"bark\"\n",
        "  def makeSound(self):\n",
        "    print(self.sound) #self required to access attributes defined in the class\n",
        "\n",
        "sam = Dog()\n",
        "sam.makeSound()"
      ],
      "execution_count": null,
      "outputs": [
        {
          "output_type": "stream",
          "text": [
            "bark\n"
          ],
          "name": "stdout"
        }
      ]
    },
    {
      "cell_type": "code",
      "metadata": {
        "id": "Csbf0Bmtw6LA",
        "colab": {
          "base_uri": "https://localhost:8080/"
        },
        "outputId": "9c922bde-7a39-40e1-f1e2-3e2ea8ab4877"
      },
      "source": [
        "# understanding which methods are accessible via the class itself and class instances\n",
        "class Dog():\n",
        "  sound = \"bark\"\n",
        "  def makeSound(self):\n",
        "    print(self.sound)\n",
        "\n",
        "  def printInfo():\n",
        "    print(\"I am a dog.\")\n",
        "  \n",
        "Dog.printInfo()\n",
        "\n",
        "sam = Dog()\n",
        "sam.makeSound()\n",
        "#sam.printInfo() #This would produce error\n"
      ],
      "execution_count": null,
      "outputs": [
        {
          "output_type": "stream",
          "text": [
            "I am a dog.\n",
            "bark\n"
          ],
          "name": "stdout"
        }
      ]
    },
    {
      "cell_type": "code",
      "metadata": {
        "id": "RQZMxd24xWhp",
        "colab": {
          "base_uri": "https://localhost:8080/"
        },
        "outputId": "bf809c1d-632c-4a3b-cc1d-26e5839c6b61"
      },
      "source": [
        "#Passing argument in the methods\n",
        "class Dog():\n",
        "  sound = \"bark\"\n",
        "\n",
        "  def showInfo(self, name, age, address):\n",
        "    sound = self.sound\n",
        "    print(sound, name, age, address)\n",
        "\n",
        "\n",
        "sam = Dog()\n",
        "sam.showInfo(\"Rob\", 16, \"106 Loscolinas\")"
      ],
      "execution_count": null,
      "outputs": [
        {
          "output_type": "stream",
          "text": [
            "bark Rob 16 106 Loscolinas\n"
          ],
          "name": "stdout"
        }
      ]
    },
    {
      "cell_type": "markdown",
      "metadata": {
        "id": "T8DZTn_IynUh"
      },
      "source": [
        "#USING SETTERS AND GETTERS\n",
        "####In programming there is a concept called setters and getters . They are methods that you create to re-declare attribute values and return attribute values. We’ve seen how we can alter attribute values by directly accessing them; however, this can sometimes lead to problems or accidentally altering the value. Good practice is to create a method that will alter the attribute value for you and call that method when you need to set a new value. The same goes for when you want to access a given attributes value; instead of accessing it directly, you call a method that will return the value. This gives us a safer way to access an instances attributes. Let’s see how we can:\n"
      ]
    },
    {
      "cell_type": "code",
      "metadata": {
        "id": "lrjsZslhy3o0",
        "colab": {
          "base_uri": "https://localhost:8080/"
        },
        "outputId": "f03963c5-d335-4369-e6b0-7418fb8fbe46"
      },
      "source": [
        "#using methods to set or return attribute values, proper programming practice\n",
        "class Dog():\n",
        "  name = ''  #would normally use init method to declare this si for testing\n",
        "\n",
        "  def setName(self, new_name):\n",
        "    self.name = new_name\n",
        "\n",
        "  def getName(self):\n",
        "    return self.name\n",
        "\n",
        "sam = Dog()\n",
        "sam.setName(\"Sammi\")\n",
        "print(sam.getName)"
      ],
      "execution_count": null,
      "outputs": [
        {
          "output_type": "stream",
          "text": [
            "<bound method Dog.getName of <__main__.Dog object at 0x7f4945e86590>>\n"
          ],
          "name": "stdout"
        }
      ]
    },
    {
      "cell_type": "code",
      "metadata": {
        "id": "Fo3d4upi0IBp",
        "colab": {
          "base_uri": "https://localhost:8080/"
        },
        "outputId": "05df86f3-87fb-49db-913b-a00fc49f112e"
      },
      "source": [
        "class Dog():\n",
        "  age = 6\n",
        "  def getAge(self):\n",
        "    return self.age \n",
        "\n",
        "  def printInfo(self):\n",
        "    if self.getAge() < 10:\n",
        "      print(\"Puppy\")\n",
        "\n",
        "sam = Dog()\n",
        "sam.printInfo()"
      ],
      "execution_count": null,
      "outputs": [
        {
          "output_type": "stream",
          "text": [
            "Puppy\n"
          ],
          "name": "stdout"
        }
      ]
    },
    {
      "cell_type": "markdown",
      "metadata": {
        "id": "NWu6hoUSwrAP"
      },
      "source": [
        "#Magic Methods\n",
        "####While they have a funny name, magic methods are the underlying of classes in Python. Without knowing, you’ve already used one, the initialization method. All magic methods have two underscores before and after their name. When you print out anything, you’re accessing a magic method called __str__. When you use operators (+, -, /, ∗, ==, etc.), you’re accessing magic methods. They are essentially functions that decide what operators and other tasks in Python perform. Don’t get too hooked on them, as we won’t use them too much, but I wanted to introduce you to them. As mentioned, the __str__ magic method is called when using the print function; it stands for the string representation of a class. Let’s alter what gets printed out when we print out a class that we defined ourselves:\n"
      ]
    },
    {
      "cell_type": "code",
      "metadata": {
        "id": "U6Zfb_UFwyOe",
        "colab": {
          "base_uri": "https://localhost:8080/"
        },
        "outputId": "a7dfc4ed-8a74-4c11-e73f-db52c0d6df99"
      },
      "source": [
        "#Calling a class method from another method\n",
        "class Dog():\n",
        "  age = 6\n",
        "  def getAge(self):\n",
        "    return self.age\n",
        "\n",
        "  def printInfo(self):\n",
        "    if self.getAge() < 10:\n",
        "      print(\"Puppy!\")\n",
        "\n",
        "sam = Dog()\n",
        "sam.printInfo()"
      ],
      "execution_count": null,
      "outputs": [
        {
          "output_type": "stream",
          "text": [
            "Puppy!\n"
          ],
          "name": "stdout"
        }
      ]
    },
    {
      "cell_type": "markdown",
      "metadata": {
        "id": "132h8imoxbOg"
      },
      "source": [
        "#Method Overriding\n",
        "####Sometimes when using inheritance, you want the subclass to be able to perform a different action when the same method is called. Take our makeSound method from the previously created Animal class. It prints out “roar”, but that’s not the sound you want dogs making when you create your Dog class. Instead, we use the concept of method overriding to change what the method does. Within the subclass, we redefine the method (with the same name) to perform the task differently. Python will always use the method defined within the subclass first, and if one doesn’t exist, then it will check the superclass. Let’s use method overriding to alter the makeSound method and print the proper statement for our Dog class:\n"
      ]
    },
    {
      "cell_type": "code",
      "metadata": {
        "id": "_hJRlaUHxhRK",
        "colab": {
          "base_uri": "https://localhost:8080/"
        },
        "outputId": "5453ceef-3f18-478b-ea8f-4f89a5bf57f2"
      },
      "source": [
        "class Animal():\n",
        "  def makeSound(self):\n",
        "    print(\"roar\")\n",
        "\n",
        "class Dog(Animal):     #inheritance\n",
        "  def makeSound(self): #overriding the same function\n",
        "    print(\"bark\")\n",
        "\n",
        "\n",
        "sam, lion = Dog(), Animal()\n",
        "sam.makeSound()\n",
        "lion.makeSound()"
      ],
      "execution_count": null,
      "outputs": [
        {
          "output_type": "stream",
          "text": [
            "bark\n",
            "roar\n"
          ],
          "name": "stdout"
        }
      ]
    },
    {
      "cell_type": "markdown",
      "metadata": {
        "id": "SCogNQkKyFJ_"
      },
      "source": [
        "#Efficiency\n",
        "###"
      ]
    },
    {
      "cell_type": "code",
      "metadata": {
        "id": "Buwg-p7uycr6"
      },
      "source": [
        "nums = []\n",
        "for x in range(10):\n",
        "   if x % 2 == 0:\n",
        "     nums.append(x)"
      ],
      "execution_count": null,
      "outputs": []
    },
    {
      "cell_type": "markdown",
      "metadata": {
        "id": "JGaDE-YGzl95"
      },
      "source": [
        "#Lambda Functions\n",
        "####Lambda functions, otherwise known as anonymous functions, are one-line functions within Python. Like list comprehension, lambda functions allow us to reduce the lines of code we need to write within our program. It doesn’t work for complicated functions but helps to improve readability of smaller functions.\n",
        ">>> <b>lambda </b> arguments: expression <br/>\n",
        "<b> OR </b> <br/>\n",
        ">>> <b>lambda arguments:</b> value_to_return if condition else value_to_return"
      ]
    },
    {
      "cell_type": "code",
      "metadata": {
        "id": "wNNbWJt708bn",
        "colab": {
          "base_uri": "https://localhost:8080/"
        },
        "outputId": "27a5d31d-db64-45f8-d18a-06d3760bb1e7"
      },
      "source": [
        "#using a lambda to square a number\n",
        "(lambda x: x**2)(4)\n"
      ],
      "execution_count": null,
      "outputs": [
        {
          "output_type": "execute_result",
          "data": {
            "text/plain": [
              "<function __main__.<lambda>>"
            ]
          },
          "metadata": {
            "tags": []
          },
          "execution_count": 5
        }
      ]
    },
    {
      "cell_type": "code",
      "metadata": {
        "id": "Ha8JoqHpykqb",
        "colab": {
          "base_uri": "https://localhost:8080/"
        },
        "outputId": "9f1e6267-acf9-4e30-b82d-750c05be9e75"
      },
      "source": [
        "greater = lambda x, y : x if x > y else y\n",
        "result = greater(5, 10)\n",
        "print(result)"
      ],
      "execution_count": null,
      "outputs": [
        {
          "output_type": "stream",
          "text": [
            "10\n"
          ],
          "name": "stdout"
        }
      ]
    },
    {
      "cell_type": "markdown",
      "metadata": {
        "id": "DsBv48Pt2Jj4"
      },
      "source": [
        "#Map, Filter, and Reduce\n",
        "####When working with data, you’ll generally need to be able to modify, filter, or calculate an expression from the data. That’s where these important built-in functions come in to play. The map function is used to iterate over a data collection and modify it. The filter function is used to iterate over a data collection, and you guessed it… filter out data that doesn’t meet a condition. Lastly, the reduce function takes a data collection and condenses it down to a single result, like the sum function for lists.\n",
        "<b>Map </b><br/>\n",
        "The map function is used when you need to alter all items within an iterable data collection. It takes in two arguments, the function to be applied on each element and the iterable data. When using map, it returns a map object, which is an iterator."
      ]
    },
    {
      "cell_type": "code",
      "metadata": {
        "id": "PYDYMTTy3vXY"
      },
      "source": [
        "#Using the map function without lambdas\n",
        "def convertDeg(C):\n",
        "  return (9/5)"
      ],
      "execution_count": null,
      "outputs": []
    },
    {
      "cell_type": "markdown",
      "metadata": {
        "id": "mgNTxpqv2Jh7"
      },
      "source": [
        ""
      ]
    },
    {
      "cell_type": "markdown",
      "metadata": {
        "id": "NRAciAg62Jfz"
      },
      "source": [
        ""
      ]
    },
    {
      "cell_type": "markdown",
      "metadata": {
        "id": "fZDnRx6exbMk"
      },
      "source": [
        ""
      ]
    },
    {
      "cell_type": "markdown",
      "metadata": {
        "id": "xsmJS-ZaynSo"
      },
      "source": [
        ""
      ]
    },
    {
      "cell_type": "markdown",
      "metadata": {
        "id": "BhG7_02nA1ME"
      },
      "source": [
        ""
      ]
    },
    {
      "cell_type": "markdown",
      "metadata": {
        "id": "GWYg95Dw7KuT"
      },
      "source": [
        ""
      ]
    },
    {
      "cell_type": "markdown",
      "metadata": {
        "id": "bq7jqYJ-7Gmo"
      },
      "source": [
        ""
      ]
    },
    {
      "cell_type": "code",
      "metadata": {
        "id": "iIDBxsHp5Dbm"
      },
      "source": [
        ""
      ],
      "execution_count": null,
      "outputs": []
    },
    {
      "cell_type": "code",
      "metadata": {
        "colab": {
          "base_uri": "https://localhost:8080/"
        },
        "id": "-5Mv_zyfazqA",
        "outputId": "70a4974a-1e5a-4b4e-fdf6-a65138434cac"
      },
      "source": [
        "#Format the string\n",
        "name = \"John\"\n",
        "print(\"Hello {}\".format(name))\n",
        "print(\"Hello {}, you are {} years old?\".format(name, 28))\n"
      ],
      "execution_count": null,
      "outputs": [
        {
          "output_type": "stream",
          "text": [
            "Hello John\n",
            "Hello John, you are 28 years old?\n"
          ],
          "name": "stdout"
        }
      ]
    },
    {
      "cell_type": "code",
      "metadata": {
        "id": "N_d3YHNRazm2"
      },
      "source": [
        ""
      ],
      "execution_count": null,
      "outputs": []
    },
    {
      "cell_type": "code",
      "metadata": {
        "id": "J5I--s0vazgz"
      },
      "source": [
        ""
      ],
      "execution_count": null,
      "outputs": []
    }
  ]
}