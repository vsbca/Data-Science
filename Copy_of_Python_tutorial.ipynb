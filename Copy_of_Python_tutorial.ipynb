{
  "nbformat": 4,
  "nbformat_minor": 0,
  "metadata": {
    "colab": {
      "name": "Copy of Python_tutorial.ipynb",
      "provenance": [],
      "collapsed_sections": [],
      "authorship_tag": "ABX9TyOf5dYTcqNpd3PZV6BpRic8",
      "include_colab_link": true
    },
    "kernelspec": {
      "name": "python3",
      "display_name": "Python 3"
    }
  },
  "cells": [
    {
      "cell_type": "markdown",
      "metadata": {
        "id": "view-in-github",
        "colab_type": "text"
      },
      "source": [
        "<a href=\"https://colab.research.google.com/github/vsbca/Data-Science/blob/master/Copy_of_Python_tutorial.ipynb\" target=\"_parent\"><img src=\"https://colab.research.google.com/assets/colab-badge.svg\" alt=\"Open In Colab\"/></a>"
      ]
    },
    {
      "cell_type": "markdown",
      "metadata": {
        "id": "cVbaLLxYavyY"
      },
      "source": [
        "This is Python tutorial in the Notebook\n",
        "\n",
        "1.   Python data types are INT, Floats, Booleans, Strings\n",
        "#Reference\n",
        "https://learning.oreilly.com/library/view/python-projects-for/9781484253557/html/481544_1_En_6_Chapter.xhtml\n",
        "\n"
      ]
    },
    {
      "cell_type": "code",
      "metadata": {
        "colab": {
          "base_uri": "https://localhost:8080/"
        },
        "id": "BCpBUC-Lazs9",
        "outputId": "3a2ab60e-af61-49ec-f263-7327bb74de7e"
      },
      "source": [
        "print(2)\n",
        "type(2)"
      ],
      "execution_count": null,
      "outputs": [
        {
          "output_type": "stream",
          "text": [
            "2\n"
          ],
          "name": "stdout"
        },
        {
          "output_type": "execute_result",
          "data": {
            "text/plain": [
              "int"
            ]
          },
          "metadata": {},
          "execution_count": 1
        }
      ]
    },
    {
      "cell_type": "code",
      "metadata": {
        "colab": {
          "base_uri": "https://localhost:8080/"
        },
        "id": "YYxGK33ib4h9",
        "outputId": "94bbc7ed-1d4b-48b2-b938-3145e4351a5e"
      },
      "source": [
        "#Output Float values\n",
        "print(2.01)\n",
        "type(2.01)"
      ],
      "execution_count": null,
      "outputs": [
        {
          "output_type": "stream",
          "name": "stdout",
          "text": [
            "2.01\n"
          ]
        },
        {
          "output_type": "execute_result",
          "data": {
            "text/plain": [
              "float"
            ]
          },
          "metadata": {},
          "execution_count": 1
        }
      ]
    },
    {
      "cell_type": "code",
      "metadata": {
        "colab": {
          "base_uri": "https://localhost:8080/"
        },
        "id": "vrJWoj8FcCty",
        "outputId": "e19aa7d5-5b98-4fb2-dcd5-4cc1d1bdeae9"
      },
      "source": [
        "#Print the Boolean values\n",
        "print(True)\n",
        "print(type(True))"
      ],
      "execution_count": null,
      "outputs": [
        {
          "output_type": "stream",
          "text": [
            "True\n",
            "<class 'bool'>\n"
          ],
          "name": "stdout"
        }
      ]
    },
    {
      "cell_type": "code",
      "metadata": {
        "colab": {
          "base_uri": "https://localhost:8080/"
        },
        "id": "KpYrTtfKcJJn",
        "outputId": "4cf9e854-97ba-4437-a729-17de5b8db3f6"
      },
      "source": [
        "#Overwrite previously created variable\n",
        "name = 'John'\n",
        "print(name)\n",
        "name = \"Sam\"\n",
        "print(name)\n"
      ],
      "execution_count": null,
      "outputs": [
        {
          "output_type": "stream",
          "text": [
            "John\n",
            "Sam\n"
          ],
          "name": "stdout"
        }
      ]
    },
    {
      "cell_type": "code",
      "metadata": {
        "colab": {
          "base_uri": "https://localhost:8080/"
        },
        "id": "9MMEAl1OcmDY",
        "outputId": "746ff2ed-a22c-4b04-8285-742356dfa92b"
      },
      "source": [
        "#String Index\n",
        "word = \"Hellow\"\n",
        "print(word[0])\n",
        "print(word[1])\n",
        "print(word[2])"
      ],
      "execution_count": null,
      "outputs": [
        {
          "output_type": "stream",
          "text": [
            "H\n",
            "e\n",
            "l\n"
          ],
          "name": "stdout"
        }
      ]
    },
    {
      "cell_type": "markdown",
      "metadata": {
        "id": "ewGFpoRRX9gN"
      },
      "source": [
        "**SORTED**: This function takes an iterable as an input and returns it, sorted. This function can take two additional arguments—reverse (Boolean) and key (iterable). The reverse argument allows us to get the values in reverse order, from big to"
      ]
    },
    {
      "cell_type": "code",
      "metadata": {
        "colab": {
          "base_uri": "https://localhost:8080/"
        },
        "id": "LDOEpJSyXznt",
        "outputId": "c09835a7-2b2b-498f-eaee-3e60cb2ad8ed"
      },
      "source": [
        "#The sorted function\n",
        "sorted(\"Hello There\")"
      ],
      "execution_count": null,
      "outputs": [
        {
          "output_type": "execute_result",
          "data": {
            "text/plain": [
              "[' ', 'H', 'T', 'e', 'e', 'e', 'h', 'l', 'l', 'o', 'r']"
            ]
          },
          "metadata": {},
          "execution_count": 2
        }
      ]
    },
    {
      "cell_type": "markdown",
      "metadata": {
        "id": "x8k1R51CYCZ1"
      },
      "source": [
        "**Range: **The range function generates a sequence of integers. It takes from one to three arguments, and each of those is expected to be an integer. If only one is defined, it will be treated as a right-hand limit of the range and will be not included. If two are defined—the first one will be the left-hand limit, and included in the range, while the second will take the role of the right-hand limit. If a third value is specified, it will be used as a step—the default step is equal to 1."
      ]
    },
    {
      "cell_type": "code",
      "metadata": {
        "colab": {
          "base_uri": "https://localhost:8080/"
        },
        "id": "c3xSPRrkYOhK",
        "outputId": "413bb690-5bc7-457f-e03d-2641946c34d8"
      },
      "source": [
        "list(range(3))"
      ],
      "execution_count": null,
      "outputs": [
        {
          "output_type": "execute_result",
          "data": {
            "text/plain": [
              "[0, 1, 2]"
            ]
          },
          "metadata": {},
          "execution_count": 3
        }
      ]
    },
    {
      "cell_type": "code",
      "metadata": {
        "colab": {
          "base_uri": "https://localhost:8080/"
        },
        "id": "Zpc-lQh5X4uH",
        "outputId": "9b1a9512-320b-4cd0-c358-4abb254a1ed5"
      },
      "source": [
        "list(range(1, 15, 2))"
      ],
      "execution_count": null,
      "outputs": [
        {
          "output_type": "execute_result",
          "data": {
            "text/plain": [
              "[1, 3, 5, 7, 9, 11, 13]"
            ]
          },
          "metadata": {},
          "execution_count": 4
        }
      ]
    },
    {
      "cell_type": "markdown",
      "metadata": {
        "id": "OUJdEqnuZO3K"
      },
      "source": [
        "**All and ANY:**\n",
        "all and any both take an array as their input and are logical expansions of & and | for more than two variables. Essentially, they are equal to repeating & or | for all the elements of the array. Here is an example:\n",
        "\n"
      ]
    },
    {
      "cell_type": "code",
      "metadata": {
        "colab": {
          "base_uri": "https://localhost:8080/"
        },
        "id": "lez3DWD9ZSOl",
        "outputId": "000c94d7-1c4b-4c57-a7be-26320a2588c8"
      },
      "source": [
        "all((True, False, True))"
      ],
      "execution_count": null,
      "outputs": [
        {
          "output_type": "execute_result",
          "data": {
            "text/plain": [
              "False"
            ]
          },
          "metadata": {},
          "execution_count": 6
        }
      ]
    },
    {
      "cell_type": "code",
      "metadata": {
        "colab": {
          "base_uri": "https://localhost:8080/"
        },
        "id": "hnF9WDNhZYiS",
        "outputId": "8be06cc9-a732-46e6-a1ff-81fac184768c"
      },
      "source": [
        "any((True, False, False))"
      ],
      "execution_count": null,
      "outputs": [
        {
          "output_type": "execute_result",
          "data": {
            "text/plain": [
              "True"
            ]
          },
          "metadata": {},
          "execution_count": 7
        }
      ]
    },
    {
      "cell_type": "markdown",
      "metadata": {
        "id": "VYvNKq8bZomd"
      },
      "source": [
        "In the first case, the function returns False, as there is at least one False instance in the iterable. In the second case, there is at least one True instance, so that function returns True as well."
      ]
    },
    {
      "cell_type": "markdown",
      "metadata": {
        "id": "x37pp6esZrXq"
      },
      "source": [
        "**The max, min, and sum functions**<br/>\n",
        "The max, min, and sum functions all take an array of numbers and return the maximum, minimum, or sum value as a result. Here are some examples:"
      ]
    },
    {
      "cell_type": "code",
      "metadata": {
        "colab": {
          "base_uri": "https://localhost:8080/"
        },
        "id": "8I8NF1kcZvuE",
        "outputId": "1dfe1c4b-c343-4e74-ea0c-05a4187a297f"
      },
      "source": [
        "T=1, 2,3\n",
        "print(min(T))\n",
        "print(max(T))\n",
        "print(sum(T))\n"
      ],
      "execution_count": null,
      "outputs": [
        {
          "output_type": "stream",
          "text": [
            "1\n",
            "3\n",
            "6\n"
          ],
          "name": "stdout"
        }
      ]
    },
    {
      "cell_type": "code",
      "metadata": {
        "colab": {
          "base_uri": "https://localhost:8080/"
        },
        "id": "DWEWB9KLcx1n",
        "outputId": "56f23e23-2aba-4ead-a159-3eeb164d2bf4"
      },
      "source": [
        "#String slicing\n",
        "print(word[0:2])"
      ],
      "execution_count": null,
      "outputs": [
        {
          "output_type": "stream",
          "text": [
            "He\n"
          ],
          "name": "stdout"
        }
      ]
    },
    {
      "cell_type": "code",
      "metadata": {
        "colab": {
          "base_uri": "https://localhost:8080/"
        },
        "id": "AC2YM5VHc4j3",
        "outputId": "4fe49035-40f9-414f-8624-53f1e369a58e"
      },
      "source": [
        "#.title() method\n",
        "name = \"john smith\"\n",
        "print(name.title())"
      ],
      "execution_count": null,
      "outputs": [
        {
          "output_type": "stream",
          "text": [
            "John Smith\n"
          ],
          "name": "stdout"
        }
      ]
    },
    {
      "cell_type": "code",
      "metadata": {
        "colab": {
          "base_uri": "https://localhost:8080/"
        },
        "id": "4qMRjwarc4hQ",
        "outputId": "c96a2b91-0e45-4c7f-bb3e-3207d64c18d3"
      },
      "source": [
        "#.replace method\n",
        "words = \"Hello there!\"\n",
        "print(words.replace(\"!\", \".\"))"
      ],
      "execution_count": null,
      "outputs": [
        {
          "output_type": "stream",
          "text": [
            "Hello there.\n"
          ],
          "name": "stdout"
        }
      ]
    },
    {
      "cell_type": "code",
      "metadata": {
        "colab": {
          "base_uri": "https://localhost:8080/"
        },
        "id": "j8uczkRcc4eY",
        "outputId": "22263007-4eb4-49d5-edb0-f667afe8d5c9"
      },
      "source": [
        "#.Strip() method would get rid of a certain character from the left or the right side of the string\n",
        "name = \" John \"\n",
        "print(name.strip())"
      ],
      "execution_count": null,
      "outputs": [
        {
          "output_type": "stream",
          "text": [
            "John\n"
          ],
          "name": "stdout"
        }
      ]
    },
    {
      "cell_type": "markdown",
      "metadata": {
        "id": "5cRr7kKudnk4"
      },
      "source": [
        "#User Input and Conditionals"
      ]
    },
    {
      "cell_type": "code",
      "metadata": {
        "colab": {
          "base_uri": "https://localhost:8080/"
        },
        "id": "r2MChJPKc4bi",
        "outputId": "06911b97-71c5-4e71-fa62-41c79ed783f6"
      },
      "source": [
        "#converting the datatype\n",
        "num = \"9\"\n",
        "num = int(num)  #re-declaring the num to store an integer\n",
        "print(type(num))"
      ],
      "execution_count": null,
      "outputs": [
        {
          "output_type": "stream",
          "text": [
            "<class 'int'>\n"
          ],
          "name": "stdout"
        }
      ]
    },
    {
      "cell_type": "code",
      "metadata": {
        "colab": {
          "base_uri": "https://localhost:8080/"
        },
        "id": "iwp-hMzYc4Yf",
        "outputId": "9d215187-5bb1-4bc3-cfbd-743f38d6de3d"
      },
      "source": [
        "#working on the user input to perform calculation\n",
        "ans = input(\"Type a number to add:\")\n",
        "print(type(ans))\n",
        "if type(ans) == int:\n",
        "  result = 100 + int(ans)\n",
        "  print(\"100 + {} = {}\".format(ans, result))\n",
        "else:\n",
        "  print(\"Please enter the Int value\")\n"
      ],
      "execution_count": null,
      "outputs": [
        {
          "output_type": "stream",
          "text": [
            "Type a number to add:as\n",
            "<class 'str'>\n",
            "Please enter the Int value\n"
          ],
          "name": "stdout"
        }
      ]
    },
    {
      "cell_type": "markdown",
      "metadata": {
        "id": "5g8NBEXJet_y"
      },
      "source": [
        "#Error handling in Python"
      ]
    },
    {
      "cell_type": "code",
      "metadata": {
        "colab": {
          "base_uri": "https://localhost:8080/"
        },
        "id": "ZJyjpuXRc4VE",
        "outputId": "b97f9c0a-7000-4673-a1aa-c9791c0a3772"
      },
      "source": [
        "try:\n",
        "  ans = float(input(\"Type a number to add:\"))\n",
        "  print(\"100 + {}\".format(ans,100+ans))\n",
        "except:\n",
        "  print(\"You did not put in a valid number\")\n"
      ],
      "execution_count": null,
      "outputs": [
        {
          "output_type": "stream",
          "text": [
            "Type a number to add:asd\n",
            "You did not put in a valid number\n"
          ],
          "name": "stdout"
        }
      ]
    },
    {
      "cell_type": "markdown",
      "metadata": {
        "id": "6bKKLXkDfcYz"
      },
      "source": [
        "#If and ELIF statements in Python"
      ]
    },
    {
      "cell_type": "code",
      "metadata": {
        "colab": {
          "base_uri": "https://localhost:8080/"
        },
        "id": "r_xJKOLZfRV-",
        "outputId": "67a0d787-cb60-4bb5-df61-b1f26ea89f86"
      },
      "source": [
        "x ,y = 5, 10\n",
        "if x > y:\n",
        "  print(\"X is greater!!\")\n",
        "elif x < y:\n",
        "  print(\"X is smaller\")\n",
        "else:\n",
        "  print(\"Both x and y are equal\")"
      ],
      "execution_count": null,
      "outputs": [
        {
          "output_type": "stream",
          "text": [
            "X is smaller\n"
          ],
          "name": "stdout"
        }
      ]
    },
    {
      "cell_type": "markdown",
      "metadata": {
        "id": "Vger8z8kgYpd"
      },
      "source": [
        "#Setup Try/Except for the Mathematical Operation"
      ]
    },
    {
      "cell_type": "markdown",
      "metadata": {
        "id": "8fCB_mg4gYoA"
      },
      "source": [
        ""
      ]
    },
    {
      "cell_type": "code",
      "metadata": {
        "colab": {
          "base_uri": "https://localhost:8080/"
        },
        "id": "uETl1DwHfRS_",
        "outputId": "dd400142-1d06-4dd2-d937-b113458d1f11"
      },
      "source": [
        "try:\n",
        "  #step 3a: Immediately try to convert numbers input to floats\n",
        "  num1, num2 = float(num1) , float(num2)\n",
        "  #step 3b: perform operation and print result\n",
        "  if operation == \"add\":\n",
        "    result = num1 + num2\n",
        "    print(\"{} + {} = {}\".format(num1, num2, result))\n",
        "  elif operation == \"subtract\":\n",
        "    result = num1 + num2\n",
        "    print(\"{} * {} = {}\".format(num1, num2, result))\n",
        "  elif operation == \"divide\":\n",
        "    result = num1 / num2\n",
        "    print(\"{} / {} == {}\".format(num1, num2, result))\n",
        "  else:\n",
        "    #else will be hit if they didn't chose an option\n",
        "    print(\"Error:\")\n",
        "except:\n",
        "  print(\"Error, except\")\n"
      ],
      "execution_count": null,
      "outputs": [
        {
          "output_type": "stream",
          "text": [
            "Error, except\n"
          ],
          "name": "stdout"
        }
      ]
    },
    {
      "cell_type": "markdown",
      "metadata": {
        "id": "anCLMoA92Iqs"
      },
      "source": [
        "##Python Lists"
      ]
    },
    {
      "cell_type": "markdown",
      "metadata": {
        "id": "5l6oT1ov2Iop"
      },
      "source": [
        ""
      ]
    },
    {
      "cell_type": "code",
      "metadata": {
        "colab": {
          "base_uri": "https://localhost:8080/"
        },
        "id": "Bxg2NuLi2MaP",
        "outputId": "0b3564f4-c3d5-4ae4-c834-6ca33e1b8795"
      },
      "source": [
        "nums = [5, 10, 15.3, 20]\n",
        "print(nums)"
      ],
      "execution_count": null,
      "outputs": [
        {
          "output_type": "stream",
          "text": [
            "[5, 10, 15.3, 20]\n"
          ],
          "name": "stdout"
        }
      ]
    },
    {
      "cell_type": "code",
      "metadata": {
        "colab": {
          "base_uri": "https://localhost:8080/"
        },
        "id": "oUYm3M1IfRPw",
        "outputId": "024656ef-98af-4e7c-e522-a604d2d6f3f6"
      },
      "source": [
        "#you could assign a new value\n",
        "num = 4.3\n",
        "num = nums[2]\n",
        "print(num)"
      ],
      "execution_count": null,
      "outputs": [
        {
          "output_type": "stream",
          "text": [
            "15.3\n"
          ],
          "name": "stdout"
        }
      ]
    },
    {
      "cell_type": "code",
      "metadata": {
        "colab": {
          "base_uri": "https://localhost:8080/"
        },
        "id": "LFZO6eS_fRMz",
        "outputId": "758b504b-f2cc-4ed7-ba67-51455a7ba59c"
      },
      "source": [
        "#List of the values\n",
        "data = [5, \"book\", [34, \"hello\", True]]\n",
        "type\n",
        "print(data)"
      ],
      "execution_count": null,
      "outputs": [
        {
          "output_type": "stream",
          "text": [
            "[5, 'book', [34, 'hello', True]]\n"
          ],
          "name": "stdout"
        }
      ]
    },
    {
      "cell_type": "code",
      "metadata": {
        "colab": {
          "base_uri": "https://localhost:8080/"
        },
        "id": "CTNlXkUlfRJ3",
        "outputId": "7da408d0-47d5-46a3-ab2e-ecfaa31dc79c"
      },
      "source": [
        "data = [5, 10, 15, 20]\n",
        "data_copy = data[:] # a single colon copies the list\n",
        "data_c = data\n",
        "print(data_copy)\n",
        "print(data_c)\n",
        "print(data_c)"
      ],
      "execution_count": null,
      "outputs": [
        {
          "output_type": "stream",
          "text": [
            "[5, 10, 15, 20]\n",
            "[5, 10, 15, 20]\n",
            "[5, 10, 15, 20]\n"
          ],
          "name": "stdout"
        }
      ]
    },
    {
      "cell_type": "code",
      "metadata": {
        "id": "myhqgCqEriq-"
      },
      "source": [
        "#Changing list\n",
        "planets = ['Mercury', 'Venus', 'Earth', 'Mars', 'Jupiter', 'Saturn', 'Uranus', 'Neptune']\n"
      ],
      "execution_count": null,
      "outputs": []
    },
    {
      "cell_type": "code",
      "metadata": {
        "id": "F2d909bVrs_I",
        "colab": {
          "base_uri": "https://localhost:8080/",
          "height": 35
        },
        "outputId": "78931f9b-a297-43e5-fbb2-8a6f0a348006"
      },
      "source": [
        "#Indexing \n",
        "planets[-1]"
      ],
      "execution_count": null,
      "outputs": [
        {
          "output_type": "execute_result",
          "data": {
            "application/vnd.google.colaboratory.intrinsic+json": {
              "type": "string"
            },
            "text/plain": [
              "'Neptune'"
            ]
          },
          "metadata": {},
          "execution_count": 2
        }
      ]
    },
    {
      "cell_type": "code",
      "metadata": {
        "id": "Bb22utMbrxUM",
        "colab": {
          "base_uri": "https://localhost:8080/"
        },
        "outputId": "9b41c047-f715-4a3d-c8af-f38e87454f24"
      },
      "source": [
        "#Slicing\n",
        "planets[0:3]"
      ],
      "execution_count": null,
      "outputs": [
        {
          "output_type": "execute_result",
          "data": {
            "text/plain": [
              "['Mercury', 'Venus', 'Earth']"
            ]
          },
          "metadata": {},
          "execution_count": 3
        }
      ]
    },
    {
      "cell_type": "code",
      "metadata": {
        "id": "ZFp6nIqUr2NS",
        "colab": {
          "base_uri": "https://localhost:8080/"
        },
        "outputId": "56559733-95e1-487c-de8e-739db17cca74"
      },
      "source": [
        "planets[:3]"
      ],
      "execution_count": null,
      "outputs": [
        {
          "output_type": "execute_result",
          "data": {
            "text/plain": [
              "['Mercury', 'Venus', 'Earth']"
            ]
          },
          "metadata": {},
          "execution_count": 4
        }
      ]
    },
    {
      "cell_type": "markdown",
      "metadata": {
        "id": "-IFcdDTX3WmR"
      },
      "source": [
        "#For loop\n",
        "For Loops Recap\n",
        "For loops allow you to iterate over a sequence of values. Let's take the example from the beginning of the video:\n",
        "\n",
        "for x in range(5):\n",
        "\n",
        "  print(x)\n",
        "\n",
        "Similar to if statements and while loops, for loops begin with the keyword for with a colon at the end of the line. Just like in function definitions, while loops and if statements, the body of the for loop begins on the next line and is indented to the right. But what about the stuff in between the for keyword and the colon? In our example, we’re using the range() function to create a sequence of numbers that our for loop can iterate over. In this case, our variable x points to the current element in the sequence as the for loop iterates over the sequence of numbers. Keep in mind that in Python and many programming languages, a range of numbers will start at 0, and the list of numbers generated will be one less than the provided value. So range(5) will generate a sequence of numbers from 0 to 4, for a total of 5 numbers.\n",
        "\n",
        "Bringing this all together, the range(5) function will create a sequence of numbers from 0 to 4. Our for loop will iterate over this sequence of numbers, one at a time, making the numbers accessible via the variable x and the code within our loop body will execute for each iteration through the sequence. So for the first loop, x will contain 0, the next loop, 1, and so on until it reaches 4. Once the end of the sequence comes up, the loop will exit and the code will continue.\n",
        "\n",
        "The power of for loops comes from the fact that it can iterate over a sequence of any kind of data, not just a range of numbers. You can use for loops to iterate over a list of strings, such as usernames or lines in a file.\n",
        "\n",
        "Not sure whether to use a for loop or a while loop? Remember that a while loop is great for performing an action over and over until a condition has changed. A for loop works well when you want to iterate over a sequence of elements.  "
      ]
    },
    {
      "cell_type": "markdown",
      "metadata": {
        "id": "xBcx-_5u3WkZ"
      },
      "source": [
        ""
      ]
    },
    {
      "cell_type": "code",
      "metadata": {
        "colab": {
          "base_uri": "https://localhost:8080/"
        },
        "id": "B00t0l4v3ZLv",
        "outputId": "56e8eddc-56fa-44c1-bd1b-9d4295bcb6f8"
      },
      "source": [
        "for num in range(5):\n",
        "  print(\"Values : {}\".format(num))\n",
        "  "
      ],
      "execution_count": null,
      "outputs": [
        {
          "output_type": "stream",
          "name": "stdout",
          "text": [
            "Values : 0\n",
            "Values : 1\n",
            "Values : 2\n",
            "Values : 3\n",
            "Values : 4\n"
          ]
        }
      ]
    },
    {
      "cell_type": "markdown",
      "metadata": {
        "id": "_87VhsLmXBNu"
      },
      "source": [
        "More for loop examples"
      ]
    },
    {
      "cell_type": "code",
      "metadata": {
        "colab": {
          "base_uri": "https://localhost:8080/"
        },
        "id": "wWQfKmT0Xfub",
        "outputId": "47b9f694-b862-4b2c-be2f-0c3941e9a9ea"
      },
      "source": [
        "product = 1\n",
        "\n",
        "for n in range(1, 10):\n",
        "  product = product * n\n",
        "\n",
        "print(product)\n"
      ],
      "execution_count": null,
      "outputs": [
        {
          "output_type": "stream",
          "name": "stdout",
          "text": [
            "362880\n"
          ]
        }
      ]
    },
    {
      "cell_type": "code",
      "metadata": {
        "colab": {
          "base_uri": "https://localhost:8080/"
        },
        "id": "oTuXAnVGZJBv",
        "outputId": "1c49a74f-142d-4425-881b-b47396e8be6e"
      },
      "source": [
        "def to_celsius(x):\n",
        "  return (x -32) * 5/9\n",
        "\n",
        "for x in range(0, 101, 10):\n",
        "  print(x, to_celsius(x))"
      ],
      "execution_count": null,
      "outputs": [
        {
          "output_type": "stream",
          "name": "stdout",
          "text": [
            "0 -17.77777777777778\n",
            "10 -12.222222222222221\n",
            "20 -6.666666666666667\n",
            "30 -1.1111111111111112\n",
            "40 4.444444444444445\n",
            "50 10.0\n",
            "60 15.555555555555555\n",
            "70 21.11111111111111\n",
            "80 26.666666666666668\n",
            "90 32.22222222222222\n",
            "100 37.77777777777778\n"
          ]
        }
      ]
    },
    {
      "cell_type": "code",
      "metadata": {
        "colab": {
          "base_uri": "https://localhost:8080/"
        },
        "id": "zcuSZ46-ZbQj",
        "outputId": "93dc9400-ebca-415f-9be9-11332633cedf"
      },
      "source": [
        "#Nested for loopss\n",
        "#Print the pairing for the teams for the possible match\n",
        "\n",
        "teams = [ 'Dragons', 'Wolves', 'Pandas', 'Unicorns']\n",
        "for home_team in teams:\n",
        "  for away_team in teams:\n",
        "    if home_team != away_team:\n",
        "      print(home_team + \" vs \" + away_team)"
      ],
      "execution_count": null,
      "outputs": [
        {
          "output_type": "stream",
          "name": "stdout",
          "text": [
            "Dragons vs Wolves\n",
            "Dragons vs Pandas\n",
            "Dragons vs Unicorns\n",
            "Wolves vs Dragons\n",
            "Wolves vs Pandas\n",
            "Wolves vs Unicorns\n",
            "Pandas vs Dragons\n",
            "Pandas vs Wolves\n",
            "Pandas vs Unicorns\n",
            "Unicorns vs Dragons\n",
            "Unicorns vs Wolves\n",
            "Unicorns vs Pandas\n"
          ]
        }
      ]
    },
    {
      "cell_type": "markdown",
      "metadata": {
        "id": "swh6AmPja4Dq"
      },
      "source": [
        "# Common errors in for **loops**"
      ]
    },
    {
      "cell_type": "code",
      "metadata": {
        "colab": {
          "base_uri": "https://localhost:8080/",
          "height": 181
        },
        "id": "kd9Mxw4ya8RD",
        "outputId": "d27292e8-c0f9-4936-85ab-e204ca95104e"
      },
      "source": [
        "for x in 25:\n",
        "  print(x)"
      ],
      "execution_count": null,
      "outputs": [
        {
          "output_type": "error",
          "ename": "TypeError",
          "evalue": "ignored",
          "traceback": [
            "\u001b[0;31m---------------------------------------------------------------------------\u001b[0m",
            "\u001b[0;31mTypeError\u001b[0m                                 Traceback (most recent call last)",
            "\u001b[0;32m<ipython-input-14-6ebb35eb535e>\u001b[0m in \u001b[0;36m<module>\u001b[0;34m()\u001b[0m\n\u001b[0;32m----> 1\u001b[0;31m \u001b[0;32mfor\u001b[0m \u001b[0mx\u001b[0m \u001b[0;32min\u001b[0m \u001b[0;36m25\u001b[0m\u001b[0;34m:\u001b[0m\u001b[0;34m\u001b[0m\u001b[0;34m\u001b[0m\u001b[0m\n\u001b[0m\u001b[1;32m      2\u001b[0m   \u001b[0mprint\u001b[0m\u001b[0;34m(\u001b[0m\u001b[0mx\u001b[0m\u001b[0;34m)\u001b[0m\u001b[0;34m\u001b[0m\u001b[0;34m\u001b[0m\u001b[0m\n",
            "\u001b[0;31mTypeError\u001b[0m: 'int' object is not iterable"
          ]
        }
      ]
    },
    {
      "cell_type": "code",
      "metadata": {
        "colab": {
          "base_uri": "https://localhost:8080/"
        },
        "id": "ebnGGUnJbHyY",
        "outputId": "4414a021-1c5b-4977-e85a-8ea897181868"
      },
      "source": [
        "for x in [25]:\n",
        "  print(x)"
      ],
      "execution_count": null,
      "outputs": [
        {
          "output_type": "stream",
          "name": "stdout",
          "text": [
            "25\n"
          ]
        }
      ]
    },
    {
      "cell_type": "markdown",
      "metadata": {
        "id": "NwbjJShGWsYV"
      },
      "source": [
        "**Print Triangle using For loop**"
      ]
    },
    {
      "cell_type": "code",
      "metadata": {
        "colab": {
          "base_uri": "https://localhost:8080/"
        },
        "id": "Jca0W48_Ww46",
        "outputId": "5680c92b-500b-40d3-fdaf-2ef51ebf4b57"
      },
      "source": [
        "\n",
        "# Python 3.x code to demonstrate star pattern\n",
        " \n",
        "# Function to demonstrate printing pattern triangle\n",
        "def triangle(n):\n",
        "     \n",
        "    # number of spaces\n",
        "    k = n - 1\n",
        " \n",
        "    # outer loop to handle number of rows\n",
        "    for i in range(0, n):\n",
        "     \n",
        "        # inner loop to handle number spaces\n",
        "        # values changing acc. to requirement\n",
        "        for j in range(0, k):\n",
        "            print(end=\" \")\n",
        "     \n",
        "        # decrementing k after each loop\n",
        "        k = k - 1\n",
        "     \n",
        "        # inner loop to handle number of columns\n",
        "        # values changing acc. to outer loop\n",
        "        for j in range(0, i+1):\n",
        "         \n",
        "            # printing stars\n",
        "            print(\"* \", end=\"\")\n",
        "     \n",
        "        # ending line after each row\n",
        "        print(\"\\r\")\n",
        " \n",
        "# Driver Code\n",
        "n = 5\n",
        "triangle(n)"
      ],
      "execution_count": null,
      "outputs": [
        {
          "output_type": "stream",
          "name": "stdout",
          "text": [
            "    * \r\n",
            "   * * \r\n",
            "  * * * \r\n",
            " * * * * \r\n",
            "* * * * * \r\n"
          ]
        }
      ]
    },
    {
      "cell_type": "markdown",
      "metadata": {
        "id": "0wQtlkAubUfl"
      },
      "source": [
        "# **Recursions**\n",
        "A recursive function must include a recursive case and base case. The recursive case calls the function again, with a different value. The base case returns a value without calling the same function.\n",
        "\n",
        "A recursive function will usually have this structure: <br/>\n",
        "def recursive_function(parameters):<br/>\n",
        "&nbsp;&nbsp;&nbsp;&nbsp;if base_case_condition(parameters):<br/>\n",
        "&nbsp;&nbsp;&nbsp;&nbsp;&nbsp;&nbsp;&nbsp;return base_case_value<br/>\n",
        "&nbsp;&nbsp;&nbsp;&nbsp;recursive_function(modified_parameters)<br/>\n"
      ]
    },
    {
      "cell_type": "code",
      "metadata": {
        "colab": {
          "base_uri": "https://localhost:8080/"
        },
        "id": "IssEPPojbX4v",
        "outputId": "4cf0cc5b-35e2-41b1-c6e5-4e53b45fea46"
      },
      "source": [
        "def factorial(n):\n",
        "  print(\"Factorial called with \" +str(n))\n",
        "  if n < 2:\n",
        "    print(\"Returning 1\")\n",
        "    return 1\n",
        "  \n",
        "  result = n * factorial(n-1)\n",
        "  return result\n",
        "  print(\"Returning \" + str(result) + \" for factorial\")\n",
        "\n",
        "factorial(5)"
      ],
      "execution_count": null,
      "outputs": [
        {
          "output_type": "stream",
          "name": "stdout",
          "text": [
            "Factorial called with 5\n",
            "Factorial called with 4\n",
            "Factorial called with 3\n",
            "Factorial called with 2\n",
            "Factorial called with 1\n",
            "Returning 1\n"
          ]
        },
        {
          "output_type": "execute_result",
          "data": {
            "text/plain": [
              "120"
            ]
          },
          "metadata": {},
          "execution_count": 20
        }
      ]
    },
    {
      "cell_type": "markdown",
      "metadata": {
        "id": "E9Ih8vIa3qqy"
      },
      "source": [
        "#The \"continue\" statement\n",
        "###Once a continue statement is hit, the current iteration stops and goes back to the top of the loop. Let’s see an example:\n"
      ]
    },
    {
      "cell_type": "code",
      "metadata": {
        "colab": {
          "base_uri": "https://localhost:8080/"
        },
        "id": "cVkkkJjP3nM-",
        "outputId": "1b829162-e0c0-4c6d-ef29-265a82a938f0"
      },
      "source": [
        "for num in range(5):\n",
        "  if num == 3:\n",
        "    continue\n",
        "  print(num)\n",
        "  "
      ],
      "execution_count": null,
      "outputs": [
        {
          "output_type": "stream",
          "text": [
            "0\n",
            "1\n",
            "2\n",
            "4\n"
          ],
          "name": "stdout"
        }
      ]
    },
    {
      "cell_type": "markdown",
      "metadata": {
        "id": "MeAYvopG316X"
      },
      "source": [
        "#The \"break\" statement\n",
        "###It allows us to break out of a loop at any point in time. Let’s see an example:\n"
      ]
    },
    {
      "cell_type": "code",
      "metadata": {
        "colab": {
          "base_uri": "https://localhost:8080/"
        },
        "id": "WckFzWUv3nJf",
        "outputId": "0d764ae1-cd73-4d9c-c7f1-17edfbae9f10"
      },
      "source": [
        "for num in range(5):\n",
        "  if num == 3:\n",
        "    break\n",
        "  print(num)"
      ],
      "execution_count": null,
      "outputs": [
        {
          "output_type": "stream",
          "text": [
            "0\n",
            "1\n",
            "2\n"
          ],
          "name": "stdout"
        }
      ]
    },
    {
      "cell_type": "markdown",
      "metadata": {
        "id": "8yQiy6B64Yl-"
      },
      "source": [
        "#The \"Pass\" statement\n",
        "### The pass statement is simply just a placeholder so that the program doesn’t break. Let’s see an example:\n"
      ]
    },
    {
      "cell_type": "code",
      "metadata": {
        "id": "Sye_yxfTfRGn"
      },
      "source": [
        "for i in range(5):\n",
        "  #Todo\n",
        "  pass"
      ],
      "execution_count": null,
      "outputs": []
    },
    {
      "cell_type": "markdown",
      "metadata": {
        "id": "AuiJyy-a471E"
      },
      "source": [
        "#While loop\n",
        "###It is a like a for loop"
      ]
    },
    {
      "cell_type": "markdown",
      "metadata": {
        "id": "KoDHlX845e6_"
      },
      "source": [
        ""
      ]
    },
    {
      "cell_type": "code",
      "metadata": {
        "colab": {
          "base_uri": "https://localhost:8080/"
        },
        "id": "gGYxA_pr5EAc",
        "outputId": "cb539af4-3202-4fbd-e884-8c56c6d80faa"
      },
      "source": [
        "health = 10\n",
        "while health > 0:\n",
        "  print(health)\n",
        "  health -= 1 #Forgetting this would make an infinite loop\n"
      ],
      "execution_count": null,
      "outputs": [
        {
          "output_type": "stream",
          "text": [
            "10\n",
            "9\n",
            "8\n",
            "7\n",
            "6\n",
            "5\n",
            "4\n",
            "3\n",
            "2\n",
            "1\n"
          ],
          "name": "stdout"
        }
      ]
    },
    {
      "cell_type": "markdown",
      "metadata": {
        "id": "wg1inNbydX9Q"
      },
      "source": [
        "# **String**\n",
        "Indexing and slicing <br/>\n",
        "String indexing allows you to access individual characters in a string. You can do this by using square brackets and the location, or index, of the character you want to access. It's important to remember that Python starts indexes at 0. So to access the first character in a string, you would use the index [0]. If you try to access an index that’s larger than the length of your string, you’ll get an IndexError. This is because you’re trying to access something that doesn't exist! You can also access indexes from the end of the string going towards the start of the string by using negative values. The index [-1] would access the last character of the string, and the index [-2] would access the second-to-last character."
      ]
    },
    {
      "cell_type": "code",
      "metadata": {
        "colab": {
          "base_uri": "https://localhost:8080/"
        },
        "id": "8PjQ1jjxda19",
        "outputId": "1aff2237-7185-4978-c5a2-cd66ebbc8a8d"
      },
      "source": [
        "test = \"This is the string\"\n",
        "print(test[0:4])"
      ],
      "execution_count": null,
      "outputs": [
        {
          "output_type": "stream",
          "name": "stdout",
          "text": [
            "This\n"
          ]
        }
      ]
    },
    {
      "cell_type": "code",
      "metadata": {
        "id": "Cb50zJ23rxRt",
        "colab": {
          "base_uri": "https://localhost:8080/"
        },
        "outputId": "cd00a1d2-a465-48b7-ded2-b6921cbd1011"
      },
      "source": [
        "print(test[4:])"
      ],
      "execution_count": null,
      "outputs": [
        {
          "output_type": "stream",
          "name": "stdout",
          "text": [
            " is the string\n"
          ]
        }
      ]
    },
    {
      "cell_type": "code",
      "metadata": {
        "id": "2MD2cHyvsVCw",
        "colab": {
          "base_uri": "https://localhost:8080/"
        },
        "outputId": "a3a0e5d4-8190-4404-c0a3-a47685278ff6"
      },
      "source": [
        "message = \"A kong string with a silly typo\"\n",
        "#This would give an error\n",
        "#message[2] = \"l\"\n",
        "new_message = message[0:2] + \"l\" + message[3:]\n",
        "print(new_message)"
      ],
      "execution_count": null,
      "outputs": [
        {
          "output_type": "stream",
          "name": "stdout",
          "text": [
            "A long string with a silly typo\n"
          ]
        }
      ]
    },
    {
      "cell_type": "code",
      "metadata": {
        "id": "3wnfOh4kkw7H",
        "colab": {
          "base_uri": "https://localhost:8080/"
        },
        "outputId": "ead8daea-1106-45b5-8966-81d73100ccf5"
      },
      "source": [
        "def first_and_last(message):\n",
        "  return False\n",
        "\n",
        "print(first_and_last(\"else\"))\n"
      ],
      "execution_count": null,
      "outputs": [
        {
          "output_type": "stream",
          "name": "stdout",
          "text": [
            "False\n"
          ]
        }
      ]
    },
    {
      "cell_type": "markdown",
      "metadata": {
        "id": "4sojhCbKv0ut"
      },
      "source": [
        "#Write a function, to replace the old domain with the new domain"
      ]
    },
    {
      "cell_type": "code",
      "metadata": {
        "id": "NlbziCJLudFy",
        "colab": {
          "base_uri": "https://localhost:8080/",
          "height": 103
        },
        "outputId": "a49c7284-9eb7-4e5d-d3d8-a319d4f49aae"
      },
      "source": [
        "def replace_domain(email, old_domain, new_domain):\n",
        "  print('@' + old_domain)\n",
        "  print(\"##################\")\n",
        "  if '@' + old_domain in email:\n",
        "    #start where the \"@old_domain exists\"\n",
        "    index = email.index('@' + old_domain)\n",
        "    print(\"This is the index \", index)\n",
        "    print(\"Find the username \", email[:index])\n",
        "    new_email = email[:index] + \"@\" + new_domain\n",
        "    return new_email\n",
        "  return email\n",
        "\n",
        "replace_domain(\"john_h@testingking.com\", \"testingking.com\", \"pythonking.com\")"
      ],
      "execution_count": null,
      "outputs": [
        {
          "output_type": "stream",
          "name": "stdout",
          "text": [
            "@testingking.com\n",
            "##################\n",
            "This is the index  6\n",
            "Find the username  john_h\n"
          ]
        },
        {
          "output_type": "execute_result",
          "data": {
            "application/vnd.google.colaboratory.intrinsic+json": {
              "type": "string"
            },
            "text/plain": [
              "'john_h@pythonking.com'"
            ]
          },
          "metadata": {},
          "execution_count": 36
        }
      ]
    },
    {
      "cell_type": "markdown",
      "metadata": {
        "id": "FQupururv8r6"
      },
      "source": [
        "#Simple string operators"
      ]
    },
    {
      "cell_type": "code",
      "metadata": {
        "id": "Zh86BB5YwBFC",
        "colab": {
          "base_uri": "https://localhost:8080/"
        },
        "outputId": "45c54e71-d540-4f20-ac6e-d59df88ff35c"
      },
      "source": [
        "response = input(\"You want to participate in the questionnaire Yes/No\")\n",
        "if response.lower == \"yes\":\n",
        "  q1 = input(\"What is your age?\")\n",
        "  if int(q1):\n",
        "    print(\"thanks\")\n",
        "  else:\n",
        "    print(\"Age is an iteger value\")"
      ],
      "execution_count": null,
      "outputs": [
        {
          "name": "stdout",
          "output_type": "stream",
          "text": [
            "You want to participate in the questionnaire Yes/NoYes\n"
          ]
        }
      ]
    },
    {
      "cell_type": "markdown",
      "metadata": {
        "id": "DW76TO9U4k0m"
      },
      "source": [
        "# String Format <br/>\n",
        "You can use the format method on strings to concatenate and format strings in all kinds of powerful ways. To do this, create a string containing curly brackets, {}, as a placeholder, to be replaced. Then call the format method on the string using .format() and pass variables as parameters. The variables passed to the method will then be used to replace the curly bracket placeholders. This method automatically handles any conversion between data types for us. \n",
        "\n",
        "If the curly brackets are empty, they’ll be populated with the variables passed in the order in which they're passed. However, you can put certain expressions inside the curly brackets to do even more powerful string formatting operations. You can put the name of a variable into the curly brackets, then use the names in the parameters. This allows for more easily readable code, and for more flexibility with the order of variables.\n",
        "\n",
        "You can also put a formatting expression inside the curly brackets, which lets you alter the way the string is formatted. For example, the formatting expression {:.2f} means that you’d format this as a float number, with two digits after the decimal dot. The colon acts as a separator from the field name, if you had specified one. You can also specify text alignment using the greater than operator: >. For example, the expression {:>3.2f} would align the text three spaces to the right, as well as specify a float number with two decimal places. String formatting can be very handy for outputting easy-to-read textual output.\n",
        "\n",
        "![image.png](data:image/png;base64,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)\n"
      ]
    },
    {
      "cell_type": "code",
      "metadata": {
        "id": "RrMl2zde4qpX",
        "colab": {
          "base_uri": "https://localhost:8080/"
        },
        "outputId": "9c6f3e4e-d623-4351-9e37-839bd7d3f2ec"
      },
      "source": [
        "name = \"Manny\"\n",
        "number = len(name) * 3\n",
        "print(\"Hello {}!!!, your lucky number is {}\".format(name, number))"
      ],
      "execution_count": null,
      "outputs": [
        {
          "output_type": "stream",
          "name": "stdout",
          "text": [
            "Hello Manny!!!, your lucky number is 15\n"
          ]
        }
      ]
    },
    {
      "cell_type": "code",
      "metadata": {
        "id": "qLamQlLT4-CY",
        "colab": {
          "base_uri": "https://localhost:8080/"
        },
        "outputId": "1ddbc337-0e81-43bc-b550-95133fa492fe"
      },
      "source": [
        "#Format expression\n",
        "print(\"Your lucky number is {number}, {name}\".format(name=name, number=number))"
      ],
      "execution_count": null,
      "outputs": [
        {
          "output_type": "stream",
          "name": "stdout",
          "text": [
            "Your lucky number is 15, Manny\n"
          ]
        }
      ]
    },
    {
      "cell_type": "code",
      "metadata": {
        "id": "fL1Z3KMk67l5",
        "colab": {
          "base_uri": "https://localhost:8080/"
        },
        "outputId": "686cd02f-8868-455e-9b13-ae3d65265658"
      },
      "source": [
        "#{0} {1}.format(first, second)\n",
        "first = \"apple\"\n",
        "second = \"banana\"\n",
        "third = \"carrot\"\n",
        "\n",
        "format_string = \"{0} {2} {1}\".format(first,second, third)\n",
        "print(format_string)"
      ],
      "execution_count": null,
      "outputs": [
        {
          "output_type": "stream",
          "name": "stdout",
          "text": [
            "apple carrot banana\n"
          ]
        }
      ]
    },
    {
      "cell_type": "markdown",
      "metadata": {
        "id": "kUptWHql9cuW"
      },
      "source": [
        "# **List**"
      ]
    },
    {
      "cell_type": "markdown",
      "metadata": {
        "id": "TW3h2OV_vzKD"
      },
      "source": [
        ""
      ]
    },
    {
      "cell_type": "code",
      "metadata": {
        "id": "34eGZ-G39iOz",
        "colab": {
          "base_uri": "https://localhost:8080/",
          "height": 130
        },
        "outputId": "87e98a24-0ecd-4e9e-9aff-bb856f486fa9"
      },
      "source": [
        "x = [\"now\", \"then\", \"when\"]\n",
        "def get_word(sentence, n):\n",
        "  #only proceed if n is positive\n",
        "  if n > 0:\n",
        "    words = \n",
        "    "
      ],
      "execution_count": null,
      "outputs": [
        {
          "output_type": "error",
          "ename": "SyntaxError",
          "evalue": "ignored",
          "traceback": [
            "\u001b[0;36m  File \u001b[0;32m\"<ipython-input-2-55b3f5012024>\"\u001b[0;36m, line \u001b[0;32m5\u001b[0m\n\u001b[0;31m    words =\u001b[0m\n\u001b[0m            ^\u001b[0m\n\u001b[0;31mSyntaxError\u001b[0m\u001b[0;31m:\u001b[0m invalid syntax\n"
          ]
        }
      ]
    },
    {
      "cell_type": "markdown",
      "metadata": {
        "id": "CRK1KUZmjuue"
      },
      "source": [
        "#List are mutable"
      ]
    },
    {
      "cell_type": "code",
      "metadata": {
        "id": "kPgSLqTvjkrW",
        "colab": {
          "base_uri": "https://localhost:8080/"
        },
        "outputId": "cefc74e8-51f1-4128-83fe-0b6d116975fd"
      },
      "source": [
        "fruits = [\"Pineapple\", \"Banana\", \"Apple\", \"Melon\"]\n",
        "fruits.insert(0, \"Orange\")  #First element\n",
        "fruits.insert(25, \"Peach\") #Append at the end\n",
        "fruits.remove(\"Apple\") #If the element exists\n",
        "fruits.pop(3) #Using the index\n",
        "#Replace the existing\n",
        "fruits[2] = \"Mango\"\n",
        "print(fruits)\n",
        "\n"
      ],
      "execution_count": null,
      "outputs": [
        {
          "output_type": "stream",
          "name": "stdout",
          "text": [
            "['Orange', 'Pineapple', 'Mango', 'Peach']\n"
          ]
        }
      ]
    },
    {
      "cell_type": "markdown",
      "metadata": {
        "id": "huK4etPnk6aN"
      },
      "source": [
        "The skip_elements function returns a list containing every other element from an input list, starting with the first element. Let's see an example"
      ]
    },
    {
      "cell_type": "code",
      "metadata": {
        "id": "068sM4qyjknD",
        "colab": {
          "base_uri": "https://localhost:8080/"
        },
        "outputId": "5edbebdc-8c26-4d74-9cf5-1424108ade88"
      },
      "source": [
        "def skip_elements(elements):\n",
        "\t# Initialize variables\n",
        "\tnew_list = []\n",
        "\ti = 0\n",
        "\n",
        "\t# Iterate through the list\n",
        "\tfor i in range(len(elements)):\n",
        "\t\t# Does this element belong in the resulting list?\n",
        "    #Check if it is even index\n",
        "\t\tif (i % 2) == 0:\n",
        "\t\t\t# Add this element to the resulting list\n",
        "\t\t\tnew_list.append(elements[i])\n",
        "\n",
        "\t\t# Increment i\n",
        "list1 = [\"Pineapple\", \"Banana\", \"Apple\", \"Melon\"]\n",
        "\n",
        "print(skip_elements(list1))"
      ],
      "execution_count": null,
      "outputs": [
        {
          "output_type": "stream",
          "name": "stdout",
          "text": [
            "None\n"
          ]
        }
      ]
    },
    {
      "cell_type": "markdown",
      "metadata": {
        "id": "hFBhwUFbmpSS"
      },
      "source": [
        "# **List and Tuples**\n",
        "Strings are immutable in Python <br/>\n",
        "Lists are mutable in Python <br/>\n",
        "Tuple are immutable<br/>\n",
        "<br/>\n",
        "As we mentioned earlier, strings and lists are both examples of sequences. Strings are sequences of characters, and are immutable. Lists are sequences of elements of any data type, and are mutable. The third sequence type is the tuple. Tuples are like lists, since they can contain elements of any data type. But unlike lists, tuples are immutable. They’re specified using parentheses instead of square brackets.\n",
        "\n",
        "You might be wondering why tuples are a thing, given how similar they are to lists. Tuples can be useful when we need to ensure that an element is in a certain position and will not change. Since lists are mutable, the order of the elements can be changed on us. Since the order of the elements in a tuple can't be changed, the position of the element in a tuple can have meaning. A good example of this is when a function returns multiple values. In this case, what gets returned is a tuple, with the return values as elements in the tuple. The order of the returned values is important, and a tuple ensures that the order isn’t going to change. Storing the elements of a tuple in separate variables is called unpacking. This allows you to take multiple returned values from a function and store each value in its own variable.\n"
      ]
    },
    {
      "cell_type": "code",
      "metadata": {
        "id": "kpieenmnjkjY",
        "colab": {
          "base_uri": "https://localhost:8080/"
        },
        "outputId": "a6019123-6c40-45bd-dfbc-61bee0d2b2d4"
      },
      "source": [
        "fullname = ('Grace', 'H', 'Hopper')\n",
        "#Function returning tuple\n",
        "def convert_seconds(seconds):\n",
        "  hours = seconds//3600\n",
        "  minutes = (seconds - hours * 3600)//60\n",
        "  remaining_seconds = seconds - hours * 3600 - minutes * 60 \n",
        "  return hours, minutes, remaining_seconds\n",
        "\n",
        "hour, mins, seconds = convert_seconds(3600)\n",
        "print(hour)\n",
        "print(mins)\n",
        "print(seconds)"
      ],
      "execution_count": null,
      "outputs": [
        {
          "output_type": "stream",
          "name": "stdout",
          "text": [
            "1\n",
            "0\n",
            "0\n"
          ]
        }
      ]
    },
    {
      "cell_type": "markdown",
      "metadata": {
        "id": "PcZuSEx2p5CM"
      },
      "source": [
        "#Iterate Over List and Tuple"
      ]
    },
    {
      "cell_type": "markdown",
      "metadata": {
        "id": "ltUINhrsxQFb"
      },
      "source": [
        "# **Lists and Tuples Operations Cheat Sheet** <br/>\n",
        "## **Lists and Tuples Operations Cheat Sheet<br/>**\n",
        "Lists and tuples are both sequences, so they share a number of sequence operations. But, because lists are mutable, there are also a number of methods specific just to lists. This cheat sheet gives you a run down of the common operations first, and the list-specific operations second.<br/>\n",
        "\n",
        "**Common sequence operations<br/>**\n",
        "len(sequence) Returns the length of the sequence<br/>\n",
        "\n",
        "for element in sequence Iterates over each element in the sequence<br/>\n",
        "\n",
        "if element in sequence Checks whether the element is part of the sequence<br/>\n",
        "\n",
        "**sequence[i]** Accesses the element at index i of the sequence, starting at zero<br/>\n",
        "\n",
        "**sequence[i:j]** Accesses a slice starting at index i, ending at index j-1. If i is omitted, it's 0 by default. If j is omitted, it's len(sequence) by default.\n",
        "\n",
        "for index, element in enumerate(sequence), Iterates over both the indexes and the elements in the sequence at the same time\n",
        "\n",
        "# **Check out the official documentation for sequence operations.** <br/>\n",
        "\n",
        "List-specific operations and methods\n",
        "**list[i]** = x Replaces the element at index i with x\n",
        "\n",
        "**list.append(x)** Inserts x at the end of the list\n",
        "\n",
        "**list.insert(i, x)** Inserts x at index i\n",
        "\n",
        "**list.pop(i)** Returns the element a index i, also removing it from the list. If i is omitted, the last element is returned and removed.\n",
        "\n",
        "**list.remove(x)** Removes the first occurrence of x in the list\n",
        "\n",
        "**list.sort()** Sorts the items in the list\n",
        "\n",
        "**list.reverse()** Reverses the order of items of the list\n",
        "\n",
        "**list.clear()** Removes all the items of the list\n",
        "\n",
        "**list.copy()** Creates a copy of the list\n",
        "\n",
        "**list.extend(other_list)** Appends all the elements of other_list at the end of list <br/>\n",
        "\n",
        "Most of these methods come from the fact that lists are mutable sequences. For more info, see the official documentation for mutable sequences and the list specific documentation. <br/>\n",
        "\n",
        "**List comprehension** <br/>\n",
        "**[expression for variable in sequence]** Creates a new list based on the given sequence. Each element is the result of the given expression.\n",
        "\n",
        "**[expression for variable in sequence if condition]** Creates a new list based on the given sequence. Each element is the result of the given expression; elements only get added if the condition is true.  "
      ]
    },
    {
      "cell_type": "code",
      "metadata": {
        "id": "NOn16EG8p8XT",
        "colab": {
          "base_uri": "https://localhost:8080/"
        },
        "outputId": "d2fcab11-47b5-45e3-8fb4-eda107508a37"
      },
      "source": [
        "animals = [\"Lion\", \"Zebra\", \"Dolphin\", \"Monkey\"]\n",
        "chars = 0\n",
        "\n",
        "for animal in animals:\n",
        "  chars += len(animal)\n",
        "print(chars)\n",
        "\n"
      ],
      "execution_count": null,
      "outputs": [
        {
          "output_type": "stream",
          "name": "stdout",
          "text": [
            "22\n"
          ]
        }
      ]
    },
    {
      "cell_type": "code",
      "metadata": {
        "id": "ausKuFwjqTMZ",
        "colab": {
          "base_uri": "https://localhost:8080/"
        },
        "outputId": "716604e6-4a0d-4a77-f75d-e5e9f4b753c1"
      },
      "source": [
        "#Use enumerate function on the List\n",
        "winners = [\"Ashely\", \"Dylan\", \"Reese\"]\n",
        "for index, person in enumerate(winners):\n",
        "  print(\"{} - {}\".format(index + 1, person))\n"
      ],
      "execution_count": null,
      "outputs": [
        {
          "output_type": "stream",
          "name": "stdout",
          "text": [
            "1 - Ashely\n",
            "2 - Dylan\n",
            "3 - Reese\n"
          ]
        }
      ]
    },
    {
      "cell_type": "markdown",
      "metadata": {
        "id": "byXLSDC4q1E1"
      },
      "source": [
        "Complete the skip_elements function to return every other element from the list, this time using the enumerate function to check if an element is on an even position or an odd position."
      ]
    },
    {
      "cell_type": "code",
      "metadata": {
        "id": "rygfTD1jqt3i",
        "colab": {
          "base_uri": "https://localhost:8080/"
        },
        "outputId": "9b5575f8-c8c8-426c-e02c-7f9ac7ec36ff"
      },
      "source": [
        "def skip_elements(elements):\n",
        "\t# code\n",
        "  empty_l = []\n",
        "  for index, elem in enumerate(elements):\n",
        "    if (index % 2) == 0:\n",
        "      empty_l.append(elem)\n",
        "  return empty_l\n",
        "\n",
        "print(skip_elements([\"a\", \"b\", \"c\", \"d\", \"e\", \"f\", \"g\"])) # Should be ['a', 'c', 'e', 'g']\n",
        "print(skip_elements(['Orange', 'Pineapple', 'Strawberry', 'Kiwi', 'Peach'])) # Should be ['Orange', 'Strawberry', 'Peach']"
      ],
      "execution_count": null,
      "outputs": [
        {
          "output_type": "stream",
          "name": "stdout",
          "text": [
            "['a', 'c', 'e', 'g']\n",
            "['Orange', 'Strawberry', 'Peach']\n"
          ]
        }
      ]
    },
    {
      "cell_type": "code",
      "metadata": {
        "id": "jN4Y-s39p9Oh",
        "colab": {
          "base_uri": "https://localhost:8080/"
        },
        "outputId": "5b82a12f-2ee1-4a1e-a09b-5fdcfde0dd82"
      },
      "source": [
        "#Tuple\n",
        "def full_emails(people):\n",
        "\n",
        "  result = []\n",
        "  for email, name in people:\n",
        "    result.append(\"{} <{}>\".format(name, email))\n",
        "  return result\n",
        "print(full_emails([(\"alex@example.com\", \"Alex Diego\"), (\"shay@example.con\", \"Shay Brant\")]))"
      ],
      "execution_count": null,
      "outputs": [
        {
          "output_type": "stream",
          "name": "stdout",
          "text": [
            "['Alex Diego <alex@example.com>', 'Shay Brant <shay@example.con>']\n"
          ]
        }
      ]
    },
    {
      "cell_type": "code",
      "metadata": {
        "id": "n7N0_MLQjkaZ",
        "colab": {
          "base_uri": "https://localhost:8080/"
        },
        "outputId": "57fc7e69-2c73-4f28-dc47-9bb2baef201c"
      },
      "source": [
        "#tuple of 3 elements\n",
        "def file_size(file_info):\n",
        "\tassignment, file_type, size = file_info\n",
        "\treturn(\"{:.2f}\".format(size / 1024))\n",
        "\n",
        "print(file_size(('Class Assignment', 'docx', 17875))) # Should print 17.46\n",
        "print(file_size(('Notes', 'txt', 496))) # Should print 0.48\n",
        "print(file_size(('Program', 'py', 1239))) # Should print 1.21"
      ],
      "execution_count": null,
      "outputs": [
        {
          "output_type": "stream",
          "name": "stdout",
          "text": [
            "17.46\n",
            "0.48\n",
            "1.21\n"
          ]
        }
      ]
    },
    {
      "cell_type": "markdown",
      "metadata": {
        "id": "DYoRQnQCy1FR"
      },
      "source": [
        "# **Dictionary <br/>**\n",
        "Each key is separated from its value by a colon (:), the items are separated by commas, and the whole thing is enclosed in curly braces. An empty dictionary without any items is written with just two curly braces, like this: {}.\n",
        "\n",
        "Keys are unique within a dictionary while values may not be. The values of a dictionary can be of any type, but the keys must be of an immutable data type such as strings, numbers, or tuples.\n",
        "\n",
        "# **Iterating Over Dictionaries**\n",
        "You can iterate over dictionaries using a for loop, just like with strings, lists, and tuples. This will iterate over the sequence of keys in the dictionary. If you want to access the corresponding values associated with the keys, you could use the keys as indexes. Or you can use the items method on the dictionary, like dictionary.items(). This method returns a tuple for each element in the dictionary, where the first element in the tuple is the key and the second is the value.\n",
        "\n",
        "If you only wanted to access the keys in a dictionary, you could use the keys() method on the dictionary: dictionary.keys(). If you only wanted the values, you could use the values() method: dictionary.values(). <br/>\n",
        "**Operations**\n",
        "\n",
        "len(dictionary) - Returns the number of items in the dictionary\n",
        "\n",
        "for key in dictionary - Iterates over each key in the dictionary\n",
        "\n",
        "for key, value in dictionary.items() - Iterates over each key,value pair in the dictionary\n",
        "\n",
        "if key in dictionary - Checks whether the key is in the dictionary\n",
        "\n",
        "dictionary[key] - Accesses the item with key key of the dictionary\n",
        "\n",
        "dictionary[key] = value - Sets the value associated with key\n",
        "\n",
        "del dictionary[key] - Removes the item with key key from the dictionary\n",
        "\n",
        "**Methods**\n",
        "\n",
        "dict.get(key, default) - Returns the element corresponding to key, or default if it's not present <br/>\n",
        "dict.keys() - Returns a sequence containing the keys in the dictionary<br/>\n",
        "\n",
        "dict.values() - Returns a sequence containing the values in the dictionary<br/>\n",
        "\n",
        "dict.update(other_dictionary) - Updates the dictionary with the items coming from the other dictionary. Existing entries will be replaced; new entries will be added.<br/>\n",
        "dict.clear() - Removes all the items of the dictionary<br/>\n",
        "\n",
        "Ref:<br/>\n",
        "https://docs.python.org/3/library/stdtypes.html#mapping-types-dict"
      ]
    },
    {
      "cell_type": "code",
      "metadata": {
        "id": "fiTUskiby5Au",
        "colab": {
          "base_uri": "https://localhost:8080/"
        },
        "outputId": "8ed7b4c7-f468-44d2-ad31-92877eed9acc"
      },
      "source": [
        "dict = {'Name': 'Zara', 'Age': 7, 'Class': 'First'}\n",
        "print(\"dict['Name']: \", dict['Name'])\n",
        "print(\"dict['Age']: \", dict['Age'])"
      ],
      "execution_count": null,
      "outputs": [
        {
          "output_type": "stream",
          "name": "stdout",
          "text": [
            "dict['Name']:  Zara\n",
            "dict['Age']:  7\n"
          ]
        }
      ]
    },
    {
      "cell_type": "code",
      "metadata": {
        "id": "7hEqzA7cy5Un",
        "colab": {
          "base_uri": "https://localhost:8080/"
        },
        "outputId": "394d5725-734d-48a4-b26c-2c2e27240be7"
      },
      "source": [
        "# Creating an empty Dictionary\n",
        "Dict = {}\n",
        "print(\"Empty Dictionary: \", Dict)\n",
        "\n",
        "# Adding elements one at a time\n",
        "Dict[0] = 'Geeks'\n",
        "Dict[2] = 'For'\n",
        "Dict[3] = 1\n",
        "print(\"\\nDictionary after adding 3 elements: \", Dict)\n",
        "\n",
        "# Adding set of values\n",
        "# to a single Key\n",
        "Dict['Value_set'] = 2, 3, 4\n",
        "print(\"\\nDictionary after adding 3 elements: \", Dict)\n",
        "\n",
        "# Updating existing Key's Value\n",
        "Dict[2] = 'Welcome'\n",
        "print(\"\\nUpdated key value: \", Dict)\n",
        "\n",
        "# Adding Nested Key value to Dictionary\n",
        "Dict[5] = {'Nested' :{'1' : 'Life', '2' : 'Geeks'}}\n",
        "print(\"\\nAdding a Nested Key: \", Dict)\n"
      ],
      "execution_count": null,
      "outputs": [
        {
          "output_type": "stream",
          "name": "stdout",
          "text": [
            "Empty Dictionary:  {}\n",
            "\n",
            "Dictionary after adding 3 elements:  {0: 'Geeks', 2: 'For', 3: 1}\n",
            "\n",
            "Dictionary after adding 3 elements:  {0: 'Geeks', 2: 'For', 3: 1, 'Value_set': (2, 3, 4)}\n",
            "\n",
            "Updated key value:  {0: 'Geeks', 2: 'Welcome', 3: 1, 'Value_set': (2, 3, 4)}\n",
            "\n",
            "Adding a Nested Key:  {0: 'Geeks', 2: 'Welcome', 3: 1, 'Value_set': (2, 3, 4), 5: {'Nested': {'1': 'Life', '2': 'Geeks'}}}\n"
          ]
        }
      ]
    },
    {
      "cell_type": "markdown",
      "metadata": {
        "id": "9AhwZj690lgn"
      },
      "source": [
        "# **Date Time**\n"
      ]
    },
    {
      "cell_type": "code",
      "metadata": {
        "id": "df7EkBney4pJ",
        "colab": {
          "base_uri": "https://localhost:8080/"
        },
        "outputId": "c04b3041-7cb2-4abf-a328-ee6048a71e23"
      },
      "source": [
        "import time  # This is required to include time module.\n",
        "\n",
        "ticks = time.time()\n",
        "print(\"Number of ticks since 12:00am, January 1, 1970:\", ticks)"
      ],
      "execution_count": null,
      "outputs": [
        {
          "output_type": "stream",
          "name": "stdout",
          "text": [
            "Number of ticks since 12:00am, January 1, 1970: 1630524342.3988779\n"
          ]
        }
      ]
    },
    {
      "cell_type": "markdown",
      "metadata": {
        "id": "3iOAfNVI5h31"
      },
      "source": [
        "#Functions in Python\n",
        "###Functions give us the ability to make our programs much more powerful and clean while also saving us time. We’ll go over how they work on the first day, but the reason we use functions is because of the ability to write once and call repeatedly.\n",
        "![image.png](data:image/png;base64,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)"
      ]
    },
    {
      "cell_type": "code",
      "metadata": {
        "colab": {
          "base_uri": "https://localhost:8080/"
        },
        "id": "6DKVoY3S5D9t",
        "outputId": "2b25ffbd-d89c-43b5-88fc-cd0a2c60d490"
      },
      "source": [
        "#writing the first function\n",
        "def printInfo():\n",
        "  print(\"Name: John Smith\")\n",
        "  print(\"Age: 45\")\n",
        "\n",
        "printInfo()"
      ],
      "execution_count": null,
      "outputs": [
        {
          "output_type": "stream",
          "text": [
            "Name: John Smith\n",
            "Age: 45\n"
          ],
          "name": "stdout"
        }
      ]
    },
    {
      "cell_type": "markdown",
      "metadata": {
        "id": "4gg_W0Zz6Mv9"
      },
      "source": [
        "#UDF VS. BUILT-IN\n",
        "####Without even knowing it, you’ve been using functions this whole time. Functions such as range, print, len, etc., are all known as “built-in” functions . They are included in Python because they serve a specific purpose to help build our applications. Now that we’re learning about functions, we can begin to create our own known as UDFs or “user-defined functions.”"
      ]
    },
    {
      "cell_type": "code",
      "metadata": {
        "colab": {
          "base_uri": "https://localhost:8080/"
        },
        "id": "plBGU4Zt5D6l",
        "outputId": "b817053c-8ee0-48f3-a304-f7b34b34097c"
      },
      "source": [
        "def calc():\n",
        "  x, y = 5, 10\n",
        "  print(x + y)\n",
        "\n",
        "calc()\n"
      ],
      "execution_count": null,
      "outputs": [
        {
          "output_type": "stream",
          "text": [
            "15\n"
          ],
          "name": "stdout"
        }
      ]
    },
    {
      "cell_type": "markdown",
      "metadata": {
        "id": "sMJS2AeP6dZ8"
      },
      "source": [
        "#Passing A single Parameters"
      ]
    },
    {
      "cell_type": "code",
      "metadata": {
        "colab": {
          "base_uri": "https://localhost:8080/"
        },
        "id": "dxaE0Myf5D3f",
        "outputId": "b3bbccac-9cb0-4641-87a8-2466ec9e97df"
      },
      "source": [
        "def printName(fullname):\n",
        "  print(\"Your name is {}.\".format(fullname))\n",
        "\n",
        "printName(\"Sam\")"
      ],
      "execution_count": null,
      "outputs": [
        {
          "output_type": "stream",
          "text": [
            "Your name is Sam.\n"
          ],
          "name": "stdout"
        }
      ]
    },
    {
      "cell_type": "markdown",
      "metadata": {
        "id": "sdJ1Ax6u6v94"
      },
      "source": [
        "#Passing Multiple Parameters into a function"
      ]
    },
    {
      "cell_type": "code",
      "metadata": {
        "colab": {
          "base_uri": "https://localhost:8080/"
        },
        "id": "eCL3uly_5D0V",
        "outputId": "028f8023-c151-4c3a-e9fd-3cdb6ac6fdda"
      },
      "source": [
        "def addNums(num1, num2):\n",
        "  result = num1 + num2\n",
        "  print(\"{} + {} = {}\".format(num1, num2, result))\n",
        "\n",
        "addNums(5, 8)"
      ],
      "execution_count": null,
      "outputs": [
        {
          "output_type": "stream",
          "text": [
            "5 + 8 = 13\n"
          ],
          "name": "stdout"
        }
      ]
    },
    {
      "cell_type": "markdown",
      "metadata": {
        "id": "FhDQiQdO7Goy"
      },
      "source": [
        "#Passing A List"
      ]
    },
    {
      "cell_type": "code",
      "metadata": {
        "colab": {
          "base_uri": "https://localhost:8080/"
        },
        "id": "BqfW2yR37K-c",
        "outputId": "b743d180-eef2-4ae9-e2cb-aead91bbff62"
      },
      "source": [
        "numbers1 = [2,4,5,10]\n",
        "numbers2 = [1, 3, 5]\n",
        "\n",
        "def squares(nums):\n",
        "  for num in nums:\n",
        "    print(nums*2)\n",
        "\n",
        "squares(numbers1)"
      ],
      "execution_count": null,
      "outputs": [
        {
          "output_type": "stream",
          "text": [
            "[2, 4, 5, 10, 2, 4, 5, 10]\n",
            "[2, 4, 5, 10, 2, 4, 5, 10]\n",
            "[2, 4, 5, 10, 2, 4, 5, 10]\n",
            "[2, 4, 5, 10, 2, 4, 5, 10]\n"
          ],
          "name": "stdout"
        }
      ]
    },
    {
      "cell_type": "code",
      "metadata": {
        "colab": {
          "base_uri": "https://localhost:8080/"
        },
        "id": "ZehVB1Us9lks",
        "outputId": "f27ce95b-b199-43d0-a8a1-154c0bf44f1f"
      },
      "source": [
        "def calcArea(r, pi=3.14):\n",
        "  area = pi * (r**2)\n",
        "  print(\"Area: {}\".format(area))\n",
        "\n",
        "calcArea(2)"
      ],
      "execution_count": null,
      "outputs": [
        {
          "output_type": "stream",
          "text": [
            "Area: 12.56\n"
          ],
          "name": "stdout"
        }
      ]
    },
    {
      "cell_type": "markdown",
      "metadata": {
        "id": "nVrvkUtZ929S"
      },
      "source": [
        "#Making parameter optional\n",
        "####Sometimes you need to make functions that take optional arguments. The best example is always middle names; some people have them, and some don’t. If we wanted to write a function that would print out properly for both situations, we would need to make the middle name an optional parameter. We do this by assigning an empty string value as the default:\n"
      ]
    },
    {
      "cell_type": "code",
      "metadata": {
        "colab": {
          "base_uri": "https://localhost:8080/"
        },
        "id": "MJPi_gC4917Q",
        "outputId": "71239f3a-4b08-4381-9af3-c44560b4a638"
      },
      "source": [
        "def printName(first, last, middle=\"\"):\n",
        "  if middle:\n",
        "    print(\"{} {} {}\".format(first, middle, last))\n",
        "  else:\n",
        "    print(\"{} {}\".format(first, last))\n",
        "  \n",
        "printName(\"John\", \"Smith\")\n",
        "printName(\"John\", \"Smith\", \"Paul\")"
      ],
      "execution_count": null,
      "outputs": [
        {
          "output_type": "stream",
          "text": [
            "John Smith\n",
            "John Paul Smith\n"
          ],
          "name": "stdout"
        }
      ]
    },
    {
      "cell_type": "markdown",
      "metadata": {
        "id": "6uu6fEpF_PKb"
      },
      "source": [
        "#NAMED PARAMETER ASSIGNMENT\n",
        "####During the function call, you can explicity assign values into parameter names. This is useful when you don’t want to mix up the order of values being passed in, as they work from left to right by default. You can use parameter names to assign values for every parameter if you choose, but it’s not necessary most of the time. Let’s check out an example:\n"
      ]
    },
    {
      "cell_type": "code",
      "metadata": {
        "colab": {
          "base_uri": "https://localhost:8080/"
        },
        "id": "muS1Tjwn_VwI",
        "outputId": "4ab147d4-bb64-4ee4-9d56-e1ccda955a19"
      },
      "source": [
        "def addNums(num1, num2):\n",
        "  print(num2)\n",
        "  print(num1)\n",
        "\n",
        "addNums(5, num2 = 2.5)\n"
      ],
      "execution_count": null,
      "outputs": [
        {
          "output_type": "stream",
          "text": [
            "2.5\n",
            "5\n"
          ],
          "name": "stdout"
        }
      ]
    },
    {
      "cell_type": "markdown",
      "metadata": {
        "id": "t3VM28ZA_lCC"
      },
      "source": [
        "#ARGS - Variable number of Arguments\n",
        "## ####The use of  *args allows you to pass a variable number of arguments into a function. This allows you to make functions more modular. The magic isn’t the “args” keyword here though; it’s really the unary operator (*) that allows us to perform this feature. You could theoretically replace the word args with anyone, like “*data”, and it would still work. However, args is the default and general standard throughout the industry. Let’s see how we can use args in a function call:\n"
      ]
    },
    {
      "cell_type": "code",
      "metadata": {
        "colab": {
          "base_uri": "https://localhost:8080/"
        },
        "id": "1YIyi7_t_izD",
        "outputId": "17593072-7f89-4c81-9d12-b9bc2df54f7a"
      },
      "source": [
        "def outputData(name, *args):\n",
        "  print(type(args))\n",
        "  for arg in args:\n",
        "    print(arg)\n",
        "\n",
        "outputData(\"John Smith\", 5, True, \"Jess\")"
      ],
      "execution_count": null,
      "outputs": [
        {
          "output_type": "stream",
          "text": [
            "<class 'tuple'>\n",
            "5\n",
            "True\n",
            "Jess\n"
          ],
          "name": "stdout"
        }
      ]
    },
    {
      "cell_type": "markdown",
      "metadata": {
        "id": "05kh3f8JABLp"
      },
      "source": [
        "#KWARGS - \n",
        "####Like args, kwargs allows us to take in an arbitrary number of values in a function; however, it works as a dictionary with keyword arguments instead. Keyword arguments are values passed in with keys, which allow us to access them easily within the function block. Again, the magic here is in the two unary operators (**) not the keyword of kwargs. Let’s check it out:\n"
      ]
    },
    {
      "cell_type": "code",
      "metadata": {
        "colab": {
          "base_uri": "https://localhost:8080/"
        },
        "id": "e_zChIb8AMoA",
        "outputId": "3dc875e8-ff2e-47a9-81ad-ebc6c476501f"
      },
      "source": [
        "def outputData(**kwargs):\n",
        "  print(type(kwargs))\n",
        "  print(kwargs[\"name\"])\n",
        "  print(kwargs[\"num\"])\n",
        "  print(kwargs[\"b\"])\n",
        "\n",
        "outputData(name = \"John Smith\", num=5, b=True)"
      ],
      "execution_count": null,
      "outputs": [
        {
          "output_type": "stream",
          "text": [
            "<class 'dict'>\n",
            "John Smith\n",
            "5\n",
            "True\n"
          ],
          "name": "stdout"
        }
      ]
    },
    {
      "cell_type": "markdown",
      "metadata": {
        "id": "N7tcCi_TA1OG"
      },
      "source": [
        "#Return - Statement\n",
        "####Up to this point, we’ve been printing out the data that our functions alter, but what do you do if you need to access this information later? This is where the return statement is used. Functions can manipulate data and then send it back to where the function call occurred to save the information to be used for later. Today we’ll learn how to do that and why it’s useful.\n",
        "\n",
        "\n"
      ]
    },
    {
      "cell_type": "code",
      "metadata": {
        "colab": {
          "base_uri": "https://localhost:8080/"
        },
        "id": "8SvDE-2rBFKk",
        "outputId": "b47c2f6c-3399-4c6a-c502-c3d9a59d4b27"
      },
      "source": [
        "def returnMultiple(num1, num2):\n",
        "  a = num1\n",
        "  b = num2\n",
        "  return [a, b]\n",
        "\n",
        "returnMultiple(10,10)"
      ],
      "execution_count": null,
      "outputs": [
        {
          "output_type": "execute_result",
          "data": {
            "text/plain": [
              "[10, 10]"
            ]
          },
          "metadata": {
            "tags": []
          },
          "execution_count": 62
        }
      ]
    },
    {
      "cell_type": "markdown",
      "metadata": {
        "id": "cUzgQB3yBeR4"
      },
      "source": [
        "#Ternary Operator\n",
        "####A ternary operator is a shorthand Python branching statement. These operators can be used to assign values into a variable, or in this case, deciding what the return from a function:\n"
      ]
    },
    {
      "cell_type": "code",
      "metadata": {
        "colab": {
          "base_uri": "https://localhost:8080/"
        },
        "id": "JuJWoQW-BpJw",
        "outputId": "f4afee0b-2376-4156-b7fa-eab4d26aa819"
      },
      "source": [
        "def searchList(aList, el):\n",
        "      return True if el in aList else False\n",
        "result = searchList( [ \"one\", 2, \"three\" ], 2)    # result = True\n",
        "print(result)"
      ],
      "execution_count": null,
      "outputs": [
        {
          "output_type": "stream",
          "text": [
            "True\n"
          ],
          "name": "stdout"
        }
      ]
    },
    {
      "cell_type": "markdown",
      "metadata": {
        "id": "3DaOuawFB5sQ"
      },
      "source": [
        "#Type Of Scope\n",
        "###Global scope Access\n",
        "###When global attributes are defined, they're accessible to the rest of the file. However, we must keep in mind how function scope works. Even when you declare a variable accessible to the entire file, it will not be accessible within the function. Let’s see an example:\n"
      ]
    },
    {
      "cell_type": "code",
      "metadata": {
        "colab": {
          "base_uri": "https://localhost:8080/",
          "height": 300
        },
        "id": "NLZ5GCUQCPDk",
        "outputId": "70c3fdd7-2189-4856-b7bb-970493690363"
      },
      "source": [
        "number = 5\n",
        "def scopeTest():\n",
        "  number += 1 #not accessible due to the function level scope\n",
        "  \n",
        "scopeTest()\n"
      ],
      "execution_count": null,
      "outputs": [
        {
          "output_type": "error",
          "ename": "UnboundLocalError",
          "evalue": "ignored",
          "traceback": [
            "\u001b[0;31m---------------------------------------------------------------------------\u001b[0m",
            "\u001b[0;31mUnboundLocalError\u001b[0m                         Traceback (most recent call last)",
            "\u001b[0;32m<ipython-input-65-7ba73fc3b8f8>\u001b[0m in \u001b[0;36m<module>\u001b[0;34m()\u001b[0m\n\u001b[1;32m      2\u001b[0m \u001b[0;32mdef\u001b[0m \u001b[0mscopeTest\u001b[0m\u001b[0;34m(\u001b[0m\u001b[0;34m)\u001b[0m\u001b[0;34m:\u001b[0m\u001b[0;34m\u001b[0m\u001b[0;34m\u001b[0m\u001b[0m\n\u001b[1;32m      3\u001b[0m   \u001b[0mnumber\u001b[0m \u001b[0;34m+=\u001b[0m \u001b[0;36m1\u001b[0m\u001b[0;34m\u001b[0m\u001b[0;34m\u001b[0m\u001b[0m\n\u001b[0;32m----> 4\u001b[0;31m \u001b[0mscopeTest\u001b[0m\u001b[0;34m(\u001b[0m\u001b[0;34m)\u001b[0m\u001b[0;34m\u001b[0m\u001b[0;34m\u001b[0m\u001b[0m\n\u001b[0m",
            "\u001b[0;32m<ipython-input-65-7ba73fc3b8f8>\u001b[0m in \u001b[0;36mscopeTest\u001b[0;34m()\u001b[0m\n\u001b[1;32m      1\u001b[0m \u001b[0mnumber\u001b[0m \u001b[0;34m=\u001b[0m \u001b[0;36m5\u001b[0m\u001b[0;34m\u001b[0m\u001b[0;34m\u001b[0m\u001b[0m\n\u001b[1;32m      2\u001b[0m \u001b[0;32mdef\u001b[0m \u001b[0mscopeTest\u001b[0m\u001b[0;34m(\u001b[0m\u001b[0;34m)\u001b[0m\u001b[0;34m:\u001b[0m\u001b[0;34m\u001b[0m\u001b[0;34m\u001b[0m\u001b[0m\n\u001b[0;32m----> 3\u001b[0;31m   \u001b[0mnumber\u001b[0m \u001b[0;34m+=\u001b[0m \u001b[0;36m1\u001b[0m\u001b[0;34m\u001b[0m\u001b[0;34m\u001b[0m\u001b[0m\n\u001b[0m\u001b[1;32m      4\u001b[0m \u001b[0mscopeTest\u001b[0m\u001b[0;34m(\u001b[0m\u001b[0;34m)\u001b[0m\u001b[0;34m\u001b[0m\u001b[0;34m\u001b[0m\u001b[0m\n",
            "\u001b[0;31mUnboundLocalError\u001b[0m: local variable 'number' referenced before assignment"
          ]
        }
      ]
    },
    {
      "cell_type": "markdown",
      "metadata": {
        "id": "3t6061NoCh9N"
      },
      "source": [
        "#Handling function Scope\n",
        "When dealing with variable declared in a function, you generally won't need to access it outside of the function. However, in order to access that value, best practice is to return it."
      ]
    },
    {
      "cell_type": "code",
      "metadata": {
        "colab": {
          "base_uri": "https://localhost:8080/"
        },
        "id": "fn3Fogl0Cu0x",
        "outputId": "f204979a-0449-461a-868a-bbb19206821d"
      },
      "source": [
        "def scopeTest():\n",
        "  word = \"function\"\n",
        "  return word\n",
        "\n",
        "value = scopeTest()\n",
        "print(value)"
      ],
      "execution_count": null,
      "outputs": [
        {
          "output_type": "stream",
          "text": [
            "function\n"
          ],
          "name": "stdout"
        }
      ]
    },
    {
      "cell_type": "markdown",
      "metadata": {
        "id": "pmblpyzLDHAj"
      },
      "source": [
        "#Data Collection and Files\n",
        "There are several data stuctures in Python. We’ll cover dictionaries, sets, tuples, and frozensets."
      ]
    },
    {
      "cell_type": "markdown",
      "metadata": {
        "id": "FY8pfh1FD1jr"
      },
      "source": [
        "#Declaring A Dictionary\n",
        "####A dictionary is a collection of unordered data, which is stored in key-value pairs. What is meant by “unordered” is the way it is stored in memory. It is not accessible through an index, rather it is accessed through a key. Lists are known as ordered data collections because each item is assigned a specific location. Dictionaries work like a real-life dictionary, where the key is the word and the values are the definition. Dictionaries are useful for working with large data, mapped data, CSV files, APIs, sending or receiving data, and much more."
      ]
    },
    {
      "cell_type": "code",
      "metadata": {
        "colab": {
          "base_uri": "https://localhost:8080/"
        },
        "id": "O0JKDnfJDGRq",
        "outputId": "91c1bec3-b2a8-4d92-ceec-f24681fb99e8"
      },
      "source": [
        "#declaring a dictionary variable\n",
        "empty = {} #empty dictionary\n",
        "person = {\"name\": \"John Smith\"}\n",
        "\n",
        "customer = {\n",
        "    \"name\" : \"Morty\",\n",
        "    \"age\" : 26\n",
        "}\n",
        "print(customer)"
      ],
      "execution_count": null,
      "outputs": [
        {
          "output_type": "stream",
          "text": [
            "{'name': 'Morty', 'age': 26}\n"
          ],
          "name": "stdout"
        }
      ]
    },
    {
      "cell_type": "markdown",
      "metadata": {
        "id": "V1hbMswhEgaR"
      },
      "source": [
        "#Using the GET Method\n",
        "####Another way of retrieving information is to use the get() method. The major difference between using this method and the previous way of accessing a value is that the get method won’t throw a key error. If the key doesn’t exist, it will simply return “None”. You may also add in a second argument in the call, in order to have the program return a more specific data type. Let’s try"
      ]
    },
    {
      "cell_type": "code",
      "metadata": {
        "colab": {
          "base_uri": "https://localhost:8080/"
        },
        "id": "zjESVuewEyJg",
        "outputId": "cdf46a74-7cdc-4170-aab4-11b806f3ee26"
      },
      "source": [
        "#using the get method to access dictionary information\n",
        "person = {\"name\": \"John\"}\n",
        "print(person.get(\"name\")) #retrieves value of name\n",
        "\n",
        "print(person.get(\"age\", \"Age is not available.\"))\n"
      ],
      "execution_count": null,
      "outputs": [
        {
          "output_type": "stream",
          "text": [
            "John\n",
            "Age is not available.\n"
          ],
          "name": "stdout"
        }
      ]
    },
    {
      "cell_type": "markdown",
      "metadata": {
        "id": "Ns_IIaQRFOIJ"
      },
      "source": [
        "#Dictionaries with Lists\n",
        "####Dictionaries become powerful when you start working with data collections as values:\n"
      ]
    },
    {
      "cell_type": "code",
      "metadata": {
        "colab": {
          "base_uri": "https://localhost:8080/"
        },
        "id": "fW_Kx7ZdFU93",
        "outputId": "3a2b85f7-310a-484f-973e-d5b4b2b41492"
      },
      "source": [
        "#storing a list within a dictionary and accessing it\n",
        "data = {\"sports\": [ \"baseball\", \"football\", \"hockey\", \"soccer\"]}\n",
        "print(data[\"sports\"][1])"
      ],
      "execution_count": null,
      "outputs": [
        {
          "output_type": "stream",
          "text": [
            "football\n"
          ],
          "name": "stdout"
        }
      ]
    },
    {
      "cell_type": "markdown",
      "metadata": {
        "id": "GeyDkOkeFqmC"
      },
      "source": [
        "#List With Dictionaries\n",
        "###The combination of lists within dictionries and vice-versa can become confusiing when trying to figure out how to access information. "
      ]
    },
    {
      "cell_type": "code",
      "metadata": {
        "colab": {
          "base_uri": "https://localhost:8080/"
        },
        "id": "z6bzDa0OF4fo",
        "outputId": "7d68c8bf-4e03-4639-8b02-8b73f5d914ba"
      },
      "source": [
        "data = [\"john\", \"Dennis\", {\"name\": \"Kristen\", \"Age\": 24}]\n",
        "print(data[2])\n",
        "print(\"This would bring the age\", data[2][\"Age\"])"
      ],
      "execution_count": null,
      "outputs": [
        {
          "output_type": "stream",
          "text": [
            "{'name': 'Kristen', 'Age': 24}\n",
            "This would bring the age 24\n"
          ],
          "name": "stdout"
        }
      ]
    },
    {
      "cell_type": "markdown",
      "metadata": {
        "id": "BAMSeZPMGQ-4"
      },
      "source": [
        "#Looping Dictionary\n",
        "Dictionaries are iterable like lists. However, they have three different methods for doing so. You can iterate over both the keys and values together, only keys, or only values."
      ]
    },
    {
      "cell_type": "code",
      "metadata": {
        "colab": {
          "base_uri": "https://localhost:8080/"
        },
        "id": "M8DuZnREGY3C",
        "outputId": "4a640711-1da7-4e66-84e5-588e6ded751a"
      },
      "source": [
        "person = {\"name\": \"John\", \"age\": 26}\n",
        "for key in person.keys():\n",
        "  print(\"This is the key\", key)\n",
        "  print(person[key])"
      ],
      "execution_count": null,
      "outputs": [
        {
          "output_type": "stream",
          "text": [
            "This is the key name\n",
            "John\n",
            "This is the key age\n",
            "26\n"
          ],
          "name": "stdout"
        }
      ]
    },
    {
      "cell_type": "code",
      "metadata": {
        "colab": {
          "base_uri": "https://localhost:8080/"
        },
        "id": "g4SlHbsvGtBk",
        "outputId": "beb0abf9-ae4d-497d-ac6f-0113a4886f42"
      },
      "source": [
        "#Looping key-value pair\n",
        "person = {\"name\": \"John\", \"age\": 26}\n",
        "for key, value in person.items():\n",
        "  print(\"{}:{}\".format(key, value))"
      ],
      "execution_count": null,
      "outputs": [
        {
          "output_type": "stream",
          "text": [
            "name:John\n",
            "age:26\n"
          ],
          "name": "stdout"
        }
      ]
    },
    {
      "cell_type": "markdown",
      "metadata": {
        "id": "B9msvi6xG_mc"
      },
      "source": [
        "#Declaring Tuple\n",
        "####To declare a tuple, you use a comma to separate two or more items. Lists are denoted by their square brackets on the outside, whereas tuples can be declared with optional parenthesis. It’s more likely they’re declared with parenthesis as it’s easier to read. Let’s see an example:"
      ]
    },
    {
      "cell_type": "code",
      "metadata": {
        "colab": {
          "base_uri": "https://localhost:8080/",
          "height": 215
        },
        "id": "9T2MfkXrHHBl",
        "outputId": "0bcb18fa-ce48-47b4-9137-a43e4175d505"
      },
      "source": [
        "#declaring a tuple\n",
        "t1 = (\"hello\", 2, \"hello1\")\n",
        "t2 = True, 1\n",
        "\n",
        "print(type(t1), type(t2))\n",
        "t1[0] = 1"
      ],
      "execution_count": null,
      "outputs": [
        {
          "output_type": "stream",
          "text": [
            "<class 'tuple'> <class 'tuple'>\n"
          ],
          "name": "stdout"
        },
        {
          "output_type": "error",
          "ename": "TypeError",
          "evalue": "ignored",
          "traceback": [
            "\u001b[0;31m---------------------------------------------------------------------------\u001b[0m",
            "\u001b[0;31mTypeError\u001b[0m                                 Traceback (most recent call last)",
            "\u001b[0;32m<ipython-input-77-3a3d906d894c>\u001b[0m in \u001b[0;36m<module>\u001b[0;34m()\u001b[0m\n\u001b[1;32m      4\u001b[0m \u001b[0;34m\u001b[0m\u001b[0m\n\u001b[1;32m      5\u001b[0m \u001b[0mprint\u001b[0m\u001b[0;34m(\u001b[0m\u001b[0mtype\u001b[0m\u001b[0;34m(\u001b[0m\u001b[0mt1\u001b[0m\u001b[0;34m)\u001b[0m\u001b[0;34m,\u001b[0m \u001b[0mtype\u001b[0m\u001b[0;34m(\u001b[0m\u001b[0mt2\u001b[0m\u001b[0;34m)\u001b[0m\u001b[0;34m)\u001b[0m\u001b[0;34m\u001b[0m\u001b[0;34m\u001b[0m\u001b[0m\n\u001b[0;32m----> 6\u001b[0;31m \u001b[0mt1\u001b[0m\u001b[0;34m[\u001b[0m\u001b[0;36m0\u001b[0m\u001b[0;34m]\u001b[0m \u001b[0;34m=\u001b[0m \u001b[0;36m1\u001b[0m\u001b[0;34m\u001b[0m\u001b[0;34m\u001b[0m\u001b[0m\n\u001b[0m",
            "\u001b[0;31mTypeError\u001b[0m: 'tuple' object does not support item assignment"
          ]
        }
      ]
    },
    {
      "cell_type": "markdown",
      "metadata": {
        "id": "CdFueNZhoFZ6"
      },
      "source": [
        "##WHAT ARE SETS?\n",
        "Sets share the same characteristics of lists and dictionaries. A set is a collection of information like a list; however, like a key in a dictionary, sets can only contain unique values. They are also an unordered collection. This means that they cannot be accessed by index but rather by the value itself like dictionary keys. They can be iterated through though, like how dictionary keys can be looped over. Sets are practical in situations of storing unique items.\n",
        "\n",
        "##DECLARING A SET\n",
        "There are two ways to declare a set. The first way is by using the keyword “set” followed by parenthesis and enclosing square brackets. The second way, which is more practical, looks like a dictionary being declared by using a set of curly brackets. Let’s check it out:\n"
      ]
    },
    {
      "cell_type": "code",
      "metadata": {
        "id": "MDG-HEXYoO2J",
        "colab": {
          "base_uri": "https://localhost:8080/"
        },
        "outputId": "2d4497a2-1f8e-4c75-f716-cb756142d0fc"
      },
      "source": [
        "# declaring a set\n",
        "s1 = set( [1, 2, 3, 1] )      # uses the set keyword and square brackets\n",
        "s2 = {4, 4, 5}            # uses curly brackets, like dictionary\n",
        "print( type(s1), type(s2) )\n",
        "s1.add(5)      # using the add method to add new items to a set\n",
        "s1.remove(1)   # using the remove method to get rid of the value 1\n",
        "print(s1)     # notice when printed it removed the second \"1\" at the end"
      ],
      "execution_count": null,
      "outputs": [
        {
          "output_type": "stream",
          "text": [
            "<class 'set'> <class 'set'>\n",
            "{2, 3, 5}\n"
          ],
          "name": "stdout"
        }
      ]
    },
    {
      "cell_type": "markdown",
      "metadata": {
        "id": "8O3WB7f_oWUj"
      },
      "source": [
        "#Object Oriented Programming"
      ]
    },
    {
      "cell_type": "markdown",
      "metadata": {
        "id": "WinFUIZAoJuv"
      },
      "source": [
        ""
      ]
    },
    {
      "cell_type": "code",
      "metadata": {
        "id": "pMlY-Q2En4J7",
        "colab": {
          "base_uri": "https://localhost:8080/"
        },
        "outputId": "81708fe8-5752-40d3-873e-44850334e599"
      },
      "source": [
        "#Create your first class\n",
        "class Car():\n",
        "  sound = \"beep\"\n",
        "  color = \"red\"\n",
        "\n",
        "ford = Car()\n",
        "print(ford.color)\n"
      ],
      "execution_count": null,
      "outputs": [
        {
          "output_type": "stream",
          "text": [
            "red\n"
          ],
          "name": "stdout"
        }
      ]
    },
    {
      "cell_type": "markdown",
      "metadata": {
        "id": "zQRcuCzppKU1"
      },
      "source": [
        "#Using The \"\\_\\_INIT__()\" Constructor\n",
        "###When you want to instantiate an object with specific properties, you need to use the initialization (init) method . Whenever an instance is created, the init method is called immediately. You can use this method to instantiate objects with different attribute values upon creation. This allows us to easily create class instances with personalized attributes. \n",
        "The \"self\" keyword is a reference to the current instance of the class and is used to access variables and methods associated with that instance. "
      ]
    },
    {
      "cell_type": "code",
      "metadata": {
        "id": "hnj7Mgn5oe53",
        "colab": {
          "base_uri": "https://localhost:8080/"
        },
        "outputId": "a6094178-3805-4c94-8cc5-e05c56dbb214"
      },
      "source": [
        "#Using init\n",
        "class Car():\n",
        "  def __init__(self, color):\n",
        "    self.color = color\n",
        "\n",
        "\n",
        "ford = Car(\"blue\")\n",
        "#This would print the color blue\n",
        "print(ford.color)"
      ],
      "execution_count": null,
      "outputs": [
        {
          "output_type": "stream",
          "text": [
            "blue\n"
          ],
          "name": "stdout"
        }
      ]
    },
    {
      "cell_type": "code",
      "metadata": {
        "id": "SFiz5P1Zr7eQ",
        "colab": {
          "base_uri": "https://localhost:8080/"
        },
        "outputId": "ce7a4fb8-4183-44b0-e062-4f1e165e9917"
      },
      "source": [
        "#Instantiating multiple object with Init\n",
        "class Car():\n",
        "  def __init__(self, color, year):\n",
        "    self.color = color\n",
        "    self.year = year\n",
        "\n",
        "ford = Car(\"blue\", 2014)\n",
        "subaru = Car(\"red\", 2016)\n",
        "\n",
        "print(ford.color, ford.year)\n",
        "print(subaru.color, subaru.year)"
      ],
      "execution_count": null,
      "outputs": [
        {
          "output_type": "stream",
          "text": [
            "blue 2014\n",
            "red 2016\n"
          ],
          "name": "stdout"
        }
      ]
    },
    {
      "cell_type": "markdown",
      "metadata": {
        "id": "jvORe_waurm1"
      },
      "source": [
        "#GLOBAL Attributes VS. INSTANCE Attribute\n",
        "###Without knowing it, you’ve been using both globally accessible attributes and instance accessible attributes. Global attributes can be referenced by the class directly and all its instances, whereas instance attributes (which are defined within the init method) can only be accessed by the class instances. If an attribute is declared inside of a class, but not within the init method, then it is known as a global attribute. Any attributes declared within the init method using the self keyword are instance attributes. Let’s see an example:\n"
      ]
    },
    {
      "cell_type": "code",
      "metadata": {
        "id": "YRTZbNHtu9Kd",
        "colab": {
          "base_uri": "https://localhost:8080/"
        },
        "outputId": "11bb8678-1828-4510-840f-bdb3023c6cff"
      },
      "source": [
        "class Car():\n",
        "  sound = \"beep\"\n",
        "  def __init__(self, color):\n",
        "    self.color = \"blue\"\n",
        "\n",
        "print(Car.sound)\n",
        "#print(Car.color) won't work, as color is only available to the instance of the Car class\n",
        "ford = Car(\"blue\")\n",
        "print(ford.sound, ford.color)"
      ],
      "execution_count": null,
      "outputs": [
        {
          "output_type": "stream",
          "text": [
            "beep\n",
            "beep blue\n"
          ],
          "name": "stdout"
        }
      ]
    },
    {
      "cell_type": "markdown",
      "metadata": {
        "id": "EHybZWrHvwny"
      },
      "source": [
        "#Defining AND Calling A Method\n",
        "###Defining a method is the same as defining a function; however, you simply put the code within the class indentation block. When declaring a method that you intend to access through instances, you must use the self parameter in the definition. Without the self keyword, the method can only be accessed by the class itself. In order to call a method, you use dot syntax. As methods are just functions, you must call them with parenthesis after the name of the instance.\n",
        "###Within the methods you create, you’ll often need access to attributes defined within the class. To do so, you need to use the self keyword in order to access the attribute. Remember that self is in reference to the instance accessing the class. When we create multiple instances, self is what allows the program to understand which sound attribute to return. This is true even for global attributes.\n",
        "##<b>Method Scope:</b>\n",
        "###Like global attributes, you may have methods that are accessible through the class itself rather than an instance of the class. These may also be known as static methods . They are not accessible by instances of the class. Depending on the class your building, it may help to have a method that is only accessible through the class and not the instances. Let’s see an example:\n",
        "\n"
      ]
    },
    {
      "cell_type": "code",
      "metadata": {
        "id": "hFDNehxswYfw",
        "colab": {
          "base_uri": "https://localhost:8080/"
        },
        "outputId": "355bf2b6-f73f-4a49-d0dd-8d48859d94dd"
      },
      "source": [
        "class Dog():\n",
        "  def makeSound(self):\n",
        "    print(\"bark\")\n",
        "  \n",
        "sam = Dog()\n",
        "sam.makeSound()"
      ],
      "execution_count": null,
      "outputs": [
        {
          "output_type": "stream",
          "text": [
            "bark\n"
          ],
          "name": "stdout"
        }
      ]
    },
    {
      "cell_type": "code",
      "metadata": {
        "id": "loD4Wpe1wkUF",
        "colab": {
          "base_uri": "https://localhost:8080/"
        },
        "outputId": "bae1449c-de9f-41ac-b950-1e8c431ff09a"
      },
      "source": [
        "#Accessing Class attributes in Methods\n",
        "class Dog():\n",
        "  sound = \"bark\"\n",
        "  def makeSound(self):\n",
        "    print(self.sound) #self required to access attributes defined in the class\n",
        "\n",
        "sam = Dog()\n",
        "sam.makeSound()"
      ],
      "execution_count": null,
      "outputs": [
        {
          "output_type": "stream",
          "text": [
            "bark\n"
          ],
          "name": "stdout"
        }
      ]
    },
    {
      "cell_type": "code",
      "metadata": {
        "id": "Csbf0Bmtw6LA",
        "colab": {
          "base_uri": "https://localhost:8080/"
        },
        "outputId": "9c922bde-7a39-40e1-f1e2-3e2ea8ab4877"
      },
      "source": [
        "# understanding which methods are accessible via the class itself and class instances\n",
        "class Dog():\n",
        "  sound = \"bark\"\n",
        "  def makeSound(self):\n",
        "    print(self.sound)\n",
        "\n",
        "  def printInfo():\n",
        "    print(\"I am a dog.\")\n",
        "  \n",
        "Dog.printInfo()\n",
        "\n",
        "sam = Dog()\n",
        "sam.makeSound()\n",
        "#sam.printInfo() #This would produce error\n"
      ],
      "execution_count": null,
      "outputs": [
        {
          "output_type": "stream",
          "text": [
            "I am a dog.\n",
            "bark\n"
          ],
          "name": "stdout"
        }
      ]
    },
    {
      "cell_type": "code",
      "metadata": {
        "id": "RQZMxd24xWhp",
        "colab": {
          "base_uri": "https://localhost:8080/"
        },
        "outputId": "bf809c1d-632c-4a3b-cc1d-26e5839c6b61"
      },
      "source": [
        "#Passing argument in the methods\n",
        "class Dog():\n",
        "  sound = \"bark\"\n",
        "\n",
        "  def showInfo(self, name, age, address):\n",
        "    sound = self.sound\n",
        "    print(sound, name, age, address)\n",
        "\n",
        "\n",
        "sam = Dog()\n",
        "sam.showInfo(\"Rob\", 16, \"106 Loscolinas\")"
      ],
      "execution_count": null,
      "outputs": [
        {
          "output_type": "stream",
          "text": [
            "bark Rob 16 106 Loscolinas\n"
          ],
          "name": "stdout"
        }
      ]
    },
    {
      "cell_type": "markdown",
      "metadata": {
        "id": "T8DZTn_IynUh"
      },
      "source": [
        "#USING SETTERS AND GETTERS\n",
        "####In programming there is a concept called setters and getters . They are methods that you create to re-declare attribute values and return attribute values. We’ve seen how we can alter attribute values by directly accessing them; however, this can sometimes lead to problems or accidentally altering the value. Good practice is to create a method that will alter the attribute value for you and call that method when you need to set a new value. The same goes for when you want to access a given attributes value; instead of accessing it directly, you call a method that will return the value. This gives us a safer way to access an instances attributes. Let’s see how we can:\n"
      ]
    },
    {
      "cell_type": "code",
      "metadata": {
        "id": "lrjsZslhy3o0",
        "colab": {
          "base_uri": "https://localhost:8080/"
        },
        "outputId": "f03963c5-d335-4369-e6b0-7418fb8fbe46"
      },
      "source": [
        "#using methods to set or return attribute values, proper programming practice\n",
        "class Dog():\n",
        "  name = ''  #would normally use init method to declare this si for testing\n",
        "\n",
        "  def setName(self, new_name):\n",
        "    self.name = new_name\n",
        "\n",
        "  def getName(self):\n",
        "    return self.name\n",
        "\n",
        "sam = Dog()\n",
        "sam.setName(\"Sammi\")\n",
        "print(sam.getName)"
      ],
      "execution_count": null,
      "outputs": [
        {
          "output_type": "stream",
          "text": [
            "<bound method Dog.getName of <__main__.Dog object at 0x7f4945e86590>>\n"
          ],
          "name": "stdout"
        }
      ]
    },
    {
      "cell_type": "code",
      "metadata": {
        "id": "Fo3d4upi0IBp",
        "colab": {
          "base_uri": "https://localhost:8080/"
        },
        "outputId": "05df86f3-87fb-49db-913b-a00fc49f112e"
      },
      "source": [
        "class Dog():\n",
        "  age = 6\n",
        "  def getAge(self):\n",
        "    return self.age \n",
        "\n",
        "  def printInfo(self):\n",
        "    if self.getAge() < 10:\n",
        "      print(\"Puppy\")\n",
        "\n",
        "sam = Dog()\n",
        "sam.printInfo()"
      ],
      "execution_count": null,
      "outputs": [
        {
          "output_type": "stream",
          "text": [
            "Puppy\n"
          ],
          "name": "stdout"
        }
      ]
    },
    {
      "cell_type": "markdown",
      "metadata": {
        "id": "NWu6hoUSwrAP"
      },
      "source": [
        "#Magic Methods\n",
        "####While they have a funny name, magic methods are the underlying of classes in Python. Without knowing, you’ve already used one, the initialization method. All magic methods have two underscores before and after their name. When you print out anything, you’re accessing a magic method called __str__. When you use operators (+, -, /, ∗, ==, etc.), you’re accessing magic methods. They are essentially functions that decide what operators and other tasks in Python perform. Don’t get too hooked on them, as we won’t use them too much, but I wanted to introduce you to them. As mentioned, the __str__ magic method is called when using the print function; it stands for the string representation of a class. Let’s alter what gets printed out when we print out a class that we defined ourselves:\n"
      ]
    },
    {
      "cell_type": "code",
      "metadata": {
        "id": "U6Zfb_UFwyOe",
        "colab": {
          "base_uri": "https://localhost:8080/"
        },
        "outputId": "a7dfc4ed-8a74-4c11-e73f-db52c0d6df99"
      },
      "source": [
        "#Calling a class method from another method\n",
        "class Dog():\n",
        "  age = 6\n",
        "  def getAge(self):\n",
        "    return self.age\n",
        "\n",
        "  def printInfo(self):\n",
        "    if self.getAge() < 10:\n",
        "      print(\"Puppy!\")\n",
        "\n",
        "sam = Dog()\n",
        "sam.printInfo()"
      ],
      "execution_count": null,
      "outputs": [
        {
          "output_type": "stream",
          "text": [
            "Puppy!\n"
          ],
          "name": "stdout"
        }
      ]
    },
    {
      "cell_type": "markdown",
      "metadata": {
        "id": "132h8imoxbOg"
      },
      "source": [
        "#Method Overriding\n",
        "####Sometimes when using inheritance, you want the subclass to be able to perform a different action when the same method is called. Take our makeSound method from the previously created Animal class. It prints out “roar”, but that’s not the sound you want dogs making when you create your Dog class. Instead, we use the concept of method overriding to change what the method does. Within the subclass, we redefine the method (with the same name) to perform the task differently. Python will always use the method defined within the subclass first, and if one doesn’t exist, then it will check the superclass. Let’s use method overriding to alter the makeSound method and print the proper statement for our Dog class:\n"
      ]
    },
    {
      "cell_type": "code",
      "metadata": {
        "id": "_hJRlaUHxhRK",
        "colab": {
          "base_uri": "https://localhost:8080/"
        },
        "outputId": "5453ceef-3f18-478b-ea8f-4f89a5bf57f2"
      },
      "source": [
        "class Animal():\n",
        "  def makeSound(self):\n",
        "    print(\"roar\")\n",
        "\n",
        "class Dog(Animal):     #inheritance\n",
        "  def makeSound(self): #overriding the same function\n",
        "    print(\"bark\")\n",
        "\n",
        "\n",
        "sam, lion = Dog(), Animal()\n",
        "sam.makeSound()\n",
        "lion.makeSound()"
      ],
      "execution_count": null,
      "outputs": [
        {
          "output_type": "stream",
          "text": [
            "bark\n",
            "roar\n"
          ],
          "name": "stdout"
        }
      ]
    },
    {
      "cell_type": "markdown",
      "metadata": {
        "id": "SCogNQkKyFJ_"
      },
      "source": [
        "#Efficiency\n",
        "###"
      ]
    },
    {
      "cell_type": "code",
      "metadata": {
        "id": "Buwg-p7uycr6"
      },
      "source": [
        "nums = []\n",
        "for x in range(10):\n",
        "   if x % 2 == 0:\n",
        "     nums.append(x)"
      ],
      "execution_count": null,
      "outputs": []
    },
    {
      "cell_type": "markdown",
      "metadata": {
        "id": "JGaDE-YGzl95"
      },
      "source": [
        "#Lambda Functions\n",
        "####Lambda functions, otherwise known as anonymous functions, are one-line functions within Python. Like list comprehension, lambda functions allow us to reduce the lines of code we need to write within our program. It doesn’t work for complicated functions but helps to improve readability of smaller functions.\n",
        ">>> <b>lambda </b> arguments: expression <br/>\n",
        "<b> OR </b> <br/>\n",
        ">>> <b>lambda arguments:</b> value_to_return if condition else value_to_return"
      ]
    },
    {
      "cell_type": "code",
      "metadata": {
        "id": "wNNbWJt708bn",
        "colab": {
          "base_uri": "https://localhost:8080/"
        },
        "outputId": "27a5d31d-db64-45f8-d18a-06d3760bb1e7"
      },
      "source": [
        "#using a lambda to square a number\n",
        "(lambda x: x**2)(4)\n"
      ],
      "execution_count": null,
      "outputs": [
        {
          "output_type": "execute_result",
          "data": {
            "text/plain": [
              "<function __main__.<lambda>>"
            ]
          },
          "metadata": {
            "tags": []
          },
          "execution_count": 5
        }
      ]
    },
    {
      "cell_type": "code",
      "metadata": {
        "id": "Ha8JoqHpykqb",
        "colab": {
          "base_uri": "https://localhost:8080/"
        },
        "outputId": "9f1e6267-acf9-4e30-b82d-750c05be9e75"
      },
      "source": [
        "greater = lambda x, y : x if x > y else y\n",
        "result = greater(5, 10)\n",
        "print(result)"
      ],
      "execution_count": null,
      "outputs": [
        {
          "output_type": "stream",
          "text": [
            "10\n"
          ],
          "name": "stdout"
        }
      ]
    },
    {
      "cell_type": "markdown",
      "metadata": {
        "id": "DsBv48Pt2Jj4"
      },
      "source": [
        "#Map, Filter, and Reduce\n",
        "####When working with data, you’ll generally need to be able to modify, filter, or calculate an expression from the data. That’s where these important built-in functions come in to play. The map function is used to iterate over a data collection and modify it. The filter function is used to iterate over a data collection, and you guessed it… filter out data that doesn’t meet a condition. Lastly, the reduce function takes a data collection and condenses it down to a single result, like the sum function for lists.\n",
        "<b>Map </b><br/>\n",
        "The map function is used when you need to alter all items within an iterable data collection. It takes in two arguments, the function to be applied on each element and the iterable data. When using map, it returns a map object, which is an iterator."
      ]
    },
    {
      "cell_type": "code",
      "metadata": {
        "id": "PYDYMTTy3vXY"
      },
      "source": [
        "#Using the map function without lambdas\n",
        "def convertDeg(C):\n",
        "  return (9/5)"
      ],
      "execution_count": null,
      "outputs": []
    },
    {
      "cell_type": "markdown",
      "metadata": {
        "id": "mgNTxpqv2Jh7"
      },
      "source": [
        "# **OOP Introduction** <br/>\n",
        "In object-oriented programming, concepts are modeled as classes and objects. An idea is defined using a class, and an instance of this class is called an object. Almost everything in Python is an object, including strings, lists, dictionaries, and numbers. When we create a list in Python, we’re creating an object which is an instance of the list class, which represents the concept of a list. Classes also have attributes and methods associated with them. Attributes are the characteristics of the class, while methods are functions \n",
        "that are part of the class.\n",
        "<br/>\n",
        "<br/>\n",
        "*Overview of OOP Terminology*\n",
        "*Class* - A user-defined prototype for an object that defines a set of attributes that characterize any object of the class. The attributes are data members (class variables and instance variables) and methods, accessed via dot notation.\n",
        "\n",
        "**Class variable** − A variable that is shared by all instances of a class. Class variables are defined within a class but outside any of the class's methods. Class variables are not used as frequently as instance variables are. <br/>\n",
        "\n",
        "**Data member** − A class variable or instance variable that holds data associated with a class and its objects.<br/>\n",
        "\n",
        "**Function overloading** − The assignment of more than one behavior to a particular function. The operation performed varies by the types of objects or arguments involved.<br/>\n",
        "\n",
        "**Instance variable** − A variable that is defined inside a method and belongs only to the current instance of a class.<br/>\n",
        "\n",
        "**Inheritance** − The transfer of the characteristics of a class to other classes that are derived from it.<br/>\n",
        "\n",
        "**Instance** − An individual object of a certain class. An object obj that belongs to a class Circle, for example, is an instance of the class Circle.<br/>\n",
        "\n",
        "**Instantiation** − The creation of an instance of a class.<br/>\n",
        "\n",
        "Method − A special kind of function that is defined in a class definition.<br/>\n",
        "\n",
        "Object − A unique instance of a data structure that's defined by its class. An object comprises both data members (class variables and instance variables) and methods.<br/>\n",
        "\n",
        "Operator overloading − The assignment of more than one function to a particular operator.<br/>\n",
        "\n",
        "\n"
      ]
    },
    {
      "cell_type": "code",
      "metadata": {
        "id": "AkqGDdhY6hwb",
        "colab": {
          "base_uri": "https://localhost:8080/"
        },
        "outputId": "3832a849-daeb-4948-b3f1-046a976573e8"
      },
      "source": [
        "dir(\"\")"
      ],
      "execution_count": null,
      "outputs": [
        {
          "output_type": "execute_result",
          "data": {
            "text/plain": [
              "['__add__',\n",
              " '__class__',\n",
              " '__contains__',\n",
              " '__delattr__',\n",
              " '__dir__',\n",
              " '__doc__',\n",
              " '__eq__',\n",
              " '__format__',\n",
              " '__ge__',\n",
              " '__getattribute__',\n",
              " '__getitem__',\n",
              " '__getnewargs__',\n",
              " '__gt__',\n",
              " '__hash__',\n",
              " '__init__',\n",
              " '__init_subclass__',\n",
              " '__iter__',\n",
              " '__le__',\n",
              " '__len__',\n",
              " '__lt__',\n",
              " '__mod__',\n",
              " '__mul__',\n",
              " '__ne__',\n",
              " '__new__',\n",
              " '__reduce__',\n",
              " '__reduce_ex__',\n",
              " '__repr__',\n",
              " '__rmod__',\n",
              " '__rmul__',\n",
              " '__setattr__',\n",
              " '__sizeof__',\n",
              " '__str__',\n",
              " '__subclasshook__',\n",
              " 'capitalize',\n",
              " 'casefold',\n",
              " 'center',\n",
              " 'count',\n",
              " 'encode',\n",
              " 'endswith',\n",
              " 'expandtabs',\n",
              " 'find',\n",
              " 'format',\n",
              " 'format_map',\n",
              " 'index',\n",
              " 'isalnum',\n",
              " 'isalpha',\n",
              " 'isascii',\n",
              " 'isdecimal',\n",
              " 'isdigit',\n",
              " 'isidentifier',\n",
              " 'islower',\n",
              " 'isnumeric',\n",
              " 'isprintable',\n",
              " 'isspace',\n",
              " 'istitle',\n",
              " 'isupper',\n",
              " 'join',\n",
              " 'ljust',\n",
              " 'lower',\n",
              " 'lstrip',\n",
              " 'maketrans',\n",
              " 'partition',\n",
              " 'replace',\n",
              " 'rfind',\n",
              " 'rindex',\n",
              " 'rjust',\n",
              " 'rpartition',\n",
              " 'rsplit',\n",
              " 'rstrip',\n",
              " 'split',\n",
              " 'splitlines',\n",
              " 'startswith',\n",
              " 'strip',\n",
              " 'swapcase',\n",
              " 'title',\n",
              " 'translate',\n",
              " 'upper',\n",
              " 'zfill']"
            ]
          },
          "metadata": {},
          "execution_count": 2
        }
      ]
    },
    {
      "cell_type": "code",
      "metadata": {
        "id": "W3TgH5d064Nw",
        "colab": {
          "base_uri": "https://localhost:8080/"
        },
        "outputId": "3ab1ac1d-c61c-4d42-f5d3-6418ea11bb5c"
      },
      "source": [
        "#define the simple class function\n",
        "class Apple:\n",
        "  color = \"\"\n",
        "  flavor = \"\"\n",
        "\n",
        "jonagold = Apple()\n",
        "jonagold.color = \"red\"\n",
        "jonagold.flavor = \"sweet\"\n",
        "\n",
        "golden = Apple()\n",
        "golden.color = \"Yellow\"\n",
        "golden.flavor = \"soft\"\n",
        "\n",
        "print(jonagold.color)\n",
        "print(golden.flavor)\n"
      ],
      "execution_count": null,
      "outputs": [
        {
          "output_type": "stream",
          "name": "stdout",
          "text": [
            "red\n",
            "soft\n"
          ]
        }
      ]
    },
    {
      "cell_type": "code",
      "metadata": {
        "id": "p1VXkEvg8CfY",
        "outputId": "3e20bfc9-bef8-4fe4-f682-37894920c489",
        "colab": {
          "base_uri": "https://localhost:8080/"
        }
      },
      "source": [
        "class Employee:\n",
        "   '''Common base class for all employees'''\n",
        "   empCount = 0\n",
        "\n",
        "   def __init__(self, name, salary):\n",
        "      self.name = name\n",
        "      self.salary = salary\n",
        "      Employee.empCount += 1\n",
        "   \n",
        "   def displayCount(self):\n",
        "     print(\"Total Employee %d\" % Employee.empCount)\n",
        "\n",
        "   def displayEmployee(self):\n",
        "      print(\"Name : \", self.name,  \", Salary: \", self.salary)\n",
        "\n",
        "emp1 = Employee(\"Zara\", 2000)\n",
        "emp1.displayEmployee()\n",
        "emp1.displayCount()"
      ],
      "execution_count": 20,
      "outputs": [
        {
          "output_type": "stream",
          "name": "stdout",
          "text": [
            "Name :  Zara , Salary:  2000\n",
            "Total Employee 1\n"
          ]
        }
      ]
    },
    {
      "cell_type": "code",
      "metadata": {
        "id": "m290APBVsCuh",
        "outputId": "d544640c-c541-4c7b-fb17-2da61eacf329",
        "colab": {
          "base_uri": "https://localhost:8080/"
        }
      },
      "source": [
        "#!/usr/bin/python\n",
        "\n",
        "class Parent:        # define parent class\n",
        "   parentAttr = 100\n",
        "   def __init__(self):\n",
        "      print(\"Calling parent constructor\")\n",
        "\n",
        "   def parentMethod(self):\n",
        "      print('Calling parent method')\n",
        "\n",
        "   def setAttr(self, attr):\n",
        "      Parent.parentAttr = attr\n",
        "\n",
        "   def getAttr(self):\n",
        "      print(\"Parent attribute :\", Parent.parentAttr)\n",
        "\n",
        "class Child(Parent): # define child class\n",
        "   def __init__(self):\n",
        "      print(\"Calling child constructor\")\n",
        "\n",
        "   def childMethod(self):\n",
        "      print(\"Calling child method\")\n",
        "\n",
        "c = Child()          # instance of child\n",
        "c.childMethod()      # child calls its method\n",
        "c.parentMethod()     # calls parent's method\n",
        "c.setAttr(200)       # again call parent's method\n",
        "c.getAttr()          # again call parent's method\n"
      ],
      "execution_count": 21,
      "outputs": [
        {
          "output_type": "stream",
          "name": "stdout",
          "text": [
            "Calling child constructor\n",
            "Calling child method\n",
            "Calling parent method\n",
            "Parent attribute : 200\n"
          ]
        }
      ]
    },
    {
      "cell_type": "markdown",
      "metadata": {
        "id": "NRAciAg62Jfz"
      },
      "source": [
        ""
      ]
    },
    {
      "cell_type": "markdown",
      "metadata": {
        "id": "fZDnRx6exbMk"
      },
      "source": [
        ""
      ]
    },
    {
      "cell_type": "markdown",
      "metadata": {
        "id": "xsmJS-ZaynSo"
      },
      "source": [
        ""
      ]
    },
    {
      "cell_type": "markdown",
      "metadata": {
        "id": "BhG7_02nA1ME"
      },
      "source": [
        ""
      ]
    },
    {
      "cell_type": "markdown",
      "metadata": {
        "id": "GWYg95Dw7KuT"
      },
      "source": [
        ""
      ]
    },
    {
      "cell_type": "markdown",
      "metadata": {
        "id": "bq7jqYJ-7Gmo"
      },
      "source": [
        ""
      ]
    },
    {
      "cell_type": "code",
      "metadata": {
        "id": "iIDBxsHp5Dbm"
      },
      "source": [
        ""
      ],
      "execution_count": null,
      "outputs": []
    },
    {
      "cell_type": "code",
      "metadata": {
        "colab": {
          "base_uri": "https://localhost:8080/"
        },
        "id": "-5Mv_zyfazqA",
        "outputId": "70a4974a-1e5a-4b4e-fdf6-a65138434cac"
      },
      "source": [
        "#Format the string\n",
        "name = \"John\"\n",
        "print(\"Hello {}\".format(name))\n",
        "print(\"Hello {}, you are {} years old?\".format(name, 28))\n"
      ],
      "execution_count": null,
      "outputs": [
        {
          "output_type": "stream",
          "text": [
            "Hello John\n",
            "Hello John, you are 28 years old?\n"
          ],
          "name": "stdout"
        }
      ]
    },
    {
      "cell_type": "code",
      "metadata": {
        "id": "N_d3YHNRazm2"
      },
      "source": [
        ""
      ],
      "execution_count": null,
      "outputs": []
    },
    {
      "cell_type": "code",
      "metadata": {
        "id": "J5I--s0vazgz"
      },
      "source": [
        ""
      ],
      "execution_count": null,
      "outputs": []
    }
  ]
}