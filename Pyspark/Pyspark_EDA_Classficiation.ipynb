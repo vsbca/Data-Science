{
  "nbformat": 4,
  "nbformat_minor": 0,
  "metadata": {
    "colab": {
      "name": "Pyspark_EDA_Classficiation.ipynb",
      "provenance": [],
      "authorship_tag": "ABX9TyOowQpFve7ifB8vMDjIqqLE",
      "include_colab_link": true
    },
    "kernelspec": {
      "name": "python3",
      "display_name": "Python 3"
    },
    "language_info": {
      "name": "python"
    }
  },
  "cells": [
    {
      "cell_type": "markdown",
      "metadata": {
        "id": "view-in-github",
        "colab_type": "text"
      },
      "source": [
        "<a href=\"https://colab.research.google.com/github/vsbca/Data-Science/blob/master/Pyspark/Pyspark_EDA_Classficiation.ipynb\" target=\"_parent\"><img src=\"https://colab.research.google.com/assets/colab-badge.svg\" alt=\"Open In Colab\"/></a>"
      ]
    },
    {
      "cell_type": "code",
      "metadata": {
        "id": "Y6JDIeyOL4Dp"
      },
      "source": [
        "!apt-get install openjdk-8-jdk-headless -qq > /dev/null\n",
        "!wget -q https://downloads.apache.org/spark/spark-3.1.2/spark-3.1.2-bin-hadoop2.7.tgz\n",
        "!tar xf spark-3.1.2-bin-hadoop2.7.tgz\n",
        "!pip install -q findspark"
      ],
      "execution_count": null,
      "outputs": []
    },
    {
      "cell_type": "code",
      "metadata": {
        "id": "CI_y3gjIMADg"
      },
      "source": [
        "import os\n",
        "os.environ[\"JAVA_HOME\"] = \"/usr/lib/jvm/java-8-openjdk-amd64\"\n",
        "os.environ[\"SPARK_HOME\"] = \"/content/spark-3.1.2-bin-hadoop2.7\""
      ],
      "execution_count": null,
      "outputs": []
    },
    {
      "cell_type": "code",
      "metadata": {
        "id": "TEJyhKkBKm6d"
      },
      "source": [
        "#https://raw.githubusercontent.com/vsbca/Data-Science/master/Data/titanic.csv\n",
        "import findspark\n",
        "findspark.init()\n",
        "\n",
        "from pyspark.sql import SparkSession\n",
        "spark = SparkSession.builder.appName('eda_classification').getOrCreate()"
      ],
      "execution_count": null,
      "outputs": []
    },
    {
      "cell_type": "code",
      "metadata": {
        "colab": {
          "base_uri": "https://localhost:8080/"
        },
        "id": "134AwieGQllG",
        "outputId": "dd996880-6fb5-4df3-bb7d-1832d0d29934"
      },
      "source": [
        "!wget https://raw.githubusercontent.com/vsbca/Data-Science/master/Data/titanic.csv -O titanic.csv"
      ],
      "execution_count": null,
      "outputs": [
        {
          "output_type": "stream",
          "text": [
            "--2021-08-03 18:25:52--  https://raw.githubusercontent.com/vsbca/Data-Science/master/Data/titanic.csv\n",
            "Resolving raw.githubusercontent.com (raw.githubusercontent.com)... 185.199.108.133, 185.199.109.133, 185.199.110.133, ...\n",
            "Connecting to raw.githubusercontent.com (raw.githubusercontent.com)|185.199.108.133|:443... connected.\n",
            "HTTP request sent, awaiting response... 200 OK\n",
            "Length: 60301 (59K) [text/plain]\n",
            "Saving to: ‘titanic.csv’\n",
            "\n",
            "\rtitanic.csv           0%[                    ]       0  --.-KB/s               \rtitanic.csv         100%[===================>]  58.89K  --.-KB/s    in 0.004s  \n",
            "\n",
            "2021-08-03 18:25:52 (14.5 MB/s) - ‘titanic.csv’ saved [60301/60301]\n",
            "\n"
          ],
          "name": "stdout"
        }
      ]
    },
    {
      "cell_type": "code",
      "metadata": {
        "colab": {
          "base_uri": "https://localhost:8080/"
        },
        "id": "jYC_vGYSLFBt",
        "outputId": "ee381dac-76d1-4a68-f12c-25c571eb8094"
      },
      "source": [
        "df = spark.read.csv(\"./titanic.csv\", header=True, inferSchema=True)\n",
        "df.show()"
      ],
      "execution_count": null,
      "outputs": [
        {
          "output_type": "stream",
          "text": [
            "+-----------+--------+------+--------------------+------+----+-----+-----+----------------+-------+-----+--------+\n",
            "|PassengerId|Survived|Pclass|                Name|   Sex| Age|SibSp|Parch|          Ticket|   Fare|Cabin|Embarked|\n",
            "+-----------+--------+------+--------------------+------+----+-----+-----+----------------+-------+-----+--------+\n",
            "|          1|       0|     3|Braund, Mr. Owen ...|  male|22.0|    1|    0|       A/5 21171|   7.25| null|       S|\n",
            "|          2|       1|     1|Cumings, Mrs. Joh...|female|38.0|    1|    0|        PC 17599|71.2833|  C85|       C|\n",
            "|          3|       1|     3|Heikkinen, Miss. ...|female|26.0|    0|    0|STON/O2. 3101282|  7.925| null|       S|\n",
            "|          4|       1|     1|Futrelle, Mrs. Ja...|female|35.0|    1|    0|          113803|   53.1| C123|       S|\n",
            "|          5|       0|     3|Allen, Mr. Willia...|  male|35.0|    0|    0|          373450|   8.05| null|       S|\n",
            "|          6|       0|     3|    Moran, Mr. James|  male|null|    0|    0|          330877| 8.4583| null|       Q|\n",
            "|          7|       0|     1|McCarthy, Mr. Tim...|  male|54.0|    0|    0|           17463|51.8625|  E46|       S|\n",
            "|          8|       0|     3|Palsson, Master. ...|  male| 2.0|    3|    1|          349909| 21.075| null|       S|\n",
            "|          9|       1|     3|Johnson, Mrs. Osc...|female|27.0|    0|    2|          347742|11.1333| null|       S|\n",
            "|         10|       1|     2|Nasser, Mrs. Nich...|female|14.0|    1|    0|          237736|30.0708| null|       C|\n",
            "|         11|       1|     3|Sandstrom, Miss. ...|female| 4.0|    1|    1|         PP 9549|   16.7|   G6|       S|\n",
            "|         12|       1|     1|Bonnell, Miss. El...|female|58.0|    0|    0|          113783|  26.55| C103|       S|\n",
            "|         13|       0|     3|Saundercock, Mr. ...|  male|20.0|    0|    0|       A/5. 2151|   8.05| null|       S|\n",
            "|         14|       0|     3|Andersson, Mr. An...|  male|39.0|    1|    5|          347082| 31.275| null|       S|\n",
            "|         15|       0|     3|Vestrom, Miss. Hu...|female|14.0|    0|    0|          350406| 7.8542| null|       S|\n",
            "|         16|       1|     2|Hewlett, Mrs. (Ma...|female|55.0|    0|    0|          248706|   16.0| null|       S|\n",
            "|         17|       0|     3|Rice, Master. Eugene|  male| 2.0|    4|    1|          382652| 29.125| null|       Q|\n",
            "|         18|       1|     2|Williams, Mr. Cha...|  male|null|    0|    0|          244373|   13.0| null|       S|\n",
            "|         19|       0|     3|Vander Planke, Mr...|female|31.0|    1|    0|          345763|   18.0| null|       S|\n",
            "|         20|       1|     3|Masselmani, Mrs. ...|female|null|    0|    0|            2649|  7.225| null|       C|\n",
            "+-----------+--------+------+--------------------+------+----+-----+-----+----------------+-------+-----+--------+\n",
            "only showing top 20 rows\n",
            "\n"
          ],
          "name": "stdout"
        }
      ]
    },
    {
      "cell_type": "code",
      "metadata": {
        "colab": {
          "base_uri": "https://localhost:8080/"
        },
        "id": "IWRasq-0LFAl",
        "outputId": "66e8322c-7414-4cff-941c-1c34cae872aa"
      },
      "source": [
        "df.printSchema()"
      ],
      "execution_count": null,
      "outputs": [
        {
          "output_type": "stream",
          "text": [
            "root\n",
            " |-- PassengerId: integer (nullable = true)\n",
            " |-- Survived: integer (nullable = true)\n",
            " |-- Pclass: integer (nullable = true)\n",
            " |-- Name: string (nullable = true)\n",
            " |-- Sex: string (nullable = true)\n",
            " |-- Age: double (nullable = true)\n",
            " |-- SibSp: integer (nullable = true)\n",
            " |-- Parch: integer (nullable = true)\n",
            " |-- Ticket: string (nullable = true)\n",
            " |-- Fare: double (nullable = true)\n",
            " |-- Cabin: string (nullable = true)\n",
            " |-- Embarked: string (nullable = true)\n",
            "\n"
          ],
          "name": "stdout"
        }
      ]
    },
    {
      "cell_type": "code",
      "metadata": {
        "colab": {
          "base_uri": "https://localhost:8080/"
        },
        "id": "lgXK0cJVLE-g",
        "outputId": "19b71c6a-6cce-4335-f906-17ce30863ce9"
      },
      "source": [
        "df.count()"
      ],
      "execution_count": null,
      "outputs": [
        {
          "output_type": "execute_result",
          "data": {
            "text/plain": [
              "891"
            ]
          },
          "metadata": {
            "tags": []
          },
          "execution_count": 23
        }
      ]
    },
    {
      "cell_type": "code",
      "metadata": {
        "colab": {
          "base_uri": "https://localhost:8080/"
        },
        "id": "D7BePXKxLE4S",
        "outputId": "2511e182-e448-490c-a2e0-93675670344a"
      },
      "source": [
        "len(df.columns)"
      ],
      "execution_count": null,
      "outputs": [
        {
          "output_type": "execute_result",
          "data": {
            "text/plain": [
              "12"
            ]
          },
          "metadata": {
            "tags": []
          },
          "execution_count": 24
        }
      ]
    },
    {
      "cell_type": "code",
      "metadata": {
        "colab": {
          "base_uri": "https://localhost:8080/"
        },
        "id": "Iidcoq76LE0o",
        "outputId": "7c89f57d-c62b-4e22-b23c-429b2298dcc2"
      },
      "source": [
        "df.groupBy('Survived').count().show()"
      ],
      "execution_count": null,
      "outputs": [
        {
          "output_type": "stream",
          "text": [
            "+--------+-----+\n",
            "|Survived|count|\n",
            "+--------+-----+\n",
            "|       1|  342|\n",
            "|       0|  549|\n",
            "+--------+-----+\n",
            "\n"
          ],
          "name": "stdout"
        }
      ]
    },
    {
      "cell_type": "code",
      "metadata": {
        "id": "d74FyZYlLEwM"
      },
      "source": [
        "import matplotlib.pyplot as plt\n",
        "\n",
        "def histogram(df, col, bins=10, xname=None, yname=None):\n",
        "  '''\n",
        "  This function makes a histogram from Spark datframe named df\n",
        "  for column name col\n",
        "  '''\n",
        "  #calculating histogram in Spark\n",
        "  vals = df.select(col).rdd.flatMap(lambda x: x).histogram(bins)\n",
        "\n",
        "  #Preprocessing histogram points and locations\n",
        "  width = vals[0][1] - vals[0][0]\n",
        "  loc = [vals[0][0] + (i+1)* width for i in range(len(vals[1]))]\n",
        "\n",
        "  #Making a bar plot\n",
        "  plt.bar(loc, vals[1], width=width)\n",
        "  plt.xlabel(col)\n",
        "  plt.ylabel(yname)\n",
        "  plt.show()"
      ],
      "execution_count": null,
      "outputs": []
    },
    {
      "cell_type": "code",
      "metadata": {
        "colab": {
          "base_uri": "https://localhost:8080/",
          "height": 279
        },
        "id": "ha7RK_EYV9-M",
        "outputId": "b8fc3d56-19e8-41a0-8183-3f6422660009"
      },
      "source": [
        "histogram(df, 'Survived', bins=15)"
      ],
      "execution_count": null,
      "outputs": [
        {
          "output_type": "display_data",
          "data": {
            "image/png": "[encoded data removed]",
            "text/plain": [
              "<Figure size 432x288 with 1 Axes>"
            ]
          },
          "metadata": {
            "tags": [],
            "needs_background": "light"
          }
        }
      ]
    },
    {
      "cell_type": "code",
      "metadata": {
        "id": "pWh_KeiMWqs9"
      },
      "source": [
        "#Line plot\n",
        "def lineplot(df, x, y, measure='mean'):\n",
        "  '''\n",
        "    This function makes a line plot from Spark dataframe df with \n",
        "    independent variable x and averaged over y.\n",
        "  '''\n",
        "  if measure == 'mean':\n",
        "        \n",
        "    # Grouping the dataframe by x and averaging over y\n",
        "    # Sorting is important because Spark shuffle the values \n",
        "    # when doing the calculation\n",
        "        \n",
        "    pd_df = df.groupBy(x).mean(y).toPandas().sort_values(by=x)\n",
        "        \n",
        "    # Making plot using pandas \n",
        "    pd_df.plot(x, 'avg({})'.format(y), legend=False)\n",
        "        \n",
        "  elif measure == 'total':\n",
        "    pd_df = df.groupBy(x).sum(y).toPandas().sort_values(by=x)\n",
        "    pd_df.plot(x, 'sum({})'.format(y), legend=False)\n",
        "        \n",
        "  elif measure == 'count':\n",
        "    pd_df = df.groupBy(x).count().toPandas().sort_values(by=x)\n",
        "    pd_df.plot(x, 'count', legend=False)\n",
        "    \n",
        "  plt.ylabel(y)\n",
        "  plt.show()"
      ],
      "execution_count": null,
      "outputs": []
    },
    {
      "cell_type": "code",
      "metadata": {
        "colab": {
          "base_uri": "https://localhost:8080/",
          "height": 279
        },
        "id": "ljQUTKUeWqrf",
        "outputId": "0c87f1b9-6660-4daa-d2cd-3d000a1afd07"
      },
      "source": [
        "lineplot(df, 'Survived', 'Age', measure='total')"
      ],
      "execution_count": null,
      "outputs": [
        {
          "output_type": "display_data",
          "data": {
            "image/png": "[encoded data removed]",
            "text/plain": [
              "<Figure size 432x288 with 1 Axes>"
            ]
          },
          "metadata": {
            "tags": [],
            "needs_background": "light"
          }
        }
      ]
    },
    {
      "cell_type": "code",
      "metadata": {
        "id": "y5hBcfy5Xjh7"
      },
      "source": [
        "def barplot(df, col, lim=10, yname=None):\n",
        "    \n",
        "    '''\n",
        "    This function makes a bar plot for the Spark dataframe df \n",
        "    for categorical column col only selecting top categories \n",
        "    as specified by lim. \n",
        "    '''\n",
        "    \n",
        "    # Grouping by the categories, counting on each categories \n",
        "    # and ordering them by the count\n",
        "    classes = df.groupBy(col).count().orderBy('count', ascending=False)\n",
        "    \n",
        "    # Take first 'lim' number of rows and convert to pandas  \n",
        "    pd_df = classes.limit(lim).toPandas()\n",
        "    \n",
        "    # Making plot \n",
        "    pd_df.plot(kind='bar', x=col, legend=False)\n",
        "    plt.ylabel(yname)\n",
        "    plt.show()"
      ],
      "execution_count": null,
      "outputs": []
    },
    {
      "cell_type": "code",
      "metadata": {
        "colab": {
          "base_uri": "https://localhost:8080/",
          "height": 292
        },
        "id": "YHH84LKjXjgj",
        "outputId": "610253cf-673f-4e89-9fbd-4d5618cb2673"
      },
      "source": [
        "# Everybody is participating every year (almost)\n",
        "barplot(df, 'Age', lim=20, yname='Age of the passenger')"
      ],
      "execution_count": null,
      "outputs": [
        {
          "output_type": "display_data",
          "data": {
            "image/png": "[encoded data removed]",
            "text/plain": [
              "<Figure size 432x288 with 1 Axes>"
            ]
          },
          "metadata": {
            "tags": [],
            "needs_background": "light"
          }
        }
      ]
    },
    {
      "cell_type": "code",
      "metadata": {
        "colab": {
          "base_uri": "https://localhost:8080/",
          "height": 276
        },
        "id": "dpJfrOwqaX-e",
        "outputId": "ca5d38a3-bdc6-4d55-e58a-549cda4b5b98"
      },
      "source": [
        "barplot(df, \"Survived\", lim=20, yname=\"Survived\")"
      ],
      "execution_count": null,
      "outputs": [
        {
          "output_type": "display_data",
          "data": {
            "image/png": "[encoded data removed]",
            "text/plain": [
              "<Figure size 432x288 with 1 Axes>"
            ]
          },
          "metadata": {
            "tags": [],
            "needs_background": "light"
          }
        }
      ]
    },
    {
      "cell_type": "code",
      "metadata": {
        "id": "zU6LfAwZaX9J"
      },
      "source": [
        ""
      ],
      "execution_count": null,
      "outputs": []
    }
  ]
}