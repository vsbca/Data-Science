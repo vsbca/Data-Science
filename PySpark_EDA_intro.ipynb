{
  "nbformat": 4,
  "nbformat_minor": 0,
  "metadata": {
    "colab": {
      "name": "PySpark_EDA_intro.ipynb",
      "provenance": [],
      "authorship_tag": "ABX9TyP5XO7QIIRXnfGyyIOlw+0c",
      "include_colab_link": true
    },
    "kernelspec": {
      "name": "python3",
      "display_name": "Python 3"
    },
    "language_info": {
      "name": "python"
    }
  },
  "cells": [
    {
      "cell_type": "markdown",
      "metadata": {
        "id": "view-in-github",
        "colab_type": "text"
      },
      "source": [
        "<a href=\"https://colab.research.google.com/github/vsbca/Data-Science/blob/master/PySpark_EDA_intro.ipynb\" target=\"_parent\"><img src=\"https://colab.research.google.com/assets/colab-badge.svg\" alt=\"Open In Colab\"/></a>"
      ]
    },
    {
      "cell_type": "code",
      "metadata": {
        "id": "tytc5AMKc7GX"
      },
      "source": [
        "!apt-get install openjdk-8-jdk-headless -qq > /dev/null\n",
        "!wget -q https://downloads.apache.org/spark/spark-3.1.2/spark-3.1.2-bin-hadoop2.7.tgz\n",
        "!tar xf spark-3.1.2-bin-hadoop2.7.tgz\n",
        "!pip install -q findspark\n",
        "import os\n",
        "os.environ[\"JAVA_HOME\"] = \"/usr/lib/jvm/java-8-openjdk-amd64\"\n",
        "os.environ[\"SPARK_HOME\"] = \"/content/spark-3.1.2-bin-hadoop2.7\"\n"
      ],
      "execution_count": 1,
      "outputs": []
    },
    {
      "cell_type": "code",
      "metadata": {
        "id": "3mmO4q20YRwf"
      },
      "source": [
        "#df = pd.read_csv(\"https://raw.githubusercontent.com/vsbca/Data-Science/master/Data/Life_Expectancy_Data.csv\n",
        "import numpy as np\n",
        "import pandas as pd\n",
        "import matplotlib.pyplot as plt\n"
      ],
      "execution_count": 2,
      "outputs": []
    },
    {
      "cell_type": "code",
      "metadata": {
        "id": "FoPdMSlOYftz"
      },
      "source": [
        "import findspark\n",
        "findspark.init()\n",
        "\n",
        "from pyspark.sql import SparkSession"
      ],
      "execution_count": 3,
      "outputs": []
    },
    {
      "cell_type": "markdown",
      "metadata": {
        "id": "ScsEeHwggWZH"
      },
      "source": [
        "**First of all, a Spark session n**eeds to be initialized. With the help of SparkSession, DataFrame can be created and registered as tables. Moreover, SQL tables are executed, tables can be cached, and parquet/JSON/CSV/Avro data formatted files can be read.\n",
        "\n",
        "Another example of the Session initialization<br/>\n",
        "sc = SparkSession.builder.appName(\"PySparkExample\")\\\n",
        "    .config (\"spark.sql.shuffle.partitions\", \"50\") \\\n",
        "    .config(\"spark.driver.maxResultSize\",\"5g\") \\\n",
        "    .config (\"spark.sql.execution.arrow.enabled\", \"true\")\\\n",
        "    .getOrCreate()"
      ]
    },
    {
      "cell_type": "code",
      "metadata": {
        "id": "9dZUpqtdiM49"
      },
      "source": [
        "spark = SparkSession.builder.appName('life_expectancy').config('config_option', 'value').getOrCreate()"
      ],
      "execution_count": 4,
      "outputs": []
    },
    {
      "cell_type": "code",
      "metadata": {
        "colab": {
          "base_uri": "https://localhost:8080/"
        },
        "id": "t0VPtnSyiY5I",
        "outputId": "41df1a21-5081-4d34-d186-90c30c8f8c95"
      },
      "source": [
        "!wget https://raw.githubusercontent.com/vsbca/Data-Science/master/Data/Life_Expectancy_Data.csv\n"
      ],
      "execution_count": 5,
      "outputs": [
        {
          "output_type": "stream",
          "name": "stdout",
          "text": [
            "--2021-09-12 01:40:09--  https://raw.githubusercontent.com/vsbca/Data-Science/master/Data/Life_Expectancy_Data.csv\n",
            "Resolving raw.githubusercontent.com (raw.githubusercontent.com)... 185.199.108.133, 185.199.110.133, 185.199.109.133, ...\n",
            "Connecting to raw.githubusercontent.com (raw.githubusercontent.com)|185.199.108.133|:443... connected.\n",
            "HTTP request sent, awaiting response... 200 OK\n",
            "Length: 333442 (326K) [text/plain]\n",
            "Saving to: ‘Life_Expectancy_Data.csv’\n",
            "\n",
            "Life_Expectancy_Dat 100%[===================>] 325.63K  --.-KB/s    in 0.04s   \n",
            "\n",
            "2021-09-12 01:40:10 (7.72 MB/s) - ‘Life_Expectancy_Data.csv’ saved [333442/333442]\n",
            "\n"
          ]
        }
      ]
    },
    {
      "cell_type": "code",
      "metadata": {
        "colab": {
          "base_uri": "https://localhost:8080/"
        },
        "id": "F91uu5IhiccV",
        "outputId": "dcf58c01-de31-4708-8118-06d1460e92c7"
      },
      "source": [
        "!ls -l"
      ],
      "execution_count": 6,
      "outputs": [
        {
          "output_type": "stream",
          "name": "stdout",
          "text": [
            "total 219524\n",
            "-rw-r--r--  1 root root    333442 Sep 12 01:40 Life_Expectancy_Data.csv\n",
            "drwxr-xr-x  1 root root      4096 Sep  1 19:26 sample_data\n",
            "drwxr-xr-x 13 1000 1000      4096 May 24 05:00 spark-3.1.2-bin-hadoop2.7\n",
            "-rw-r--r--  1 root root 224445805 May 24 05:01 spark-3.1.2-bin-hadoop2.7.tgz\n"
          ]
        }
      ]
    },
    {
      "cell_type": "markdown",
      "metadata": {
        "id": "FkWCWaqujVxE"
      },
      "source": [
        "#Creating a DataFrame <br/>\n",
        "A DataFrame can be accepted as a distributed and tabulated collection of titled columns which is similar to a table in a relational database. In this post, we will be using DataFrame operations on PySpark API while working with datasets."
      ]
    },
    {
      "cell_type": "code",
      "metadata": {
        "colab": {
          "base_uri": "https://localhost:8080/"
        },
        "id": "ohbxsayPiVXf",
        "outputId": "bdd1978f-8e31-4d5d-b727-f1f8871a05b8"
      },
      "source": [
        "df = spark.read.option('inferSchema', True).csv('Life_Expectancy_Data.csv', header=True)\n",
        "df.show(2)"
      ],
      "execution_count": 7,
      "outputs": [
        {
          "output_type": "stream",
          "name": "stdout",
          "text": [
            "+-----------+----+----------+----------------+---------------+-------------+-------+----------------------+-----------+--------+-----+------------------+-----+-----------------+-----------+---------+----------+-----------+---------------------+-------------------+-------------------------------+---------+\n",
            "|    Country|Year|    Status|Life expectancy |Adult Mortality|infant deaths|Alcohol|percentage expenditure|Hepatitis B|Measles | BMI |under-five deaths |Polio|Total expenditure|Diphtheria | HIV/AIDS|       GDP| Population| thinness  1-19 years| thinness 5-9 years|Income composition of resources|Schooling|\n",
            "+-----------+----+----------+----------------+---------------+-------------+-------+----------------------+-----------+--------+-----+------------------+-----+-----------------+-----------+---------+----------+-----------+---------------------+-------------------+-------------------------------+---------+\n",
            "|Afghanistan|2015|Developing|            65.0|            263|           62|   0.01|           71.27962362|         65|    1154| 19.1|                83|    6|             8.16|         65|      0.1| 584.25921|3.3736494E7|                 17.2|               17.3|                          0.479|     10.1|\n",
            "|Afghanistan|2014|Developing|            59.9|            271|           64|   0.01|           73.52358168|         62|     492| 18.6|                86|   58|             8.18|         62|      0.1|612.696514|   327582.0|                 17.5|               17.5|                          0.476|     10.0|\n",
            "+-----------+----+----------+----------------+---------------+-------------+-------+----------------------+-----------+--------+-----+------------------+-----+-----------------+-----------+---------+----------+-----------+---------------------+-------------------+-------------------------------+---------+\n",
            "only showing top 2 rows\n",
            "\n"
          ]
        }
      ]
    },
    {
      "cell_type": "code",
      "metadata": {
        "colab": {
          "base_uri": "https://localhost:8080/",
          "height": 585
        },
        "id": "GviFFBpEikFh",
        "outputId": "7b6fd9d1-8687-4217-f03d-21d2c2025129"
      },
      "source": [
        "df.limit(15).toPandas()"
      ],
      "execution_count": null,
      "outputs": [
        {
          "output_type": "execute_result",
          "data": {
            "text/html": [
              "<div>\n",
              "<style scoped>\n",
              "    .dataframe tbody tr th:only-of-type {\n",
              "        vertical-align: middle;\n",
              "    }\n",
              "\n",
              "    .dataframe tbody tr th {\n",
              "        vertical-align: top;\n",
              "    }\n",
              "\n",
              "    .dataframe thead th {\n",
              "        text-align: right;\n",
              "    }\n",
              "</style>\n",
              "<table border=\"1\" class=\"dataframe\">\n",
              "  <thead>\n",
              "    <tr style=\"text-align: right;\">\n",
              "      <th></th>\n",
              "      <th>Country</th>\n",
              "      <th>Year</th>\n",
              "      <th>Status</th>\n",
              "      <th>Life expectancy</th>\n",
              "      <th>Adult Mortality</th>\n",
              "      <th>infant deaths</th>\n",
              "      <th>Alcohol</th>\n",
              "      <th>percentage expenditure</th>\n",
              "      <th>Hepatitis B</th>\n",
              "      <th>Measles</th>\n",
              "      <th>BMI</th>\n",
              "      <th>under-five deaths</th>\n",
              "      <th>Polio</th>\n",
              "      <th>Total expenditure</th>\n",
              "      <th>Diphtheria</th>\n",
              "      <th>HIV/AIDS</th>\n",
              "      <th>GDP</th>\n",
              "      <th>Population</th>\n",
              "      <th>thinness  1-19 years</th>\n",
              "      <th>thinness 5-9 years</th>\n",
              "      <th>Income composition of resources</th>\n",
              "      <th>Schooling</th>\n",
              "    </tr>\n",
              "  </thead>\n",
              "  <tbody>\n",
              "    <tr>\n",
              "      <th>0</th>\n",
              "      <td>Afghanistan</td>\n",
              "      <td>2015</td>\n",
              "      <td>Developing</td>\n",
              "      <td>65.0</td>\n",
              "      <td>263</td>\n",
              "      <td>62</td>\n",
              "      <td>0.01</td>\n",
              "      <td>71.279624</td>\n",
              "      <td>65</td>\n",
              "      <td>1154</td>\n",
              "      <td>19.1</td>\n",
              "      <td>83</td>\n",
              "      <td>6</td>\n",
              "      <td>8.16</td>\n",
              "      <td>65</td>\n",
              "      <td>0.1</td>\n",
              "      <td>584.259210</td>\n",
              "      <td>33736494.0</td>\n",
              "      <td>17.2</td>\n",
              "      <td>17.3</td>\n",
              "      <td>0.479</td>\n",
              "      <td>10.1</td>\n",
              "    </tr>\n",
              "    <tr>\n",
              "      <th>1</th>\n",
              "      <td>Afghanistan</td>\n",
              "      <td>2014</td>\n",
              "      <td>Developing</td>\n",
              "      <td>59.9</td>\n",
              "      <td>271</td>\n",
              "      <td>64</td>\n",
              "      <td>0.01</td>\n",
              "      <td>73.523582</td>\n",
              "      <td>62</td>\n",
              "      <td>492</td>\n",
              "      <td>18.6</td>\n",
              "      <td>86</td>\n",
              "      <td>58</td>\n",
              "      <td>8.18</td>\n",
              "      <td>62</td>\n",
              "      <td>0.1</td>\n",
              "      <td>612.696514</td>\n",
              "      <td>327582.0</td>\n",
              "      <td>17.5</td>\n",
              "      <td>17.5</td>\n",
              "      <td>0.476</td>\n",
              "      <td>10.0</td>\n",
              "    </tr>\n",
              "    <tr>\n",
              "      <th>2</th>\n",
              "      <td>Afghanistan</td>\n",
              "      <td>2013</td>\n",
              "      <td>Developing</td>\n",
              "      <td>59.9</td>\n",
              "      <td>268</td>\n",
              "      <td>66</td>\n",
              "      <td>0.01</td>\n",
              "      <td>73.219243</td>\n",
              "      <td>64</td>\n",
              "      <td>430</td>\n",
              "      <td>18.1</td>\n",
              "      <td>89</td>\n",
              "      <td>62</td>\n",
              "      <td>8.13</td>\n",
              "      <td>64</td>\n",
              "      <td>0.1</td>\n",
              "      <td>631.744976</td>\n",
              "      <td>31731688.0</td>\n",
              "      <td>17.7</td>\n",
              "      <td>17.7</td>\n",
              "      <td>0.470</td>\n",
              "      <td>9.9</td>\n",
              "    </tr>\n",
              "    <tr>\n",
              "      <th>3</th>\n",
              "      <td>Afghanistan</td>\n",
              "      <td>2012</td>\n",
              "      <td>Developing</td>\n",
              "      <td>59.5</td>\n",
              "      <td>272</td>\n",
              "      <td>69</td>\n",
              "      <td>0.01</td>\n",
              "      <td>78.184215</td>\n",
              "      <td>67</td>\n",
              "      <td>2787</td>\n",
              "      <td>17.6</td>\n",
              "      <td>93</td>\n",
              "      <td>67</td>\n",
              "      <td>8.52</td>\n",
              "      <td>67</td>\n",
              "      <td>0.1</td>\n",
              "      <td>669.959000</td>\n",
              "      <td>3696958.0</td>\n",
              "      <td>17.9</td>\n",
              "      <td>18.0</td>\n",
              "      <td>0.463</td>\n",
              "      <td>9.8</td>\n",
              "    </tr>\n",
              "    <tr>\n",
              "      <th>4</th>\n",
              "      <td>Afghanistan</td>\n",
              "      <td>2011</td>\n",
              "      <td>Developing</td>\n",
              "      <td>59.2</td>\n",
              "      <td>275</td>\n",
              "      <td>71</td>\n",
              "      <td>0.01</td>\n",
              "      <td>7.097109</td>\n",
              "      <td>68</td>\n",
              "      <td>3013</td>\n",
              "      <td>17.2</td>\n",
              "      <td>97</td>\n",
              "      <td>68</td>\n",
              "      <td>7.87</td>\n",
              "      <td>68</td>\n",
              "      <td>0.1</td>\n",
              "      <td>63.537231</td>\n",
              "      <td>2978599.0</td>\n",
              "      <td>18.2</td>\n",
              "      <td>18.2</td>\n",
              "      <td>0.454</td>\n",
              "      <td>9.5</td>\n",
              "    </tr>\n",
              "    <tr>\n",
              "      <th>5</th>\n",
              "      <td>Afghanistan</td>\n",
              "      <td>2010</td>\n",
              "      <td>Developing</td>\n",
              "      <td>58.8</td>\n",
              "      <td>279</td>\n",
              "      <td>74</td>\n",
              "      <td>0.01</td>\n",
              "      <td>79.679367</td>\n",
              "      <td>66</td>\n",
              "      <td>1989</td>\n",
              "      <td>16.7</td>\n",
              "      <td>102</td>\n",
              "      <td>66</td>\n",
              "      <td>9.20</td>\n",
              "      <td>66</td>\n",
              "      <td>0.1</td>\n",
              "      <td>553.328940</td>\n",
              "      <td>2883167.0</td>\n",
              "      <td>18.4</td>\n",
              "      <td>18.4</td>\n",
              "      <td>0.448</td>\n",
              "      <td>9.2</td>\n",
              "    </tr>\n",
              "    <tr>\n",
              "      <th>6</th>\n",
              "      <td>Afghanistan</td>\n",
              "      <td>2009</td>\n",
              "      <td>Developing</td>\n",
              "      <td>58.6</td>\n",
              "      <td>281</td>\n",
              "      <td>77</td>\n",
              "      <td>0.01</td>\n",
              "      <td>56.762217</td>\n",
              "      <td>63</td>\n",
              "      <td>2861</td>\n",
              "      <td>16.2</td>\n",
              "      <td>106</td>\n",
              "      <td>63</td>\n",
              "      <td>9.42</td>\n",
              "      <td>63</td>\n",
              "      <td>0.1</td>\n",
              "      <td>445.893298</td>\n",
              "      <td>284331.0</td>\n",
              "      <td>18.6</td>\n",
              "      <td>18.7</td>\n",
              "      <td>0.434</td>\n",
              "      <td>8.9</td>\n",
              "    </tr>\n",
              "    <tr>\n",
              "      <th>7</th>\n",
              "      <td>Afghanistan</td>\n",
              "      <td>2008</td>\n",
              "      <td>Developing</td>\n",
              "      <td>58.1</td>\n",
              "      <td>287</td>\n",
              "      <td>80</td>\n",
              "      <td>0.03</td>\n",
              "      <td>25.873925</td>\n",
              "      <td>64</td>\n",
              "      <td>1599</td>\n",
              "      <td>15.7</td>\n",
              "      <td>110</td>\n",
              "      <td>64</td>\n",
              "      <td>8.33</td>\n",
              "      <td>64</td>\n",
              "      <td>0.1</td>\n",
              "      <td>373.361116</td>\n",
              "      <td>2729431.0</td>\n",
              "      <td>18.8</td>\n",
              "      <td>18.9</td>\n",
              "      <td>0.433</td>\n",
              "      <td>8.7</td>\n",
              "    </tr>\n",
              "    <tr>\n",
              "      <th>8</th>\n",
              "      <td>Afghanistan</td>\n",
              "      <td>2007</td>\n",
              "      <td>Developing</td>\n",
              "      <td>57.5</td>\n",
              "      <td>295</td>\n",
              "      <td>82</td>\n",
              "      <td>0.02</td>\n",
              "      <td>10.910156</td>\n",
              "      <td>63</td>\n",
              "      <td>1141</td>\n",
              "      <td>15.2</td>\n",
              "      <td>113</td>\n",
              "      <td>63</td>\n",
              "      <td>6.73</td>\n",
              "      <td>63</td>\n",
              "      <td>0.1</td>\n",
              "      <td>369.835796</td>\n",
              "      <td>26616792.0</td>\n",
              "      <td>19.0</td>\n",
              "      <td>19.1</td>\n",
              "      <td>0.415</td>\n",
              "      <td>8.4</td>\n",
              "    </tr>\n",
              "    <tr>\n",
              "      <th>9</th>\n",
              "      <td>Afghanistan</td>\n",
              "      <td>2006</td>\n",
              "      <td>Developing</td>\n",
              "      <td>57.3</td>\n",
              "      <td>295</td>\n",
              "      <td>84</td>\n",
              "      <td>0.03</td>\n",
              "      <td>17.171518</td>\n",
              "      <td>64</td>\n",
              "      <td>1990</td>\n",
              "      <td>14.7</td>\n",
              "      <td>116</td>\n",
              "      <td>58</td>\n",
              "      <td>7.43</td>\n",
              "      <td>58</td>\n",
              "      <td>0.1</td>\n",
              "      <td>272.563770</td>\n",
              "      <td>2589345.0</td>\n",
              "      <td>19.2</td>\n",
              "      <td>19.3</td>\n",
              "      <td>0.405</td>\n",
              "      <td>8.1</td>\n",
              "    </tr>\n",
              "    <tr>\n",
              "      <th>10</th>\n",
              "      <td>Afghanistan</td>\n",
              "      <td>2005</td>\n",
              "      <td>Developing</td>\n",
              "      <td>57.3</td>\n",
              "      <td>291</td>\n",
              "      <td>85</td>\n",
              "      <td>0.02</td>\n",
              "      <td>1.388648</td>\n",
              "      <td>66</td>\n",
              "      <td>1296</td>\n",
              "      <td>14.2</td>\n",
              "      <td>118</td>\n",
              "      <td>58</td>\n",
              "      <td>8.70</td>\n",
              "      <td>58</td>\n",
              "      <td>0.1</td>\n",
              "      <td>25.294130</td>\n",
              "      <td>257798.0</td>\n",
              "      <td>19.3</td>\n",
              "      <td>19.5</td>\n",
              "      <td>0.396</td>\n",
              "      <td>7.9</td>\n",
              "    </tr>\n",
              "    <tr>\n",
              "      <th>11</th>\n",
              "      <td>Afghanistan</td>\n",
              "      <td>2004</td>\n",
              "      <td>Developing</td>\n",
              "      <td>57.0</td>\n",
              "      <td>293</td>\n",
              "      <td>87</td>\n",
              "      <td>0.02</td>\n",
              "      <td>15.296066</td>\n",
              "      <td>67</td>\n",
              "      <td>466</td>\n",
              "      <td>13.8</td>\n",
              "      <td>120</td>\n",
              "      <td>5</td>\n",
              "      <td>8.79</td>\n",
              "      <td>5</td>\n",
              "      <td>0.1</td>\n",
              "      <td>219.141353</td>\n",
              "      <td>24118979.0</td>\n",
              "      <td>19.5</td>\n",
              "      <td>19.7</td>\n",
              "      <td>0.381</td>\n",
              "      <td>6.8</td>\n",
              "    </tr>\n",
              "    <tr>\n",
              "      <th>12</th>\n",
              "      <td>Afghanistan</td>\n",
              "      <td>2003</td>\n",
              "      <td>Developing</td>\n",
              "      <td>56.7</td>\n",
              "      <td>295</td>\n",
              "      <td>87</td>\n",
              "      <td>0.01</td>\n",
              "      <td>11.089053</td>\n",
              "      <td>65</td>\n",
              "      <td>798</td>\n",
              "      <td>13.4</td>\n",
              "      <td>122</td>\n",
              "      <td>41</td>\n",
              "      <td>8.82</td>\n",
              "      <td>41</td>\n",
              "      <td>0.1</td>\n",
              "      <td>198.728544</td>\n",
              "      <td>2364851.0</td>\n",
              "      <td>19.7</td>\n",
              "      <td>19.9</td>\n",
              "      <td>0.373</td>\n",
              "      <td>6.5</td>\n",
              "    </tr>\n",
              "    <tr>\n",
              "      <th>13</th>\n",
              "      <td>Afghanistan</td>\n",
              "      <td>2002</td>\n",
              "      <td>Developing</td>\n",
              "      <td>56.2</td>\n",
              "      <td>3</td>\n",
              "      <td>88</td>\n",
              "      <td>0.01</td>\n",
              "      <td>16.887351</td>\n",
              "      <td>64</td>\n",
              "      <td>2486</td>\n",
              "      <td>13.0</td>\n",
              "      <td>122</td>\n",
              "      <td>36</td>\n",
              "      <td>7.76</td>\n",
              "      <td>36</td>\n",
              "      <td>0.1</td>\n",
              "      <td>187.845950</td>\n",
              "      <td>21979923.0</td>\n",
              "      <td>19.9</td>\n",
              "      <td>2.2</td>\n",
              "      <td>0.341</td>\n",
              "      <td>6.2</td>\n",
              "    </tr>\n",
              "    <tr>\n",
              "      <th>14</th>\n",
              "      <td>Afghanistan</td>\n",
              "      <td>2001</td>\n",
              "      <td>Developing</td>\n",
              "      <td>55.3</td>\n",
              "      <td>316</td>\n",
              "      <td>88</td>\n",
              "      <td>0.01</td>\n",
              "      <td>10.574728</td>\n",
              "      <td>63</td>\n",
              "      <td>8762</td>\n",
              "      <td>12.6</td>\n",
              "      <td>122</td>\n",
              "      <td>35</td>\n",
              "      <td>7.80</td>\n",
              "      <td>33</td>\n",
              "      <td>0.1</td>\n",
              "      <td>117.496980</td>\n",
              "      <td>2966463.0</td>\n",
              "      <td>2.1</td>\n",
              "      <td>2.4</td>\n",
              "      <td>0.340</td>\n",
              "      <td>5.9</td>\n",
              "    </tr>\n",
              "  </tbody>\n",
              "</table>\n",
              "</div>"
            ],
            "text/plain": [
              "        Country  Year  ... Income composition of resources  Schooling\n",
              "0   Afghanistan  2015  ...                           0.479       10.1\n",
              "1   Afghanistan  2014  ...                           0.476       10.0\n",
              "2   Afghanistan  2013  ...                           0.470        9.9\n",
              "3   Afghanistan  2012  ...                           0.463        9.8\n",
              "4   Afghanistan  2011  ...                           0.454        9.5\n",
              "5   Afghanistan  2010  ...                           0.448        9.2\n",
              "6   Afghanistan  2009  ...                           0.434        8.9\n",
              "7   Afghanistan  2008  ...                           0.433        8.7\n",
              "8   Afghanistan  2007  ...                           0.415        8.4\n",
              "9   Afghanistan  2006  ...                           0.405        8.1\n",
              "10  Afghanistan  2005  ...                           0.396        7.9\n",
              "11  Afghanistan  2004  ...                           0.381        6.8\n",
              "12  Afghanistan  2003  ...                           0.373        6.5\n",
              "13  Afghanistan  2002  ...                           0.341        6.2\n",
              "14  Afghanistan  2001  ...                           0.340        5.9\n",
              "\n",
              "[15 rows x 22 columns]"
            ]
          },
          "metadata": {},
          "execution_count": 57
        }
      ]
    },
    {
      "cell_type": "code",
      "metadata": {
        "colab": {
          "base_uri": "https://localhost:8080/"
        },
        "id": "QDXgUQbhinQg",
        "outputId": "3b3063e8-9926-49c0-8f43-d2dcb76cf8f3"
      },
      "source": [
        "df.printSchema()"
      ],
      "execution_count": null,
      "outputs": [
        {
          "output_type": "stream",
          "name": "stdout",
          "text": [
            "root\n",
            " |-- Country: string (nullable = true)\n",
            " |-- Year: integer (nullable = true)\n",
            " |-- Status: string (nullable = true)\n",
            " |-- Life expectancy : double (nullable = true)\n",
            " |-- Adult Mortality: integer (nullable = true)\n",
            " |-- infant deaths: integer (nullable = true)\n",
            " |-- Alcohol: double (nullable = true)\n",
            " |-- percentage expenditure: double (nullable = true)\n",
            " |-- Hepatitis B: integer (nullable = true)\n",
            " |-- Measles : integer (nullable = true)\n",
            " |--  BMI : double (nullable = true)\n",
            " |-- under-five deaths : integer (nullable = true)\n",
            " |-- Polio: integer (nullable = true)\n",
            " |-- Total expenditure: double (nullable = true)\n",
            " |-- Diphtheria : integer (nullable = true)\n",
            " |--  HIV/AIDS: double (nullable = true)\n",
            " |-- GDP: double (nullable = true)\n",
            " |-- Population: double (nullable = true)\n",
            " |--  thinness  1-19 years: double (nullable = true)\n",
            " |--  thinness 5-9 years: double (nullable = true)\n",
            " |-- Income composition of resources: double (nullable = true)\n",
            " |-- Schooling: double (nullable = true)\n",
            "\n"
          ]
        }
      ]
    },
    {
      "cell_type": "code",
      "metadata": {
        "colab": {
          "base_uri": "https://localhost:8080/"
        },
        "id": "8nCuh_xWyiec",
        "outputId": "33413607-c5dd-4495-c36f-4b8f0d2f9879"
      },
      "source": [
        "#Let's drop duplicate\n",
        "df_dropped = df.dropDuplicates()\n",
        "df_dropped.show(10)"
      ],
      "execution_count": null,
      "outputs": [
        {
          "output_type": "stream",
          "name": "stdout",
          "text": [
            "+--------------------+----+----------+----------------+---------------+-------------+-------+----------------------+-----------+--------+-----+------------------+-----+-----------------+-----------+---------+----------+-----------+---------------------+-------------------+-------------------------------+---------+\n",
            "|             Country|Year|    Status|Life expectancy |Adult Mortality|infant deaths|Alcohol|percentage expenditure|Hepatitis B|Measles | BMI |under-five deaths |Polio|Total expenditure|Diphtheria | HIV/AIDS|       GDP| Population| thinness  1-19 years| thinness 5-9 years|Income composition of resources|Schooling|\n",
            "+--------------------+----+----------+----------------+---------------+-------------+-------+----------------------+-----------+--------+-----+------------------+-----+-----------------+-----------+---------+----------+-----------+---------------------+-------------------+-------------------------------+---------+\n",
            "|         Afghanistan|2015|Developing|            65.0|            263|           62|   0.01|           71.27962362|         65|    1154| 19.1|                83|    6|             8.16|         65|      0.1| 584.25921|3.3736494E7|                 17.2|               17.3|                          0.479|     10.1|\n",
            "|             Czechia|2007| Developed|            76.8|             17|            0|  13.43|                   0.0|         99|       2| 62.2|                 0|   99|             6.52|         99|      0.1|      null|       null|                  2.0|                2.1|                           null|     null|\n",
            "|             Denmark|2011| Developed|            79.7|             79|            0|  10.47|           10251.10872|       null|      84| 57.4|                 0|   91|             1.87|         91|      0.1| 61753.667|   557572.0|                  1.1|                0.9|                           0.91|     16.9|\n",
            "|              France|2007|Developing|            89.0|             89|            3|   12.2|           64.73714894|         42|      39| 58.6|                 3|   99|             1.45|         98|      0.1| 416.58397|  6416229.0|                  0.6|                0.6|                          0.873|     16.1|\n",
            "|Iran (Islamic Rep...|2005|Developing|            72.0|            139|           27|   0.01|                   0.0|         94|       7| 48.5|                32|   95|              6.6|         95|      0.1|      null|       null|                  7.4|                7.7|                          0.687|     11.4|\n",
            "|               Italy|2008| Developed|            81.5|             61|            2|   7.96|           66.37840495|         96|    1617| 59.9|                 2|   96|             8.89|         96|      0.1| 464.18465|5.8826731E7|                  0.5|                0.5|                          0.866|     16.3|\n",
            "|               Libya|2008|Developing|            72.6|            132|            2|   0.01|           532.6700005|         98|       8| 58.2|                 2|   98|              2.4|         98|      0.1|14396.4865|       null|                  5.5|                5.4|                          0.757|     14.8|\n",
            "|              Panama|2014|Developing|            77.6|            119|            1|   6.74|           1842.463782|          8|       0| 57.1|                 1|    8|              8.3|          8|      0.1|12593.7374|   393986.0|                  1.9|                1.8|                           0.78|     13.0|\n",
            "|              Rwanda|2005|Developing|            55.3|             37|           24|   7.01|           39.44666715|         95|     129| 15.4|                38|   95|             6.83|         95|      7.1|287.931877|  8991735.0|                  6.8|                7.0|                          0.388|      8.8|\n",
            "|            Suriname|2013|Developing|            71.2|            179|            0|   6.02|           1122.972967|         86|       0| 57.0|                 0|   86|             5.96|         86|      0.4|9484.56898|    54254.0|                  3.5|                3.5|                          0.719|     12.7|\n",
            "+--------------------+----+----------+----------------+---------------+-------------+-------+----------------------+-----------+--------+-----+------------------+-----+-----------------+-----------+---------+----------+-----------+---------------------+-------------------+-------------------------------+---------+\n",
            "only showing top 10 rows\n",
            "\n"
          ]
        }
      ]
    },
    {
      "cell_type": "markdown",
      "metadata": {
        "id": "czWM2nBNytuE"
      },
      "source": [
        "**Queries:** <br/>\n",
        "Querying operations can be used for various purposes such as subsetting columns with “select”, adding conditions with “when” and filtering column contents with “like”. Below, some of the most commonly used operations are exemplified. For the complete list of query operations, see the Apache Spark doc.\n",
        "\n"
      ]
    },
    {
      "cell_type": "code",
      "metadata": {
        "colab": {
          "base_uri": "https://localhost:8080/"
        },
        "id": "kd1arcffy4o0",
        "outputId": "2dded60e-c099-47bd-f7f4-69ebad9e6af7"
      },
      "source": [
        "df.select(\"Country\").show(10)"
      ],
      "execution_count": null,
      "outputs": [
        {
          "output_type": "stream",
          "name": "stdout",
          "text": [
            "+-----------+\n",
            "|    Country|\n",
            "+-----------+\n",
            "|Afghanistan|\n",
            "|Afghanistan|\n",
            "|Afghanistan|\n",
            "|Afghanistan|\n",
            "|Afghanistan|\n",
            "|Afghanistan|\n",
            "|Afghanistan|\n",
            "|Afghanistan|\n",
            "|Afghanistan|\n",
            "|Afghanistan|\n",
            "+-----------+\n",
            "only showing top 10 rows\n",
            "\n"
          ]
        }
      ]
    },
    {
      "cell_type": "markdown",
      "metadata": {
        "id": "XKHCfMXQzBno"
      },
      "source": [
        "# **When Operation**<br/>\n",
        "In the first example, the “title” column is selected and a condition is added with a “when” condition."
      ]
    },
    {
      "cell_type": "code",
      "metadata": {
        "colab": {
          "base_uri": "https://localhost:8080/"
        },
        "id": "cDslLF9MzNZ6",
        "outputId": "cc7f8f6d-ee16-4ad8-bdf8-94ad4ac1785f"
      },
      "source": [
        "from pyspark.sql.functions import *\n",
        "df.select(\"Country\", when(df.Country != \"Afghanistan\", 1).otherwise(0)).show(10)"
      ],
      "execution_count": null,
      "outputs": [
        {
          "output_type": "stream",
          "name": "stdout",
          "text": [
            "+-----------+---------------------------------------------------------+\n",
            "|    Country|CASE WHEN (NOT (Country = Afghanistan)) THEN 1 ELSE 0 END|\n",
            "+-----------+---------------------------------------------------------+\n",
            "|Afghanistan|                                                        0|\n",
            "|Afghanistan|                                                        0|\n",
            "|Afghanistan|                                                        0|\n",
            "|Afghanistan|                                                        0|\n",
            "|Afghanistan|                                                        0|\n",
            "|Afghanistan|                                                        0|\n",
            "|Afghanistan|                                                        0|\n",
            "|Afghanistan|                                                        0|\n",
            "|Afghanistan|                                                        0|\n",
            "|Afghanistan|                                                        0|\n",
            "+-----------+---------------------------------------------------------+\n",
            "only showing top 10 rows\n",
            "\n"
          ]
        }
      ]
    },
    {
      "cell_type": "markdown",
      "metadata": {
        "id": "vUAWd3Dfz2mo"
      },
      "source": [
        "In the second example, the “isin” operation is applied instead of “when” which can be also used to define some conditions to rows."
      ]
    },
    {
      "cell_type": "code",
      "metadata": {
        "colab": {
          "base_uri": "https://localhost:8080/"
        },
        "id": "_KYWEGHhy4gs",
        "outputId": "0042b37c-2622-4222-a3a7-a4f5692a0145"
      },
      "source": [
        "df.groupBy(\"Country\").count().show(10)"
      ],
      "execution_count": null,
      "outputs": [
        {
          "output_type": "stream",
          "name": "stdout",
          "text": [
            "+--------------------+-----+\n",
            "|             Country|count|\n",
            "+--------------------+-----+\n",
            "|       Côte d'Ivoire|   16|\n",
            "|                Chad|   16|\n",
            "|Micronesia (Feder...|   16|\n",
            "|            Paraguay|   16|\n",
            "|               Yemen|   16|\n",
            "|             Senegal|   16|\n",
            "|          Cabo Verde|   16|\n",
            "|              Sweden|   16|\n",
            "|            Kiribati|   16|\n",
            "|   Republic of Korea|   16|\n",
            "+--------------------+-----+\n",
            "only showing top 10 rows\n",
            "\n"
          ]
        }
      ]
    },
    {
      "cell_type": "code",
      "metadata": {
        "colab": {
          "base_uri": "https://localhost:8080/"
        },
        "id": "fcJ6e9vKjr3T",
        "outputId": "c6ddfc3d-8c97-4f1c-d6ae-eecf533b9465"
      },
      "source": [
        "#Show distinct values of Country\n",
        "df.select('Country').distinct().collect()\n"
      ],
      "execution_count": null,
      "outputs": [
        {
          "output_type": "execute_result",
          "data": {
            "text/plain": [
              "[Row(Country=\"Côte d'Ivoire\"),\n",
              " Row(Country='Chad'),\n",
              " Row(Country='Micronesia (Federated States of)'),\n",
              " Row(Country='Paraguay'),\n",
              " Row(Country='Yemen'),\n",
              " Row(Country='Senegal'),\n",
              " Row(Country='Cabo Verde'),\n",
              " Row(Country='Sweden'),\n",
              " Row(Country='Kiribati'),\n",
              " Row(Country='Republic of Korea'),\n",
              " Row(Country='Guyana'),\n",
              " Row(Country='Eritrea'),\n",
              " Row(Country='Philippines'),\n",
              " Row(Country='Djibouti'),\n",
              " Row(Country='Tonga'),\n",
              " Row(Country='Malaysia'),\n",
              " Row(Country='Singapore'),\n",
              " Row(Country='Fiji'),\n",
              " Row(Country='Turkey'),\n",
              " Row(Country='Malawi'),\n",
              " Row(Country='Iraq'),\n",
              " Row(Country='Germany'),\n",
              " Row(Country='Comoros'),\n",
              " Row(Country='Afghanistan'),\n",
              " Row(Country='Cambodia'),\n",
              " Row(Country='Jordan'),\n",
              " Row(Country='Maldives'),\n",
              " Row(Country='Rwanda'),\n",
              " Row(Country='Sudan'),\n",
              " Row(Country='Palau'),\n",
              " Row(Country='France'),\n",
              " Row(Country='Greece'),\n",
              " Row(Country='Sri Lanka'),\n",
              " Row(Country='Dominica'),\n",
              " Row(Country='Algeria'),\n",
              " Row(Country='Equatorial Guinea'),\n",
              " Row(Country='Togo'),\n",
              " Row(Country='Slovakia'),\n",
              " Row(Country='Argentina'),\n",
              " Row(Country='Angola'),\n",
              " Row(Country='Belgium'),\n",
              " Row(Country='San Marino'),\n",
              " Row(Country='Ecuador'),\n",
              " Row(Country='Qatar'),\n",
              " Row(Country='Lesotho'),\n",
              " Row(Country='Albania'),\n",
              " Row(Country='Madagascar'),\n",
              " Row(Country='Finland'),\n",
              " Row(Country='The former Yugoslav republic of Macedonia'),\n",
              " Row(Country='Ghana'),\n",
              " Row(Country='Myanmar'),\n",
              " Row(Country='Nicaragua'),\n",
              " Row(Country='Brunei Darussalam'),\n",
              " Row(Country='Benin'),\n",
              " Row(Country='Peru'),\n",
              " Row(Country='Sierra Leone'),\n",
              " Row(Country='Bahamas'),\n",
              " Row(Country='China'),\n",
              " Row(Country='India'),\n",
              " Row(Country='Belarus'),\n",
              " Row(Country='Kuwait'),\n",
              " Row(Country='Malta'),\n",
              " Row(Country='Timor-Leste'),\n",
              " Row(Country='Sao Tome and Principe'),\n",
              " Row(Country='Marshall Islands'),\n",
              " Row(Country='Somalia'),\n",
              " Row(Country='Tuvalu'),\n",
              " Row(Country='Chile'),\n",
              " Row(Country='Tajikistan'),\n",
              " Row(Country='United Republic of Tanzania'),\n",
              " Row(Country='Bolivia (Plurinational State of)'),\n",
              " Row(Country='Croatia'),\n",
              " Row(Country='Burundi'),\n",
              " Row(Country='Nigeria'),\n",
              " Row(Country='Gabon'),\n",
              " Row(Country='Italy'),\n",
              " Row(Country='Suriname'),\n",
              " Row(Country='Lithuania'),\n",
              " Row(Country='Norway'),\n",
              " Row(Country='Turkmenistan'),\n",
              " Row(Country='Spain'),\n",
              " Row(Country='Cuba'),\n",
              " Row(Country='Mauritania'),\n",
              " Row(Country='Czechia'),\n",
              " Row(Country='Central African Republic'),\n",
              " Row(Country='Denmark'),\n",
              " Row(Country='Niger'),\n",
              " Row(Country='Bangladesh'),\n",
              " Row(Country='Barbados'),\n",
              " Row(Country='Russian Federation'),\n",
              " Row(Country='Venezuela (Bolivarian Republic of)'),\n",
              " Row(Country='Ireland'),\n",
              " Row(Country='Congo'),\n",
              " Row(Country='Swaziland'),\n",
              " Row(Country='Thailand'),\n",
              " Row(Country='Bhutan'),\n",
              " Row(Country='Democratic Republic of the Congo'),\n",
              " Row(Country='Monaco'),\n",
              " Row(Country='Morocco'),\n",
              " Row(Country='Panama'),\n",
              " Row(Country='Nauru'),\n",
              " Row(Country='Ukraine'),\n",
              " Row(Country='Iceland'),\n",
              " Row(Country='Israel'),\n",
              " Row(Country='Saint Kitts and Nevis'),\n",
              " Row(Country='Oman'),\n",
              " Row(Country='United States of America'),\n",
              " Row(Country='Cyprus'),\n",
              " Row(Country='Uruguay'),\n",
              " Row(Country='Mexico'),\n",
              " Row(Country='Estonia'),\n",
              " Row(Country='Georgia'),\n",
              " Row(Country='Montenegro'),\n",
              " Row(Country='Zimbabwe'),\n",
              " Row(Country='Indonesia'),\n",
              " Row(Country='Saint Vincent and the Grenadines'),\n",
              " Row(Country='Guatemala'),\n",
              " Row(Country='Mongolia'),\n",
              " Row(Country='Azerbaijan'),\n",
              " Row(Country='Libya'),\n",
              " Row(Country='Grenada'),\n",
              " Row(Country='Armenia'),\n",
              " Row(Country='Liberia'),\n",
              " Row(Country='Tunisia'),\n",
              " Row(Country='Honduras'),\n",
              " Row(Country='Trinidad and Tobago'),\n",
              " Row(Country='Saudi Arabia'),\n",
              " Row(Country='Iran (Islamic Republic of)'),\n",
              " Row(Country='Uganda'),\n",
              " Row(Country='Namibia'),\n",
              " Row(Country='Switzerland'),\n",
              " Row(Country='Zambia'),\n",
              " Row(Country='Ethiopia'),\n",
              " Row(Country='Jamaica'),\n",
              " Row(Country='Latvia'),\n",
              " Row(Country='South Sudan'),\n",
              " Row(Country='United Arab Emirates'),\n",
              " Row(Country='United Kingdom of Great Britain and Northern Ireland'),\n",
              " Row(Country='Saint Lucia'),\n",
              " Row(Country='Guinea'),\n",
              " Row(Country='Canada'),\n",
              " Row(Country='Seychelles'),\n",
              " Row(Country='Kyrgyzstan'),\n",
              " Row(Country='Samoa'),\n",
              " Row(Country='Uzbekistan'),\n",
              " Row(Country='Mozambique'),\n",
              " Row(Country='Cook Islands'),\n",
              " Row(Country='Belize'),\n",
              " Row(Country='Brazil'),\n",
              " Row(Country='Gambia'),\n",
              " Row(Country='Kenya'),\n",
              " Row(Country='Lebanon'),\n",
              " Row(Country=\"Lao People's Democratic Republic\"),\n",
              " Row(Country='Antigua and Barbuda'),\n",
              " Row(Country='Slovenia'),\n",
              " Row(Country='Dominican Republic'),\n",
              " Row(Country='Viet Nam'),\n",
              " Row(Country='Botswana'),\n",
              " Row(Country='Japan'),\n",
              " Row(Country='Luxembourg'),\n",
              " Row(Country='New Zealand'),\n",
              " Row(Country='Bosnia and Herzegovina'),\n",
              " Row(Country='Haiti'),\n",
              " Row(Country='Poland'),\n",
              " Row(Country='Portugal'),\n",
              " Row(Country='Republic of Moldova'),\n",
              " Row(Country='Australia'),\n",
              " Row(Country='Cameroon'),\n",
              " Row(Country='Papua New Guinea'),\n",
              " Row(Country='Guinea-Bissau'),\n",
              " Row(Country='Romania'),\n",
              " Row(Country='Bulgaria'),\n",
              " Row(Country='Solomon Islands'),\n",
              " Row(Country='Austria'),\n",
              " Row(Country='Nepal'),\n",
              " Row(Country='Costa Rica'),\n",
              " Row(Country='Egypt'),\n",
              " Row(Country='El Salvador'),\n",
              " Row(Country='Kazakhstan'),\n",
              " Row(Country='Serbia'),\n",
              " Row(Country='Burkina Faso'),\n",
              " Row(Country='South Africa'),\n",
              " Row(Country='Bahrain'),\n",
              " Row(Country='Colombia'),\n",
              " Row(Country='Hungary'),\n",
              " Row(Country='Pakistan'),\n",
              " Row(Country='Vanuatu'),\n",
              " Row(Country='Niue'),\n",
              " Row(Country='Mauritius'),\n",
              " Row(Country='Syrian Arab Republic'),\n",
              " Row(Country='Mali'),\n",
              " Row(Country='Netherlands'),\n",
              " Row(Country=\"Democratic People's Republic of Korea\")]"
            ]
          },
          "metadata": {},
          "execution_count": 67
        }
      ]
    },
    {
      "cell_type": "markdown",
      "metadata": {
        "id": "6yf5RH5Q2a5j"
      },
      "source": [
        "#show rows with specified countries"
      ]
    },
    {
      "cell_type": "code",
      "metadata": {
        "colab": {
          "base_uri": "https://localhost:8080/"
        },
        "id": "tAbz0qj22j5_",
        "outputId": "5db42483-d4a2-4585-fde8-89e23a5349ab"
      },
      "source": [
        "df[df.Country.isin(\"Swedan\", \"Kiribati\")].show(3)"
      ],
      "execution_count": 11,
      "outputs": [
        {
          "output_type": "stream",
          "name": "stdout",
          "text": [
            "+--------+----+----------+----------------+---------------+-------------+-------+----------------------+-----------+--------+-----+------------------+-----+-----------------+-----------+---------+-----------+----------+---------------------+-------------------+-------------------------------+---------+\n",
            "| Country|Year|    Status|Life expectancy |Adult Mortality|infant deaths|Alcohol|percentage expenditure|Hepatitis B|Measles | BMI |under-five deaths |Polio|Total expenditure|Diphtheria | HIV/AIDS|        GDP|Population| thinness  1-19 years| thinness 5-9 years|Income composition of resources|Schooling|\n",
            "+--------+----+----------+----------------+---------------+-------------+-------+----------------------+-----------+--------+-----+------------------+-----+-----------------+-----------+---------+-----------+----------+---------------------+-------------------+-------------------------------+---------+\n",
            "|Kiribati|2015|Developing|            66.3|            198|            0|   null|                   0.0|         82|       0| 77.6|                 0|    8|             null|         78|      0.1|1424.483611|   11247.0|                  0.1|                0.1|                          0.586|     11.9|\n",
            "|Kiribati|2014|Developing|            66.1|              2|            0|   0.01|           97.87193319|         75|       0| 77.1|                 0|   79|             1.21|         75|      0.1| 1684.54274|   11458.0|                  0.1|                0.1|                          0.597|     11.9|\n",
            "|Kiribati|2013|Developing|            65.8|             22|            0|   0.01|           137.2591943|         95|       0| 76.7|                 0|   91|             1.15|         95|      0.1|1724.361737|   18535.0|                  0.1|                0.1|                          0.589|     11.9|\n",
            "+--------+----+----------+----------------+---------------+-------------+-------+----------------------+-----------+--------+-----+------------------+-----+-----------------+-----------+---------+-----------+----------+---------------------+-------------------+-------------------------------+---------+\n",
            "only showing top 3 rows\n",
            "\n"
          ]
        }
      ]
    },
    {
      "cell_type": "markdown",
      "metadata": {
        "id": "CUCVwD3oZHnG"
      },
      "source": [
        "# **StartsWith and EndsWith**\n",
        "The startsWith() method lets you check whether the Spark DataFrame column string value starts with a string specified as an argument to this method. This method is case-sensitive. Below example returns, all rows from DataFrame that start with the string"
      ]
    },
    {
      "cell_type": "code",
      "metadata": {
        "colab": {
          "base_uri": "https://localhost:8080/",
          "height": 164
        },
        "id": "2ih066DQZNdC",
        "outputId": "f3c428a2-9371-48fb-c1ad-55eb13bdd7b1"
      },
      "source": [
        "df.filter(col(\"Country\").contains(\"Kiri\")).show()\n"
      ],
      "execution_count": 10,
      "outputs": [
        {
          "output_type": "error",
          "ename": "NameError",
          "evalue": "ignored",
          "traceback": [
            "\u001b[0;31m---------------------------------------------------------------------------\u001b[0m",
            "\u001b[0;31mNameError\u001b[0m                                 Traceback (most recent call last)",
            "\u001b[0;32m<ipython-input-10-e219ad160726>\u001b[0m in \u001b[0;36m<module>\u001b[0;34m()\u001b[0m\n\u001b[0;32m----> 1\u001b[0;31m \u001b[0mdf\u001b[0m\u001b[0;34m.\u001b[0m\u001b[0mfilter\u001b[0m\u001b[0;34m(\u001b[0m\u001b[0mcol\u001b[0m\u001b[0;34m(\u001b[0m\u001b[0;34m\"Country\"\u001b[0m\u001b[0;34m)\u001b[0m\u001b[0;34m.\u001b[0m\u001b[0mcontains\u001b[0m\u001b[0;34m(\u001b[0m\u001b[0;34m\"Kiri\"\u001b[0m\u001b[0;34m)\u001b[0m\u001b[0;34m)\u001b[0m\u001b[0;34m.\u001b[0m\u001b[0mshow\u001b[0m\u001b[0;34m(\u001b[0m\u001b[0;34m)\u001b[0m\u001b[0;34m\u001b[0m\u001b[0;34m\u001b[0m\u001b[0m\n\u001b[0m",
            "\u001b[0;31mNameError\u001b[0m: name 'col' is not defined"
          ]
        }
      ]
    },
    {
      "cell_type": "code",
      "metadata": {
        "id": "FbyftFzsbFSK"
      },
      "source": [
        "df.select(\"Country\", \"Status\", df.Country.startswith(\"Kiri\")).show(3)"
      ],
      "execution_count": null,
      "outputs": []
    },
    {
      "cell_type": "code",
      "metadata": {
        "id": "A8vvgmgscCMg"
      },
      "source": [
        "df.filter(df.Country.startswith('Kiri')).show()"
      ],
      "execution_count": null,
      "outputs": []
    },
    {
      "cell_type": "code",
      "metadata": {
        "id": "ot5xIRqgdPO9"
      },
      "source": [
        "df.select(\"Country\", \"Status\", df.Country.endswith(\"ti\")).show(5)"
      ],
      "execution_count": null,
      "outputs": []
    },
    {
      "cell_type": "markdown",
      "metadata": {
        "id": "VB6Zf7vpd3Ki"
      },
      "source": [
        "# **SubString**"
      ]
    },
    {
      "cell_type": "code",
      "metadata": {
        "colab": {
          "base_uri": "https://localhost:8080/"
        },
        "id": "j_GEpXHjd6fG",
        "outputId": "eb7fcca2-7065-43ab-cf7c-f8e31bfd53d0"
      },
      "source": [
        "df.select(df.Country.substr(1,5).alias(\"country\")).show()"
      ],
      "execution_count": null,
      "outputs": [
        {
          "output_type": "stream",
          "name": "stdout",
          "text": [
            "+-------+\n",
            "|country|\n",
            "+-------+\n",
            "|  Afgha|\n",
            "|  Afgha|\n",
            "|  Afgha|\n",
            "|  Afgha|\n",
            "|  Afgha|\n",
            "|  Afgha|\n",
            "|  Afgha|\n",
            "|  Afgha|\n",
            "|  Afgha|\n",
            "|  Afgha|\n",
            "|  Afgha|\n",
            "|  Afgha|\n",
            "|  Afgha|\n",
            "|  Afgha|\n",
            "|  Afgha|\n",
            "|  Afgha|\n",
            "|  Alban|\n",
            "|  Alban|\n",
            "|  Alban|\n",
            "|  Alban|\n",
            "+-------+\n",
            "only showing top 20 rows\n",
            "\n"
          ]
        }
      ]
    },
    {
      "cell_type": "markdown",
      "metadata": {
        "id": "0eYmMbx7eLFD"
      },
      "source": [
        "# Describe"
      ]
    },
    {
      "cell_type": "code",
      "metadata": {
        "colab": {
          "base_uri": "https://localhost:8080/"
        },
        "id": "CAmDm0JveM6u",
        "outputId": "466557be-cf78-44fc-f813-4ac645553512"
      },
      "source": [
        "df.describe().show()"
      ],
      "execution_count": null,
      "outputs": [
        {
          "output_type": "stream",
          "name": "stdout",
          "text": [
            "+-------+-----------+------------------+----------+-----------------+------------------+------------------+------------------+----------------------+------------------+------------------+------------------+------------------+------------------+------------------+-----------------+------------------+------------------+--------------------+---------------------+-------------------+-------------------------------+------------------+\n",
            "|summary|    Country|              Year|    Status| Life expectancy |   Adult Mortality|     infant deaths|           Alcohol|percentage expenditure|       Hepatitis B|          Measles |              BMI |under-five deaths |             Polio| Total expenditure|      Diphtheria |          HIV/AIDS|               GDP|          Population| thinness  1-19 years| thinness 5-9 years|Income composition of resources|         Schooling|\n",
            "+-------+-----------+------------------+----------+-----------------+------------------+------------------+------------------+----------------------+------------------+------------------+------------------+------------------+------------------+------------------+-----------------+------------------+------------------+--------------------+---------------------+-------------------+-------------------------------+------------------+\n",
            "|  count|       2938|              2938|      2938|             2928|              2928|              2938|              2744|                  2938|              2385|              2938|              2904|              2938|              2919|              2712|             2919|              2938|              2490|                2286|                 2904|               2904|                           2771|              2775|\n",
            "|   mean|       null|2007.5187202178352|      null|69.22493169398912|164.79644808743168|30.303948264125257|4.6028607871720375|     738.2512954533823| 80.94046121593291|2419.5922396187884| 38.32124655647373|  42.0357385976855| 82.55018842069202|5.9381895280235915|82.32408359027065|1.7421034717494939| 7483.158469138481|1.2753375120052498E7|   4.8397038567493205|  4.870316804407711|             0.6275510645976166|11.992792792792786|\n",
            "| stddev|       null| 4.613840940258099|      null|9.523867487824305| 124.2920790034219|117.92650131339906| 4.052412658755658|     1987.914858016194|25.070015593018063| 11467.27248923461|20.044033502562083| 160.4455484057337|23.428045949468476| 2.498319672155633| 23.7169120685726| 5.077784531086547|14270.169341515959| 6.101209650842794E7|    4.420194947144322|  4.508882086983007|             0.2109035551515931|3.3589197211023554|\n",
            "|    min|Afghanistan|              2000| Developed|             36.3|                 1|                 0|              0.01|                   0.0|                 1|                 0|               1.0|                 0|                 3|              0.37|                2|               0.1|           1.68135|                34.0|                  0.1|                0.1|                            0.0|               0.0|\n",
            "|    max|   Zimbabwe|              2015|Developing|             89.0|               723|              1800|             17.87|           19479.91161|                99|            212183|              87.3|              2500|                99|              17.6|               99|              50.6|       119172.7418|       1.293859294E9|                 27.7|               28.6|                          0.948|              20.7|\n",
            "+-------+-----------+------------------+----------+-----------------+------------------+------------------+------------------+----------------------+------------------+------------------+------------------+------------------+------------------+------------------+-----------------+------------------+------------------+--------------------+---------------------+-------------------+-------------------------------+------------------+\n",
            "\n"
          ]
        }
      ]
    },
    {
      "cell_type": "code",
      "metadata": {
        "colab": {
          "base_uri": "https://localhost:8080/"
        },
        "id": "VQO9HgTZeUVc",
        "outputId": "e7b8e7da-948e-46d7-87ea-0998f6a702b1"
      },
      "source": [
        "df.columns"
      ],
      "execution_count": null,
      "outputs": [
        {
          "output_type": "execute_result",
          "data": {
            "text/plain": [
              "['Country',\n",
              " 'Year',\n",
              " 'Status',\n",
              " 'Life expectancy ',\n",
              " 'Adult Mortality',\n",
              " 'infant deaths',\n",
              " 'Alcohol',\n",
              " 'percentage expenditure',\n",
              " 'Hepatitis B',\n",
              " 'Measles ',\n",
              " ' BMI ',\n",
              " 'under-five deaths ',\n",
              " 'Polio',\n",
              " 'Total expenditure',\n",
              " 'Diphtheria ',\n",
              " ' HIV/AIDS',\n",
              " 'GDP',\n",
              " 'Population',\n",
              " ' thinness  1-19 years',\n",
              " ' thinness 5-9 years',\n",
              " 'Income composition of resources',\n",
              " 'Schooling']"
            ]
          },
          "metadata": {},
          "execution_count": 26
        }
      ]
    },
    {
      "cell_type": "code",
      "metadata": {
        "colab": {
          "base_uri": "https://localhost:8080/"
        },
        "id": "hPH-SDroeWzS",
        "outputId": "93d50797-9403-47dd-a2b2-a28276a5e3c8"
      },
      "source": [
        "df.count()"
      ],
      "execution_count": null,
      "outputs": [
        {
          "output_type": "execute_result",
          "data": {
            "text/plain": [
              "2938"
            ]
          },
          "metadata": {},
          "execution_count": 27
        }
      ]
    },
    {
      "cell_type": "code",
      "metadata": {
        "colab": {
          "base_uri": "https://localhost:8080/"
        },
        "id": "5C6Y0SoUeZOd",
        "outputId": "53917e2e-281c-4bbd-bb72-39bb4e9cc1b9"
      },
      "source": [
        "df.distinct().count()"
      ],
      "execution_count": null,
      "outputs": [
        {
          "output_type": "execute_result",
          "data": {
            "text/plain": [
              "2938"
            ]
          },
          "metadata": {},
          "execution_count": 28
        }
      ]
    },
    {
      "cell_type": "markdown",
      "metadata": {
        "id": "vumyxufOeitQ"
      },
      "source": [
        "# **ADD, UPDATE & REMOVE COLUMNS**"
      ]
    },
    {
      "cell_type": "code",
      "metadata": {
        "colab": {
          "base_uri": "https://localhost:8080/"
        },
        "id": "zmjMbCMIekY8",
        "outputId": "63fe00e0-37e6-49d9-ef2c-48482a910cf5"
      },
      "source": [
        "df = df.withColumn(\"country\", lit(\"This is the new country \"))\n",
        "df.select(\"country\").show(3)"
      ],
      "execution_count": null,
      "outputs": [
        {
          "output_type": "stream",
          "name": "stdout",
          "text": [
            "+--------------------+\n",
            "|             country|\n",
            "+--------------------+\n",
            "|This is the new c...|\n",
            "|This is the new c...|\n",
            "|This is the new c...|\n",
            "+--------------------+\n",
            "only showing top 3 rows\n",
            "\n"
          ]
        }
      ]
    },
    {
      "cell_type": "code",
      "metadata": {
        "colab": {
          "base_uri": "https://localhost:8080/"
        },
        "id": "j1KVcNrMe_T8",
        "outputId": "eacc0cde-2ede-4df6-8ee2-fdc6545a0999"
      },
      "source": [
        "#Change the column name\n",
        "df = df.withColumnRenamed(\"Country\", \"country_name\")\n",
        "df.show(3)"
      ],
      "execution_count": null,
      "outputs": [
        {
          "output_type": "stream",
          "name": "stdout",
          "text": [
            "+--------------------+----+----------+----------------+---------------+-------------+-------+----------------------+-----------+--------+-----+------------------+-----+-----------------+-----------+---------+----------+-----------+---------------------+-------------------+-------------------------------+---------+\n",
            "|        country_name|Year|    Status|Life expectancy |Adult Mortality|infant deaths|Alcohol|percentage expenditure|Hepatitis B|Measles | BMI |under-five deaths |Polio|Total expenditure|Diphtheria | HIV/AIDS|       GDP| Population| thinness  1-19 years| thinness 5-9 years|Income composition of resources|Schooling|\n",
            "+--------------------+----+----------+----------------+---------------+-------------+-------+----------------------+-----------+--------+-----+------------------+-----+-----------------+-----------+---------+----------+-----------+---------------------+-------------------+-------------------------------+---------+\n",
            "|This is the new c...|2015|Developing|            65.0|            263|           62|   0.01|           71.27962362|         65|    1154| 19.1|                83|    6|             8.16|         65|      0.1| 584.25921|3.3736494E7|                 17.2|               17.3|                          0.479|     10.1|\n",
            "|This is the new c...|2014|Developing|            59.9|            271|           64|   0.01|           73.52358168|         62|     492| 18.6|                86|   58|             8.18|         62|      0.1|612.696514|   327582.0|                 17.5|               17.5|                          0.476|     10.0|\n",
            "|This is the new c...|2013|Developing|            59.9|            268|           66|   0.01|           73.21924272|         64|     430| 18.1|                89|   62|             8.13|         64|      0.1|631.744976|3.1731688E7|                 17.7|               17.7|                           0.47|      9.9|\n",
            "+--------------------+----+----------+----------------+---------------+-------------+-------+----------------------+-----------+--------+-----+------------------+-----+-----------------+-----------+---------+----------+-----------+---------------------+-------------------+-------------------------------+---------+\n",
            "only showing top 3 rows\n",
            "\n"
          ]
        }
      ]
    },
    {
      "cell_type": "code",
      "metadata": {
        "colab": {
          "base_uri": "https://localhost:8080/"
        },
        "id": "gi78Ua4IfMsW",
        "outputId": "97a38bb4-cce0-4c01-ed41-bb8f8f3902ac"
      },
      "source": [
        "#Drop one column\n",
        "df_remove = df.drop(\"country_name\", \"Status\").show(5)\n",
        "df_remove"
      ],
      "execution_count": null,
      "outputs": [
        {
          "output_type": "stream",
          "name": "stdout",
          "text": [
            "+----+----------------+---------------+-------------+-------+----------------------+-----------+--------+-----+------------------+-----+-----------------+-----------+---------+----------+-----------+---------------------+-------------------+-------------------------------+---------+\n",
            "|Year|Life expectancy |Adult Mortality|infant deaths|Alcohol|percentage expenditure|Hepatitis B|Measles | BMI |under-five deaths |Polio|Total expenditure|Diphtheria | HIV/AIDS|       GDP| Population| thinness  1-19 years| thinness 5-9 years|Income composition of resources|Schooling|\n",
            "+----+----------------+---------------+-------------+-------+----------------------+-----------+--------+-----+------------------+-----+-----------------+-----------+---------+----------+-----------+---------------------+-------------------+-------------------------------+---------+\n",
            "|2015|            65.0|            263|           62|   0.01|           71.27962362|         65|    1154| 19.1|                83|    6|             8.16|         65|      0.1| 584.25921|3.3736494E7|                 17.2|               17.3|                          0.479|     10.1|\n",
            "|2014|            59.9|            271|           64|   0.01|           73.52358168|         62|     492| 18.6|                86|   58|             8.18|         62|      0.1|612.696514|   327582.0|                 17.5|               17.5|                          0.476|     10.0|\n",
            "|2013|            59.9|            268|           66|   0.01|           73.21924272|         64|     430| 18.1|                89|   62|             8.13|         64|      0.1|631.744976|3.1731688E7|                 17.7|               17.7|                           0.47|      9.9|\n",
            "|2012|            59.5|            272|           69|   0.01|            78.1842153|         67|    2787| 17.6|                93|   67|             8.52|         67|      0.1|   669.959|  3696958.0|                 17.9|               18.0|                          0.463|      9.8|\n",
            "|2011|            59.2|            275|           71|   0.01|           7.097108703|         68|    3013| 17.2|                97|   68|             7.87|         68|      0.1| 63.537231|  2978599.0|                 18.2|               18.2|                          0.454|      9.5|\n",
            "+----+----------------+---------------+-------------+-------+----------------------+-----------+--------+-----+------------------+-----+-----------------+-----------+---------+----------+-----------+---------------------+-------------------+-------------------------------+---------+\n",
            "only showing top 5 rows\n",
            "\n"
          ]
        }
      ]
    },
    {
      "cell_type": "markdown",
      "metadata": {
        "id": "vfbfFRJ7fcGM"
      },
      "source": [
        "# **GroupBy**"
      ]
    },
    {
      "cell_type": "code",
      "metadata": {
        "colab": {
          "base_uri": "https://localhost:8080/"
        },
        "id": "NG6rYy0sfeUI",
        "outputId": "46c85230-593b-487d-b34a-0798de9a640e"
      },
      "source": [
        "df.groupBy(\"Year\").count().show(4)"
      ],
      "execution_count": null,
      "outputs": [
        {
          "output_type": "stream",
          "name": "stdout",
          "text": [
            "+----+-----+\n",
            "|Year|count|\n",
            "+----+-----+\n",
            "|2003|  183|\n",
            "|2007|  183|\n",
            "|2015|  183|\n",
            "|2006|  183|\n",
            "+----+-----+\n",
            "only showing top 4 rows\n",
            "\n"
          ]
        }
      ]
    },
    {
      "cell_type": "markdown",
      "metadata": {
        "id": "htgvfkJ6fnP9"
      },
      "source": [
        "# **Missing And Replacing Values**"
      ]
    },
    {
      "cell_type": "code",
      "metadata": {
        "colab": {
          "base_uri": "https://localhost:8080/"
        },
        "id": "8HPbtuEdfq4w",
        "outputId": "a9bec2c7-8bc1-4528-b454-aa9c60138e7e"
      },
      "source": [
        "df.na.fill(50).show(5)"
      ],
      "execution_count": null,
      "outputs": [
        {
          "output_type": "stream",
          "name": "stdout",
          "text": [
            "+--------------------+----+----------+----------------+---------------+-------------+-------+----------------------+-----------+--------+-----+------------------+-----+-----------------+-----------+---------+----------+-----------+---------------------+-------------------+-------------------------------+---------+\n",
            "|        country_name|Year|    Status|Life expectancy |Adult Mortality|infant deaths|Alcohol|percentage expenditure|Hepatitis B|Measles | BMI |under-five deaths |Polio|Total expenditure|Diphtheria | HIV/AIDS|       GDP| Population| thinness  1-19 years| thinness 5-9 years|Income composition of resources|Schooling|\n",
            "+--------------------+----+----------+----------------+---------------+-------------+-------+----------------------+-----------+--------+-----+------------------+-----+-----------------+-----------+---------+----------+-----------+---------------------+-------------------+-------------------------------+---------+\n",
            "|This is the new c...|2015|Developing|            65.0|            263|           62|   0.01|           71.27962362|         65|    1154| 19.1|                83|    6|             8.16|         65|      0.1| 584.25921|3.3736494E7|                 17.2|               17.3|                          0.479|     10.1|\n",
            "|This is the new c...|2014|Developing|            59.9|            271|           64|   0.01|           73.52358168|         62|     492| 18.6|                86|   58|             8.18|         62|      0.1|612.696514|   327582.0|                 17.5|               17.5|                          0.476|     10.0|\n",
            "|This is the new c...|2013|Developing|            59.9|            268|           66|   0.01|           73.21924272|         64|     430| 18.1|                89|   62|             8.13|         64|      0.1|631.744976|3.1731688E7|                 17.7|               17.7|                           0.47|      9.9|\n",
            "|This is the new c...|2012|Developing|            59.5|            272|           69|   0.01|            78.1842153|         67|    2787| 17.6|                93|   67|             8.52|         67|      0.1|   669.959|  3696958.0|                 17.9|               18.0|                          0.463|      9.8|\n",
            "|This is the new c...|2011|Developing|            59.2|            275|           71|   0.01|           7.097108703|         68|    3013| 17.2|                97|   68|             7.87|         68|      0.1| 63.537231|  2978599.0|                 18.2|               18.2|                          0.454|      9.5|\n",
            "+--------------------+----+----------+----------------+---------------+-------------+-------+----------------------+-----------+--------+-----+------------------+-----+-----------------+-----------+---------+----------+-----------+---------------------+-------------------+-------------------------------+---------+\n",
            "only showing top 5 rows\n",
            "\n"
          ]
        }
      ]
    },
    {
      "cell_type": "markdown",
      "metadata": {
        "id": "5diaozH_f1P7"
      },
      "source": [
        "# **RUNNING SQL QUERIES PROGRAMMATICALLY**"
      ]
    },
    {
      "cell_type": "code",
      "metadata": {
        "id": "lOfXZihSf4eu"
      },
      "source": [
        "df.createGlobalTempView(\"sql_country\")"
      ],
      "execution_count": 12,
      "outputs": []
    },
    {
      "cell_type": "code",
      "metadata": {
        "id": "OEEiJQi3f_0Q"
      },
      "source": [
        "df.registerTempTable(\"df\")"
      ],
      "execution_count": 13,
      "outputs": []
    },
    {
      "cell_type": "code",
      "metadata": {
        "colab": {
          "base_uri": "https://localhost:8080/"
        },
        "id": "69B9MkkMgGTx",
        "outputId": "3db24bfe-580c-4e46-d8ff-a947df8d2a97"
      },
      "source": [
        "spark.sql(\"select * from df\").show(3)"
      ],
      "execution_count": 14,
      "outputs": [
        {
          "output_type": "stream",
          "name": "stdout",
          "text": [
            "+-----------+----+----------+----------------+---------------+-------------+-------+----------------------+-----------+--------+-----+------------------+-----+-----------------+-----------+---------+----------+-----------+---------------------+-------------------+-------------------------------+---------+\n",
            "|    Country|Year|    Status|Life expectancy |Adult Mortality|infant deaths|Alcohol|percentage expenditure|Hepatitis B|Measles | BMI |under-five deaths |Polio|Total expenditure|Diphtheria | HIV/AIDS|       GDP| Population| thinness  1-19 years| thinness 5-9 years|Income composition of resources|Schooling|\n",
            "+-----------+----+----------+----------------+---------------+-------------+-------+----------------------+-----------+--------+-----+------------------+-----+-----------------+-----------+---------+----------+-----------+---------------------+-------------------+-------------------------------+---------+\n",
            "|Afghanistan|2015|Developing|            65.0|            263|           62|   0.01|           71.27962362|         65|    1154| 19.1|                83|    6|             8.16|         65|      0.1| 584.25921|3.3736494E7|                 17.2|               17.3|                          0.479|     10.1|\n",
            "|Afghanistan|2014|Developing|            59.9|            271|           64|   0.01|           73.52358168|         62|     492| 18.6|                86|   58|             8.18|         62|      0.1|612.696514|   327582.0|                 17.5|               17.5|                          0.476|     10.0|\n",
            "|Afghanistan|2013|Developing|            59.9|            268|           66|   0.01|           73.21924272|         64|     430| 18.1|                89|   62|             8.13|         64|      0.1|631.744976|3.1731688E7|                 17.7|               17.7|                           0.47|      9.9|\n",
            "+-----------+----+----------+----------------+---------------+-------------+-------+----------------------+-----------+--------+-----+------------------+-----+-----------------+-----------+---------+----------+-----------+---------------------+-------------------+-------------------------------+---------+\n",
            "only showing top 3 rows\n",
            "\n"
          ]
        }
      ]
    },
    {
      "cell_type": "markdown",
      "metadata": {
        "id": "IBjfPj_gqqqu"
      },
      "source": [
        "#OrderBy <br/>\n",
        "The keyword ORDER BY specifies which field the results of the query will be ordered by. By default, the query returns results from A to Z, lowest to highest, and earliest to latest. This is called “Ascending Order.” In order to reverse this ordering, add the keyword DESC following the column name."
      ]
    },
    {
      "cell_type": "code",
      "metadata": {
        "id": "fz7A06Deqxg4",
        "outputId": "be2bf152-0d9e-4076-f212-1250374d7d0e",
        "colab": {
          "base_uri": "https://localhost:8080/"
        }
      },
      "source": [
        "spark.sql(\"SELECT Country, Year, Status\\\n",
        "           FROM df \\\n",
        "           WHERE Status LIKE '%Developed%' \\\n",
        "           ORDER BY year DESC\").show(20)"
      ],
      "execution_count": 19,
      "outputs": [
        {
          "output_type": "stream",
          "name": "stdout",
          "text": [
            "+-----------+----+---------+\n",
            "|    Country|Year|   Status|\n",
            "+-----------+----+---------+\n",
            "|    Denmark|2015|Developed|\n",
            "|      Malta|2015|Developed|\n",
            "|    Austria|2015|Developed|\n",
            "|    Belgium|2015|Developed|\n",
            "|  Australia|2015|Developed|\n",
            "|    Croatia|2015|Developed|\n",
            "|     Cyprus|2015|Developed|\n",
            "|    Czechia|2015|Developed|\n",
            "|   Bulgaria|2015|Developed|\n",
            "|    Germany|2015|Developed|\n",
            "|    Hungary|2015|Developed|\n",
            "|    Iceland|2015|Developed|\n",
            "|    Ireland|2015|Developed|\n",
            "|      Italy|2015|Developed|\n",
            "|      Japan|2015|Developed|\n",
            "|     Latvia|2015|Developed|\n",
            "|  Lithuania|2015|Developed|\n",
            "| Luxembourg|2015|Developed|\n",
            "|Netherlands|2015|Developed|\n",
            "|New Zealand|2015|Developed|\n",
            "+-----------+----+---------+\n",
            "only showing top 20 rows\n",
            "\n"
          ]
        }
      ]
    },
    {
      "cell_type": "code",
      "metadata": {
        "id": "VHWKqJc7rddQ",
        "outputId": "f133e064-29cf-417f-d0c5-2b2b88a097f6",
        "colab": {
          "base_uri": "https://localhost:8080/"
        }
      },
      "source": [
        "spark.sql(\"SELECT Country, Year, Status\\\n",
        "           FROM df \\\n",
        "           WHERE Status = 'Developed' \\\n",
        "           ORDER BY year DESC\").show(20)"
      ],
      "execution_count": 20,
      "outputs": [
        {
          "output_type": "stream",
          "name": "stdout",
          "text": [
            "+-----------+----+---------+\n",
            "|    Country|Year|   Status|\n",
            "+-----------+----+---------+\n",
            "|    Denmark|2015|Developed|\n",
            "|      Malta|2015|Developed|\n",
            "|    Austria|2015|Developed|\n",
            "|    Belgium|2015|Developed|\n",
            "|  Australia|2015|Developed|\n",
            "|    Croatia|2015|Developed|\n",
            "|     Cyprus|2015|Developed|\n",
            "|    Czechia|2015|Developed|\n",
            "|   Bulgaria|2015|Developed|\n",
            "|    Germany|2015|Developed|\n",
            "|    Hungary|2015|Developed|\n",
            "|    Iceland|2015|Developed|\n",
            "|    Ireland|2015|Developed|\n",
            "|      Italy|2015|Developed|\n",
            "|      Japan|2015|Developed|\n",
            "|     Latvia|2015|Developed|\n",
            "|  Lithuania|2015|Developed|\n",
            "| Luxembourg|2015|Developed|\n",
            "|Netherlands|2015|Developed|\n",
            "|New Zealand|2015|Developed|\n",
            "+-----------+----+---------+\n",
            "only showing top 20 rows\n",
            "\n"
          ]
        }
      ]
    },
    {
      "cell_type": "code",
      "metadata": {
        "id": "rTr3VYKcrkvC",
        "outputId": "41e138a3-3f36-42f8-daf1-df993918c1dd",
        "colab": {
          "base_uri": "https://localhost:8080/"
        }
      },
      "source": [
        "spark.sql(\"SELECT Country, Year, Status\\\n",
        "           FROM df \\\n",
        "           WHERE Year = 2014 \\\n",
        "           ORDER BY year DESC\").show(20)"
      ],
      "execution_count": 23,
      "outputs": [
        {
          "output_type": "stream",
          "name": "stdout",
          "text": [
            "+--------------------+----+----------+\n",
            "|             Country|Year|    Status|\n",
            "+--------------------+----+----------+\n",
            "|         Afghanistan|2014|Developing|\n",
            "|             Albania|2014|Developing|\n",
            "|             Algeria|2014|Developing|\n",
            "|              Angola|2014|Developing|\n",
            "| Antigua and Barbuda|2014|Developing|\n",
            "|           Argentina|2014|Developing|\n",
            "|             Armenia|2014|Developing|\n",
            "|           Australia|2014| Developed|\n",
            "|             Austria|2014| Developed|\n",
            "|          Azerbaijan|2014|Developing|\n",
            "|             Bahamas|2014|Developing|\n",
            "|             Bahrain|2014|Developing|\n",
            "|          Bangladesh|2014|Developing|\n",
            "|            Barbados|2014|Developing|\n",
            "|             Belarus|2014|Developing|\n",
            "|             Belgium|2014| Developed|\n",
            "|              Belize|2014|Developing|\n",
            "|               Benin|2014|Developing|\n",
            "|              Bhutan|2014|Developing|\n",
            "|Bolivia (Plurinat...|2014|Developing|\n",
            "+--------------------+----+----------+\n",
            "only showing top 20 rows\n",
            "\n"
          ]
        }
      ]
    },
    {
      "cell_type": "markdown",
      "metadata": {
        "id": "zpQ8aGfwry0z"
      },
      "source": [
        "# **Derived Columns**\n",
        "Derived columns are new columns the results of which come from a manipulation of the existing columns in the database.\n",
        "\n",
        "The following code snippet demonstrates how it is possible to create new columns from the contents of other columns. In this case, the new column is named ‘sat_total’ using the AS keyword."
      ]
    },
    {
      "cell_type": "code",
      "metadata": {
        "id": "9PQ6fe0Pr1Wd",
        "outputId": "e1280fb2-eef7-46ac-b02e-49cd39bede24",
        "colab": {
          "base_uri": "https://localhost:8080/"
        }
      },
      "source": [
        "spark.sql(\"SELECT Country, Year, Status,\\\n",
        "           Country + Year AS country_year \\\n",
        "           FROM df \\\n",
        "           WHERE Year = 2014 \\\n",
        "           ORDER BY year DESC\").show(20)"
      ],
      "execution_count": 27,
      "outputs": [
        {
          "output_type": "stream",
          "name": "stdout",
          "text": [
            "+--------------------+----+----------+------------+\n",
            "|             Country|Year|    Status|country_year|\n",
            "+--------------------+----+----------+------------+\n",
            "|         Afghanistan|2014|Developing|        null|\n",
            "|             Albania|2014|Developing|        null|\n",
            "|             Algeria|2014|Developing|        null|\n",
            "|              Angola|2014|Developing|        null|\n",
            "| Antigua and Barbuda|2014|Developing|        null|\n",
            "|           Argentina|2014|Developing|        null|\n",
            "|             Armenia|2014|Developing|        null|\n",
            "|           Australia|2014| Developed|        null|\n",
            "|             Austria|2014| Developed|        null|\n",
            "|          Azerbaijan|2014|Developing|        null|\n",
            "|             Bahamas|2014|Developing|        null|\n",
            "|             Bahrain|2014|Developing|        null|\n",
            "|          Bangladesh|2014|Developing|        null|\n",
            "|            Barbados|2014|Developing|        null|\n",
            "|             Belarus|2014|Developing|        null|\n",
            "|             Belgium|2014| Developed|        null|\n",
            "|              Belize|2014|Developing|        null|\n",
            "|               Benin|2014|Developing|        null|\n",
            "|              Bhutan|2014|Developing|        null|\n",
            "|Bolivia (Plurinat...|2014|Developing|        null|\n",
            "+--------------------+----+----------+------------+\n",
            "only showing top 20 rows\n",
            "\n"
          ]
        }
      ]
    },
    {
      "cell_type": "markdown",
      "metadata": {
        "id": "d7S9mTZIzwvg"
      },
      "source": [
        "# **LIKE**<br/>\n",
        "LIKE is a keyword used with the WHERE keyword. It enables more flexible searching. The following example returns rows with the word “Life” in the song_name, where “Life” can be followed by any number of characters. This is useful whenever you have lots of similar but slightly different values in a given column.\n",
        "\n",
        "LIKE requires the use of wildcards. ‘%’ is a wild card that represents a character or any number of characters."
      ]
    },
    {
      "cell_type": "code",
      "metadata": {
        "id": "u4q-NFrvztRB",
        "outputId": "552080fd-c5cb-4cef-d367-86ecf1ca180b",
        "colab": {
          "base_uri": "https://localhost:8080/"
        }
      },
      "source": [
        "spark.sql(\"SELECT Country, Year, Status\\\n",
        "           FROM df \\\n",
        "           WHERE Country LIKE 'Bhutan%'\\\n",
        "           ORDER BY year DESC\").show(20)"
      ],
      "execution_count": 29,
      "outputs": [
        {
          "output_type": "stream",
          "name": "stdout",
          "text": [
            "+-------+----+----------+\n",
            "|Country|Year|    Status|\n",
            "+-------+----+----------+\n",
            "| Bhutan|2015|Developing|\n",
            "| Bhutan|2014|Developing|\n",
            "| Bhutan|2013|Developing|\n",
            "| Bhutan|2012|Developing|\n",
            "| Bhutan|2011|Developing|\n",
            "| Bhutan|2010|Developing|\n",
            "| Bhutan|2009|Developing|\n",
            "| Bhutan|2008|Developing|\n",
            "| Bhutan|2007|Developing|\n",
            "| Bhutan|2006|Developing|\n",
            "| Bhutan|2005|Developing|\n",
            "| Bhutan|2004|Developing|\n",
            "| Bhutan|2003|Developing|\n",
            "| Bhutan|2002|Developing|\n",
            "| Bhutan|2001|Developing|\n",
            "| Bhutan|2000|Developing|\n",
            "+-------+----+----------+\n",
            "\n"
          ]
        }
      ]
    },
    {
      "cell_type": "markdown",
      "metadata": {
        "id": "cPqOkhSi0m22"
      },
      "source": [
        "# **IN**\n",
        "IN is a keyword that, similar to LIKE, is used in combination with WHERE. The purpose of IN is to allow you to filter data based on several possible values. \n",
        "Any non-numeric data must be placed in single-quotes, as shown, as with comparison operators. Place a comma in between each pair of distinct values."
      ]
    },
    {
      "cell_type": "code",
      "metadata": {
        "id": "xrJbOyfm09Vm",
        "outputId": "fe31498f-a59e-4cac-cfa2-16fb49496e84",
        "colab": {
          "base_uri": "https://localhost:8080/"
        }
      },
      "source": [
        "spark.sql(\"SELECT Country, Year, Status\\\n",
        "           FROM df \\\n",
        "           WHERE Country IN ('India','Bhutan')\\\n",
        "           ORDER BY year DESC\").show(20)"
      ],
      "execution_count": 31,
      "outputs": [
        {
          "output_type": "stream",
          "name": "stdout",
          "text": [
            "+-------+----+----------+\n",
            "|Country|Year|    Status|\n",
            "+-------+----+----------+\n",
            "| Bhutan|2015|Developing|\n",
            "|  India|2015|Developing|\n",
            "| Bhutan|2014|Developing|\n",
            "|  India|2014|Developing|\n",
            "| Bhutan|2013|Developing|\n",
            "|  India|2013|Developing|\n",
            "| Bhutan|2012|Developing|\n",
            "|  India|2012|Developing|\n",
            "| Bhutan|2011|Developing|\n",
            "|  India|2011|Developing|\n",
            "|  India|2010|Developing|\n",
            "| Bhutan|2010|Developing|\n",
            "| Bhutan|2009|Developing|\n",
            "|  India|2009|Developing|\n",
            "| Bhutan|2008|Developing|\n",
            "|  India|2008|Developing|\n",
            "|  India|2007|Developing|\n",
            "| Bhutan|2007|Developing|\n",
            "| Bhutan|2006|Developing|\n",
            "|  India|2006|Developing|\n",
            "+-------+----+----------+\n",
            "only showing top 20 rows\n",
            "\n"
          ]
        }
      ]
    },
    {
      "cell_type": "markdown",
      "metadata": {
        "id": "MJu9yNLz1dgA"
      },
      "source": [
        "**NOT** <br/>\n",
        "NOT provides the inverse results for IN, LIKE, and similar operators."
      ]
    },
    {
      "cell_type": "code",
      "metadata": {
        "id": "kxMlKbyR1h_I",
        "outputId": "8e0e3793-4053-410e-ea3c-f040dd2f0cc0",
        "colab": {
          "base_uri": "https://localhost:8080/"
        }
      },
      "source": [
        "spark.sql(\"SELECT Country, Year, Status\\\n",
        "           FROM df \\\n",
        "           WHERE Status NOT LIKE 'Developin%'\").show(20)"
      ],
      "execution_count": 33,
      "outputs": [
        {
          "output_type": "stream",
          "name": "stdout",
          "text": [
            "+---------+----+---------+\n",
            "|  Country|Year|   Status|\n",
            "+---------+----+---------+\n",
            "|Australia|2015|Developed|\n",
            "|Australia|2014|Developed|\n",
            "|Australia|2013|Developed|\n",
            "|Australia|2012|Developed|\n",
            "|Australia|2011|Developed|\n",
            "|Australia|2010|Developed|\n",
            "|Australia|2009|Developed|\n",
            "|Australia|2008|Developed|\n",
            "|Australia|2007|Developed|\n",
            "|Australia|2006|Developed|\n",
            "|Australia|2005|Developed|\n",
            "|Australia|2004|Developed|\n",
            "|Australia|2003|Developed|\n",
            "|Australia|2002|Developed|\n",
            "|Australia|2001|Developed|\n",
            "|Australia|2000|Developed|\n",
            "|  Austria|2015|Developed|\n",
            "|  Austria|2014|Developed|\n",
            "|  Austria|2013|Developed|\n",
            "|  Austria|2012|Developed|\n",
            "+---------+----+---------+\n",
            "only showing top 20 rows\n",
            "\n"
          ]
        }
      ]
    },
    {
      "cell_type": "markdown",
      "metadata": {
        "id": "nH_9-HDa22fr"
      },
      "source": [
        "# **AND & BETWEEN <br/>**\n",
        "The following example filters for populations less than 500,000 and greater than 450,000. The AND operator allows you to run two complete logical statements; the word ‘population_estimate_2012’ could not be omitted from the second half of the WHERE clause shown belowAND & BETWEEN\n",
        "The following example filters for populations less than 500,000 and greater than 450,000. The AND operator allows you to run two complete logical statements; the word ‘population_estimate_2012’ could not be omitted from the second half of the WHERE clause shown below"
      ]
    },
    {
      "cell_type": "code",
      "metadata": {
        "id": "0I0oGR5K26ee",
        "outputId": "cdc4fca1-33d9-4fb5-cd1a-cfc08c887eda",
        "colab": {
          "base_uri": "https://localhost:8080/"
        }
      },
      "source": [
        "#DiphtheriaDiphtheria\n",
        "spark.sql(\"SELECT Country, Year, Status \\\n",
        "           FROM df \\\n",
        "           WHERE Year BETWEEN 2014 AND 2015\").show(20)"
      ],
      "execution_count": 40,
      "outputs": [
        {
          "output_type": "stream",
          "name": "stdout",
          "text": [
            "+-------------------+----+----------+\n",
            "|            Country|Year|    Status|\n",
            "+-------------------+----+----------+\n",
            "|        Afghanistan|2015|Developing|\n",
            "|        Afghanistan|2014|Developing|\n",
            "|            Albania|2015|Developing|\n",
            "|            Albania|2014|Developing|\n",
            "|            Algeria|2015|Developing|\n",
            "|            Algeria|2014|Developing|\n",
            "|             Angola|2015|Developing|\n",
            "|             Angola|2014|Developing|\n",
            "|Antigua and Barbuda|2015|Developing|\n",
            "|Antigua and Barbuda|2014|Developing|\n",
            "|          Argentina|2015|Developing|\n",
            "|          Argentina|2014|Developing|\n",
            "|            Armenia|2015|Developing|\n",
            "|            Armenia|2014|Developing|\n",
            "|          Australia|2015| Developed|\n",
            "|          Australia|2014| Developed|\n",
            "|            Austria|2015| Developed|\n",
            "|            Austria|2014| Developed|\n",
            "|         Azerbaijan|2015|Developing|\n",
            "|         Azerbaijan|2014|Developing|\n",
            "+-------------------+----+----------+\n",
            "only showing top 20 rows\n",
            "\n"
          ]
        }
      ]
    },
    {
      "cell_type": "markdown",
      "metadata": {
        "id": "a5yAub-A42Aa"
      },
      "source": [
        "# **HAVING** <br/>\n",
        "HAVING is used in conjunction with GROUP BY to filter group rows that do not satisfy a certain condition.\n",
        "\n",
        "HAVING is analogous to WHERE, except it is used with GROUP BY. * The HAVING clause sets the condition for groups of rows created by the GROUP BY clause after the GROUP BY clause applies. * The WHERE clause sets the condition for individual rows before the GROUP BY clause applies."
      ]
    },
    {
      "cell_type": "code",
      "metadata": {
        "id": "JC6qzPT748Pv",
        "outputId": "11cf5827-83d3-4b82-ea31-c998348e4898",
        "colab": {
          "base_uri": "https://localhost:8080/"
        }
      },
      "source": [
        "spark.sql(\"SELECT Year\\\n",
        "           FROM df \\\n",
        "           WHERE Status NOT LIKE 'Developin%'\\\n",
        "           GROUP BY Year \\\n",
        "           HAVING Year='2015'\").show(20)"
      ],
      "execution_count": 46,
      "outputs": [
        {
          "output_type": "stream",
          "name": "stdout",
          "text": [
            "+----+\n",
            "|Year|\n",
            "+----+\n",
            "|2015|\n",
            "+----+\n",
            "\n"
          ]
        }
      ]
    },
    {
      "cell_type": "markdown",
      "metadata": {
        "id": "lPPnomEBrZih"
      },
      "source": [
        ""
      ]
    },
    {
      "cell_type": "code",
      "metadata": {
        "colab": {
          "base_uri": "https://localhost:8080/"
        },
        "id": "SFNz2G51gdfD",
        "outputId": "716e93eb-cd04-43d6-8e78-1c1f12b10c89"
      },
      "source": [
        "spark.sql(\"SELECT * FROM df  WHERE Year=2015;\").groupBy(\"Adult Mortality\").count().show(3)"
      ],
      "execution_count": 15,
      "outputs": [
        {
          "output_type": "stream",
          "name": "stdout",
          "text": [
            "+---------------+-----+\n",
            "|Adult Mortality|count|\n",
            "+---------------+-----+\n",
            "|            148|    1|\n",
            "|            137|    1|\n",
            "|             85|    1|\n",
            "+---------------+-----+\n",
            "only showing top 3 rows\n",
            "\n"
          ]
        }
      ]
    },
    {
      "cell_type": "markdown",
      "metadata": {
        "id": "FyJKQ48-20js"
      },
      "source": [
        "Like keyword usage"
      ]
    },
    {
      "cell_type": "code",
      "metadata": {
        "id": "s-VizEQp2y_e"
      },
      "source": [
        "df.select()"
      ],
      "execution_count": null,
      "outputs": []
    },
    {
      "cell_type": "code",
      "metadata": {
        "id": "HmBuQEyu2y8O"
      },
      "source": [
        ""
      ],
      "execution_count": null,
      "outputs": []
    },
    {
      "cell_type": "code",
      "metadata": {
        "id": "5wAVZ9wx2y5S"
      },
      "source": [
        ""
      ],
      "execution_count": null,
      "outputs": []
    },
    {
      "cell_type": "code",
      "metadata": {
        "id": "PmjSSJe82ywd"
      },
      "source": [
        ""
      ],
      "execution_count": null,
      "outputs": []
    },
    {
      "cell_type": "code",
      "metadata": {
        "colab": {
          "base_uri": "https://localhost:8080/"
        },
        "id": "Kn16ymcGirC5",
        "outputId": "b9da02ed-6ea1-4c7f-f3c3-77ba2063e28c"
      },
      "source": [
        "df2 = df.select('Country', 'Year', 'Alcohol', 'GDP', 'Population')\n",
        "df2.show(3)"
      ],
      "execution_count": null,
      "outputs": [
        {
          "output_type": "stream",
          "name": "stdout",
          "text": [
            "+-----------+----+-------+----------+-----------+\n",
            "|    Country|Year|Alcohol|       GDP| Population|\n",
            "+-----------+----+-------+----------+-----------+\n",
            "|Afghanistan|2015|   0.01| 584.25921|3.3736494E7|\n",
            "|Afghanistan|2014|   0.01|612.696514|   327582.0|\n",
            "|Afghanistan|2013|   0.01|631.744976|3.1731688E7|\n",
            "+-----------+----+-------+----------+-----------+\n",
            "only showing top 3 rows\n",
            "\n"
          ]
        }
      ]
    },
    {
      "cell_type": "code",
      "metadata": {
        "id": "M54RekEki3AB"
      },
      "source": [
        "def histogram(df, col, bins=10, xname=None, yname=None):\n",
        "    \n",
        "    '''\n",
        "    This function makes a histogram from spark dataframe named \n",
        "    df for column name col. \n",
        "    '''\n",
        "    \n",
        "    # Calculating histogram in Spark \n",
        "    vals = df.select(col).rdd.flatMap(lambda x: x).histogram(bins)\n",
        "    \n",
        "    # Preprocessing histogram points and locations \n",
        "    width = vals[0][1] - vals[0][0]\n",
        "    loc = [vals[0][0] + (i+1) * width for i in range(len(vals[1]))]\n",
        "    \n",
        "    # Making a bar plot \n",
        "    plt.bar(loc, vals[1], width=width)\n",
        "    plt.xlabel(col)\n",
        "    plt.ylabel(yname)\n",
        "    plt.show()\n"
      ],
      "execution_count": null,
      "outputs": []
    },
    {
      "cell_type": "code",
      "metadata": {
        "colab": {
          "base_uri": "https://localhost:8080/",
          "height": 279
        },
        "id": "5yCygkLvi8Iz",
        "outputId": "16b77162-099b-42de-c97a-7f5bcb2f340e"
      },
      "source": [
        "\n",
        "# Plotting the GDP histogram \n",
        "# There are a lots of lots of very very poor country. \n",
        "# The world is skewwwwwwwd!\n",
        "\n",
        "histogram(df, 'GDP', bins=15, yname='Number of countries')"
      ],
      "execution_count": null,
      "outputs": [
        {
          "output_type": "display_data",
          "data": {
            "image/png": "[encoded data removed]",
            "text/plain": [
              "<Figure size 432x288 with 1 Axes>"
            ]
          },
          "metadata": {
            "tags": [],
            "needs_background": "light"
          }
        }
      ]
    },
    {
      "cell_type": "markdown",
      "metadata": {
        "id": "ii7eIZVKi7g8"
      },
      "source": [
        ""
      ]
    },
    {
      "cell_type": "code",
      "metadata": {
        "colab": {
          "base_uri": "https://localhost:8080/",
          "height": 279
        },
        "id": "LMxSqhz_rBDZ",
        "outputId": "6a7fa6d4-6a9b-42ed-91ce-7a47ef413e10"
      },
      "source": [
        "histogram(df2, 'Alcohol', bins=15, yname='Number of countries')"
      ],
      "execution_count": null,
      "outputs": [
        {
          "output_type": "display_data",
          "data": {
            "image/png": "[encoded data removed]",
            "text/plain": [
              "<Figure size 432x288 with 1 Axes>"
            ]
          },
          "metadata": {
            "tags": [],
            "needs_background": "light"
          }
        }
      ]
    },
    {
      "cell_type": "code",
      "metadata": {
        "colab": {
          "base_uri": "https://localhost:8080/"
        },
        "id": "dzzbb_TfrLjf",
        "outputId": "c9fb0f65-138c-4ec5-e4d6-7c072b71a24b"
      },
      "source": [
        "\n",
        "df.select('Population').summary().show()"
      ],
      "execution_count": null,
      "outputs": [
        {
          "output_type": "stream",
          "text": [
            "+-------+--------------------+\n",
            "|summary|          Population|\n",
            "+-------+--------------------+\n",
            "|  count|                2286|\n",
            "|   mean|1.2753375120052498E7|\n",
            "| stddev| 6.101209650842794E7|\n",
            "|    min|                34.0|\n",
            "|    25%|            195553.0|\n",
            "|    50%|           1384969.0|\n",
            "|    75%|           7423289.0|\n",
            "|    max|       1.293859294E9|\n",
            "+-------+--------------------+\n",
            "\n"
          ],
          "name": "stdout"
        }
      ]
    },
    {
      "cell_type": "code",
      "metadata": {
        "colab": {
          "base_uri": "https://localhost:8080/",
          "height": 279
        },
        "id": "kKgGHVVgrNB6",
        "outputId": "3d33df13-8069-427e-c09d-f4c0c28d934d"
      },
      "source": [
        "histogram(df.filter(df['Population']<100000000), \\\n",
        "          'Population', bins=15, yname='Number of countries')"
      ],
      "execution_count": null,
      "outputs": [
        {
          "output_type": "display_data",
          "data": {
            "image/png": "[encoded data removed]",
            "text/plain": [
              "<Figure size 432x288 with 1 Axes>"
            ]
          },
          "metadata": {
            "tags": [],
            "needs_background": "light"
          }
        }
      ]
    },
    {
      "cell_type": "code",
      "metadata": {
        "id": "7H3ci1T1rRJ3"
      },
      "source": [
        "def lineplot(df, x, y, measure='mean'):\n",
        "    \n",
        "    '''\n",
        "    This function makes a line plot from Spark dataframe df with \n",
        "    independent variable x and averaged over y.\n",
        "    '''\n",
        "    \n",
        "    if measure == 'mean':\n",
        "        \n",
        "        # Grouping the dataframe by x and averaging over y\n",
        "        # Sorting is important because Spark shuffle the values \n",
        "        # when doing the calculation\n",
        "        \n",
        "        pd_df = df.groupBy(x).mean(y).toPandas().sort_values(by=x)\n",
        "        \n",
        "        # Making plot using pandas \n",
        "        pd_df.plot(x, 'avg({})'.format(y), legend=False)\n",
        "        \n",
        "    elif measure == 'total':\n",
        "        pd_df = df.groupBy(x).sum(y).toPandas().sort_values(by=x)\n",
        "        pd_df.plot(x, 'sum({})'.format(y), legend=False)\n",
        "        \n",
        "    elif measure == 'count':\n",
        "        pd_df = df.groupBy(x).count().toPandas().sort_values(by=x)\n",
        "        pd_df.plot(x, 'count', legend=False)\n",
        "    \n",
        "    plt.ylabel(y)\n",
        "    plt.show()"
      ],
      "execution_count": null,
      "outputs": []
    },
    {
      "cell_type": "code",
      "metadata": {
        "colab": {
          "base_uri": "https://localhost:8080/",
          "height": 279
        },
        "id": "vL5kLTS9rfGq",
        "outputId": "0de095ba-512d-481f-b401-0dfa4c17c4a3"
      },
      "source": [
        "lineplot(df, 'Year', 'GDP', measure='mean')"
      ],
      "execution_count": null,
      "outputs": [
        {
          "output_type": "display_data",
          "data": {
            "image/png": "[encoded data removed]",
            "text/plain": [
              "<Figure size 432x288 with 1 Axes>"
            ]
          },
          "metadata": {
            "tags": [],
            "needs_background": "light"
          }
        }
      ]
    },
    {
      "cell_type": "code",
      "metadata": {
        "colab": {
          "base_uri": "https://localhost:8080/",
          "height": 290
        },
        "id": "-fpM8bYFrkCz",
        "outputId": "136ce8cc-e6d8-4b6c-bcb6-c2d7a0c8fbce"
      },
      "source": [
        "lineplot(df, 'Year', 'Population', measure='total')"
      ],
      "execution_count": null,
      "outputs": [
        {
          "output_type": "display_data",
          "data": {
            "image/png": "[encoded data removed]",
            "text/plain": [
              "<Figure size 432x288 with 1 Axes>"
            ]
          },
          "metadata": {
            "tags": [],
            "needs_background": "light"
          }
        }
      ]
    },
    {
      "cell_type": "code",
      "metadata": {
        "colab": {
          "base_uri": "https://localhost:8080/",
          "height": 279
        },
        "id": "CCxMxwCarl2s",
        "outputId": "67668442-b562-40c3-d2be-ce73275f9bd7"
      },
      "source": [
        "\n",
        "# The world has become no alcoholic all of sudden??!\n",
        "\n",
        "lineplot(df, 'Year', 'alcohol', measure='total')"
      ],
      "execution_count": null,
      "outputs": [
        {
          "output_type": "display_data",
          "data": {
            "image/png": "[encoded data removed]",
            "text/plain": [
              "<Figure size 432x288 with 1 Axes>"
            ]
          },
          "metadata": {
            "tags": [],
            "needs_background": "light"
          }
        }
      ]
    },
    {
      "cell_type": "code",
      "metadata": {
        "id": "QBOknwjQrp74"
      },
      "source": [
        "def barplot(df, col, lim=10, yname=None):\n",
        "    \n",
        "    '''\n",
        "    This function makes a bar plot for the Spark dataframe df \n",
        "    for categorical column col only selecting top categories \n",
        "    as specified by lim. \n",
        "    '''\n",
        "    \n",
        "    # Grouping by the categories, counting on each categories \n",
        "    # and ordering them by the count\n",
        "    classes = df.groupBy(col).count().orderBy('count', ascending=False)\n",
        "    \n",
        "    # Take first 'lim' number of rows and convert to pandas  \n",
        "    pd_df = classes.limit(lim).toPandas()\n",
        "    \n",
        "    # Making plot \n",
        "    pd_df.plot(kind='bar', x=col, legend=False)\n",
        "    plt.ylabel(yname)\n",
        "    plt.show()"
      ],
      "execution_count": null,
      "outputs": []
    },
    {
      "cell_type": "code",
      "metadata": {
        "colab": {
          "base_uri": "https://localhost:8080/",
          "height": 296
        },
        "id": "wJuLtT40rs1b",
        "outputId": "6e6d458c-63c3-40c8-e3fc-e12921130e2e"
      },
      "source": [
        "# Everybody is participating every year (almost)\n",
        "\n",
        "barplot(df, 'Year', lim=20, yname='Number of data per Year')"
      ],
      "execution_count": null,
      "outputs": [
        {
          "output_type": "display_data",
          "data": {
            "image/png": "[encoded data removed]",
            "text/plain": [
              "<Figure size 432x288 with 1 Axes>"
            ]
          },
          "metadata": {
            "tags": [],
            "needs_background": "light"
          }
        }
      ]
    },
    {
      "cell_type": "code",
      "metadata": {
        "colab": {
          "base_uri": "https://localhost:8080/",
          "height": 294
        },
        "id": "52gbhE9jrvhz",
        "outputId": "f1396981-8845-424e-f04b-7088bdaaddcc"
      },
      "source": [
        "\n",
        "# Most of the world population consumes very little alcohol. \n",
        "\n",
        "barplot(df, 'Alcohol', lim=20, yname='Number of countries')"
      ],
      "execution_count": null,
      "outputs": [
        {
          "output_type": "display_data",
          "data": {
            "image/png": "[encoded data removed]",
            "text/plain": [
              "<Figure size 432x288 with 1 Axes>"
            ]
          },
          "metadata": {
            "tags": [],
            "needs_background": "light"
          }
        }
      ]
    },
    {
      "cell_type": "code",
      "metadata": {
        "id": "XNy87l0Lryu3"
      },
      "source": [
        "def pieplot(df, col, lim=10, yname=None):\n",
        "    \n",
        "    '''\n",
        "    This function makes a pie chart for the Spark dataframe df \n",
        "    for categorical column col only selecting top categories \n",
        "    as specified by lim. \n",
        "    '''\n",
        "    \n",
        "    # Grouping by the categories, counting on each categories \n",
        "    # and ordering them by the count\n",
        "    classes = df.groupBy(col).count().orderBy('count', ascending=False)\n",
        "    \n",
        "    # Take first 'lim' number of rows and convert to pandas  \n",
        "    pd_df = classes.limit(lim).toPandas()\n",
        "    \n",
        "    # Making plot \n",
        "    pd_df.plot(kind='pie', x=col, y='count', \\\n",
        "           labels=pd_df[col], legend=False)\n",
        "    plt.ylabel(None)\n",
        "    plt.show()"
      ],
      "execution_count": null,
      "outputs": []
    },
    {
      "cell_type": "code",
      "metadata": {
        "colab": {
          "base_uri": "https://localhost:8080/",
          "height": 248
        },
        "id": "F2Lz2SZurzw9",
        "outputId": "c569ccb7-d63b-4e16-89da-9df56f5aabde"
      },
      "source": [
        "pieplot(df, 'Country')"
      ],
      "execution_count": null,
      "outputs": [
        {
          "output_type": "display_data",
          "data": {
            "image/png": "[encoded data removed]",
            "text/plain": [
              "<Figure size 432x288 with 1 Axes>"
            ]
          },
          "metadata": {
            "tags": []
          }
        }
      ]
    },
    {
      "cell_type": "code",
      "metadata": {
        "colab": {
          "base_uri": "https://localhost:8080/",
          "height": 248
        },
        "id": "CF6bMdWhr40R",
        "outputId": "aff6917e-be7f-4ab0-df2b-500fa3e6d0ff"
      },
      "source": [
        "pieplot(df, 'Alcohol')"
      ],
      "execution_count": null,
      "outputs": [
        {
          "output_type": "display_data",
          "data": {
            "image/png": "[encoded data removed]",
            "text/plain": [
              "<Figure size 432x288 with 1 Axes>"
            ]
          },
          "metadata": {
            "tags": []
          }
        }
      ]
    },
    {
      "cell_type": "code",
      "metadata": {
        "id": "SW2ZIcPzr71T"
      },
      "source": [
        "np.warnings.filterwarnings('ignore', category=np.VisibleDeprecationWarning)"
      ],
      "execution_count": null,
      "outputs": []
    },
    {
      "cell_type": "code",
      "metadata": {
        "id": "BUgXMoRzr-NW"
      },
      "source": [
        "\n",
        "def boxplot(df, col, group_by, samp_size=10000): \n",
        "    \n",
        "    '''\n",
        "    This function makes a box plot for a Spark dataframe df \n",
        "    grouping them by a column name called group_by and their\n",
        "    aggrigate on another column called col. \n",
        "    '''\n",
        "    \n",
        "    # Selecting sample for the large dataset \n",
        "    # For samll data sampling is not done. For the large data \n",
        "    # sample size is the specified number. \n",
        "    \n",
        "    true_samp_size = min(samp_size/df.count(), 1.0)\n",
        "    pd_df = df.sample(False, true_samp_size).toPandas()\n",
        "    \n",
        "    # Making plot \n",
        "    pd_df.boxplot(col, by=group_by, figsize=(8, 5))\n",
        "    plt.ylabel(col)\n",
        "#     plt.xticks([2000, 2005, 2010, 2015])\n",
        "    plt.title(None)\n",
        "    plt.show()"
      ],
      "execution_count": null,
      "outputs": []
    },
    {
      "cell_type": "code",
      "metadata": {
        "colab": {
          "base_uri": "https://localhost:8080/",
          "height": 361
        },
        "id": "ZBylYmfOr_ii",
        "outputId": "16fa8bde-fc64-4149-db9c-62a76c48242e"
      },
      "source": [
        "\n",
        "boxplot(df, 'GDP', 'Year')"
      ],
      "execution_count": null,
      "outputs": [
        {
          "output_type": "display_data",
          "data": {
            "image/png": "[encoded data removed]",
            "text/plain": [
              "<Figure size 576x360 with 1 Axes>"
            ]
          },
          "metadata": {
            "tags": [],
            "needs_background": "light"
          }
        }
      ]
    },
    {
      "cell_type": "code",
      "metadata": {
        "id": "WYMjf2q9sEW-",
        "colab": {
          "base_uri": "https://localhost:8080/",
          "height": 361
        },
        "outputId": "9786dae7-f7a4-418b-c59a-f85f89f6f46e"
      },
      "source": [
        "boxplot(df.filter(df['Population']<10000000), 'Population', 'Year')"
      ],
      "execution_count": null,
      "outputs": [
        {
          "output_type": "display_data",
          "data": {
            "image/png": "[encoded data removed]",
            "text/plain": [
              "<Figure size 576x360 with 1 Axes>"
            ]
          },
          "metadata": {
            "tags": [],
            "needs_background": "light"
          }
        }
      ]
    }
  ]
}