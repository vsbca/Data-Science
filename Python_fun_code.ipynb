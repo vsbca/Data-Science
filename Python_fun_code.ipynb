{
  "nbformat": 4,
  "nbformat_minor": 0,
  "metadata": {
    "colab": {
      "name": "Python_fun_code.ipynb",
      "provenance": [],
      "authorship_tag": "ABX9TyPsnHSNafMcI4tmMED1zGfN",
      "include_colab_link": true
    },
    "kernelspec": {
      "name": "python3",
      "display_name": "Python 3"
    },
    "language_info": {
      "name": "python"
    }
  },
  "cells": [
    {
      "cell_type": "markdown",
      "metadata": {
        "id": "view-in-github",
        "colab_type": "text"
      },
      "source": [
        "<a href=\"https://colab.research.google.com/github/vsbca/Data-Science/blob/master/Python_fun_code.ipynb\" target=\"_parent\"><img src=\"https://colab.research.google.com/assets/colab-badge.svg\" alt=\"Open In Colab\"/></a>"
      ]
    },
    {
      "cell_type": "code",
      "metadata": {
        "id": "Amt-WDX5QSQs"
      },
      "source": [
        "#https://www.codegrepper.com/code-examples/python/check+if+a+list+contains+any+item+from+another+list+python\n"
      ],
      "execution_count": null,
      "outputs": []
    },
    {
      "cell_type": "markdown",
      "metadata": {
        "id": "2rJhPbXvQVwe"
      },
      "source": [
        "Check if a list contains any item from another list python <br/>\n",
        "list_A = [1, 2, 3, 4]\n",
        "\n",
        "list_B = [2, 3, 6]"
      ]
    },
    {
      "cell_type": "code",
      "metadata": {
        "colab": {
          "base_uri": "https://localhost:8080/"
        },
        "id": "wELL-rMEQa0e",
        "outputId": "dfd91fb3-9bc6-4659-b8b7-d90b0d8935f9"
      },
      "source": [
        "A = [1, 2,3,4]\n",
        "B = [2,3,6]\n",
        "\n",
        "set_A = set(A)\n",
        "set_B = set(B)\n",
        "\n",
        "#check = all(item in A for item in B)\n",
        "print(set_A.intersection(set_B))\n"
      ],
      "execution_count": 2,
      "outputs": [
        {
          "output_type": "stream",
          "name": "stdout",
          "text": [
            "{2, 3}\n"
          ]
        }
      ]
    },
    {
      "cell_type": "code",
      "metadata": {
        "colab": {
          "base_uri": "https://localhost:8080/"
        },
        "id": "nEVfZVbMRfaq",
        "outputId": "387795ef-e7cc-4fa5-de6a-e3f6fb3faf9f"
      },
      "source": [
        "ListOfStrings = ['Hello'] * 10\n",
        "print(ListOfStrings)"
      ],
      "execution_count": 3,
      "outputs": [
        {
          "output_type": "stream",
          "name": "stdout",
          "text": [
            "['Hello', 'Hello', 'Hello', 'Hello', 'Hello', 'Hello', 'Hello', 'Hello', 'Hello', 'Hello']\n"
          ]
        }
      ]
    },
    {
      "cell_type": "markdown",
      "metadata": {
        "id": "paJx2hamRobQ"
      },
      "source": [
        "# **Python : all() function**<br/>\n",
        "Python all() function checks if all Elements of given Iterable is True."
      ]
    },
    {
      "cell_type": "code",
      "metadata": {
        "colab": {
          "base_uri": "https://localhost:8080/"
        },
        "id": "xZ4s4Q5cRk0U",
        "outputId": "7f88f202-b4fd-4843-fe8b-aac514be7700"
      },
      "source": [
        "'''\n",
        "  check if element are same using all()\n",
        "  It will iterate through all the elements in list and check if all elements are similar to first element or not. \n",
        "'''\n",
        "\n",
        "result = False\n",
        "if len(ListOfStrings) > 0:\n",
        "  result = all(item == ListOfStrings[0] for item in ListOfStrings)\n",
        "\n",
        "print(result)"
      ],
      "execution_count": 4,
      "outputs": [
        {
          "output_type": "stream",
          "name": "stdout",
          "text": [
            "True\n"
          ]
        }
      ]
    },
    {
      "cell_type": "markdown",
      "metadata": {
        "id": "_JRVj5c9SdVG"
      },
      "source": [
        "# **3 ways to check if there are duplicates in a List**"
      ]
    },
    {
      "cell_type": "code",
      "metadata": {
        "colab": {
          "base_uri": "https://localhost:8080/"
        },
        "id": "rmlVz7GGSe1t",
        "outputId": "a657453d-81f2-42b4-d2cf-98f8f71dc038"
      },
      "source": [
        "listOfElems = ['Hello', 'Ok', 'is', 'Ok', 'test', 'this', 'is', 'a', 'test']\n",
        "\n",
        "def checkifDuplicates(elements):\n",
        "  '''Check if given list contains any duplicates'''\n",
        "  if len(elements) == len(set(elements)):\n",
        "    return False\n",
        "  else:\n",
        "    return True\n",
        "\n",
        "checkifDuplicates(listOfElems)\n",
        "#https://thispointer.com/python-3-ways-to-check-if-there-are-duplicates-in-a-list/"
      ],
      "execution_count": 7,
      "outputs": [
        {
          "output_type": "execute_result",
          "data": {
            "text/plain": [
              "True"
            ]
          },
          "metadata": {},
          "execution_count": 7
        }
      ]
    },
    {
      "cell_type": "markdown",
      "metadata": {
        "id": "9SNs5P_iT3zZ"
      },
      "source": [
        "# Question: You have an array of integers and you want to find a certain element; what effective algorithm would you use and what is the efficiency of it?"
      ]
    },
    {
      "cell_type": "markdown",
      "metadata": {
        "id": "CpMWrHKKUJv4"
      },
      "source": [
        "**Python List index()** <br/>\n",
        "The list index() method helps you to find the first lowest index of the given element. If there are duplicate elements inside the list, the first index of the element is returned. This is the easiest and straightforward way to get the index."
      ]
    },
    {
      "cell_type": "code",
      "metadata": {
        "colab": {
          "base_uri": "https://localhost:8080/"
        },
        "id": "eHjhZ4ABUIfR",
        "outputId": "2f4629f6-4ad4-4dfd-8f69-06fd7f824201"
      },
      "source": [
        "my_list = ['A', 'B', 'C', 'D', 'E', 'F']\n",
        "print(\"The index of element C is \", my_list.index('C'))\n",
        "print(\"The index of element F is \", my_list.index('F'))\n",
        "\n",
        "#Using for-loop we should be able to get the multiple indexes as shown in the example below.\n",
        "\n",
        "my_list = ['Guru', 'Siya', 'Tiya', 'Guru', 'Daksh', 'Riya', 'Guru'] \n",
        "all_indexes = [] \n",
        "for i in range(0, len(my_list)) : \n",
        "    if my_list[i] == 'Guru' : \n",
        "        all_indexes.append(i)\n",
        "        \n",
        "print(\"Originallist \", my_list)\n",
        "print(\"Indexes for element Guru : \", all_indexes)\n"
      ],
      "execution_count": 9,
      "outputs": [
        {
          "output_type": "stream",
          "name": "stdout",
          "text": [
            "The index of element C is  2\n",
            "The index of element F is  5\n",
            "Originallist  ['Guru', 'Siya', 'Tiya', 'Guru', 'Daksh', 'Riya', 'Guru']\n",
            "Indexes for element Guru :  [0, 3, 6]\n"
          ]
        }
      ]
    },
    {
      "cell_type": "code",
      "metadata": {
        "colab": {
          "base_uri": "https://localhost:8080/"
        },
        "id": "zK2l5HyIT5m2",
        "outputId": "567dbafd-9e66-49fc-924f-ea2a766f6b02"
      },
      "source": [
        "import numpy as np\n",
        "my_list = ['Guru', 'Siya', 'Tiya', 'Guru', 'Daksh', 'Riya']\n",
        "np_array = np.array(my_list)\n",
        "\n",
        "item_index = np.where(np_array == 'Guru')[0]\n",
        "\n",
        "print(\"Originallist \", my_list)\n",
        "print(\"Indexes for element Guru :\", item_index)"
      ],
      "execution_count": 16,
      "outputs": [
        {
          "output_type": "stream",
          "name": "stdout",
          "text": [
            "Originallist  ['Guru', 'Siya', 'Tiya', 'Guru', 'Daksh', 'Riya']\n",
            "Indexes for element Guru : [0 3]\n"
          ]
        }
      ]
    },
    {
      "cell_type": "markdown",
      "metadata": {
        "id": "Lpa7Sa5bV98L"
      },
      "source": [
        "# **Write a Python function that displays the first n d numbers**\n",
        "Fibonacci numbers, commonly denoted Fₙ, form a sequence, called the Fibonacci sequence, such that each number is the sum of the two preceding ones, starting from 0 and 1. That is, and for n > 1. "
      ]
    },
    {
      "cell_type": "code",
      "metadata": {
        "colab": {
          "base_uri": "https://localhost:8080/"
        },
        "id": "8BqJGRrJV_r1",
        "outputId": "2c08ca8f-95a5-45d6-93b4-e86b6ace4076"
      },
      "source": [
        "# Program to display the Fibonacci sequence up to n-th term\n",
        "nterms = 6\n",
        "\n",
        "# first two terms\n",
        "n1, n2 = 0, 1\n",
        "count = 0\n",
        "\n",
        "# check if the number of terms is valid\n",
        "if nterms <= 0:\n",
        "   print(\"Please enter a positive integer\")\n",
        "# if there is only one term, return n1\n",
        "elif nterms == 1:\n",
        "   print(\"Fibonacci sequence upto\",nterms,\":\")\n",
        "   print(n1)\n",
        "# generate fibonacci sequence\n",
        "else:\n",
        "   print(\"Fibonacci sequence:\")\n",
        "   while count < nterms:\n",
        "       print(n1, end=\" \")\n",
        "       nth = n1 + n2\n",
        "       # update values\n",
        "       n1 = n2\n",
        "       n2 = nth\n",
        "       count += 1"
      ],
      "execution_count": 38,
      "outputs": [
        {
          "output_type": "stream",
          "name": "stdout",
          "text": [
            "Fibonacci sequence:\n",
            "0 1 1 2 3 5 "
          ]
        }
      ]
    },
    {
      "cell_type": "markdown",
      "metadata": {
        "id": "55yNhdzaeH94"
      },
      "source": [
        "# **Different ways to create a tuple and Iterate over it**\n",
        "**Difference between list and tuple** <br/>\n",
        "List is mutable i.e once created then we can modify its contents. Whereas, a Tuple is **immutable** i.e. once created we can not change its contents, therefore tuple doesn’t provide functions like append(), remove() etc. <br/>\n",
        "As tuple is **immutable**, so we can use it as key in a dictionary too.\n"
      ]
    },
    {
      "cell_type": "code",
      "metadata": {
        "colab": {
          "base_uri": "https://localhost:8080/"
        },
        "id": "UChNyAhheJWR",
        "outputId": "2a9ef082-4f13-402c-c0e8-feb78e2a4ecf"
      },
      "source": [
        "tupleObj = ('Riti', 31, 'London', 78.88)\n",
        "print(tupleObj)\n",
        "for elem in tupleObj:\n",
        "  print(elem)"
      ],
      "execution_count": 40,
      "outputs": [
        {
          "output_type": "stream",
          "name": "stdout",
          "text": [
            "('Riti', 31, 'London', 78.88)\n",
            "Riti\n",
            "31\n",
            "London\n",
            "78.88\n"
          ]
        }
      ]
    },
    {
      "cell_type": "markdown",
      "metadata": {
        "id": "IrUIE1FVe3nk"
      },
      "source": [
        "# **Palindrome Program using While Loop**"
      ]
    },
    {
      "cell_type": "code",
      "metadata": {
        "colab": {
          "base_uri": "https://localhost:8080/"
        },
        "id": "FTifXfyte5f_",
        "outputId": "440d27d6-650f-4ae2-cebf-e4f4860b8ee3"
      },
      "source": [
        "def check_palindrome(n):\n",
        "  # if the reverse number is same as the given number it is palindrome\n",
        "  reverse_n = 0\n",
        "  while n > 0:\n",
        "    dig = n % 10 # taking the modulo of the number\n",
        "    reverse_n = reverse_n * 10 + dig\n",
        "    n = n // 10 # dividing the n by 10\n",
        "  return reverse_n\n",
        "\n",
        "check_palindrome(121)\n"
      ],
      "execution_count": 45,
      "outputs": [
        {
          "output_type": "execute_result",
          "data": {
            "text/plain": [
              "121"
            ]
          },
          "metadata": {},
          "execution_count": 45
        }
      ]
    }
  ]
}