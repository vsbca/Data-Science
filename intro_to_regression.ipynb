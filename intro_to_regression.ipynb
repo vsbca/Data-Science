{
  "nbformat": 4,
  "nbformat_minor": 0,
  "metadata": {
    "colab": {
      "name": "intro_to_regression.ipynb",
      "provenance": [],
      "authorship_tag": "ABX9TyMadi0l10j95cWJzgPIEYJW",
      "include_colab_link": true
    },
    "kernelspec": {
      "name": "python3",
      "display_name": "Python 3"
    },
    "language_info": {
      "name": "python"
    }
  },
  "cells": [
    {
      "cell_type": "markdown",
      "metadata": {
        "id": "view-in-github",
        "colab_type": "text"
      },
      "source": [
        "<a href=\"https://colab.research.google.com/github/vsbca/Data-Science/blob/master/intro_to_regression.ipynb\" target=\"_parent\"><img src=\"https://colab.research.google.com/assets/colab-badge.svg\" alt=\"Open In Colab\"/></a>"
      ]
    },
    {
      "cell_type": "code",
      "metadata": {
        "id": "U8DdDDT652ga"
      },
      "source": [
        "#importing libraries\n",
        "import pandas as pd\n",
        "import sys\n",
        "import numpy as np\n",
        "import scipy as sp\n",
        "import matplotlib\n",
        "import matplotlib.pyplot as plt\n",
        "import seaborn as sns\n",
        "import sklearn as sk\n",
        "from sklearn.model_selection import train_test_split\n",
        "from sklearn.linear_model import LinearRegression\n",
        "from sklearn.neighbors import KNeighborsRegressor\n",
        "sns.set(style=\"ticks\")\n",
        "%matplotlib inline\n",
        "\n",
        "pd.set_option('display.width', 1500)\n",
        "pd.set_option('display.max_columns', 100)\n"
      ],
      "execution_count": 1,
      "outputs": []
    },
    {
      "cell_type": "markdown",
      "metadata": {
        "id": "GOUVrSpc9sIz"
      },
      "source": [
        "Step #1: Load and Explore Data"
      ]
    },
    {
      "cell_type": "code",
      "metadata": {
        "colab": {
          "base_uri": "https://localhost:8080/",
          "height": 258
        },
        "id": "mi8vE2xq9hd4",
        "outputId": "7d6da3c2-3290-4297-b009-2588d010d76a"
      },
      "source": [
        "#data link: https://s3.amazonaws.com/nyc-tlc/trip+data/yellow_tripdata_2020-03.csv\n",
        "df = pd.read_csv(\"https://s3.amazonaws.com/nyc-tlc/trip+data/yellow_tripdata_2020-03.csv\")\n",
        "df.head()"
      ],
      "execution_count": 4,
      "outputs": [
        {
          "output_type": "stream",
          "text": [
            "/usr/local/lib/python3.7/dist-packages/IPython/core/interactiveshell.py:2718: DtypeWarning: Columns (6) have mixed types.Specify dtype option on import or set low_memory=False.\n",
            "  interactivity=interactivity, compiler=compiler, result=result)\n"
          ],
          "name": "stderr"
        },
        {
          "output_type": "execute_result",
          "data": {
            "text/html": [
              "<div>\n",
              "<style scoped>\n",
              "    .dataframe tbody tr th:only-of-type {\n",
              "        vertical-align: middle;\n",
              "    }\n",
              "\n",
              "    .dataframe tbody tr th {\n",
              "        vertical-align: top;\n",
              "    }\n",
              "\n",
              "    .dataframe thead th {\n",
              "        text-align: right;\n",
              "    }\n",
              "</style>\n",
              "<table border=\"1\" class=\"dataframe\">\n",
              "  <thead>\n",
              "    <tr style=\"text-align: right;\">\n",
              "      <th></th>\n",
              "      <th>VendorID</th>\n",
              "      <th>tpep_pickup_datetime</th>\n",
              "      <th>tpep_dropoff_datetime</th>\n",
              "      <th>passenger_count</th>\n",
              "      <th>trip_distance</th>\n",
              "      <th>RatecodeID</th>\n",
              "      <th>store_and_fwd_flag</th>\n",
              "      <th>PULocationID</th>\n",
              "      <th>DOLocationID</th>\n",
              "      <th>payment_type</th>\n",
              "      <th>fare_amount</th>\n",
              "      <th>extra</th>\n",
              "      <th>mta_tax</th>\n",
              "      <th>tip_amount</th>\n",
              "      <th>tolls_amount</th>\n",
              "      <th>improvement_surcharge</th>\n",
              "      <th>total_amount</th>\n",
              "      <th>congestion_surcharge</th>\n",
              "    </tr>\n",
              "  </thead>\n",
              "  <tbody>\n",
              "    <tr>\n",
              "      <th>0</th>\n",
              "      <td>1.0</td>\n",
              "      <td>2020-03-01 00:31:13</td>\n",
              "      <td>2020-03-01 01:01:42</td>\n",
              "      <td>1.0</td>\n",
              "      <td>4.70</td>\n",
              "      <td>1.0</td>\n",
              "      <td>N</td>\n",
              "      <td>88</td>\n",
              "      <td>255</td>\n",
              "      <td>1.0</td>\n",
              "      <td>22.0</td>\n",
              "      <td>3.0</td>\n",
              "      <td>0.5</td>\n",
              "      <td>2.00</td>\n",
              "      <td>0.0</td>\n",
              "      <td>0.3</td>\n",
              "      <td>27.80</td>\n",
              "      <td>2.5</td>\n",
              "    </tr>\n",
              "    <tr>\n",
              "      <th>1</th>\n",
              "      <td>2.0</td>\n",
              "      <td>2020-03-01 00:08:22</td>\n",
              "      <td>2020-03-01 00:08:49</td>\n",
              "      <td>1.0</td>\n",
              "      <td>0.00</td>\n",
              "      <td>1.0</td>\n",
              "      <td>N</td>\n",
              "      <td>193</td>\n",
              "      <td>193</td>\n",
              "      <td>2.0</td>\n",
              "      <td>2.5</td>\n",
              "      <td>0.5</td>\n",
              "      <td>0.5</td>\n",
              "      <td>0.00</td>\n",
              "      <td>0.0</td>\n",
              "      <td>0.3</td>\n",
              "      <td>3.80</td>\n",
              "      <td>0.0</td>\n",
              "    </tr>\n",
              "    <tr>\n",
              "      <th>2</th>\n",
              "      <td>1.0</td>\n",
              "      <td>2020-03-01 00:52:18</td>\n",
              "      <td>2020-03-01 00:59:16</td>\n",
              "      <td>1.0</td>\n",
              "      <td>1.10</td>\n",
              "      <td>1.0</td>\n",
              "      <td>N</td>\n",
              "      <td>246</td>\n",
              "      <td>90</td>\n",
              "      <td>1.0</td>\n",
              "      <td>6.0</td>\n",
              "      <td>3.0</td>\n",
              "      <td>0.5</td>\n",
              "      <td>1.95</td>\n",
              "      <td>0.0</td>\n",
              "      <td>0.3</td>\n",
              "      <td>11.75</td>\n",
              "      <td>2.5</td>\n",
              "    </tr>\n",
              "    <tr>\n",
              "      <th>3</th>\n",
              "      <td>2.0</td>\n",
              "      <td>2020-03-01 00:47:53</td>\n",
              "      <td>2020-03-01 00:50:57</td>\n",
              "      <td>2.0</td>\n",
              "      <td>0.87</td>\n",
              "      <td>1.0</td>\n",
              "      <td>N</td>\n",
              "      <td>151</td>\n",
              "      <td>238</td>\n",
              "      <td>1.0</td>\n",
              "      <td>5.0</td>\n",
              "      <td>0.5</td>\n",
              "      <td>0.5</td>\n",
              "      <td>1.76</td>\n",
              "      <td>0.0</td>\n",
              "      <td>0.3</td>\n",
              "      <td>10.56</td>\n",
              "      <td>2.5</td>\n",
              "    </tr>\n",
              "    <tr>\n",
              "      <th>4</th>\n",
              "      <td>1.0</td>\n",
              "      <td>2020-03-01 00:43:19</td>\n",
              "      <td>2020-03-01 00:58:27</td>\n",
              "      <td>0.0</td>\n",
              "      <td>4.40</td>\n",
              "      <td>1.0</td>\n",
              "      <td>N</td>\n",
              "      <td>79</td>\n",
              "      <td>261</td>\n",
              "      <td>1.0</td>\n",
              "      <td>16.5</td>\n",
              "      <td>3.0</td>\n",
              "      <td>0.5</td>\n",
              "      <td>4.05</td>\n",
              "      <td>0.0</td>\n",
              "      <td>0.3</td>\n",
              "      <td>24.35</td>\n",
              "      <td>2.5</td>\n",
              "    </tr>\n",
              "  </tbody>\n",
              "</table>\n",
              "</div>"
            ],
            "text/plain": [
              "   VendorID tpep_pickup_datetime tpep_dropoff_datetime  passenger_count  trip_distance  RatecodeID store_and_fwd_flag  PULocationID  DOLocationID  payment_type  fare_amount  extra  mta_tax  tip_amount  tolls_amount  improvement_surcharge  total_amount  congestion_surcharge\n",
              "0       1.0  2020-03-01 00:31:13   2020-03-01 01:01:42              1.0           4.70         1.0                  N            88           255           1.0         22.0    3.0      0.5        2.00           0.0                    0.3         27.80                   2.5\n",
              "1       2.0  2020-03-01 00:08:22   2020-03-01 00:08:49              1.0           0.00         1.0                  N           193           193           2.0          2.5    0.5      0.5        0.00           0.0                    0.3          3.80                   0.0\n",
              "2       1.0  2020-03-01 00:52:18   2020-03-01 00:59:16              1.0           1.10         1.0                  N           246            90           1.0          6.0    3.0      0.5        1.95           0.0                    0.3         11.75                   2.5\n",
              "3       2.0  2020-03-01 00:47:53   2020-03-01 00:50:57              2.0           0.87         1.0                  N           151           238           1.0          5.0    0.5      0.5        1.76           0.0                    0.3         10.56                   2.5\n",
              "4       1.0  2020-03-01 00:43:19   2020-03-01 00:58:27              0.0           4.40         1.0                  N            79           261           1.0         16.5    3.0      0.5        4.05           0.0                    0.3         24.35                   2.5"
            ]
          },
          "metadata": {
            "tags": []
          },
          "execution_count": 4
        }
      ]
    },
    {
      "cell_type": "code",
      "metadata": {
        "colab": {
          "base_uri": "https://localhost:8080/"
        },
        "id": "YSmjvVQd9hiO",
        "outputId": "d1300bae-8334-4b3b-d1e7-06eb32c89f42"
      },
      "source": [
        "df.shape"
      ],
      "execution_count": 5,
      "outputs": [
        {
          "output_type": "execute_result",
          "data": {
            "text/plain": [
              "(3007292, 18)"
            ]
          },
          "metadata": {
            "tags": []
          },
          "execution_count": 5
        }
      ]
    },
    {
      "cell_type": "code",
      "metadata": {
        "colab": {
          "base_uri": "https://localhost:8080/"
        },
        "id": "SscZBpsABoW5",
        "outputId": "84b5a989-2a5f-437a-be4c-3f8dc9f9df1d"
      },
      "source": [
        "#print all the columns\n",
        "df.columns"
      ],
      "execution_count": 8,
      "outputs": [
        {
          "output_type": "execute_result",
          "data": {
            "text/plain": [
              "Index(['VendorID', 'tpep_pickup_datetime', 'tpep_dropoff_datetime', 'passenger_count', 'trip_distance', 'RatecodeID', 'store_and_fwd_flag', 'PULocationID', 'DOLocationID', 'payment_type', 'fare_amount', 'extra', 'mta_tax', 'tip_amount', 'tolls_amount', 'improvement_surcharge', 'total_amount', 'congestion_surcharge'], dtype='object')"
            ]
          },
          "metadata": {
            "tags": []
          },
          "execution_count": 8
        }
      ]
    },
    {
      "cell_type": "code",
      "metadata": {
        "colab": {
          "base_uri": "https://localhost:8080/",
          "height": 224
        },
        "id": "gDhsVlXx9hky",
        "outputId": "6df081d4-79f2-42aa-b8fc-df0c5850838a"
      },
      "source": [
        "#List the top 5 rows\n",
        "df.head(5)"
      ],
      "execution_count": 9,
      "outputs": [
        {
          "output_type": "execute_result",
          "data": {
            "text/html": [
              "<div>\n",
              "<style scoped>\n",
              "    .dataframe tbody tr th:only-of-type {\n",
              "        vertical-align: middle;\n",
              "    }\n",
              "\n",
              "    .dataframe tbody tr th {\n",
              "        vertical-align: top;\n",
              "    }\n",
              "\n",
              "    .dataframe thead th {\n",
              "        text-align: right;\n",
              "    }\n",
              "</style>\n",
              "<table border=\"1\" class=\"dataframe\">\n",
              "  <thead>\n",
              "    <tr style=\"text-align: right;\">\n",
              "      <th></th>\n",
              "      <th>VendorID</th>\n",
              "      <th>tpep_pickup_datetime</th>\n",
              "      <th>tpep_dropoff_datetime</th>\n",
              "      <th>passenger_count</th>\n",
              "      <th>trip_distance</th>\n",
              "      <th>RatecodeID</th>\n",
              "      <th>store_and_fwd_flag</th>\n",
              "      <th>PULocationID</th>\n",
              "      <th>DOLocationID</th>\n",
              "      <th>payment_type</th>\n",
              "      <th>fare_amount</th>\n",
              "      <th>extra</th>\n",
              "      <th>mta_tax</th>\n",
              "      <th>tip_amount</th>\n",
              "      <th>tolls_amount</th>\n",
              "      <th>improvement_surcharge</th>\n",
              "      <th>total_amount</th>\n",
              "      <th>congestion_surcharge</th>\n",
              "    </tr>\n",
              "  </thead>\n",
              "  <tbody>\n",
              "    <tr>\n",
              "      <th>0</th>\n",
              "      <td>1.0</td>\n",
              "      <td>2020-03-01 00:31:13</td>\n",
              "      <td>2020-03-01 01:01:42</td>\n",
              "      <td>1.0</td>\n",
              "      <td>4.70</td>\n",
              "      <td>1.0</td>\n",
              "      <td>N</td>\n",
              "      <td>88</td>\n",
              "      <td>255</td>\n",
              "      <td>1.0</td>\n",
              "      <td>22.0</td>\n",
              "      <td>3.0</td>\n",
              "      <td>0.5</td>\n",
              "      <td>2.00</td>\n",
              "      <td>0.0</td>\n",
              "      <td>0.3</td>\n",
              "      <td>27.80</td>\n",
              "      <td>2.5</td>\n",
              "    </tr>\n",
              "    <tr>\n",
              "      <th>1</th>\n",
              "      <td>2.0</td>\n",
              "      <td>2020-03-01 00:08:22</td>\n",
              "      <td>2020-03-01 00:08:49</td>\n",
              "      <td>1.0</td>\n",
              "      <td>0.00</td>\n",
              "      <td>1.0</td>\n",
              "      <td>N</td>\n",
              "      <td>193</td>\n",
              "      <td>193</td>\n",
              "      <td>2.0</td>\n",
              "      <td>2.5</td>\n",
              "      <td>0.5</td>\n",
              "      <td>0.5</td>\n",
              "      <td>0.00</td>\n",
              "      <td>0.0</td>\n",
              "      <td>0.3</td>\n",
              "      <td>3.80</td>\n",
              "      <td>0.0</td>\n",
              "    </tr>\n",
              "    <tr>\n",
              "      <th>2</th>\n",
              "      <td>1.0</td>\n",
              "      <td>2020-03-01 00:52:18</td>\n",
              "      <td>2020-03-01 00:59:16</td>\n",
              "      <td>1.0</td>\n",
              "      <td>1.10</td>\n",
              "      <td>1.0</td>\n",
              "      <td>N</td>\n",
              "      <td>246</td>\n",
              "      <td>90</td>\n",
              "      <td>1.0</td>\n",
              "      <td>6.0</td>\n",
              "      <td>3.0</td>\n",
              "      <td>0.5</td>\n",
              "      <td>1.95</td>\n",
              "      <td>0.0</td>\n",
              "      <td>0.3</td>\n",
              "      <td>11.75</td>\n",
              "      <td>2.5</td>\n",
              "    </tr>\n",
              "    <tr>\n",
              "      <th>3</th>\n",
              "      <td>2.0</td>\n",
              "      <td>2020-03-01 00:47:53</td>\n",
              "      <td>2020-03-01 00:50:57</td>\n",
              "      <td>2.0</td>\n",
              "      <td>0.87</td>\n",
              "      <td>1.0</td>\n",
              "      <td>N</td>\n",
              "      <td>151</td>\n",
              "      <td>238</td>\n",
              "      <td>1.0</td>\n",
              "      <td>5.0</td>\n",
              "      <td>0.5</td>\n",
              "      <td>0.5</td>\n",
              "      <td>1.76</td>\n",
              "      <td>0.0</td>\n",
              "      <td>0.3</td>\n",
              "      <td>10.56</td>\n",
              "      <td>2.5</td>\n",
              "    </tr>\n",
              "    <tr>\n",
              "      <th>4</th>\n",
              "      <td>1.0</td>\n",
              "      <td>2020-03-01 00:43:19</td>\n",
              "      <td>2020-03-01 00:58:27</td>\n",
              "      <td>0.0</td>\n",
              "      <td>4.40</td>\n",
              "      <td>1.0</td>\n",
              "      <td>N</td>\n",
              "      <td>79</td>\n",
              "      <td>261</td>\n",
              "      <td>1.0</td>\n",
              "      <td>16.5</td>\n",
              "      <td>3.0</td>\n",
              "      <td>0.5</td>\n",
              "      <td>4.05</td>\n",
              "      <td>0.0</td>\n",
              "      <td>0.3</td>\n",
              "      <td>24.35</td>\n",
              "      <td>2.5</td>\n",
              "    </tr>\n",
              "  </tbody>\n",
              "</table>\n",
              "</div>"
            ],
            "text/plain": [
              "   VendorID tpep_pickup_datetime tpep_dropoff_datetime  passenger_count  trip_distance  RatecodeID store_and_fwd_flag  PULocationID  DOLocationID  payment_type  fare_amount  extra  mta_tax  tip_amount  tolls_amount  improvement_surcharge  total_amount  congestion_surcharge\n",
              "0       1.0  2020-03-01 00:31:13   2020-03-01 01:01:42              1.0           4.70         1.0                  N            88           255           1.0         22.0    3.0      0.5        2.00           0.0                    0.3         27.80                   2.5\n",
              "1       2.0  2020-03-01 00:08:22   2020-03-01 00:08:49              1.0           0.00         1.0                  N           193           193           2.0          2.5    0.5      0.5        0.00           0.0                    0.3          3.80                   0.0\n",
              "2       1.0  2020-03-01 00:52:18   2020-03-01 00:59:16              1.0           1.10         1.0                  N           246            90           1.0          6.0    3.0      0.5        1.95           0.0                    0.3         11.75                   2.5\n",
              "3       2.0  2020-03-01 00:47:53   2020-03-01 00:50:57              2.0           0.87         1.0                  N           151           238           1.0          5.0    0.5      0.5        1.76           0.0                    0.3         10.56                   2.5\n",
              "4       1.0  2020-03-01 00:43:19   2020-03-01 00:58:27              0.0           4.40         1.0                  N            79           261           1.0         16.5    3.0      0.5        4.05           0.0                    0.3         24.35                   2.5"
            ]
          },
          "metadata": {
            "tags": []
          },
          "execution_count": 9
        }
      ]
    },
    {
      "cell_type": "code",
      "metadata": {
        "colab": {
          "base_uri": "https://localhost:8080/",
          "height": 334
        },
        "id": "8zVWXXHm9hoQ",
        "outputId": "807dc019-69ef-45e1-efbf-f866097397a7"
      },
      "source": [
        "#Describe the dataframe\n",
        "df.describe()"
      ],
      "execution_count": 10,
      "outputs": [
        {
          "output_type": "execute_result",
          "data": {
            "text/html": [
              "<div>\n",
              "<style scoped>\n",
              "    .dataframe tbody tr th:only-of-type {\n",
              "        vertical-align: middle;\n",
              "    }\n",
              "\n",
              "    .dataframe tbody tr th {\n",
              "        vertical-align: top;\n",
              "    }\n",
              "\n",
              "    .dataframe thead th {\n",
              "        text-align: right;\n",
              "    }\n",
              "</style>\n",
              "<table border=\"1\" class=\"dataframe\">\n",
              "  <thead>\n",
              "    <tr style=\"text-align: right;\">\n",
              "      <th></th>\n",
              "      <th>VendorID</th>\n",
              "      <th>passenger_count</th>\n",
              "      <th>trip_distance</th>\n",
              "      <th>RatecodeID</th>\n",
              "      <th>PULocationID</th>\n",
              "      <th>DOLocationID</th>\n",
              "      <th>payment_type</th>\n",
              "      <th>fare_amount</th>\n",
              "      <th>extra</th>\n",
              "      <th>mta_tax</th>\n",
              "      <th>tip_amount</th>\n",
              "      <th>tolls_amount</th>\n",
              "      <th>improvement_surcharge</th>\n",
              "      <th>total_amount</th>\n",
              "      <th>congestion_surcharge</th>\n",
              "    </tr>\n",
              "  </thead>\n",
              "  <tbody>\n",
              "    <tr>\n",
              "      <th>count</th>\n",
              "      <td>2.969805e+06</td>\n",
              "      <td>2.969805e+06</td>\n",
              "      <td>3.007292e+06</td>\n",
              "      <td>2.969805e+06</td>\n",
              "      <td>3.007292e+06</td>\n",
              "      <td>3.007292e+06</td>\n",
              "      <td>2.969805e+06</td>\n",
              "      <td>3.007292e+06</td>\n",
              "      <td>3.007292e+06</td>\n",
              "      <td>3.007292e+06</td>\n",
              "      <td>3.007292e+06</td>\n",
              "      <td>3.007292e+06</td>\n",
              "      <td>3.007292e+06</td>\n",
              "      <td>3.007292e+06</td>\n",
              "      <td>3.007292e+06</td>\n",
              "    </tr>\n",
              "    <tr>\n",
              "      <th>mean</th>\n",
              "      <td>1.667242e+00</td>\n",
              "      <td>1.467486e+00</td>\n",
              "      <td>3.116722e+00</td>\n",
              "      <td>1.051378e+00</td>\n",
              "      <td>1.634186e+02</td>\n",
              "      <td>1.609385e+02</td>\n",
              "      <td>1.267743e+00</td>\n",
              "      <td>1.269675e+01</td>\n",
              "      <td>1.246666e+00</td>\n",
              "      <td>6.580587e-01</td>\n",
              "      <td>2.138793e+00</td>\n",
              "      <td>3.041657e-01</td>\n",
              "      <td>2.975907e-01</td>\n",
              "      <td>1.884122e+01</td>\n",
              "      <td>2.241648e+00</td>\n",
              "    </tr>\n",
              "    <tr>\n",
              "      <th>std</th>\n",
              "      <td>4.712009e-01</td>\n",
              "      <td>1.120098e+00</td>\n",
              "      <td>2.069343e+02</td>\n",
              "      <td>7.109302e-01</td>\n",
              "      <td>6.658183e+01</td>\n",
              "      <td>7.073925e+01</td>\n",
              "      <td>4.765033e-01</td>\n",
              "      <td>3.871551e+02</td>\n",
              "      <td>2.883275e+02</td>\n",
              "      <td>2.883250e+02</td>\n",
              "      <td>2.719280e+00</td>\n",
              "      <td>1.607296e+00</td>\n",
              "      <td>3.710814e-02</td>\n",
              "      <td>6.945971e+02</td>\n",
              "      <td>7.841027e-01</td>\n",
              "    </tr>\n",
              "    <tr>\n",
              "      <th>min</th>\n",
              "      <td>1.000000e+00</td>\n",
              "      <td>0.000000e+00</td>\n",
              "      <td>0.000000e+00</td>\n",
              "      <td>1.000000e+00</td>\n",
              "      <td>1.000000e+00</td>\n",
              "      <td>1.000000e+00</td>\n",
              "      <td>1.000000e+00</td>\n",
              "      <td>-1.259000e+03</td>\n",
              "      <td>-7.000000e+00</td>\n",
              "      <td>-5.000000e-01</td>\n",
              "      <td>-4.932200e+02</td>\n",
              "      <td>-4.000000e+01</td>\n",
              "      <td>-3.000000e-01</td>\n",
              "      <td>-1.260300e+03</td>\n",
              "      <td>-2.500000e+00</td>\n",
              "    </tr>\n",
              "    <tr>\n",
              "      <th>25%</th>\n",
              "      <td>1.000000e+00</td>\n",
              "      <td>1.000000e+00</td>\n",
              "      <td>9.900000e-01</td>\n",
              "      <td>1.000000e+00</td>\n",
              "      <td>1.140000e+02</td>\n",
              "      <td>1.070000e+02</td>\n",
              "      <td>1.000000e+00</td>\n",
              "      <td>6.500000e+00</td>\n",
              "      <td>0.000000e+00</td>\n",
              "      <td>5.000000e-01</td>\n",
              "      <td>0.000000e+00</td>\n",
              "      <td>0.000000e+00</td>\n",
              "      <td>3.000000e-01</td>\n",
              "      <td>1.116000e+01</td>\n",
              "      <td>2.500000e+00</td>\n",
              "    </tr>\n",
              "    <tr>\n",
              "      <th>50%</th>\n",
              "      <td>2.000000e+00</td>\n",
              "      <td>1.000000e+00</td>\n",
              "      <td>1.670000e+00</td>\n",
              "      <td>1.000000e+00</td>\n",
              "      <td>1.620000e+02</td>\n",
              "      <td>1.620000e+02</td>\n",
              "      <td>1.000000e+00</td>\n",
              "      <td>9.000000e+00</td>\n",
              "      <td>5.000000e-01</td>\n",
              "      <td>5.000000e-01</td>\n",
              "      <td>1.920000e+00</td>\n",
              "      <td>0.000000e+00</td>\n",
              "      <td>3.000000e-01</td>\n",
              "      <td>1.430000e+01</td>\n",
              "      <td>2.500000e+00</td>\n",
              "    </tr>\n",
              "    <tr>\n",
              "      <th>75%</th>\n",
              "      <td>2.000000e+00</td>\n",
              "      <td>1.000000e+00</td>\n",
              "      <td>3.020000e+00</td>\n",
              "      <td>1.000000e+00</td>\n",
              "      <td>2.340000e+02</td>\n",
              "      <td>2.340000e+02</td>\n",
              "      <td>2.000000e+00</td>\n",
              "      <td>1.400000e+01</td>\n",
              "      <td>2.500000e+00</td>\n",
              "      <td>5.000000e-01</td>\n",
              "      <td>2.860000e+00</td>\n",
              "      <td>0.000000e+00</td>\n",
              "      <td>3.000000e-01</td>\n",
              "      <td>1.985000e+01</td>\n",
              "      <td>2.500000e+00</td>\n",
              "    </tr>\n",
              "    <tr>\n",
              "      <th>max</th>\n",
              "      <td>2.000000e+00</td>\n",
              "      <td>9.000000e+00</td>\n",
              "      <td>2.698037e+05</td>\n",
              "      <td>9.900000e+01</td>\n",
              "      <td>2.650000e+02</td>\n",
              "      <td>2.650000e+02</td>\n",
              "      <td>4.000000e+00</td>\n",
              "      <td>6.711001e+05</td>\n",
              "      <td>5.000008e+05</td>\n",
              "      <td>5.000005e+05</td>\n",
              "      <td>8.000000e+02</td>\n",
              "      <td>6.010200e+02</td>\n",
              "      <td>3.000000e-01</td>\n",
              "      <td>1.000004e+06</td>\n",
              "      <td>2.500000e+00</td>\n",
              "    </tr>\n",
              "  </tbody>\n",
              "</table>\n",
              "</div>"
            ],
            "text/plain": [
              "           VendorID  passenger_count  trip_distance    RatecodeID  PULocationID  DOLocationID  payment_type   fare_amount         extra       mta_tax    tip_amount  tolls_amount  improvement_surcharge  total_amount  congestion_surcharge\n",
              "count  2.969805e+06     2.969805e+06   3.007292e+06  2.969805e+06  3.007292e+06  3.007292e+06  2.969805e+06  3.007292e+06  3.007292e+06  3.007292e+06  3.007292e+06  3.007292e+06           3.007292e+06  3.007292e+06          3.007292e+06\n",
              "mean   1.667242e+00     1.467486e+00   3.116722e+00  1.051378e+00  1.634186e+02  1.609385e+02  1.267743e+00  1.269675e+01  1.246666e+00  6.580587e-01  2.138793e+00  3.041657e-01           2.975907e-01  1.884122e+01          2.241648e+00\n",
              "std    4.712009e-01     1.120098e+00   2.069343e+02  7.109302e-01  6.658183e+01  7.073925e+01  4.765033e-01  3.871551e+02  2.883275e+02  2.883250e+02  2.719280e+00  1.607296e+00           3.710814e-02  6.945971e+02          7.841027e-01\n",
              "min    1.000000e+00     0.000000e+00   0.000000e+00  1.000000e+00  1.000000e+00  1.000000e+00  1.000000e+00 -1.259000e+03 -7.000000e+00 -5.000000e-01 -4.932200e+02 -4.000000e+01          -3.000000e-01 -1.260300e+03         -2.500000e+00\n",
              "25%    1.000000e+00     1.000000e+00   9.900000e-01  1.000000e+00  1.140000e+02  1.070000e+02  1.000000e+00  6.500000e+00  0.000000e+00  5.000000e-01  0.000000e+00  0.000000e+00           3.000000e-01  1.116000e+01          2.500000e+00\n",
              "50%    2.000000e+00     1.000000e+00   1.670000e+00  1.000000e+00  1.620000e+02  1.620000e+02  1.000000e+00  9.000000e+00  5.000000e-01  5.000000e-01  1.920000e+00  0.000000e+00           3.000000e-01  1.430000e+01          2.500000e+00\n",
              "75%    2.000000e+00     1.000000e+00   3.020000e+00  1.000000e+00  2.340000e+02  2.340000e+02  2.000000e+00  1.400000e+01  2.500000e+00  5.000000e-01  2.860000e+00  0.000000e+00           3.000000e-01  1.985000e+01          2.500000e+00\n",
              "max    2.000000e+00     9.000000e+00   2.698037e+05  9.900000e+01  2.650000e+02  2.650000e+02  4.000000e+00  6.711001e+05  5.000008e+05  5.000005e+05  8.000000e+02  6.010200e+02           3.000000e-01  1.000004e+06          2.500000e+00"
            ]
          },
          "metadata": {
            "tags": []
          },
          "execution_count": 10
        }
      ]
    },
    {
      "cell_type": "code",
      "metadata": {
        "colab": {
          "base_uri": "https://localhost:8080/",
          "height": 296
        },
        "id": "4aSYRX7E9hq8",
        "outputId": "45046b5d-8a2a-45a8-d571-bbdea1745cb4"
      },
      "source": [
        "#Put the histogram for the passenger\n",
        "df.passenger_count.hist()"
      ],
      "execution_count": 11,
      "outputs": [
        {
          "output_type": "execute_result",
          "data": {
            "text/plain": [
              "<matplotlib.axes._subplots.AxesSubplot at 0x7f168406a110>"
            ]
          },
          "metadata": {
            "tags": []
          },
          "execution_count": 11
        },
        {
          "output_type": "display_data",
          "data": {
            "image/png": "[encoded data removed]",
            "text/plain": [
              "<Figure size 432x288 with 1 Axes>"
            ]
          },
          "metadata": {
            "tags": [],
            "needs_background": "light"
          }
        }
      ]
    },
    {
      "cell_type": "code",
      "metadata": {
        "colab": {
          "base_uri": "https://localhost:8080/"
        },
        "id": "-bpuv6G3B0YL",
        "outputId": "da29b3c9-df92-4fd4-a077-18c8fd507cc2"
      },
      "source": [
        "#print the data type of each variable\n",
        "df.dtypes"
      ],
      "execution_count": 12,
      "outputs": [
        {
          "output_type": "execute_result",
          "data": {
            "text/plain": [
              "VendorID                 float64\n",
              "tpep_pickup_datetime      object\n",
              "tpep_dropoff_datetime     object\n",
              "passenger_count          float64\n",
              "trip_distance            float64\n",
              "RatecodeID               float64\n",
              "store_and_fwd_flag        object\n",
              "PULocationID               int64\n",
              "DOLocationID               int64\n",
              "payment_type             float64\n",
              "fare_amount              float64\n",
              "extra                    float64\n",
              "mta_tax                  float64\n",
              "tip_amount               float64\n",
              "tolls_amount             float64\n",
              "improvement_surcharge    float64\n",
              "total_amount             float64\n",
              "congestion_surcharge     float64\n",
              "dtype: object"
            ]
          },
          "metadata": {
            "tags": []
          },
          "execution_count": 12
        }
      ]
    },
    {
      "cell_type": "markdown",
      "metadata": {
        "id": "HuYuKxKHB9Dh"
      },
      "source": [
        "# Let's clean the data\n",
        "1. Identify extreme/outlier\n",
        "2. Impute missing values\n",
        "3. Drop not important columns\n",
        "4. Drop columns with problemtic values"
      ]
    },
    {
      "cell_type": "code",
      "metadata": {
        "id": "dBpTsOLPCRC1"
      },
      "source": [
        "#Get a small random sample\n",
        "df_sample = df.sample(n=1000, random_state=6)\n",
        "\n",
        "#collect fares from the sample, make a numpy array\n",
        "fares = df_sample[\"fare_amount\"].values\n",
        "\n",
        "#Collect trip length\n",
        "trip_length = df_sample[\"trip_distance\"].values\n"
      ],
      "execution_count": 15,
      "outputs": []
    },
    {
      "cell_type": "code",
      "metadata": {
        "colab": {
          "base_uri": "https://localhost:8080/",
          "height": 481
        },
        "id": "eNa7M-VnDSDK",
        "outputId": "5e479b98-0775-4255-afd2-fd0dd68c6711"
      },
      "source": [
        "#Let's plot the fare and trip length\n",
        "fig, ax = plt.subplots(1,1, figsize=(10,7))\n",
        "\n",
        "ax.scatter(trip_length, fares, color='red', alpha=0.1, s=20)\n",
        "\n",
        "ax.set_xlabel('trip_length')\n",
        "ax.set_ylabel('fares')\n",
        "ax.set_title(\"NYC car hire data\")"
      ],
      "execution_count": 17,
      "outputs": [
        {
          "output_type": "execute_result",
          "data": {
            "text/plain": [
              "Text(0.5, 1.0, 'NYC car hire data')"
            ]
          },
          "metadata": {
            "tags": []
          },
          "execution_count": 17
        },
        {
          "output_type": "display_data",
          "data": {
            "image/png": "[encoded data removed]",
            "text/plain": [
              "<Figure size 720x504 with 1 Axes>"
            ]
          },
          "metadata": {
            "tags": [],
            "needs_background": "light"
          }
        }
      ]
    },
    {
      "cell_type": "markdown",
      "metadata": {
        "id": "vvig7RImGvEW"
      },
      "source": [
        "# **#Modeling the data**"
      ]
    },
    {
      "cell_type": "code",
      "metadata": {
        "colab": {
          "base_uri": "https://localhost:8080/"
        },
        "id": "cpSj8ypREN21",
        "outputId": "774caf77-4a15-4882-c967-7777c6f9c7d8"
      },
      "source": [
        "#Let's model the data\n",
        "# we would predict the fare based on the distance travelled. \n",
        "y = df_sample[\"fare_amount\"].values\n",
        "X = df_sample[\"trip_distance\"].values\n",
        "X.shape"
      ],
      "execution_count": 19,
      "outputs": [
        {
          "output_type": "execute_result",
          "data": {
            "text/plain": [
              "(1000,)"
            ]
          },
          "metadata": {
            "tags": []
          },
          "execution_count": 19
        }
      ]
    },
    {
      "cell_type": "code",
      "metadata": {
        "colab": {
          "base_uri": "https://localhost:8080/",
          "height": 1000
        },
        "id": "84yiVOybEN0O",
        "outputId": "f69258cc-d64d-4d94-e4d4-d6710346b6e7"
      },
      "source": [
        "regression = LinearRegression(fit_intercept=True)\n",
        "regression.fit(X, y)\n",
        "# this is the estimated statistical model (f_hat) using the predicted coefficients \n",
        "regression_line = lambda x: regression.intercept_ + regression.coef_ * x\n",
        "print('The estimated equation of the regression line is: {} + {} * x'.format(regression.intercept_, regression.coef_[0]))"
      ],
      "execution_count": 21,
      "outputs": [
        {
          "output_type": "error",
          "ename": "ValueError",
          "evalue": "ignored",
          "traceback": [
            "\u001b[0;31m---------------------------------------------------------------------------\u001b[0m",
            "\u001b[0;31mValueError\u001b[0m                                Traceback (most recent call last)",
            "\u001b[0;32m<ipython-input-21-7e98be62ed48>\u001b[0m in \u001b[0;36m<module>\u001b[0;34m()\u001b[0m\n\u001b[1;32m      1\u001b[0m \u001b[0mregression\u001b[0m \u001b[0;34m=\u001b[0m \u001b[0mLinearRegression\u001b[0m\u001b[0;34m(\u001b[0m\u001b[0mfit_intercept\u001b[0m\u001b[0;34m=\u001b[0m\u001b[0;32mTrue\u001b[0m\u001b[0;34m)\u001b[0m\u001b[0;34m\u001b[0m\u001b[0;34m\u001b[0m\u001b[0m\n\u001b[0;32m----> 2\u001b[0;31m \u001b[0mregression\u001b[0m\u001b[0;34m.\u001b[0m\u001b[0mfit\u001b[0m\u001b[0;34m(\u001b[0m\u001b[0mX\u001b[0m\u001b[0;34m,\u001b[0m \u001b[0my\u001b[0m\u001b[0;34m)\u001b[0m\u001b[0;34m\u001b[0m\u001b[0;34m\u001b[0m\u001b[0m\n\u001b[0m\u001b[1;32m      3\u001b[0m \u001b[0;31m# this is the estimated statistical model (f_hat) using the predicted coefficients\u001b[0m\u001b[0;34m\u001b[0m\u001b[0;34m\u001b[0m\u001b[0;34m\u001b[0m\u001b[0m\n\u001b[1;32m      4\u001b[0m \u001b[0mregression_line\u001b[0m \u001b[0;34m=\u001b[0m \u001b[0;32mlambda\u001b[0m \u001b[0mx\u001b[0m\u001b[0;34m:\u001b[0m \u001b[0mregression\u001b[0m\u001b[0;34m.\u001b[0m\u001b[0mintercept_\u001b[0m \u001b[0;34m+\u001b[0m \u001b[0mregression\u001b[0m\u001b[0;34m.\u001b[0m\u001b[0mcoef_\u001b[0m \u001b[0;34m*\u001b[0m \u001b[0mx\u001b[0m\u001b[0;34m\u001b[0m\u001b[0;34m\u001b[0m\u001b[0m\n\u001b[1;32m      5\u001b[0m \u001b[0mprint\u001b[0m\u001b[0;34m(\u001b[0m\u001b[0;34m'The estimated equation of the regression line is: {} + {} * x'\u001b[0m\u001b[0;34m.\u001b[0m\u001b[0mformat\u001b[0m\u001b[0;34m(\u001b[0m\u001b[0mregression\u001b[0m\u001b[0;34m.\u001b[0m\u001b[0mintercept_\u001b[0m\u001b[0;34m,\u001b[0m \u001b[0mregression\u001b[0m\u001b[0;34m.\u001b[0m\u001b[0mcoef_\u001b[0m\u001b[0;34m[\u001b[0m\u001b[0;36m0\u001b[0m\u001b[0;34m]\u001b[0m\u001b[0;34m)\u001b[0m\u001b[0;34m)\u001b[0m\u001b[0;34m\u001b[0m\u001b[0;34m\u001b[0m\u001b[0m\n",
            "\u001b[0;32m/usr/local/lib/python3.7/dist-packages/sklearn/linear_model/_base.py\u001b[0m in \u001b[0;36mfit\u001b[0;34m(self, X, y, sample_weight)\u001b[0m\n\u001b[1;32m    490\u001b[0m         \u001b[0mn_jobs_\u001b[0m \u001b[0;34m=\u001b[0m \u001b[0mself\u001b[0m\u001b[0;34m.\u001b[0m\u001b[0mn_jobs\u001b[0m\u001b[0;34m\u001b[0m\u001b[0;34m\u001b[0m\u001b[0m\n\u001b[1;32m    491\u001b[0m         X, y = check_X_y(X, y, accept_sparse=['csr', 'csc', 'coo'],\n\u001b[0;32m--> 492\u001b[0;31m                          y_numeric=True, multi_output=True)\n\u001b[0m\u001b[1;32m    493\u001b[0m \u001b[0;34m\u001b[0m\u001b[0m\n\u001b[1;32m    494\u001b[0m         \u001b[0;32mif\u001b[0m \u001b[0msample_weight\u001b[0m \u001b[0;32mis\u001b[0m \u001b[0;32mnot\u001b[0m \u001b[0;32mNone\u001b[0m\u001b[0;34m:\u001b[0m\u001b[0;34m\u001b[0m\u001b[0;34m\u001b[0m\u001b[0m\n",
            "\u001b[0;32m/usr/local/lib/python3.7/dist-packages/sklearn/utils/validation.py\u001b[0m in \u001b[0;36mcheck_X_y\u001b[0;34m(X, y, accept_sparse, accept_large_sparse, dtype, order, copy, force_all_finite, ensure_2d, allow_nd, multi_output, ensure_min_samples, ensure_min_features, y_numeric, warn_on_dtype, estimator)\u001b[0m\n\u001b[1;32m    753\u001b[0m                     \u001b[0mensure_min_features\u001b[0m\u001b[0;34m=\u001b[0m\u001b[0mensure_min_features\u001b[0m\u001b[0;34m,\u001b[0m\u001b[0;34m\u001b[0m\u001b[0;34m\u001b[0m\u001b[0m\n\u001b[1;32m    754\u001b[0m                     \u001b[0mwarn_on_dtype\u001b[0m\u001b[0;34m=\u001b[0m\u001b[0mwarn_on_dtype\u001b[0m\u001b[0;34m,\u001b[0m\u001b[0;34m\u001b[0m\u001b[0;34m\u001b[0m\u001b[0m\n\u001b[0;32m--> 755\u001b[0;31m                     estimator=estimator)\n\u001b[0m\u001b[1;32m    756\u001b[0m     \u001b[0;32mif\u001b[0m \u001b[0mmulti_output\u001b[0m\u001b[0;34m:\u001b[0m\u001b[0;34m\u001b[0m\u001b[0;34m\u001b[0m\u001b[0m\n\u001b[1;32m    757\u001b[0m         y = check_array(y, 'csr', force_all_finite=True, ensure_2d=False,\n",
            "\u001b[0;32m/usr/local/lib/python3.7/dist-packages/sklearn/utils/validation.py\u001b[0m in \u001b[0;36mcheck_array\u001b[0;34m(array, accept_sparse, accept_large_sparse, dtype, order, copy, force_all_finite, ensure_2d, allow_nd, ensure_min_samples, ensure_min_features, warn_on_dtype, estimator)\u001b[0m\n\u001b[1;32m    554\u001b[0m                     \u001b[0;34m\"Reshape your data either using array.reshape(-1, 1) if \"\u001b[0m\u001b[0;34m\u001b[0m\u001b[0;34m\u001b[0m\u001b[0m\n\u001b[1;32m    555\u001b[0m                     \u001b[0;34m\"your data has a single feature or array.reshape(1, -1) \"\u001b[0m\u001b[0;34m\u001b[0m\u001b[0;34m\u001b[0m\u001b[0m\n\u001b[0;32m--> 556\u001b[0;31m                     \"if it contains a single sample.\".format(array))\n\u001b[0m\u001b[1;32m    557\u001b[0m \u001b[0;34m\u001b[0m\u001b[0m\n\u001b[1;32m    558\u001b[0m         \u001b[0;31m# in the future np.flexible dtypes will be handled like object dtypes\u001b[0m\u001b[0;34m\u001b[0m\u001b[0;34m\u001b[0m\u001b[0;34m\u001b[0m\u001b[0m\n",
            "\u001b[0;31mValueError\u001b[0m: Expected 2D array, got 1D array instead:\narray=[7.100e-01 8.000e-01 1.800e+00 8.700e-01 1.400e+00 2.800e+00 3.400e+00\n 2.300e+00 2.880e+00 2.680e+00 1.640e+00 2.300e+00 1.300e+00 9.000e-01\n 7.800e-01 1.000e+00 1.070e+00 2.030e+00 2.390e+00 1.100e+00 1.040e+01\n 6.100e-01 6.640e+00 1.050e+00 3.010e+00 1.240e+00 8.300e-01 6.100e-01\n 1.100e+01 6.200e+00 2.160e+00 5.200e+00 3.900e-01 1.500e+00 2.620e+00\n 7.300e-01 7.000e-01 4.840e+00 1.090e+00 1.070e+00 2.200e+00 3.300e+00\n 2.200e+00 1.270e+00 1.400e+00 1.600e+00 1.250e+00 1.500e+00 1.680e+00\n 2.050e+01 1.800e+00 3.600e+00 8.000e-01 2.200e-01 1.400e+00 1.056e+01\n 1.500e+00 1.031e+01 2.740e+00 4.180e+00 1.610e+00 6.000e-01 2.420e+00\n 1.100e+00 6.800e+00 4.060e+00 1.100e+00 2.700e+00 1.148e+01 8.600e-01\n 3.090e+00 5.000e-01 9.000e-01 1.280e+00 8.000e-01 1.180e+00 2.900e+00\n 2.650e+00 1.347e+01 8.000e-01 8.400e-01 1.920e+00 2.500e+00 1.710e+00\n 2.160e+00 1.600e+00 1.060e+00 1.960e+00 4.100e+00 8.600e-01 3.100e+00\n 1.270e+00 5.000e-01 1.000e+00 1.240e+00 1.090e+00 2.100e+00 7.080e+00\n 1.100e+00 2.500e+00 2.300e+00 7.000e-01 7.800e-01 5.000e-01 2.280e+00\n 8.200e-01 1.600e+00 6.300e-01 1.500e+00 4.020e+00 2.040e+00 4.700e+00\n 2.100e+00 1.000e+00 6.160e+00 1.930e+00 1.200e+00 2.530e+00 2.760e+00\n 1.000e-01 9.600e-01 2.000e+00 8.900e-01 9.000e-01 4.620e+00 1.470e+00\n 4.060e+00 2.460e+00 7.420e+00 4.280e+00 2.440e+00 1.102e+01 7.500e-01\n 3.020e+00 2.270e+00 2.400e+00 4.800e-01 9.800e-01 2.100e+00 2.700e+00\n 1.109e+01 1.740e+00 3.790e+00 7.960e+00 6.700e-01 5.300e-01 9.000e-01\n 1.690e+00 7.700e-01 8.000e-01 5.570e+00 7.400e-01 1.650e+00 5.960e+00\n 1.100e+00 1.060e+00 2.790e+00 3.320e+00 6.000e-01 1.300e+00 2.570e+00\n 2.334e+01 2.400e+00 0.000e+00 1.400e+00 5.100e+00 1.050e+00 1.090e+00\n 1.440e+00 2.130e+00 8.600e-01 7.500e+00 3.300e+00 4.300e+00 3.590e+00\n 1.300e+00 3.570e+00 7.800e-01 1.720e+00 3.100e+00 1.400e+00 1.920e+00\n 3.000e+00 2.300e+00 1.910e+00 1.220e+00 1.110e+00 1.350e+00 1.850e+01\n 9.000e-01 3.000e-01 6.000e-01 1.230e+00 9.500e-01 2.200e+00 8.220e+00\n 7.700e-01 2.000e-01 1.270e+00 3.990e+00 1.884e+01 2.100e+00 1.210e+00\n 1.810e+00 2.000e+00 1.014e+01 1.400e+00 1.800e+00 1.610e+01 1.800e+00\n 0.000e+00 3.860e+00 1.620e+00 1.230e+00 6.100e-01 5.640e+00 2.590e+00\n 1.150e+00 3.240e+00 1.920e+00 1.800e+00 2.880e+00 9.000e-02 1.670e+00\n 5.000e-01 6.940e+00 2.900e+00 3.200e+00 5.600e-01 5.300e-01 3.080e+00\n 2.970e+00 1.200e+00 1.120e+00 2.360e+00 8.300e-01 4.300e+00 1.100e+00\n 1.200e+00 1.600e+00 9.300e-01 1.500e+00 3.200e+00 1.600e+00 2.500e+00\n 1.600e+00 7.370e+00 2.500e-01 2.990e+00 7.000e-01 3.590e+00 9.300e+00\n 1.870e+00 0.000e+00 9.000e-01 4.000e+00 1.000e+00 1.480e+00 5.400e-01\n 4.000e-01 2.330e+00 1.580e+00 8.000e-01 9.400e-01 1.200e+00 1.590e+00\n 1.140e+00 2.500e+00 1.890e+00 1.700e+00 2.730e+00 1.240e+00 1.790e+00\n 1.130e+00 1.400e+00 1.030e+00 2.850e+00 1.100e+00 3.000e+00 5.000e-01\n 2.300e+00 1.510e+00 2.830e+00 2.500e+00 7.500e-01 3.980e+00 5.880e+00\n 2.450e+00 3.340e+00 1.700e+00 1.300e+00 1.000e+00 1.660e+00 1.220e+00\n 1.800e+00 1.320e+00 5.000e-01 2.000e+00 1.850e+00 4.900e+00 3.700e+00\n 1.800e+00 1.060e+00 2.000e+00 1.900e+00 1.600e+00 1.670e+00 2.200e+00\n 3.430e+00 1.660e+00 2.000e-02 3.300e+00 3.260e+00 9.000e-01 2.080e+00\n 2.070e+00 1.200e+00 1.700e+00 8.500e-01 1.140e+00 5.000e-01 2.120e+00\n 7.000e-01 1.460e+00 1.160e+00 9.000e-01 1.950e+00 2.460e+00 2.690e+00\n 8.000e-01 3.100e-01 1.200e+00 6.000e-01 8.000e-01 1.500e+00 1.520e+00\n 1.065e+01 4.600e-01 7.000e-01 1.536e+01 1.000e+00 1.610e+00 6.040e+00\n 9.000e-01 2.800e+00 5.300e-01 1.000e+00 3.300e+00 2.800e+00 3.210e+00\n 3.030e+00 3.360e+00 1.360e+00 2.210e+00 1.200e+00 5.530e+00 9.770e+00\n 1.380e+00 8.000e-01 3.100e+00 1.410e+00 1.420e+00 1.906e+01 1.340e+00\n 2.610e+00 3.100e+00 4.000e-01 3.900e+00 9.200e-01 1.050e+00 8.890e+00\n 6.900e-01 1.890e+00 3.450e+00 6.000e-01 1.190e+00 8.000e-01 4.970e+00\n 3.900e-01 1.079e+01 1.540e+00 2.240e+00 2.600e+00 1.980e+00 1.140e+00\n 1.280e+00 1.300e+00 1.700e+00 1.100e+00 1.450e+00 1.500e+00 9.800e-01\n 1.980e+00 7.700e-01 1.100e+00 6.500e-01 1.850e+00 1.070e+00 1.520e+00\n 8.610e+00 1.680e+00 1.446e+01 5.480e+00 3.330e+00 3.810e+00 9.500e-01\n 1.520e+00 7.580e+00 1.510e+01 1.120e+00 4.720e+00 1.930e+00 8.000e-01\n 1.600e+00 9.000e-01 1.030e+00 1.100e+00 7.000e-01 5.200e+00 9.300e-01\n 1.590e+00 6.600e-01 1.300e+00 1.100e+00 3.240e+00 1.120e+00 2.130e+00\n 1.633e+01 5.400e-01 1.000e+00 8.900e-01 0.000e+00 8.000e-01 2.900e+00\n 1.320e+01 1.800e+00 4.940e+00 5.900e-01 1.000e+00 2.390e+00 4.220e+00\n 4.200e-01 3.460e+00 1.100e+00 3.900e+00 1.600e+00 2.200e+00 1.650e+00\n 0.000e+00 3.200e+00 1.170e+00 2.030e+00 1.200e+00 7.000e-01 7.300e-01\n 1.200e+00 7.900e-01 3.500e-01 1.190e+00 1.820e+00 2.000e+00 2.300e+00\n 7.100e-01 1.001e+01 6.500e-01 1.410e+00 1.800e+00 1.980e+00 7.500e-01\n 1.807e+01 9.100e-01 1.140e+00 9.000e-01 0.000e+00 8.000e-01 1.610e+00\n 3.400e-01 1.630e+00 3.700e+00 1.100e+00 0.000e+00 1.284e+01 2.210e+00\n 7.200e+00 2.310e+00 2.200e+00 1.430e+00 2.490e+00 2.660e+00 1.540e+00\n 5.590e+00 2.360e+00 8.700e-01 6.900e-01 1.010e+00 1.800e+00 1.860e+00\n 4.600e+00 1.420e+00 4.180e+00 2.000e+00 6.400e-01 6.500e+00 1.600e+00\n 1.300e+00 7.000e-01 8.000e-01 2.710e+00 9.000e-01 1.000e+00 3.590e+00\n 4.920e+00 1.810e+00 1.500e+00 1.400e-01 5.140e+00 1.320e+00 1.320e+00\n 1.300e+00 2.640e+00 1.300e+00 2.920e+00 8.000e-01 1.900e+00 8.980e+00\n 9.220e+00 6.190e+00 1.860e+00 1.100e+00 2.200e+00 2.100e+00 1.060e+00\n 6.700e+00 5.600e+00 1.650e+00 2.540e+00 8.000e-01 1.700e+00 6.680e+00\n 1.330e+00 1.400e+00 2.600e+00 3.540e+00 8.830e+00 2.400e+00 1.161e+01\n 6.260e+00 1.370e+00 1.980e+00 4.460e+00 1.090e+00 2.400e+00 2.700e+00\n 9.000e-01 2.800e+00 1.570e+00 2.130e+00 8.230e+00 1.300e+00 7.300e-01\n 3.000e-01 1.420e+00 1.165e+01 1.620e+00 1.700e+00 1.340e+00 7.600e-01\n 5.700e+00 1.310e+00 2.400e+00 7.000e+00 1.670e+00 7.100e-01 5.000e-01\n 8.000e-01 1.800e+00 1.950e+00 2.590e+00 5.470e+00 2.780e+00 1.500e+00\n 1.100e+00 2.110e+00 1.350e+00 4.180e+00 7.400e-01 1.140e+01 1.070e+01\n 1.534e+01 1.080e+00 4.500e+00 1.120e+00 5.200e-01 4.900e+00 1.833e+01\n 2.200e-01 7.000e-01 1.650e+00 4.030e+00 4.300e-01 2.990e+00 7.800e-01\n 9.300e-01 5.410e+00 3.000e-01 6.600e+00 3.680e+00 3.000e+00 6.000e-01\n 1.360e+00 3.360e+00 4.900e-01 9.000e-01 1.600e+00 2.130e+00 2.370e+00\n 1.730e+00 4.300e+00 6.600e-01 2.000e+00 6.900e-01 4.400e-01 2.630e+00\n 1.650e+00 1.570e+00 1.299e+01 2.267e+01 1.870e+00 6.600e-01 2.470e+00\n 1.660e+00 1.990e+00 2.910e+00 1.020e+00 9.100e+00 0.000e+00 2.350e+00\n 9.800e-01 4.810e+00 1.260e+00 2.900e+00 1.100e+00 1.400e+00 2.600e+00\n 0.000e+00 2.400e+00 6.000e+00 1.200e+00 1.360e+00 1.390e+00 2.260e+00\n 6.700e-01 8.000e-01 1.570e+00 1.560e+00 6.300e+00 1.380e+00 1.410e+00\n 1.070e+00 1.387e+01 1.100e+00 9.000e-01 1.250e+01 3.070e+00 1.050e+00\n 7.000e-01 9.700e-01 8.000e-01 6.600e-01 1.500e+00 1.800e+00 1.490e+00\n 1.240e+00 8.800e-01 1.610e+00 1.440e+00 4.390e+00 9.000e-01 2.190e+00\n 1.000e+00 0.000e+00 2.300e+00 7.500e-01 7.600e-01 6.700e+00 4.700e-01\n 1.400e+00 2.810e+00 6.100e+00 1.000e+00 1.430e+00 2.300e+00 1.090e+00\n 1.540e+00 1.300e+00 2.620e+00 1.835e+01 1.900e+00 1.200e+00 2.870e+00\n 2.350e+00 1.220e+00 6.000e-01 4.500e-01 3.500e-01 9.000e-01 2.570e+00\n 4.200e+00 2.860e+00 2.300e+00 1.100e+00 1.300e+00 1.590e+00 4.300e+00\n 5.600e+00 1.880e+00 2.800e+00 4.210e+00 1.520e+00 5.300e-01 1.000e+00\n 1.060e+00 2.040e+00 4.550e+00 3.270e+00 1.100e+00 2.500e+00 8.600e-01\n 1.060e+01 1.540e+00 7.500e-01 1.110e+00 1.440e+00 2.690e+00 1.800e+00\n 1.140e+00 3.200e+00 7.160e+00 3.400e+00 1.570e+00 1.460e+00 3.480e+00\n 1.620e+00 1.450e+00 1.860e+00 1.110e+00 1.477e+01 2.940e+00 1.500e+00\n 7.300e-01 1.210e+00 1.720e+00 1.480e+00 3.100e+00 5.510e+00 8.300e-01\n 1.500e+00 1.540e+00 5.400e-01 1.200e+00 2.860e+00 2.310e+00 1.850e+00\n 1.100e+00 9.200e-01 9.250e+00 6.300e-01 6.000e+00 2.400e+00 1.300e+00\n 1.770e+00 4.300e+00 2.370e+00 1.880e+00 7.000e-01 9.000e-01 4.200e+00\n 1.720e+00 8.300e-01 1.600e+00 3.810e+00 1.170e+01 1.000e+00 4.100e-01\n 3.580e+00 7.600e+00 1.600e+00 5.300e-01 1.370e+00 2.190e+00 1.180e+00\n 2.830e+00 1.150e+00 9.200e-01 5.840e+00 4.990e+00 3.370e+00 1.220e+00\n 1.000e-02 1.100e+00 6.600e-01 1.320e+00 1.890e+01 2.330e+00 1.500e+00\n 3.300e+00 7.900e-01 1.400e+00 1.171e+01 7.200e+00 5.630e+00 2.060e+00\n 9.000e-01 1.900e+00 1.100e-01 2.630e+00 1.550e+00 4.700e+00 1.420e+00\n 3.590e+00 1.570e+00 9.000e-01 1.810e+00 1.110e+00 5.120e+00 1.060e+00\n 3.900e-01 2.280e+00 2.580e+00 2.060e+00 1.010e+00 5.100e+00 9.000e-01\n 3.020e+00 1.060e+00 1.400e+00 2.910e+00 9.000e-01 2.400e-01 3.210e+00\n 2.440e+00 7.300e-01 5.700e+00 1.300e-01 4.700e-01 1.020e+00 1.630e+00\n 7.000e-01 3.610e+00 1.100e+00 6.500e-01 1.000e-02 1.200e+00 3.300e+00\n 1.230e+00 1.460e+00 2.920e+00 8.800e-01 2.400e+00 8.500e+00 1.990e+00\n 1.500e+00 2.026e+01 8.100e-01 1.350e+01 1.577e+01 3.150e+00 6.300e-01\n 1.490e+00 1.050e+00 4.700e+00 3.390e+00 0.000e+00 2.220e+00 9.400e-01\n 1.000e+00 1.100e+00 2.500e+00 6.970e+00 4.630e+00 5.200e+00 2.600e+00\n 2.200e+00 2.680e+00 1.600e+00 8.400e-01 1.120e+00 8.600e-01 2.320e+00\n 1.120e+00 4.300e-01 2.300e+00 3.550e+00 1.120e+00 2.220e+00 3.650e+00\n 1.250e+00 5.000e-01 1.600e+00 2.800e+00 2.310e+00 6.500e-01 8.800e-01\n 1.600e+00 1.400e+00 1.450e+00 1.350e+00 1.380e+00 1.620e+00 1.403e+01\n 1.200e+00 4.230e+00 8.410e+00 1.200e+00 8.200e-01 1.150e+00 2.390e+00\n 3.300e+00 7.700e-01 4.690e+00 1.300e+00 2.300e+00 9.600e-01 3.600e+00\n 7.000e-01 3.000e+00 3.000e+00 3.400e-01 7.200e-01 1.930e+00 4.600e+00\n 1.780e+00 2.700e+00 1.040e+00 6.200e+00 2.060e+00 3.440e+00 8.600e-01\n 8.000e-01 3.100e+00 1.060e+01 1.100e+00 9.500e-01 3.440e+00 1.600e+00\n 4.000e-01 5.200e+00 1.770e+00 1.140e+01 2.340e+00 1.100e+00 1.890e+00\n 2.530e+00 4.000e-01 2.800e+00 6.200e+00 1.120e+00 2.950e+00 2.430e+00\n 1.200e+00 1.040e+00 5.800e-01 1.710e+00 1.230e+00 6.100e-01 2.000e+00\n 8.300e-01 3.700e-01 6.360e+00 1.240e+00 4.000e-01 1.523e+01 4.500e-01\n 1.207e+01 3.380e+00 5.000e-01 2.800e+00 9.000e-01 4.500e+00 2.600e+00\n 1.260e+00 1.820e+00 1.580e+00 1.980e+00 2.100e+00 2.120e+00 1.700e+00\n 3.300e-01 1.050e+00 5.510e+00 1.400e+00 1.300e+00 1.690e+00 2.400e+00\n 2.700e+00 1.340e+00 5.400e-01 5.790e+00 1.470e+00 1.100e+00].\nReshape your data either using array.reshape(-1, 1) if your data has a single feature or array.reshape(1, -1) if it contains a single sample."
          ]
        }
      ]
    },
    {
      "cell_type": "code",
      "metadata": {
        "id": "eEq09G6dENxZ"
      },
      "source": [
        ""
      ],
      "execution_count": null,
      "outputs": []
    },
    {
      "cell_type": "code",
      "metadata": {
        "id": "OEdSl1x8ENu2"
      },
      "source": [
        ""
      ],
      "execution_count": null,
      "outputs": []
    },
    {
      "cell_type": "code",
      "metadata": {
        "id": "Q8jst7HSENrp"
      },
      "source": [
        ""
      ],
      "execution_count": null,
      "outputs": []
    },
    {
      "cell_type": "code",
      "metadata": {
        "id": "g4imlGMgENoP"
      },
      "source": [
        ""
      ],
      "execution_count": null,
      "outputs": []
    },
    {
      "cell_type": "code",
      "metadata": {
        "id": "ufad30_CENku"
      },
      "source": [
        ""
      ],
      "execution_count": null,
      "outputs": []
    }
  ]
}